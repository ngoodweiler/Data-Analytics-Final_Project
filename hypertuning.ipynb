{
 "cells": [
  {
   "cell_type": "code",
   "execution_count": 1,
   "metadata": {},
   "outputs": [],
   "source": [
    "# Load dependencies\n",
    "import numpy as np\n",
    "import pandas as pd\n",
    "import matplotlib.pyplot as plt\n",
    "import scipy.stats as sts\n",
    "import numpy as np\n",
    "import statsmodels.formula.api as smf\n",
    "from sklearn.model_selection import train_test_split\n",
    "from sklearn.neighbors import KNeighborsClassifier"
   ]
  },
  {
   "cell_type": "code",
   "execution_count": 2,
   "metadata": {},
   "outputs": [],
   "source": [
    "daily_pB = pd.read_csv('Resources/daily_pB.csv',index_col=False)"
   ]
  },
  {
   "cell_type": "code",
   "execution_count": 3,
   "metadata": {},
   "outputs": [
    {
     "name": "stdout",
     "output_type": "stream",
     "text": [
      "<class 'pandas.core.frame.DataFrame'>\n",
      "RangeIndex: 2336 entries, 0 to 2335\n",
      "Data columns (total 5 columns):\n",
      "datestring                             2336 non-null int64\n",
      "average_exhaustion                     2336 non-null float64\n",
      "average_sA                             2336 non-null float64\n",
      "average_percent_extracted_per_point    2336 non-null float64\n",
      "pB                                     2336 non-null float64\n",
      "dtypes: float64(4), int64(1)\n",
      "memory usage: 91.4 KB\n"
     ]
    }
   ],
   "source": [
    "daily_pB.info()"
   ]
  },
  {
   "cell_type": "code",
   "execution_count": 44,
   "metadata": {},
   "outputs": [],
   "source": [
    "# Testing SVR, KNN is a claffification technique and needs binary results\n",
    "from sklearn.svm import SVR\n",
    "X = daily_pB[['average_exhaustion','average_sA','average_percent_extracted_per_point']]\n",
    "y = daily_pB['pB'].values.reshape(-1,1)"
   ]
  },
  {
   "cell_type": "code",
   "execution_count": 45,
   "metadata": {},
   "outputs": [],
   "source": [
    "X_train, X_test, y_train, y_test = train_test_split(X, y, random_state=42)"
   ]
  },
  {
   "cell_type": "code",
   "execution_count": 46,
   "metadata": {},
   "outputs": [],
   "source": [
    "# Scale data so SVR can be used\n",
    "from sklearn.preprocessing import StandardScaler\n",
    "X_scaler = StandardScaler().fit(X_train)\n",
    "y_scaler = StandardScaler().fit(y_train)"
   ]
  },
  {
   "cell_type": "code",
   "execution_count": 10,
   "metadata": {},
   "outputs": [],
   "source": [
    "X_train_scaled = X_scaler.transform(X_train)\n",
    "X_test_scaled = X_scaler.transform(X_test)\n",
    "y_train_scaled = y_scaler.transform(y_train)\n",
    "y_test_scaled = y_scaler.transform(y_test)"
   ]
  },
  {
   "cell_type": "code",
   "execution_count": 11,
   "metadata": {},
   "outputs": [],
   "source": [
    "y_ravel = y_train_scaled.ravel()\n",
    "y_train_array = np.array(y_ravel).astype(float)\n",
    "y_test_ravel = y_test_scaled.ravel()\n",
    "y_test_array = np.array(y_test_ravel).astype(float)"
   ]
  },
  {
   "cell_type": "code",
   "execution_count": 15,
   "metadata": {},
   "outputs": [],
   "source": [
    "# there are rbf, linear, and poly options in SVR\n",
    "model = SVR(kernel='linear')"
   ]
  },
  {
   "cell_type": "code",
   "execution_count": 16,
   "metadata": {},
   "outputs": [],
   "source": [
    "# Create the GridSearch estimator along with a parameter object containing the values to adjust\n",
    "from sklearn.model_selection import GridSearchCV\n",
    "param_grid = {'C': [1, 5, 10],\n",
    "              'gamma': [0.0001, 0.001, 0.01]}\n",
    "grid = GridSearchCV(model, param_grid, verbose=3)"
   ]
  },
  {
   "cell_type": "code",
   "execution_count": 17,
   "metadata": {},
   "outputs": [
    {
     "name": "stderr",
     "output_type": "stream",
     "text": [
      "C:\\Users\\Adrianna\\Anaconda3\\lib\\site-packages\\sklearn\\model_selection\\_split.py:1978: FutureWarning: The default value of cv will change from 3 to 5 in version 0.22. Specify it explicitly to silence this warning.\n",
      "  warnings.warn(CV_WARNING, FutureWarning)\n",
      "[Parallel(n_jobs=1)]: Using backend SequentialBackend with 1 concurrent workers.\n",
      "[Parallel(n_jobs=1)]: Done   1 out of   1 | elapsed:    0.0s remaining:    0.0s\n",
      "[Parallel(n_jobs=1)]: Done   2 out of   2 | elapsed:    0.0s remaining:    0.0s\n"
     ]
    },
    {
     "name": "stdout",
     "output_type": "stream",
     "text": [
      "Fitting 3 folds for each of 9 candidates, totalling 27 fits\n",
      "[CV] C=1, gamma=0.0001 ...............................................\n",
      "[CV] ................... C=1, gamma=0.0001, score=0.603, total=   0.1s\n",
      "[CV] C=1, gamma=0.0001 ...............................................\n",
      "[CV] ................... C=1, gamma=0.0001, score=0.598, total=   0.1s\n",
      "[CV] C=1, gamma=0.0001 ...............................................\n",
      "[CV] ................... C=1, gamma=0.0001, score=0.610, total=   0.1s\n",
      "[CV] C=1, gamma=0.001 ................................................\n",
      "[CV] .................... C=1, gamma=0.001, score=0.603, total=   0.1s\n",
      "[CV] C=1, gamma=0.001 ................................................\n",
      "[CV] .................... C=1, gamma=0.001, score=0.598, total=   0.1s\n",
      "[CV] C=1, gamma=0.001 ................................................\n",
      "[CV] .................... C=1, gamma=0.001, score=0.610, total=   0.1s\n",
      "[CV] C=1, gamma=0.01 .................................................\n",
      "[CV] ..................... C=1, gamma=0.01, score=0.603, total=   0.1s\n",
      "[CV] C=1, gamma=0.01 .................................................\n",
      "[CV] ..................... C=1, gamma=0.01, score=0.598, total=   0.1s\n",
      "[CV] C=1, gamma=0.01 .................................................\n",
      "[CV] ..................... C=1, gamma=0.01, score=0.610, total=   0.1s\n",
      "[CV] C=5, gamma=0.0001 ...............................................\n",
      "[CV] ................... C=5, gamma=0.0001, score=0.603, total=   0.1s\n",
      "[CV] C=5, gamma=0.0001 ...............................................\n",
      "[CV] ................... C=5, gamma=0.0001, score=0.598, total=   0.1s\n",
      "[CV] C=5, gamma=0.0001 ...............................................\n",
      "[CV] ................... C=5, gamma=0.0001, score=0.610, total=   0.1s\n",
      "[CV] C=5, gamma=0.001 ................................................\n",
      "[CV] .................... C=5, gamma=0.001, score=0.603, total=   0.1s\n",
      "[CV] C=5, gamma=0.001 ................................................\n",
      "[CV] .................... C=5, gamma=0.001, score=0.598, total=   0.1s\n",
      "[CV] C=5, gamma=0.001 ................................................\n",
      "[CV] .................... C=5, gamma=0.001, score=0.610, total=   0.2s\n",
      "[CV] C=5, gamma=0.01 .................................................\n",
      "[CV] ..................... C=5, gamma=0.01, score=0.603, total=   0.1s\n",
      "[CV] C=5, gamma=0.01 .................................................\n",
      "[CV] ..................... C=5, gamma=0.01, score=0.598, total=   0.1s\n",
      "[CV] C=5, gamma=0.01 .................................................\n",
      "[CV] ..................... C=5, gamma=0.01, score=0.610, total=   0.2s\n",
      "[CV] C=10, gamma=0.0001 ..............................................\n",
      "[CV] .................. C=10, gamma=0.0001, score=0.603, total=   0.2s\n",
      "[CV] C=10, gamma=0.0001 ..............................................\n",
      "[CV] .................. C=10, gamma=0.0001, score=0.598, total=   0.3s\n",
      "[CV] C=10, gamma=0.0001 ..............................................\n",
      "[CV] .................. C=10, gamma=0.0001, score=0.610, total=   0.2s\n",
      "[CV] C=10, gamma=0.001 ...............................................\n",
      "[CV] ................... C=10, gamma=0.001, score=0.603, total=   0.2s\n",
      "[CV] C=10, gamma=0.001 ...............................................\n",
      "[CV] ................... C=10, gamma=0.001, score=0.598, total=   0.3s\n",
      "[CV] C=10, gamma=0.001 ...............................................\n",
      "[CV] ................... C=10, gamma=0.001, score=0.610, total=   0.2s\n",
      "[CV] C=10, gamma=0.01 ................................................\n",
      "[CV] .................... C=10, gamma=0.01, score=0.603, total=   0.2s\n",
      "[CV] C=10, gamma=0.01 ................................................\n",
      "[CV] .................... C=10, gamma=0.01, score=0.598, total=   0.3s\n",
      "[CV] C=10, gamma=0.01 ................................................\n",
      "[CV] .................... C=10, gamma=0.01, score=0.610, total=   0.2s\n"
     ]
    },
    {
     "name": "stderr",
     "output_type": "stream",
     "text": [
      "[Parallel(n_jobs=1)]: Done  27 out of  27 | elapsed:    3.8s finished\n"
     ]
    },
    {
     "data": {
      "text/plain": [
       "GridSearchCV(cv='warn', error_score='raise-deprecating',\n",
       "             estimator=SVR(C=1.0, cache_size=200, coef0=0.0, degree=3,\n",
       "                           epsilon=0.1, gamma='auto_deprecated',\n",
       "                           kernel='linear', max_iter=-1, shrinking=True,\n",
       "                           tol=0.001, verbose=False),\n",
       "             iid='warn', n_jobs=None,\n",
       "             param_grid={'C': [1, 5, 10], 'gamma': [0.0001, 0.001, 0.01]},\n",
       "             pre_dispatch='2*n_jobs', refit=True, return_train_score=False,\n",
       "             scoring=None, verbose=3)"
      ]
     },
     "execution_count": 17,
     "metadata": {},
     "output_type": "execute_result"
    }
   ],
   "source": [
    "grid.fit(X_train_scaled, y_train_array)"
   ]
  },
  {
   "cell_type": "code",
   "execution_count": 18,
   "metadata": {},
   "outputs": [
    {
     "name": "stdout",
     "output_type": "stream",
     "text": [
      "{'C': 10, 'gamma': 0.0001}\n",
      "0.6035588921056005\n"
     ]
    }
   ],
   "source": [
    "# List the best parameters for this dataset\n",
    "print(grid.best_params_)\n",
    "# List the best score\n",
    "print(grid.best_score_) #will repeat with the rbf and poly functions"
   ]
  },
  {
   "cell_type": "code",
   "execution_count": 36,
   "metadata": {},
   "outputs": [],
   "source": [
    "model = SVR(kernel='rbf')\n",
    "from sklearn.model_selection import GridSearchCV\n",
    "param_grid = {'C': [1, 5, 10],\n",
    "              'gamma': [0.0001, 0.001, 0.01],\n",
    "             'epsilon':[0.001,0.01,0.1,1]}\n",
    "grid = GridSearchCV(model, param_grid, verbose=3)"
   ]
  },
  {
   "cell_type": "code",
   "execution_count": 37,
   "metadata": {},
   "outputs": [
    {
     "name": "stderr",
     "output_type": "stream",
     "text": [
      "C:\\Users\\Adrianna\\Anaconda3\\lib\\site-packages\\sklearn\\model_selection\\_split.py:1978: FutureWarning: The default value of cv will change from 3 to 5 in version 0.22. Specify it explicitly to silence this warning.\n",
      "  warnings.warn(CV_WARNING, FutureWarning)\n",
      "[Parallel(n_jobs=1)]: Using backend SequentialBackend with 1 concurrent workers.\n",
      "[Parallel(n_jobs=1)]: Done   1 out of   1 | elapsed:    0.0s remaining:    0.0s\n",
      "[Parallel(n_jobs=1)]: Done   2 out of   2 | elapsed:    0.0s remaining:    0.0s\n"
     ]
    },
    {
     "name": "stdout",
     "output_type": "stream",
     "text": [
      "Fitting 3 folds for each of 36 candidates, totalling 108 fits\n",
      "[CV] C=1, epsilon=0.001, gamma=0.0001 ................................\n",
      "[CV] .... C=1, epsilon=0.001, gamma=0.0001, score=0.284, total=   0.0s\n",
      "[CV] C=1, epsilon=0.001, gamma=0.0001 ................................\n",
      "[CV] .... C=1, epsilon=0.001, gamma=0.0001, score=0.282, total=   0.0s\n",
      "[CV] C=1, epsilon=0.001, gamma=0.0001 ................................\n",
      "[CV] .... C=1, epsilon=0.001, gamma=0.0001, score=0.230, total=   0.0s\n",
      "[CV] C=1, epsilon=0.001, gamma=0.001 .................................\n",
      "[CV] ..... C=1, epsilon=0.001, gamma=0.001, score=0.587, total=   0.0s\n",
      "[CV] C=1, epsilon=0.001, gamma=0.001 .................................\n",
      "[CV] ..... C=1, epsilon=0.001, gamma=0.001, score=0.585, total=   0.0s\n",
      "[CV] C=1, epsilon=0.001, gamma=0.001 .................................\n",
      "[CV] ..... C=1, epsilon=0.001, gamma=0.001, score=0.562, total=   0.0s\n",
      "[CV] C=1, epsilon=0.001, gamma=0.01 ..................................\n",
      "[CV] ...... C=1, epsilon=0.001, gamma=0.01, score=0.683, total=   0.0s\n",
      "[CV] C=1, epsilon=0.001, gamma=0.01 ..................................\n",
      "[CV] ...... C=1, epsilon=0.001, gamma=0.01, score=0.647, total=   0.0s\n",
      "[CV] C=1, epsilon=0.001, gamma=0.01 ..................................\n",
      "[CV] ...... C=1, epsilon=0.001, gamma=0.01, score=0.673, total=   0.0s\n",
      "[CV] C=1, epsilon=0.01, gamma=0.0001 .................................\n",
      "[CV] ..... C=1, epsilon=0.01, gamma=0.0001, score=0.285, total=   0.0s\n",
      "[CV] C=1, epsilon=0.01, gamma=0.0001 .................................\n",
      "[CV] ..... C=1, epsilon=0.01, gamma=0.0001, score=0.280, total=   0.0s\n",
      "[CV] C=1, epsilon=0.01, gamma=0.0001 .................................\n",
      "[CV] ..... C=1, epsilon=0.01, gamma=0.0001, score=0.230, total=   0.0s\n",
      "[CV] C=1, epsilon=0.01, gamma=0.001 ..................................\n",
      "[CV] ...... C=1, epsilon=0.01, gamma=0.001, score=0.587, total=   0.0s\n",
      "[CV] C=1, epsilon=0.01, gamma=0.001 ..................................\n",
      "[CV] ...... C=1, epsilon=0.01, gamma=0.001, score=0.586, total=   0.0s\n",
      "[CV] C=1, epsilon=0.01, gamma=0.001 ..................................\n",
      "[CV] ...... C=1, epsilon=0.01, gamma=0.001, score=0.563, total=   0.0s\n",
      "[CV] C=1, epsilon=0.01, gamma=0.01 ...................................\n",
      "[CV] ....... C=1, epsilon=0.01, gamma=0.01, score=0.684, total=   0.0s\n",
      "[CV] C=1, epsilon=0.01, gamma=0.01 ...................................\n",
      "[CV] ....... C=1, epsilon=0.01, gamma=0.01, score=0.647, total=   0.0s\n",
      "[CV] C=1, epsilon=0.01, gamma=0.01 ...................................\n",
      "[CV] ....... C=1, epsilon=0.01, gamma=0.01, score=0.674, total=   0.0s\n",
      "[CV] C=1, epsilon=0.1, gamma=0.0001 ..................................\n",
      "[CV] ...... C=1, epsilon=0.1, gamma=0.0001, score=0.280, total=   0.0s\n",
      "[CV] C=1, epsilon=0.1, gamma=0.0001 ..................................\n",
      "[CV] ...... C=1, epsilon=0.1, gamma=0.0001, score=0.279, total=   0.0s\n",
      "[CV] C=1, epsilon=0.1, gamma=0.0001 ..................................\n",
      "[CV] ...... C=1, epsilon=0.1, gamma=0.0001, score=0.228, total=   0.0s\n",
      "[CV] C=1, epsilon=0.1, gamma=0.001 ...................................\n",
      "[CV] ....... C=1, epsilon=0.1, gamma=0.001, score=0.589, total=   0.0s\n",
      "[CV] C=1, epsilon=0.1, gamma=0.001 ...................................\n",
      "[CV] ....... C=1, epsilon=0.1, gamma=0.001, score=0.586, total=   0.0s\n",
      "[CV] C=1, epsilon=0.1, gamma=0.001 ...................................\n",
      "[CV] ....... C=1, epsilon=0.1, gamma=0.001, score=0.562, total=   0.0s\n",
      "[CV] C=1, epsilon=0.1, gamma=0.01 ....................................\n",
      "[CV] ........ C=1, epsilon=0.1, gamma=0.01, score=0.684, total=   0.0s\n",
      "[CV] C=1, epsilon=0.1, gamma=0.01 ....................................\n",
      "[CV] ........ C=1, epsilon=0.1, gamma=0.01, score=0.646, total=   0.0s\n",
      "[CV] C=1, epsilon=0.1, gamma=0.01 ....................................\n",
      "[CV] ........ C=1, epsilon=0.1, gamma=0.01, score=0.673, total=   0.0s\n",
      "[CV] C=1, epsilon=1, gamma=0.0001 ....................................\n",
      "[CV] ........ C=1, epsilon=1, gamma=0.0001, score=0.151, total=   0.0s\n",
      "[CV] C=1, epsilon=1, gamma=0.0001 ....................................\n",
      "[CV] ........ C=1, epsilon=1, gamma=0.0001, score=0.143, total=   0.0s\n",
      "[CV] C=1, epsilon=1, gamma=0.0001 ....................................\n",
      "[CV] ........ C=1, epsilon=1, gamma=0.0001, score=0.119, total=   0.0s\n",
      "[CV] C=1, epsilon=1, gamma=0.001 .....................................\n",
      "[CV] ......... C=1, epsilon=1, gamma=0.001, score=0.427, total=   0.0s\n",
      "[CV] C=1, epsilon=1, gamma=0.001 .....................................\n",
      "[CV] ......... C=1, epsilon=1, gamma=0.001, score=0.430, total=   0.0s\n",
      "[CV] C=1, epsilon=1, gamma=0.001 .....................................\n",
      "[CV] ......... C=1, epsilon=1, gamma=0.001, score=0.398, total=   0.0s\n",
      "[CV] C=1, epsilon=1, gamma=0.01 ......................................\n",
      "[CV] .......... C=1, epsilon=1, gamma=0.01, score=0.646, total=   0.0s\n",
      "[CV] C=1, epsilon=1, gamma=0.01 ......................................\n",
      "[CV] .......... C=1, epsilon=1, gamma=0.01, score=0.620, total=   0.0s\n",
      "[CV] C=1, epsilon=1, gamma=0.01 ......................................\n",
      "[CV] .......... C=1, epsilon=1, gamma=0.01, score=0.626, total=   0.0s\n",
      "[CV] C=5, epsilon=0.001, gamma=0.0001 ................................\n",
      "[CV] .... C=5, epsilon=0.001, gamma=0.0001, score=0.549, total=   0.0s\n",
      "[CV] C=5, epsilon=0.001, gamma=0.0001 ................................\n",
      "[CV] .... C=5, epsilon=0.001, gamma=0.0001, score=0.548, total=   0.0s\n",
      "[CV] C=5, epsilon=0.001, gamma=0.0001 ................................\n",
      "[CV] .... C=5, epsilon=0.001, gamma=0.0001, score=0.507, total=   0.0s\n",
      "[CV] C=5, epsilon=0.001, gamma=0.001 .................................\n",
      "[CV] ..... C=5, epsilon=0.001, gamma=0.001, score=0.615, total=   0.0s\n",
      "[CV] C=5, epsilon=0.001, gamma=0.001 .................................\n",
      "[CV] ..... C=5, epsilon=0.001, gamma=0.001, score=0.604, total=   0.0s\n",
      "[CV] C=5, epsilon=0.001, gamma=0.001 .................................\n",
      "[CV] ..... C=5, epsilon=0.001, gamma=0.001, score=0.613, total=   0.0s\n",
      "[CV] C=5, epsilon=0.001, gamma=0.01 ..................................\n",
      "[CV] ...... C=5, epsilon=0.001, gamma=0.01, score=0.715, total=   0.1s\n",
      "[CV] C=5, epsilon=0.001, gamma=0.01 ..................................\n",
      "[CV] ...... C=5, epsilon=0.001, gamma=0.01, score=0.668, total=   0.1s\n",
      "[CV] C=5, epsilon=0.001, gamma=0.01 ..................................\n",
      "[CV] ...... C=5, epsilon=0.001, gamma=0.01, score=0.712, total=   0.1s\n",
      "[CV] C=5, epsilon=0.01, gamma=0.0001 .................................\n",
      "[CV] ..... C=5, epsilon=0.01, gamma=0.0001, score=0.548, total=   0.0s\n",
      "[CV] C=5, epsilon=0.01, gamma=0.0001 .................................\n",
      "[CV] ..... C=5, epsilon=0.01, gamma=0.0001, score=0.548, total=   0.0s\n",
      "[CV] C=5, epsilon=0.01, gamma=0.0001 .................................\n",
      "[CV] ..... C=5, epsilon=0.01, gamma=0.0001, score=0.507, total=   0.0s\n",
      "[CV] C=5, epsilon=0.01, gamma=0.001 ..................................\n",
      "[CV] ...... C=5, epsilon=0.01, gamma=0.001, score=0.616, total=   0.0s\n",
      "[CV] C=5, epsilon=0.01, gamma=0.001 ..................................\n",
      "[CV] ...... C=5, epsilon=0.01, gamma=0.001, score=0.604, total=   0.0s\n",
      "[CV] C=5, epsilon=0.01, gamma=0.001 ..................................\n",
      "[CV] ...... C=5, epsilon=0.01, gamma=0.001, score=0.614, total=   0.0s\n",
      "[CV] C=5, epsilon=0.01, gamma=0.01 ...................................\n",
      "[CV] ....... C=5, epsilon=0.01, gamma=0.01, score=0.714, total=   0.1s\n",
      "[CV] C=5, epsilon=0.01, gamma=0.01 ...................................\n",
      "[CV] ....... C=5, epsilon=0.01, gamma=0.01, score=0.668, total=   0.1s\n",
      "[CV] C=5, epsilon=0.01, gamma=0.01 ...................................\n",
      "[CV] ....... C=5, epsilon=0.01, gamma=0.01, score=0.712, total=   0.1s\n",
      "[CV] C=5, epsilon=0.1, gamma=0.0001 ..................................\n",
      "[CV] ...... C=5, epsilon=0.1, gamma=0.0001, score=0.545, total=   0.0s\n",
      "[CV] C=5, epsilon=0.1, gamma=0.0001 ..................................\n",
      "[CV] ...... C=5, epsilon=0.1, gamma=0.0001, score=0.546, total=   0.0s\n",
      "[CV] C=5, epsilon=0.1, gamma=0.0001 ..................................\n",
      "[CV] ...... C=5, epsilon=0.1, gamma=0.0001, score=0.504, total=   0.0s\n",
      "[CV] C=5, epsilon=0.1, gamma=0.001 ...................................\n",
      "[CV] ....... C=5, epsilon=0.1, gamma=0.001, score=0.616, total=   0.0s\n",
      "[CV] C=5, epsilon=0.1, gamma=0.001 ...................................\n",
      "[CV] ....... C=5, epsilon=0.1, gamma=0.001, score=0.605, total=   0.0s\n",
      "[CV] C=5, epsilon=0.1, gamma=0.001 ...................................\n",
      "[CV] ....... C=5, epsilon=0.1, gamma=0.001, score=0.614, total=   0.0s\n",
      "[CV] C=5, epsilon=0.1, gamma=0.01 ....................................\n",
      "[CV] ........ C=5, epsilon=0.1, gamma=0.01, score=0.716, total=   0.0s\n",
      "[CV] C=5, epsilon=0.1, gamma=0.01 ....................................\n"
     ]
    },
    {
     "name": "stdout",
     "output_type": "stream",
     "text": [
      "[CV] ........ C=5, epsilon=0.1, gamma=0.01, score=0.666, total=   0.0s\n",
      "[CV] C=5, epsilon=0.1, gamma=0.01 ....................................\n",
      "[CV] ........ C=5, epsilon=0.1, gamma=0.01, score=0.708, total=   0.0s\n",
      "[CV] C=5, epsilon=1, gamma=0.0001 ....................................\n",
      "[CV] ........ C=5, epsilon=1, gamma=0.0001, score=0.352, total=   0.0s\n",
      "[CV] C=5, epsilon=1, gamma=0.0001 ....................................\n",
      "[CV] ........ C=5, epsilon=1, gamma=0.0001, score=0.351, total=   0.0s\n",
      "[CV] C=5, epsilon=1, gamma=0.0001 ....................................\n",
      "[CV] ........ C=5, epsilon=1, gamma=0.0001, score=0.329, total=   0.0s\n",
      "[CV] C=5, epsilon=1, gamma=0.001 .....................................\n",
      "[CV] ......... C=5, epsilon=1, gamma=0.001, score=0.571, total=   0.0s\n",
      "[CV] C=5, epsilon=1, gamma=0.001 .....................................\n",
      "[CV] ......... C=5, epsilon=1, gamma=0.001, score=0.574, total=   0.0s\n",
      "[CV] C=5, epsilon=1, gamma=0.001 .....................................\n",
      "[CV] ......... C=5, epsilon=1, gamma=0.001, score=0.563, total=   0.0s\n",
      "[CV] C=5, epsilon=1, gamma=0.01 ......................................\n",
      "[CV] .......... C=5, epsilon=1, gamma=0.01, score=0.681, total=   0.0s\n",
      "[CV] C=5, epsilon=1, gamma=0.01 ......................................\n",
      "[CV] .......... C=5, epsilon=1, gamma=0.01, score=0.621, total=   0.0s\n",
      "[CV] C=5, epsilon=1, gamma=0.01 ......................................\n",
      "[CV] .......... C=5, epsilon=1, gamma=0.01, score=0.678, total=   0.0s\n",
      "[CV] C=10, epsilon=0.001, gamma=0.0001 ...............................\n",
      "[CV] ... C=10, epsilon=0.001, gamma=0.0001, score=0.582, total=   0.0s\n",
      "[CV] C=10, epsilon=0.001, gamma=0.0001 ...............................\n",
      "[CV] ... C=10, epsilon=0.001, gamma=0.0001, score=0.584, total=   0.0s\n",
      "[CV] C=10, epsilon=0.001, gamma=0.0001 ...............................\n",
      "[CV] ... C=10, epsilon=0.001, gamma=0.0001, score=0.559, total=   0.0s\n",
      "[CV] C=10, epsilon=0.001, gamma=0.001 ................................\n",
      "[CV] .... C=10, epsilon=0.001, gamma=0.001, score=0.626, total=   0.0s\n",
      "[CV] C=10, epsilon=0.001, gamma=0.001 ................................\n",
      "[CV] .... C=10, epsilon=0.001, gamma=0.001, score=0.610, total=   0.0s\n",
      "[CV] C=10, epsilon=0.001, gamma=0.001 ................................\n",
      "[CV] .... C=10, epsilon=0.001, gamma=0.001, score=0.628, total=   0.0s\n",
      "[CV] C=10, epsilon=0.001, gamma=0.01 .................................\n",
      "[CV] ..... C=10, epsilon=0.001, gamma=0.01, score=0.721, total=   0.1s\n",
      "[CV] C=10, epsilon=0.001, gamma=0.01 .................................\n",
      "[CV] ..... C=10, epsilon=0.001, gamma=0.01, score=0.670, total=   0.1s\n",
      "[CV] C=10, epsilon=0.001, gamma=0.01 .................................\n",
      "[CV] ..... C=10, epsilon=0.001, gamma=0.01, score=0.718, total=   0.1s\n",
      "[CV] C=10, epsilon=0.01, gamma=0.0001 ................................\n",
      "[CV] .... C=10, epsilon=0.01, gamma=0.0001, score=0.583, total=   0.0s\n",
      "[CV] C=10, epsilon=0.01, gamma=0.0001 ................................\n",
      "[CV] .... C=10, epsilon=0.01, gamma=0.0001, score=0.585, total=   0.0s\n",
      "[CV] C=10, epsilon=0.01, gamma=0.0001 ................................\n",
      "[CV] .... C=10, epsilon=0.01, gamma=0.0001, score=0.559, total=   0.0s\n",
      "[CV] C=10, epsilon=0.01, gamma=0.001 .................................\n",
      "[CV] ..... C=10, epsilon=0.01, gamma=0.001, score=0.627, total=   0.0s\n",
      "[CV] C=10, epsilon=0.01, gamma=0.001 .................................\n",
      "[CV] ..... C=10, epsilon=0.01, gamma=0.001, score=0.610, total=   0.0s\n",
      "[CV] C=10, epsilon=0.01, gamma=0.001 .................................\n",
      "[CV] ..... C=10, epsilon=0.01, gamma=0.001, score=0.628, total=   0.0s\n",
      "[CV] C=10, epsilon=0.01, gamma=0.01 ..................................\n",
      "[CV] ...... C=10, epsilon=0.01, gamma=0.01, score=0.721, total=   0.1s\n",
      "[CV] C=10, epsilon=0.01, gamma=0.01 ..................................\n",
      "[CV] ...... C=10, epsilon=0.01, gamma=0.01, score=0.671, total=   0.1s\n",
      "[CV] C=10, epsilon=0.01, gamma=0.01 ..................................\n",
      "[CV] ...... C=10, epsilon=0.01, gamma=0.01, score=0.719, total=   0.1s\n",
      "[CV] C=10, epsilon=0.1, gamma=0.0001 .................................\n",
      "[CV] ..... C=10, epsilon=0.1, gamma=0.0001, score=0.585, total=   0.0s\n",
      "[CV] C=10, epsilon=0.1, gamma=0.0001 .................................\n",
      "[CV] ..... C=10, epsilon=0.1, gamma=0.0001, score=0.584, total=   0.0s\n",
      "[CV] C=10, epsilon=0.1, gamma=0.0001 .................................\n",
      "[CV] ..... C=10, epsilon=0.1, gamma=0.0001, score=0.559, total=   0.0s\n",
      "[CV] C=10, epsilon=0.1, gamma=0.001 ..................................\n",
      "[CV] ...... C=10, epsilon=0.1, gamma=0.001, score=0.626, total=   0.0s\n",
      "[CV] C=10, epsilon=0.1, gamma=0.001 ..................................\n",
      "[CV] ...... C=10, epsilon=0.1, gamma=0.001, score=0.610, total=   0.0s\n",
      "[CV] C=10, epsilon=0.1, gamma=0.001 ..................................\n",
      "[CV] ...... C=10, epsilon=0.1, gamma=0.001, score=0.627, total=   0.0s\n",
      "[CV] C=10, epsilon=0.1, gamma=0.01 ...................................\n",
      "[CV] ....... C=10, epsilon=0.1, gamma=0.01, score=0.722, total=   0.0s\n",
      "[CV] C=10, epsilon=0.1, gamma=0.01 ...................................\n",
      "[CV] ....... C=10, epsilon=0.1, gamma=0.01, score=0.671, total=   0.0s\n",
      "[CV] C=10, epsilon=0.1, gamma=0.01 ...................................\n",
      "[CV] ....... C=10, epsilon=0.1, gamma=0.01, score=0.717, total=   0.0s\n",
      "[CV] C=10, epsilon=1, gamma=0.0001 ...................................\n",
      "[CV] ....... C=10, epsilon=1, gamma=0.0001, score=0.425, total=   0.0s\n",
      "[CV] C=10, epsilon=1, gamma=0.0001 ...................................\n",
      "[CV] ....... C=10, epsilon=1, gamma=0.0001, score=0.430, total=   0.0s\n",
      "[CV] C=10, epsilon=1, gamma=0.0001 ...................................\n",
      "[CV] ....... C=10, epsilon=1, gamma=0.0001, score=0.398, total=   0.0s\n",
      "[CV] C=10, epsilon=1, gamma=0.001 ....................................\n",
      "[CV] ........ C=10, epsilon=1, gamma=0.001, score=0.609, total=   0.0s\n",
      "[CV] C=10, epsilon=1, gamma=0.001 ....................................\n",
      "[CV] ........ C=10, epsilon=1, gamma=0.001, score=0.601, total=   0.0s\n",
      "[CV] C=10, epsilon=1, gamma=0.001 ....................................\n",
      "[CV] ........ C=10, epsilon=1, gamma=0.001, score=0.599, total=   0.0s\n",
      "[CV] C=10, epsilon=1, gamma=0.01 .....................................\n",
      "[CV] ......... C=10, epsilon=1, gamma=0.01, score=0.686, total=   0.0s\n",
      "[CV] C=10, epsilon=1, gamma=0.01 .....................................\n",
      "[CV] ......... C=10, epsilon=1, gamma=0.01, score=0.618, total=   0.0s\n",
      "[CV] C=10, epsilon=1, gamma=0.01 .....................................\n",
      "[CV] ......... C=10, epsilon=1, gamma=0.01, score=0.698, total=   0.0s\n"
     ]
    },
    {
     "name": "stderr",
     "output_type": "stream",
     "text": [
      "[Parallel(n_jobs=1)]: Done 108 out of 108 | elapsed:    3.8s finished\n"
     ]
    },
    {
     "data": {
      "text/plain": [
       "GridSearchCV(cv='warn', error_score='raise-deprecating',\n",
       "             estimator=SVR(C=1.0, cache_size=200, coef0=0.0, degree=3,\n",
       "                           epsilon=0.1, gamma='auto_deprecated', kernel='rbf',\n",
       "                           max_iter=-1, shrinking=True, tol=0.001,\n",
       "                           verbose=False),\n",
       "             iid='warn', n_jobs=None,\n",
       "             param_grid={'C': [1, 5, 10], 'epsilon': [0.001, 0.01, 0.1, 1],\n",
       "                         'gamma': [0.0001, 0.001, 0.01]},\n",
       "             pre_dispatch='2*n_jobs', refit=True, return_train_score=False,\n",
       "             scoring=None, verbose=3)"
      ]
     },
     "execution_count": 37,
     "metadata": {},
     "output_type": "execute_result"
    }
   ],
   "source": [
    "grid.fit(X_train_scaled, y_train_array)"
   ]
  },
  {
   "cell_type": "code",
   "execution_count": 38,
   "metadata": {},
   "outputs": [
    {
     "name": "stdout",
     "output_type": "stream",
     "text": [
      "{'C': 10, 'epsilon': 0.01, 'gamma': 0.01}\n",
      "0.7037505870674713\n"
     ]
    }
   ],
   "source": [
    "# List the best parameters for this dataset\n",
    "print(grid.best_params_)\n",
    "# List the best score\n",
    "print(grid.best_score_) #will repeat with poly function"
   ]
  },
  {
   "cell_type": "code",
   "execution_count": 30,
   "metadata": {},
   "outputs": [],
   "source": [
    "model = SVR(kernel='poly')\n",
    "from sklearn.model_selection import GridSearchCV\n",
    "param_grid = {'C': [1, 5, 10],\n",
    "              'gamma': [0.0001, 0.001, 0.01],\n",
    "              'degree': [1,2,3],\n",
    "             'epsilon':[0.01,0.1,1],\n",
    "             'coef0':[min(1-X_train_scaled.min(),0),max(X_train_scaled.max(),y_train_array.max())]}\n",
    "grid = GridSearchCV(model, param_grid, verbose=3)"
   ]
  },
  {
   "cell_type": "code",
   "execution_count": null,
   "metadata": {},
   "outputs": [],
   "source": [
    "grid.fit(X_train_scaled, y_train_array)"
   ]
  },
  {
   "cell_type": "code",
   "execution_count": 32,
   "metadata": {},
   "outputs": [
    {
     "name": "stdout",
     "output_type": "stream",
     "text": [
      "{'C': 10, 'coef0': 8.943832803958488, 'degree': 3, 'epsilon': 0.01, 'gamma': 0.01}\n",
      "0.6981807428459653\n"
     ]
    }
   ],
   "source": [
    "# List the best parameters for this dataset\n",
    "print(grid.best_params_)\n",
    "# List the best score\n",
    "print(grid.best_score_)"
   ]
  },
  {
   "cell_type": "markdown",
   "metadata": {},
   "source": [
    "RBF SVR yielded the best results at 0.7037 while polynomial (3rd degree) was a close second at 0.6982. Both are significantly higher than the base regression model at 0.6085"
   ]
  },
  {
   "cell_type": "code",
   "execution_count": 40,
   "metadata": {},
   "outputs": [
    {
     "data": {
      "text/plain": [
       "Text(0.5, 1.0, 'Residual Plot, pB, 3-Variable & RBF Regression')"
      ]
     },
     "execution_count": 40,
     "metadata": {},
     "output_type": "execute_result"
    },
    {
     "data": {
      "image/png": "[encoded data removed]",
      "text/plain": [
       "<Figure size 432x288 with 1 Axes>"
      ]
     },
     "metadata": {
      "needs_background": "light"
     },
     "output_type": "display_data"
    }
   ],
   "source": [
    "# Plot pB residuals based on 3-variable, RBF SVR model\n",
    "model = SVR(kernel='rbf', C=10, gamma=0.01, epsilon=0.01)\n",
    "X_train_x = model.fit(X_train_scaled,y_train_array).predict(X_train_scaled)\n",
    "X_test_x = model.fit(X_test_scaled,y_test_array).predict(X_test_scaled)\n",
    "plt.scatter(X_train_x,X_train_x - y_train_array, c='blue',label='Training Data')\n",
    "plt.scatter(X_test_x,X_test_x - y_test_array, c='orange', label='Testing Data')\n",
    "plt.legend()\n",
    "plt.hlines(y=0,xmin=y_train_array.min(),xmax=y_train_array.max())\n",
    "plt.title('Residual Plot, pB, 3-Variable & RBF Regression')"
   ]
  },
  {
   "cell_type": "code",
   "execution_count": 52,
   "metadata": {},
   "outputs": [],
   "source": [
    "# Create Final Model\n",
    "# Scale the full set of data first\n",
    "X_scaler = StandardScaler().fit(X)\n",
    "y_scaler = StandardScaler().fit(y)"
   ]
  },
  {
   "cell_type": "code",
   "execution_count": 48,
   "metadata": {},
   "outputs": [],
   "source": [
    "# Transform full set of data\n",
    "X_scaled = X_scaler.transform(X)\n",
    "y_scaled = y_scaler.transform(y)\n",
    "# Change y into terms that the SVR can use\n",
    "y_ravel = y_scaled.ravel()\n",
    "y_array = np.array(y_ravel).astype(float)"
   ]
  },
  {
   "cell_type": "code",
   "execution_count": 49,
   "metadata": {},
   "outputs": [
    {
     "ename": "AttributeError",
     "evalue": "coef_ is only available when using a linear kernel",
     "output_type": "error",
     "traceback": [
      "\u001b[1;31m---------------------------------------------------------------------------\u001b[0m",
      "\u001b[1;31mAttributeError\u001b[0m                            Traceback (most recent call last)",
      "\u001b[1;32m<ipython-input-49-266b39522c31>\u001b[0m in \u001b[0;36m<module>\u001b[1;34m\u001b[0m\n\u001b[0;32m      1\u001b[0m \u001b[0mmodel\u001b[0m \u001b[1;33m=\u001b[0m \u001b[0mSVR\u001b[0m\u001b[1;33m(\u001b[0m\u001b[0mkernel\u001b[0m\u001b[1;33m=\u001b[0m\u001b[1;34m'rbf'\u001b[0m\u001b[1;33m,\u001b[0m \u001b[0mC\u001b[0m\u001b[1;33m=\u001b[0m\u001b[1;36m10\u001b[0m\u001b[1;33m,\u001b[0m \u001b[0mgamma\u001b[0m\u001b[1;33m=\u001b[0m\u001b[1;36m0.01\u001b[0m\u001b[1;33m,\u001b[0m \u001b[0mepsilon\u001b[0m\u001b[1;33m=\u001b[0m\u001b[1;36m0.01\u001b[0m\u001b[1;33m)\u001b[0m\u001b[1;33m\u001b[0m\u001b[1;33m\u001b[0m\u001b[0m\n\u001b[1;32m----> 2\u001b[1;33m \u001b[0mcoeffs\u001b[0m \u001b[1;33m=\u001b[0m \u001b[0mmodel\u001b[0m\u001b[1;33m.\u001b[0m\u001b[0mfit\u001b[0m\u001b[1;33m(\u001b[0m\u001b[0mX_scaled\u001b[0m\u001b[1;33m,\u001b[0m\u001b[0my_array\u001b[0m\u001b[1;33m)\u001b[0m\u001b[1;33m.\u001b[0m\u001b[0mcoef_\u001b[0m\u001b[1;33m\u001b[0m\u001b[1;33m\u001b[0m\u001b[0m\n\u001b[0m",
      "\u001b[1;32m~\\Anaconda3\\lib\\site-packages\\sklearn\\svm\\base.py\u001b[0m in \u001b[0;36mcoef_\u001b[1;34m(self)\u001b[0m\n\u001b[0;32m    478\u001b[0m     \u001b[1;32mdef\u001b[0m \u001b[0mcoef_\u001b[0m\u001b[1;33m(\u001b[0m\u001b[0mself\u001b[0m\u001b[1;33m)\u001b[0m\u001b[1;33m:\u001b[0m\u001b[1;33m\u001b[0m\u001b[1;33m\u001b[0m\u001b[0m\n\u001b[0;32m    479\u001b[0m         \u001b[1;32mif\u001b[0m \u001b[0mself\u001b[0m\u001b[1;33m.\u001b[0m\u001b[0mkernel\u001b[0m \u001b[1;33m!=\u001b[0m \u001b[1;34m'linear'\u001b[0m\u001b[1;33m:\u001b[0m\u001b[1;33m\u001b[0m\u001b[1;33m\u001b[0m\u001b[0m\n\u001b[1;32m--> 480\u001b[1;33m             raise AttributeError('coef_ is only available when using a '\n\u001b[0m\u001b[0;32m    481\u001b[0m                                  'linear kernel')\n\u001b[0;32m    482\u001b[0m \u001b[1;33m\u001b[0m\u001b[0m\n",
      "\u001b[1;31mAttributeError\u001b[0m: coef_ is only available when using a linear kernel"
     ]
    }
   ],
   "source": [
    "model = SVR(kernel='rbf', C=10, gamma=0.01, epsilon=0.01)\n",
    "coeffs = model.fit(X_scaled,y_array).coef_"
   ]
  },
  {
   "cell_type": "code",
   "execution_count": 61,
   "metadata": {},
   "outputs": [],
   "source": [
    "model = SVR(kernel='rbf', C=10, gamma=0.01, epsilon=0.01)\n",
    "\n",
    "y_predicted = y_scaler.inverse_transform((model.fit(X_scaled,y_array).predict(X_scaler.transform(X))))\n"
   ]
  },
  {
   "cell_type": "code",
   "execution_count": 65,
   "metadata": {},
   "outputs": [],
   "source": [
    "daily_pB['Predicted_pB'] = y_predicted"
   ]
  },
  {
   "cell_type": "code",
   "execution_count": 66,
   "metadata": {},
   "outputs": [
    {
     "data": {
      "text/html": [
       "<div>\n",
       "<style scoped>\n",
       "    .dataframe tbody tr th:only-of-type {\n",
       "        vertical-align: middle;\n",
       "    }\n",
       "\n",
       "    .dataframe tbody tr th {\n",
       "        vertical-align: top;\n",
       "    }\n",
       "\n",
       "    .dataframe thead th {\n",
       "        text-align: right;\n",
       "    }\n",
       "</style>\n",
       "<table border=\"1\" class=\"dataframe\">\n",
       "  <thead>\n",
       "    <tr style=\"text-align: right;\">\n",
       "      <th></th>\n",
       "      <th>datestring</th>\n",
       "      <th>average_exhaustion</th>\n",
       "      <th>average_sA</th>\n",
       "      <th>average_percent_extracted_per_point</th>\n",
       "      <th>pB</th>\n",
       "      <th>Predicted_pB</th>\n",
       "    </tr>\n",
       "  </thead>\n",
       "  <tbody>\n",
       "    <tr>\n",
       "      <td>0</td>\n",
       "      <td>20090812</td>\n",
       "      <td>47.836660</td>\n",
       "      <td>0.236600</td>\n",
       "      <td>0.675676</td>\n",
       "      <td>1.556000</td>\n",
       "      <td>1.342275</td>\n",
       "    </tr>\n",
       "    <tr>\n",
       "      <td>1</td>\n",
       "      <td>20090813</td>\n",
       "      <td>45.127344</td>\n",
       "      <td>0.239869</td>\n",
       "      <td>0.709220</td>\n",
       "      <td>1.324000</td>\n",
       "      <td>1.259402</td>\n",
       "    </tr>\n",
       "    <tr>\n",
       "      <td>2</td>\n",
       "      <td>20090814</td>\n",
       "      <td>46.250910</td>\n",
       "      <td>0.237382</td>\n",
       "      <td>0.649351</td>\n",
       "      <td>1.545000</td>\n",
       "      <td>1.263302</td>\n",
       "    </tr>\n",
       "    <tr>\n",
       "      <td>3</td>\n",
       "      <td>20090815</td>\n",
       "      <td>47.276493</td>\n",
       "      <td>0.238790</td>\n",
       "      <td>0.657895</td>\n",
       "      <td>1.512000</td>\n",
       "      <td>1.284463</td>\n",
       "    </tr>\n",
       "    <tr>\n",
       "      <td>4</td>\n",
       "      <td>20090816</td>\n",
       "      <td>45.022368</td>\n",
       "      <td>0.240766</td>\n",
       "      <td>0.617284</td>\n",
       "      <td>1.077000</td>\n",
       "      <td>1.155657</td>\n",
       "    </tr>\n",
       "    <tr>\n",
       "      <td>...</td>\n",
       "      <td>...</td>\n",
       "      <td>...</td>\n",
       "      <td>...</td>\n",
       "      <td>...</td>\n",
       "      <td>...</td>\n",
       "      <td>...</td>\n",
       "    </tr>\n",
       "    <tr>\n",
       "      <td>2331</td>\n",
       "      <td>20200320</td>\n",
       "      <td>91.697606</td>\n",
       "      <td>0.189014</td>\n",
       "      <td>0.666667</td>\n",
       "      <td>2.503250</td>\n",
       "      <td>2.800584</td>\n",
       "    </tr>\n",
       "    <tr>\n",
       "      <td>2332</td>\n",
       "      <td>20200323</td>\n",
       "      <td>92.262835</td>\n",
       "      <td>0.183232</td>\n",
       "      <td>0.613497</td>\n",
       "      <td>2.612667</td>\n",
       "      <td>2.706397</td>\n",
       "    </tr>\n",
       "    <tr>\n",
       "      <td>2333</td>\n",
       "      <td>20200324</td>\n",
       "      <td>91.541995</td>\n",
       "      <td>0.187317</td>\n",
       "      <td>0.564972</td>\n",
       "      <td>2.659333</td>\n",
       "      <td>2.750774</td>\n",
       "    </tr>\n",
       "    <tr>\n",
       "      <td>2334</td>\n",
       "      <td>20200325</td>\n",
       "      <td>80.328178</td>\n",
       "      <td>0.193251</td>\n",
       "      <td>0.574713</td>\n",
       "      <td>2.685667</td>\n",
       "      <td>2.440726</td>\n",
       "    </tr>\n",
       "    <tr>\n",
       "      <td>2335</td>\n",
       "      <td>20200331</td>\n",
       "      <td>88.180151</td>\n",
       "      <td>0.189842</td>\n",
       "      <td>0.529101</td>\n",
       "      <td>2.386750</td>\n",
       "      <td>2.660232</td>\n",
       "    </tr>\n",
       "  </tbody>\n",
       "</table>\n",
       "<p>2336 rows × 6 columns</p>\n",
       "</div>"
      ],
      "text/plain": [
       "      datestring  average_exhaustion  average_sA  \\\n",
       "0       20090812           47.836660    0.236600   \n",
       "1       20090813           45.127344    0.239869   \n",
       "2       20090814           46.250910    0.237382   \n",
       "3       20090815           47.276493    0.238790   \n",
       "4       20090816           45.022368    0.240766   \n",
       "...          ...                 ...         ...   \n",
       "2331    20200320           91.697606    0.189014   \n",
       "2332    20200323           92.262835    0.183232   \n",
       "2333    20200324           91.541995    0.187317   \n",
       "2334    20200325           80.328178    0.193251   \n",
       "2335    20200331           88.180151    0.189842   \n",
       "\n",
       "      average_percent_extracted_per_point        pB  Predicted_pB  \n",
       "0                                0.675676  1.556000      1.342275  \n",
       "1                                0.709220  1.324000      1.259402  \n",
       "2                                0.649351  1.545000      1.263302  \n",
       "3                                0.657895  1.512000      1.284463  \n",
       "4                                0.617284  1.077000      1.155657  \n",
       "...                                   ...       ...           ...  \n",
       "2331                             0.666667  2.503250      2.800584  \n",
       "2332                             0.613497  2.612667      2.706397  \n",
       "2333                             0.564972  2.659333      2.750774  \n",
       "2334                             0.574713  2.685667      2.440726  \n",
       "2335                             0.529101  2.386750      2.660232  \n",
       "\n",
       "[2336 rows x 6 columns]"
      ]
     },
     "execution_count": 66,
     "metadata": {},
     "output_type": "execute_result"
    }
   ],
   "source": [
    "daily_pB['Error'] = daily_pB['Predicted_pB'] - daily_pB['pB']\n"
   ]
  },
  {
   "cell_type": "code",
   "execution_count": null,
   "metadata": {},
   "outputs": [],
   "source": []
  }
 ],
 "metadata": {
  "kernelspec": {
   "display_name": "Python 3.7.4 64-bit ('base': conda)",
   "language": "python",
   "name": "python37464bitbaseconda34f9e325a37b4408960ead74bb6a9fbb"
  },
  "language_info": {
   "codemirror_mode": {
    "name": "ipython",
    "version": 3
   },
   "file_extension": ".py",
   "mimetype": "text/x-python",
   "name": "python",
   "nbconvert_exporter": "python",
   "pygments_lexer": "ipython3",
   "version": "3.7.4"
  }
 },
 "nbformat": 4,
 "nbformat_minor": 2
}
