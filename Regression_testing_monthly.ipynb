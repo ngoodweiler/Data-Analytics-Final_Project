{
 "cells": [
  {
   "cell_type": "code",
   "execution_count": 1,
   "metadata": {},
   "outputs": [],
   "source": [
    "# Load dependencies\n",
    "import numpy as np\n",
    "import pandas as pd\n",
    "import matplotlib.pyplot as plt\n",
    "import scipy.stats as sts\n",
    "import numpy as np\n",
    "import statsmodels.formula.api as smf"
   ]
  },
  {
   "cell_type": "code",
   "execution_count": 2,
   "metadata": {},
   "outputs": [],
   "source": [
    "def forward_selected(data, response):\n",
    "    \"\"\"Linear model designed by forward selection.\n",
    "\n",
    "    Parameters:\n",
    "    -----------\n",
    "    data : pandas DataFrame with all possible predictors and response\n",
    "\n",
    "    response: string, name of response column in data\n",
    "\n",
    "    Returns:\n",
    "    --------\n",
    "    model: an \"optimal\" fitted statsmodels linear model\n",
    "           with an intercept\n",
    "           selected by forward selection\n",
    "           evaluated by adjusted R-squared\n",
    "    \"\"\"\n",
    "    remaining = set(data.columns)\n",
    "    remaining.remove(response)\n",
    "    selected = []\n",
    "    current_score, best_new_score = 0.0, 0.0\n",
    "    while remaining and current_score == best_new_score:\n",
    "        scores_with_candidates = []\n",
    "        for candidate in remaining:\n",
    "            formula = \"{} ~ {} + 1\".format(response,\n",
    "                                           ' + '.join(selected + [candidate]))\n",
    "            score = smf.ols(formula, data).fit().rsquared_adj\n",
    "            scores_with_candidates.append((score, candidate))\n",
    "        scores_with_candidates.sort()\n",
    "        best_new_score, best_candidate = scores_with_candidates.pop()\n",
    "        if current_score < best_new_score:\n",
    "            remaining.remove(best_candidate)\n",
    "            selected.append(best_candidate)\n",
    "            current_score = best_new_score\n",
    "    formula = \"{} ~ {} + 1\".format(response,\n",
    "                                   ' + '.join(selected))\n",
    "    model = smf.ols(formula, data).fit()\n",
    "    return model"
   ]
  },
  {
   "cell_type": "code",
   "execution_count": 31,
   "metadata": {},
   "outputs": [],
   "source": [
    "# Import csv files\n",
    "monthly_composite = pd.read_csv('../Data-Analytics-Final_Project/Resources/monthly_composite.csv',index_col=False)"
   ]
  },
  {
   "cell_type": "code",
   "execution_count": 32,
   "metadata": {},
   "outputs": [],
   "source": [
    "# Removing first 6 months of data due to unreliable exhaustion values\n",
    "monthly_composite = monthly_composite.iloc[7:].reset_index(drop=True)"
   ]
  },
  {
   "cell_type": "code",
   "execution_count": 61,
   "metadata": {},
   "outputs": [
    {
     "data": {
      "text/html": [
       "<div>\n",
       "<style scoped>\n",
       "    .dataframe tbody tr th:only-of-type {\n",
       "        vertical-align: middle;\n",
       "    }\n",
       "\n",
       "    .dataframe tbody tr th {\n",
       "        vertical-align: top;\n",
       "    }\n",
       "\n",
       "    .dataframe thead th {\n",
       "        text-align: right;\n",
       "    }\n",
       "</style>\n",
       "<table border=\"1\" class=\"dataframe\">\n",
       "  <thead>\n",
       "    <tr style=\"text-align: right;\">\n",
       "      <th></th>\n",
       "      <th>year_month</th>\n",
       "      <th>total_extracted</th>\n",
       "      <th>number_extract_points</th>\n",
       "      <th>average_exhaustion</th>\n",
       "      <th>average_sA</th>\n",
       "      <th>average_percent_extracted_per_point</th>\n",
       "      <th>run_days</th>\n",
       "      <th>average_extracted_per_day</th>\n",
       "      <th>average_pA</th>\n",
       "      <th>average_pB</th>\n",
       "      <th>average_pD</th>\n",
       "      <th>average_pC</th>\n",
       "    </tr>\n",
       "  </thead>\n",
       "  <tbody>\n",
       "    <tr>\n",
       "      <td>0</td>\n",
       "      <td>200201</td>\n",
       "      <td>19178.0</td>\n",
       "      <td>74.0</td>\n",
       "      <td>25.46</td>\n",
       "      <td>0.219</td>\n",
       "      <td>1.45</td>\n",
       "      <td>22</td>\n",
       "      <td>872.0</td>\n",
       "      <td>0.214</td>\n",
       "      <td>NaN</td>\n",
       "      <td>NaN</td>\n",
       "      <td>NaN</td>\n",
       "    </tr>\n",
       "    <tr>\n",
       "      <td>1</td>\n",
       "      <td>200202</td>\n",
       "      <td>18074.0</td>\n",
       "      <td>61.0</td>\n",
       "      <td>29.85</td>\n",
       "      <td>0.221</td>\n",
       "      <td>1.92</td>\n",
       "      <td>21</td>\n",
       "      <td>861.0</td>\n",
       "      <td>0.206</td>\n",
       "      <td>NaN</td>\n",
       "      <td>NaN</td>\n",
       "      <td>NaN</td>\n",
       "    </tr>\n",
       "    <tr>\n",
       "      <td>2</td>\n",
       "      <td>200203</td>\n",
       "      <td>17399.0</td>\n",
       "      <td>67.0</td>\n",
       "      <td>30.10</td>\n",
       "      <td>0.229</td>\n",
       "      <td>1.57</td>\n",
       "      <td>20</td>\n",
       "      <td>870.0</td>\n",
       "      <td>0.230</td>\n",
       "      <td>NaN</td>\n",
       "      <td>NaN</td>\n",
       "      <td>NaN</td>\n",
       "    </tr>\n",
       "    <tr>\n",
       "      <td>3</td>\n",
       "      <td>200204</td>\n",
       "      <td>23748.0</td>\n",
       "      <td>75.0</td>\n",
       "      <td>31.33</td>\n",
       "      <td>0.241</td>\n",
       "      <td>1.37</td>\n",
       "      <td>19</td>\n",
       "      <td>1250.0</td>\n",
       "      <td>0.215</td>\n",
       "      <td>NaN</td>\n",
       "      <td>NaN</td>\n",
       "      <td>NaN</td>\n",
       "    </tr>\n",
       "    <tr>\n",
       "      <td>4</td>\n",
       "      <td>200205</td>\n",
       "      <td>23976.0</td>\n",
       "      <td>79.0</td>\n",
       "      <td>37.39</td>\n",
       "      <td>0.235</td>\n",
       "      <td>1.32</td>\n",
       "      <td>21</td>\n",
       "      <td>1142.0</td>\n",
       "      <td>0.205</td>\n",
       "      <td>NaN</td>\n",
       "      <td>NaN</td>\n",
       "      <td>NaN</td>\n",
       "    </tr>\n",
       "    <tr>\n",
       "      <td>...</td>\n",
       "      <td>...</td>\n",
       "      <td>...</td>\n",
       "      <td>...</td>\n",
       "      <td>...</td>\n",
       "      <td>...</td>\n",
       "      <td>...</td>\n",
       "      <td>...</td>\n",
       "      <td>...</td>\n",
       "      <td>...</td>\n",
       "      <td>...</td>\n",
       "      <td>...</td>\n",
       "      <td>...</td>\n",
       "    </tr>\n",
       "    <tr>\n",
       "      <td>213</td>\n",
       "      <td>201911</td>\n",
       "      <td>14984.0</td>\n",
       "      <td>106.0</td>\n",
       "      <td>90.60</td>\n",
       "      <td>0.180</td>\n",
       "      <td>1.16</td>\n",
       "      <td>16</td>\n",
       "      <td>936.0</td>\n",
       "      <td>0.128</td>\n",
       "      <td>2.651545</td>\n",
       "      <td>0.007970</td>\n",
       "      <td>0.001930</td>\n",
       "    </tr>\n",
       "    <tr>\n",
       "      <td>214</td>\n",
       "      <td>201912</td>\n",
       "      <td>13234.0</td>\n",
       "      <td>95.0</td>\n",
       "      <td>98.23</td>\n",
       "      <td>0.185</td>\n",
       "      <td>1.21</td>\n",
       "      <td>14</td>\n",
       "      <td>945.0</td>\n",
       "      <td>0.137</td>\n",
       "      <td>2.864889</td>\n",
       "      <td>0.008481</td>\n",
       "      <td>0.002070</td>\n",
       "    </tr>\n",
       "    <tr>\n",
       "      <td>215</td>\n",
       "      <td>202001</td>\n",
       "      <td>20024.0</td>\n",
       "      <td>114.0</td>\n",
       "      <td>95.30</td>\n",
       "      <td>0.183</td>\n",
       "      <td>0.90</td>\n",
       "      <td>15</td>\n",
       "      <td>1335.0</td>\n",
       "      <td>0.141</td>\n",
       "      <td>2.975722</td>\n",
       "      <td>0.009533</td>\n",
       "      <td>0.002242</td>\n",
       "    </tr>\n",
       "    <tr>\n",
       "      <td>216</td>\n",
       "      <td>202002</td>\n",
       "      <td>19643.0</td>\n",
       "      <td>122.0</td>\n",
       "      <td>99.56</td>\n",
       "      <td>0.175</td>\n",
       "      <td>0.93</td>\n",
       "      <td>14</td>\n",
       "      <td>1403.0</td>\n",
       "      <td>0.150</td>\n",
       "      <td>2.801782</td>\n",
       "      <td>0.010231</td>\n",
       "      <td>0.001921</td>\n",
       "    </tr>\n",
       "    <tr>\n",
       "      <td>217</td>\n",
       "      <td>202003</td>\n",
       "      <td>23802.0</td>\n",
       "      <td>146.0</td>\n",
       "      <td>95.02</td>\n",
       "      <td>0.184</td>\n",
       "      <td>0.71</td>\n",
       "      <td>16</td>\n",
       "      <td>1488.0</td>\n",
       "      <td>0.129</td>\n",
       "      <td>2.376562</td>\n",
       "      <td>0.014193</td>\n",
       "      <td>0.001879</td>\n",
       "    </tr>\n",
       "  </tbody>\n",
       "</table>\n",
       "<p>218 rows × 12 columns</p>\n",
       "</div>"
      ],
      "text/plain": [
       "     year_month  total_extracted  number_extract_points  average_exhaustion  \\\n",
       "0        200201          19178.0                   74.0               25.46   \n",
       "1        200202          18074.0                   61.0               29.85   \n",
       "2        200203          17399.0                   67.0               30.10   \n",
       "3        200204          23748.0                   75.0               31.33   \n",
       "4        200205          23976.0                   79.0               37.39   \n",
       "..          ...              ...                    ...                 ...   \n",
       "213      201911          14984.0                  106.0               90.60   \n",
       "214      201912          13234.0                   95.0               98.23   \n",
       "215      202001          20024.0                  114.0               95.30   \n",
       "216      202002          19643.0                  122.0               99.56   \n",
       "217      202003          23802.0                  146.0               95.02   \n",
       "\n",
       "     average_sA  average_percent_extracted_per_point  run_days  \\\n",
       "0         0.219                                 1.45        22   \n",
       "1         0.221                                 1.92        21   \n",
       "2         0.229                                 1.57        20   \n",
       "3         0.241                                 1.37        19   \n",
       "4         0.235                                 1.32        21   \n",
       "..          ...                                  ...       ...   \n",
       "213       0.180                                 1.16        16   \n",
       "214       0.185                                 1.21        14   \n",
       "215       0.183                                 0.90        15   \n",
       "216       0.175                                 0.93        14   \n",
       "217       0.184                                 0.71        16   \n",
       "\n",
       "     average_extracted_per_day  average_pA  average_pB  average_pD  average_pC  \n",
       "0                        872.0       0.214         NaN         NaN         NaN  \n",
       "1                        861.0       0.206         NaN         NaN         NaN  \n",
       "2                        870.0       0.230         NaN         NaN         NaN  \n",
       "3                       1250.0       0.215         NaN         NaN         NaN  \n",
       "4                       1142.0       0.205         NaN         NaN         NaN  \n",
       "..                         ...         ...         ...         ...         ...  \n",
       "213                      936.0       0.128    2.651545    0.007970    0.001930  \n",
       "214                      945.0       0.137    2.864889    0.008481    0.002070  \n",
       "215                     1335.0       0.141    2.975722    0.009533    0.002242  \n",
       "216                     1403.0       0.150    2.801782    0.010231    0.001921  \n",
       "217                     1488.0       0.129    2.376562    0.014193    0.001879  \n",
       "\n",
       "[218 rows x 12 columns]"
      ]
     },
     "execution_count": 61,
     "metadata": {},
     "output_type": "execute_result"
    }
   ],
   "source": [
    "monthly_composite"
   ]
  },
  {
   "cell_type": "code",
   "execution_count": 67,
   "metadata": {},
   "outputs": [
    {
     "data": {
      "image/png": "[encoded data removed]",
      "text/plain": [
       "<Figure size 432x288 with 1 Axes>"
      ]
     },
     "metadata": {
      "needs_background": "light"
     },
     "output_type": "display_data"
    }
   ],
   "source": [
    "# Look at scatter plots of each independent variable to identify any trends right away\n",
    "plt.scatter(monthly_composite['average_exhaustion'],monthly_composite['average_pA'])\n",
    "plt.title('Monthly Average pA vs Average Exhaustion')\n",
    "plt.show()"
   ]
  },
  {
   "cell_type": "code",
   "execution_count": 65,
   "metadata": {},
   "outputs": [
    {
     "data": {
      "image/png": "[encoded data removed]",
      "text/plain": [
       "<Figure size 432x288 with 1 Axes>"
      ]
     },
     "metadata": {
      "needs_background": "light"
     },
     "output_type": "display_data"
    }
   ],
   "source": [
    "# Look at scatter plots of each independent variable to identify any trends right away\n",
    "plt.scatter(monthly_composite['average_sA'],monthly_composite['average_pA'])\n",
    "plt.title('Monthly Average pA vs Average sA')\n",
    "plt.show()"
   ]
  },
  {
   "cell_type": "code",
   "execution_count": 66,
   "metadata": {},
   "outputs": [
    {
     "data": {
      "image/png": "[encoded data removed]",
      "text/plain": [
       "<Figure size 432x288 with 1 Axes>"
      ]
     },
     "metadata": {
      "needs_background": "light"
     },
     "output_type": "display_data"
    }
   ],
   "source": [
    "# Look at scatter plots of each independent variable to identify any trends right away\n",
    "plt.scatter(monthly_composite['average_percent_extracted_per_point'],monthly_composite['average_pA'])\n",
    "plt.title('Monthly Average pA vs Average Extracted per Point')\n",
    "plt.show()"
   ]
  },
  {
   "cell_type": "code",
   "execution_count": 68,
   "metadata": {},
   "outputs": [],
   "source": [
    "monthly_sel = monthly_composite[['average_exhaustion','average_sA','average_percent_extracted_per_point','average_pA']]\n",
    "model = forward_selected(monthly_sel,'average_pA')"
   ]
  },
  {
   "cell_type": "code",
   "execution_count": 69,
   "metadata": {},
   "outputs": [
    {
     "name": "stdout",
     "output_type": "stream",
     "text": [
      "average_pA ~ average_sA + average_exhaustion + average_percent_extracted_per_point + 1\n"
     ]
    }
   ],
   "source": [
    "print (model.model.formula)"
   ]
  },
  {
   "cell_type": "code",
   "execution_count": 70,
   "metadata": {},
   "outputs": [
    {
     "name": "stdout",
     "output_type": "stream",
     "text": [
      "0.6357232277786882\n"
     ]
    }
   ],
   "source": [
    "print(model.rsquared_adj)"
   ]
  },
  {
   "cell_type": "code",
   "execution_count": 71,
   "metadata": {},
   "outputs": [
    {
     "name": "stdout",
     "output_type": "stream",
     "text": [
      "(218, 3) (218, 1)\n"
     ]
    }
   ],
   "source": [
    "X = monthly_composite[['average_exhaustion','average_sA','average_percent_extracted_per_point']]\n",
    "y = monthly_composite['average_pA'].values.reshape(-1,1)\n",
    "print(X.shape,y.shape)"
   ]
  },
  {
   "cell_type": "code",
   "execution_count": 75,
   "metadata": {},
   "outputs": [],
   "source": [
    "from sklearn.model_selection import train_test_split\n",
    "X_train, X_test, y_train, y_test = train_test_split(X,y,random_state = 3)"
   ]
  },
  {
   "cell_type": "code",
   "execution_count": 76,
   "metadata": {},
   "outputs": [],
   "source": [
    "from sklearn.linear_model import LinearRegression\n",
    "model = LinearRegression()"
   ]
  },
  {
   "cell_type": "code",
   "execution_count": 77,
   "metadata": {},
   "outputs": [
    {
     "name": "stdout",
     "output_type": "stream",
     "text": [
      "Training Score: 0.6539803236791908\n",
      "Testing Score: 0.5973465682955075\n"
     ]
    }
   ],
   "source": [
    "model.fit(X_train,y_train)\n",
    "training_score = model.score(X_train,y_train)\n",
    "testing_score = model.score(X_test,y_test)\n",
    "print(f'Training Score: {training_score}')\n",
    "print(f'Testing Score: {testing_score}')"
   ]
  },
  {
   "cell_type": "code",
   "execution_count": 78,
   "metadata": {},
   "outputs": [
    {
     "data": {
      "text/plain": [
       "Text(0.5, 1.0, 'Residual Plot')"
      ]
     },
     "execution_count": 78,
     "metadata": {},
     "output_type": "execute_result"
    },
    {
     "data": {
      "image/png": "[encoded data removed]",
      "text/plain": [
       "<Figure size 432x288 with 1 Axes>"
      ]
     },
     "metadata": {
      "needs_background": "light"
     },
     "output_type": "display_data"
    }
   ],
   "source": [
    "plt.scatter(model.predict(X_train),model.predict(X_train) - y_train, c='blue',label='Training Data')\n",
    "plt.scatter(model.predict(X_test),model.predict(X_test) - y_test, c='orange', label='Testing Data')\n",
    "plt.legend()\n",
    "plt.hlines(y=0,xmin=y.min(),xmax=y.max())\n",
    "plt.title('Residual Plot')"
   ]
  },
  {
   "cell_type": "code",
   "execution_count": 82,
   "metadata": {},
   "outputs": [
    {
     "data": {
      "text/html": [
       "<div>\n",
       "<style scoped>\n",
       "    .dataframe tbody tr th:only-of-type {\n",
       "        vertical-align: middle;\n",
       "    }\n",
       "\n",
       "    .dataframe tbody tr th {\n",
       "        vertical-align: top;\n",
       "    }\n",
       "\n",
       "    .dataframe thead th {\n",
       "        text-align: right;\n",
       "    }\n",
       "</style>\n",
       "<table border=\"1\" class=\"dataframe\">\n",
       "  <thead>\n",
       "    <tr style=\"text-align: right;\">\n",
       "      <th></th>\n",
       "      <th>year_month</th>\n",
       "      <th>average_exhaustion</th>\n",
       "      <th>average_sA</th>\n",
       "      <th>average_percent_extracted_per_point</th>\n",
       "      <th>average_pA</th>\n",
       "    </tr>\n",
       "  </thead>\n",
       "  <tbody>\n",
       "    <tr>\n",
       "      <td>0</td>\n",
       "      <td>200201</td>\n",
       "      <td>25.46</td>\n",
       "      <td>0.219</td>\n",
       "      <td>1.45</td>\n",
       "      <td>0.214</td>\n",
       "    </tr>\n",
       "    <tr>\n",
       "      <td>1</td>\n",
       "      <td>200202</td>\n",
       "      <td>29.85</td>\n",
       "      <td>0.221</td>\n",
       "      <td>1.92</td>\n",
       "      <td>0.206</td>\n",
       "    </tr>\n",
       "    <tr>\n",
       "      <td>2</td>\n",
       "      <td>200203</td>\n",
       "      <td>30.10</td>\n",
       "      <td>0.229</td>\n",
       "      <td>1.57</td>\n",
       "      <td>0.230</td>\n",
       "    </tr>\n",
       "    <tr>\n",
       "      <td>3</td>\n",
       "      <td>200204</td>\n",
       "      <td>31.33</td>\n",
       "      <td>0.241</td>\n",
       "      <td>1.37</td>\n",
       "      <td>0.215</td>\n",
       "    </tr>\n",
       "    <tr>\n",
       "      <td>4</td>\n",
       "      <td>200205</td>\n",
       "      <td>37.39</td>\n",
       "      <td>0.235</td>\n",
       "      <td>1.32</td>\n",
       "      <td>0.205</td>\n",
       "    </tr>\n",
       "    <tr>\n",
       "      <td>...</td>\n",
       "      <td>...</td>\n",
       "      <td>...</td>\n",
       "      <td>...</td>\n",
       "      <td>...</td>\n",
       "      <td>...</td>\n",
       "    </tr>\n",
       "    <tr>\n",
       "      <td>213</td>\n",
       "      <td>201911</td>\n",
       "      <td>90.60</td>\n",
       "      <td>0.180</td>\n",
       "      <td>1.16</td>\n",
       "      <td>0.128</td>\n",
       "    </tr>\n",
       "    <tr>\n",
       "      <td>214</td>\n",
       "      <td>201912</td>\n",
       "      <td>98.23</td>\n",
       "      <td>0.185</td>\n",
       "      <td>1.21</td>\n",
       "      <td>0.137</td>\n",
       "    </tr>\n",
       "    <tr>\n",
       "      <td>215</td>\n",
       "      <td>202001</td>\n",
       "      <td>95.30</td>\n",
       "      <td>0.183</td>\n",
       "      <td>0.90</td>\n",
       "      <td>0.141</td>\n",
       "    </tr>\n",
       "    <tr>\n",
       "      <td>216</td>\n",
       "      <td>202002</td>\n",
       "      <td>99.56</td>\n",
       "      <td>0.175</td>\n",
       "      <td>0.93</td>\n",
       "      <td>0.150</td>\n",
       "    </tr>\n",
       "    <tr>\n",
       "      <td>217</td>\n",
       "      <td>202003</td>\n",
       "      <td>95.02</td>\n",
       "      <td>0.184</td>\n",
       "      <td>0.71</td>\n",
       "      <td>0.129</td>\n",
       "    </tr>\n",
       "  </tbody>\n",
       "</table>\n",
       "<p>218 rows × 5 columns</p>\n",
       "</div>"
      ],
      "text/plain": [
       "     year_month  average_exhaustion  average_sA  \\\n",
       "0        200201               25.46       0.219   \n",
       "1        200202               29.85       0.221   \n",
       "2        200203               30.10       0.229   \n",
       "3        200204               31.33       0.241   \n",
       "4        200205               37.39       0.235   \n",
       "..          ...                 ...         ...   \n",
       "213      201911               90.60       0.180   \n",
       "214      201912               98.23       0.185   \n",
       "215      202001               95.30       0.183   \n",
       "216      202002               99.56       0.175   \n",
       "217      202003               95.02       0.184   \n",
       "\n",
       "     average_percent_extracted_per_point  average_pA  \n",
       "0                                   1.45       0.214  \n",
       "1                                   1.92       0.206  \n",
       "2                                   1.57       0.230  \n",
       "3                                   1.37       0.215  \n",
       "4                                   1.32       0.205  \n",
       "..                                   ...         ...  \n",
       "213                                 1.16       0.128  \n",
       "214                                 1.21       0.137  \n",
       "215                                 0.90       0.141  \n",
       "216                                 0.93       0.150  \n",
       "217                                 0.71       0.129  \n",
       "\n",
       "[218 rows x 5 columns]"
      ]
     },
     "execution_count": 82,
     "metadata": {},
     "output_type": "execute_result"
    }
   ],
   "source": [
    "monthly_pA = monthly_composite.copy()\n",
    "monthly_pA = monthly_pA[['year_month','average_exhaustion','average_sA','average_percent_extracted_per_point','average_pA']].dropna()\n",
    "monthly_pA"
   ]
  },
  {
   "cell_type": "code",
   "execution_count": 83,
   "metadata": {},
   "outputs": [],
   "source": [
    "variables_list = []\n",
    "num_vars_list = []\n",
    "score_list = []\n",
    "mse_list = []"
   ]
  },
  {
   "cell_type": "code",
   "execution_count": 84,
   "metadata": {},
   "outputs": [
    {
     "name": "stdout",
     "output_type": "stream",
     "text": [
      "(218, 3) (218, 1)\n",
      "Exhaustion, sA, Extracted per Point\n",
      "Training Score: 0.6539803236791908\n",
      "Testing Score: 0.5973465682955075\n",
      "R2 Value: [0.64048341]\n",
      "Adjusted R2 value: [0.63544346], note the difference is negligible due to the large number of data points vs variables\n",
      "MSE: 0.0003739582301129957\n"
     ]
    }
   ],
   "source": [
    "variables_used = 'Exhaustion, sA, Extracted per Point'\n",
    "num_variables = 3\n",
    "X = monthly_pA[['average_exhaustion','average_sA','average_percent_extracted_per_point']]\n",
    "y = monthly_pA['average_pA'].values.reshape(-1,1)\n",
    "print(X.shape,y.shape)\n",
    "X_train, X_test, y_train, y_test = train_test_split(X,y,random_state = 3)\n",
    "model = LinearRegression()\n",
    "model.fit(X_train,y_train)\n",
    "training_score = model.score(X_train,y_train)\n",
    "testing_score = model.score(X_test,y_test)\n",
    "print(variables_used)\n",
    "print(f'Training Score: {training_score}')\n",
    "print(f'Testing Score: {testing_score}')\n",
    "predicted = model.predict(X)\n",
    "SS_Residual = sum((y-predicted)**2)       \n",
    "SS_Total = sum((y-np.mean(y))**2)     \n",
    "r_squared = 1 - (float(SS_Residual))/SS_Total\n",
    "adjusted_r_squared = 1 - (1-r_squared)*(len(y)-1)/(len(y)-X.shape[1]-1)\n",
    "print(f'R2 Value: {r_squared}')\n",
    "print(f'Adjusted R2 value: {adjusted_r_squared}, note the difference is little due to the large number of data points vs variables')\n",
    "from sklearn.metrics import mean_squared_error, r2_score\n",
    "print(f'MSE: {mean_squared_error(y,predicted)}')\n",
    "variables_list.append(variables_used)\n",
    "num_vars_list.append(num_variables)\n",
    "score_list.append(model.score(X,y))\n",
    "mse_list.append(mean_squared_error(y,predicted))"
   ]
  },
  {
   "cell_type": "code",
   "execution_count": 85,
   "metadata": {},
   "outputs": [
    {
     "name": "stdout",
     "output_type": "stream",
     "text": [
      "(218, 1) (218, 1)\n",
      "Exhaustion\n",
      "Training Score: 0.3729098901842257\n",
      "Testing Score: 0.35086205759583133\n"
     ]
    }
   ],
   "source": [
    "variables_used = 'Exhaustion'\n",
    "num_variables = 1\n",
    "X = monthly_pA[['average_exhaustion']]\n",
    "y = monthly_pA['average_pA'].values.reshape(-1,1)\n",
    "print(X.shape,y.shape)\n",
    "X_train, X_test, y_train, y_test = train_test_split(X,y,random_state = 3)\n",
    "model = LinearRegression()\n",
    "model.fit(X_train,y_train)\n",
    "training_score = model.score(X_train,y_train)\n",
    "testing_score = model.score(X_test,y_test)\n",
    "print(variables_used)\n",
    "print(f'Training Score: {training_score}')\n",
    "print(f'Testing Score: {testing_score}')\n",
    "variables_list.append(variables_used)\n",
    "num_vars_list.append(num_variables)\n",
    "score_list.append(model.score(X,y))\n",
    "mse_list.append(mean_squared_error(y,predicted))"
   ]
  },
  {
   "cell_type": "code",
   "execution_count": 86,
   "metadata": {},
   "outputs": [
    {
     "name": "stdout",
     "output_type": "stream",
     "text": [
      "(218, 1) (218, 1)\n",
      "sA\n",
      "Training Score: 0.5442251273011303\n",
      "Testing Score: 0.48995211606152084\n"
     ]
    }
   ],
   "source": [
    "variables_used = 'sA'\n",
    "num_variables = 1\n",
    "X = monthly_pA[['average_sA']]\n",
    "y = monthly_pA['average_pA'].values.reshape(-1,1)\n",
    "print(X.shape,y.shape)\n",
    "X_train, X_test, y_train, y_test = train_test_split(X,y,random_state = 3)\n",
    "model = LinearRegression()\n",
    "model.fit(X_train,y_train)\n",
    "training_score = model.score(X_train,y_train)\n",
    "testing_score = model.score(X_test,y_test)\n",
    "print(variables_used)\n",
    "print(f'Training Score: {training_score}')\n",
    "print(f'Testing Score: {testing_score}')\n",
    "variables_list.append(variables_used)\n",
    "num_vars_list.append(num_variables)\n",
    "score_list.append(model.score(X,y))\n",
    "mse_list.append(mean_squared_error(y,predicted))"
   ]
  },
  {
   "cell_type": "code",
   "execution_count": 87,
   "metadata": {},
   "outputs": [
    {
     "name": "stdout",
     "output_type": "stream",
     "text": [
      "(218, 1) (218, 1)\n",
      "Extracted per Point\n",
      "Training Score: 0.004048404245911241\n",
      "Testing Score: -0.03130904188641859\n"
     ]
    }
   ],
   "source": [
    "variables_used = 'Extracted per Point'\n",
    "num_variables = 1\n",
    "X = monthly_pA[['average_percent_extracted_per_point']]\n",
    "y = monthly_pA['average_pA'].values.reshape(-1,1)\n",
    "print(X.shape,y.shape)\n",
    "X_train, X_test, y_train, y_test = train_test_split(X,y,random_state = 3)\n",
    "model = LinearRegression()\n",
    "model.fit(X_train,y_train)\n",
    "training_score = model.score(X_train,y_train)\n",
    "testing_score = model.score(X_test,y_test)\n",
    "print(variables_used)\n",
    "print(f'Training Score: {training_score}')\n",
    "print(f'Testing Score: {testing_score}')\n",
    "variables_list.append(variables_used)\n",
    "num_vars_list.append(num_variables)\n",
    "score_list.append(model.score(X,y))\n",
    "mse_list.append(mean_squared_error(y,predicted))"
   ]
  },
  {
   "cell_type": "code",
   "execution_count": 88,
   "metadata": {},
   "outputs": [
    {
     "name": "stdout",
     "output_type": "stream",
     "text": [
      "(218, 2) (218, 1)\n",
      "Exhaustion, sA\n",
      "Training Score: 0.6242606029881328\n",
      "Testing Score: 0.5611107674776958\n"
     ]
    }
   ],
   "source": [
    "variables_used = 'Exhaustion, sA'\n",
    "num_variables = 2\n",
    "X = monthly_pA[['average_exhaustion','average_sA']]\n",
    "y = monthly_pA['average_pA'].values.reshape(-1,1)\n",
    "print(X.shape,y.shape)\n",
    "X_train, X_test, y_train, y_test = train_test_split(X,y,random_state = 3)\n",
    "model = LinearRegression()\n",
    "model.fit(X_train,y_train)\n",
    "training_score = model.score(X_train,y_train)\n",
    "testing_score = model.score(X_test,y_test)\n",
    "print(variables_used)\n",
    "print(f'Training Score: {training_score}')\n",
    "print(f'Testing Score: {testing_score}')\n",
    "variables_list.append(variables_used)\n",
    "num_vars_list.append(num_variables)\n",
    "score_list.append(model.score(X,y))\n",
    "mse_list.append(mean_squared_error(y,predicted))"
   ]
  },
  {
   "cell_type": "code",
   "execution_count": 89,
   "metadata": {},
   "outputs": [
    {
     "name": "stdout",
     "output_type": "stream",
     "text": [
      "(218, 2) (218, 1)\n",
      "Exhaustion, Extracted per Point\n",
      "Training Score: 0.3764691184536557\n",
      "Testing Score: 0.35096771347023703\n"
     ]
    }
   ],
   "source": [
    "variables_used = 'Exhaustion, Extracted per Point'\n",
    "num_variables = 2\n",
    "X = monthly_pA[['average_exhaustion','average_percent_extracted_per_point']]\n",
    "y = monthly_pA['average_pA'].values.reshape(-1,1)\n",
    "print(X.shape,y.shape)\n",
    "X_train, X_test, y_train, y_test = train_test_split(X,y,random_state = 3)\n",
    "model = LinearRegression()\n",
    "model.fit(X_train,y_train)\n",
    "training_score = model.score(X_train,y_train)\n",
    "testing_score = model.score(X_test,y_test)\n",
    "print(variables_used)\n",
    "print(f'Training Score: {training_score}')\n",
    "print(f'Testing Score: {testing_score}')\n",
    "variables_list.append(variables_used)\n",
    "num_vars_list.append(num_variables)\n",
    "score_list.append(model.score(X,y))\n",
    "mse_list.append(mean_squared_error(y,predicted))"
   ]
  },
  {
   "cell_type": "code",
   "execution_count": 90,
   "metadata": {},
   "outputs": [
    {
     "name": "stdout",
     "output_type": "stream",
     "text": [
      "(218, 2) (218, 1)\n",
      "sA, Extracted per Point\n",
      "Training Score: 0.5976675898342884\n",
      "Testing Score: 0.5432436097007233\n"
     ]
    }
   ],
   "source": [
    "variables_used = 'sA, Extracted per Point'\n",
    "num_variables = 2\n",
    "X = monthly_pA[['average_sA','average_percent_extracted_per_point']]\n",
    "y = monthly_pA['average_pA'].values.reshape(-1,1)\n",
    "print(X.shape,y.shape)\n",
    "X_train, X_test, y_train, y_test = train_test_split(X,y,random_state = 3)\n",
    "model = LinearRegression()\n",
    "model.fit(X_train,y_train)\n",
    "training_score = model.score(X_train,y_train)\n",
    "testing_score = model.score(X_test,y_test)\n",
    "print(variables_used)\n",
    "print(f'Training Score: {training_score}')\n",
    "print(f'Testing Score: {testing_score}')\n",
    "variables_list.append(variables_used)\n",
    "num_vars_list.append(num_variables)\n",
    "score_list.append(model.score(X,y))\n",
    "mse_list.append(mean_squared_error(y,predicted))"
   ]
  },
  {
   "cell_type": "code",
   "execution_count": 91,
   "metadata": {},
   "outputs": [
    {
     "data": {
      "text/html": [
       "<div>\n",
       "<style scoped>\n",
       "    .dataframe tbody tr th:only-of-type {\n",
       "        vertical-align: middle;\n",
       "    }\n",
       "\n",
       "    .dataframe tbody tr th {\n",
       "        vertical-align: top;\n",
       "    }\n",
       "\n",
       "    .dataframe thead th {\n",
       "        text-align: right;\n",
       "    }\n",
       "</style>\n",
       "<table border=\"1\" class=\"dataframe\">\n",
       "  <thead>\n",
       "    <tr style=\"text-align: right;\">\n",
       "      <th></th>\n",
       "      <th>Variables</th>\n",
       "      <th>Number of Variables</th>\n",
       "      <th>Score</th>\n",
       "      <th>MSE</th>\n",
       "    </tr>\n",
       "  </thead>\n",
       "  <tbody>\n",
       "    <tr>\n",
       "      <td>0</td>\n",
       "      <td>Exhaustion, sA, Extracted per Point</td>\n",
       "      <td>3</td>\n",
       "      <td>0.640483</td>\n",
       "      <td>0.000374</td>\n",
       "    </tr>\n",
       "    <tr>\n",
       "      <td>4</td>\n",
       "      <td>Exhaustion, sA</td>\n",
       "      <td>2</td>\n",
       "      <td>0.609123</td>\n",
       "      <td>0.000374</td>\n",
       "    </tr>\n",
       "    <tr>\n",
       "      <td>6</td>\n",
       "      <td>sA, Extracted per Point</td>\n",
       "      <td>2</td>\n",
       "      <td>0.585304</td>\n",
       "      <td>0.000374</td>\n",
       "    </tr>\n",
       "    <tr>\n",
       "      <td>2</td>\n",
       "      <td>sA</td>\n",
       "      <td>1</td>\n",
       "      <td>0.532370</td>\n",
       "      <td>0.000374</td>\n",
       "    </tr>\n",
       "    <tr>\n",
       "      <td>5</td>\n",
       "      <td>Exhaustion, Extracted per Point</td>\n",
       "      <td>2</td>\n",
       "      <td>0.374457</td>\n",
       "      <td>0.000374</td>\n",
       "    </tr>\n",
       "    <tr>\n",
       "      <td>1</td>\n",
       "      <td>Exhaustion</td>\n",
       "      <td>1</td>\n",
       "      <td>0.371935</td>\n",
       "      <td>0.000374</td>\n",
       "    </tr>\n",
       "    <tr>\n",
       "      <td>3</td>\n",
       "      <td>Extracted per Point</td>\n",
       "      <td>1</td>\n",
       "      <td>0.002401</td>\n",
       "      <td>0.000374</td>\n",
       "    </tr>\n",
       "  </tbody>\n",
       "</table>\n",
       "</div>"
      ],
      "text/plain": [
       "                             Variables  Number of Variables     Score  \\\n",
       "0  Exhaustion, sA, Extracted per Point                    3  0.640483   \n",
       "4                       Exhaustion, sA                    2  0.609123   \n",
       "6              sA, Extracted per Point                    2  0.585304   \n",
       "2                                   sA                    1  0.532370   \n",
       "5      Exhaustion, Extracted per Point                    2  0.374457   \n",
       "1                           Exhaustion                    1  0.371935   \n",
       "3                  Extracted per Point                    1  0.002401   \n",
       "\n",
       "        MSE  \n",
       "0  0.000374  \n",
       "4  0.000374  \n",
       "6  0.000374  \n",
       "2  0.000374  \n",
       "5  0.000374  \n",
       "1  0.000374  \n",
       "3  0.000374  "
      ]
     },
     "execution_count": 91,
     "metadata": {},
     "output_type": "execute_result"
    }
   ],
   "source": [
    "pA_reg_results = {'Variables':variables_list,\n",
    "              'Number of Variables':num_vars_list,\n",
    "              'Score':score_list,\n",
    "              'MSE':mse_list}\n",
    "pA_reg_results_df = pd.DataFrame(pA_reg_results).sort_values('Score',ascending=False)\n",
    "pA_reg_results_df"
   ]
  },
  {
   "cell_type": "code",
   "execution_count": 92,
   "metadata": {},
   "outputs": [],
   "source": [
    "monthly_pA.to_csv('Resources/monthly_pA.csv',index=False)"
   ]
  },
  {
   "cell_type": "markdown",
   "metadata": {},
   "source": [
    "Similar to the other results, all three variables yield the best score"
   ]
  },
  {
   "cell_type": "code",
   "execution_count": null,
   "metadata": {},
   "outputs": [],
   "source": [
    "# pB analysis starts here"
   ]
  },
  {
   "cell_type": "code",
   "execution_count": 93,
   "metadata": {},
   "outputs": [
    {
     "data": {
      "image/png": "[encoded data removed]",
      "text/plain": [
       "<Figure size 432x288 with 1 Axes>"
      ]
     },
     "metadata": {
      "needs_background": "light"
     },
     "output_type": "display_data"
    }
   ],
   "source": [
    "# Look at scatter plots of each independent variable to identify any trends right away\n",
    "plt.scatter(monthly_composite['average_exhaustion'],monthly_composite['average_pB'])\n",
    "plt.title('Monthly Average pB vs Average Exhaustion')\n",
    "plt.show()"
   ]
  },
  {
   "cell_type": "code",
   "execution_count": 94,
   "metadata": {},
   "outputs": [
    {
     "data": {
      "image/png": "[encoded data removed]",
      "text/plain": [
       "<Figure size 432x288 with 1 Axes>"
      ]
     },
     "metadata": {
      "needs_background": "light"
     },
     "output_type": "display_data"
    }
   ],
   "source": [
    "plt.scatter(monthly_composite['average_sA'],monthly_composite['average_pB'])\n",
    "plt.title('Monthly Average pB vs Average sA')\n",
    "plt.show()"
   ]
  },
  {
   "cell_type": "code",
   "execution_count": 95,
   "metadata": {},
   "outputs": [
    {
     "data": {
      "image/png": "[encoded data removed]",
      "text/plain": [
       "<Figure size 432x288 with 1 Axes>"
      ]
     },
     "metadata": {
      "needs_background": "light"
     },
     "output_type": "display_data"
    }
   ],
   "source": [
    "plt.scatter(monthly_composite['average_percent_extracted_per_point'],monthly_composite['average_pB'])\n",
    "plt.title('Monthly Average pB vs Average Extracted per Point')\n",
    "plt.show()"
   ]
  },
  {
   "cell_type": "code",
   "execution_count": 103,
   "metadata": {},
   "outputs": [
    {
     "name": "stdout",
     "output_type": "stream",
     "text": [
      "average_pB ~ average_exhaustion + year_month + average_sA + 1\n",
      "0.7644428140029371\n"
     ]
    }
   ],
   "source": [
    "monthly_composite = monthly_composite[['year_month','average_exhaustion','average_sA','average_percent_extracted_per_point','average_pB']].dropna()\n",
    "monthly_sel = monthly_composite.copy()\n",
    "model = forward_selected(monthly_sel,'average_pB')\n",
    "print (model.model.formula)\n",
    "print(model.rsquared_adj)"
   ]
  },
  {
   "cell_type": "code",
   "execution_count": 104,
   "metadata": {},
   "outputs": [
    {
     "name": "stdout",
     "output_type": "stream",
     "text": [
      "(128, 3) (128, 1)\n"
     ]
    }
   ],
   "source": [
    "X = monthly_composite[['average_exhaustion','average_sA','average_percent_extracted_per_point']]\n",
    "y = monthly_composite['average_pB'].values.reshape(-1,1)\n",
    "print(X.shape,y.shape)"
   ]
  },
  {
   "cell_type": "code",
   "execution_count": 110,
   "metadata": {},
   "outputs": [],
   "source": [
    "X_train, X_test, y_train, y_test = train_test_split(X,y,random_state = 42,test_size=0.25)\n",
    "model = LinearRegression()"
   ]
  },
  {
   "cell_type": "code",
   "execution_count": 111,
   "metadata": {},
   "outputs": [
    {
     "name": "stdout",
     "output_type": "stream",
     "text": [
      "Training Score: 0.7413143734484511\n",
      "Testing Score: 0.6441075335709421\n"
     ]
    }
   ],
   "source": [
    "model.fit(X_train,y_train)\n",
    "training_score = model.score(X_train,y_train)\n",
    "testing_score = model.score(X_test,y_test)\n",
    "print(f'Training Score: {training_score}')\n",
    "print(f'Testing Score: {testing_score}')"
   ]
  },
  {
   "cell_type": "code",
   "execution_count": 112,
   "metadata": {},
   "outputs": [
    {
     "data": {
      "text/plain": [
       "Text(0.5, 1.0, 'Residual Plot')"
      ]
     },
     "execution_count": 112,
     "metadata": {},
     "output_type": "execute_result"
    },
    {
     "data": {
      "image/png": "[encoded data removed]",
      "text/plain": [
       "<Figure size 432x288 with 1 Axes>"
      ]
     },
     "metadata": {
      "needs_background": "light"
     },
     "output_type": "display_data"
    }
   ],
   "source": [
    "plt.scatter(model.predict(X_train),model.predict(X_train) - y_train, c='blue',label='Training Data')\n",
    "plt.scatter(model.predict(X_test),model.predict(X_test) - y_test, c='orange', label='Testing Data')\n",
    "plt.legend()\n",
    "plt.hlines(y=0,xmin=y.min(),xmax=y.max())\n",
    "plt.title('Residual Plot')"
   ]
  },
  {
   "cell_type": "code",
   "execution_count": 113,
   "metadata": {},
   "outputs": [
    {
     "data": {
      "text/html": [
       "<div>\n",
       "<style scoped>\n",
       "    .dataframe tbody tr th:only-of-type {\n",
       "        vertical-align: middle;\n",
       "    }\n",
       "\n",
       "    .dataframe tbody tr th {\n",
       "        vertical-align: top;\n",
       "    }\n",
       "\n",
       "    .dataframe thead th {\n",
       "        text-align: right;\n",
       "    }\n",
       "</style>\n",
       "<table border=\"1\" class=\"dataframe\">\n",
       "  <thead>\n",
       "    <tr style=\"text-align: right;\">\n",
       "      <th></th>\n",
       "      <th>year_month</th>\n",
       "      <th>average_exhaustion</th>\n",
       "      <th>average_sA</th>\n",
       "      <th>average_percent_extracted_per_point</th>\n",
       "      <th>average_pB</th>\n",
       "    </tr>\n",
       "  </thead>\n",
       "  <tbody>\n",
       "    <tr>\n",
       "      <td>90</td>\n",
       "      <td>200908</td>\n",
       "      <td>45.33</td>\n",
       "      <td>0.238</td>\n",
       "      <td>0.67</td>\n",
       "      <td>1.464125</td>\n",
       "    </tr>\n",
       "    <tr>\n",
       "      <td>91</td>\n",
       "      <td>200909</td>\n",
       "      <td>46.52</td>\n",
       "      <td>0.234</td>\n",
       "      <td>0.75</td>\n",
       "      <td>1.472000</td>\n",
       "    </tr>\n",
       "    <tr>\n",
       "      <td>92</td>\n",
       "      <td>200910</td>\n",
       "      <td>42.35</td>\n",
       "      <td>0.230</td>\n",
       "      <td>0.60</td>\n",
       "      <td>1.319250</td>\n",
       "    </tr>\n",
       "    <tr>\n",
       "      <td>93</td>\n",
       "      <td>200911</td>\n",
       "      <td>37.27</td>\n",
       "      <td>0.226</td>\n",
       "      <td>0.47</td>\n",
       "      <td>1.285053</td>\n",
       "    </tr>\n",
       "    <tr>\n",
       "      <td>94</td>\n",
       "      <td>200912</td>\n",
       "      <td>35.62</td>\n",
       "      <td>0.224</td>\n",
       "      <td>0.50</td>\n",
       "      <td>1.344667</td>\n",
       "    </tr>\n",
       "    <tr>\n",
       "      <td>...</td>\n",
       "      <td>...</td>\n",
       "      <td>...</td>\n",
       "      <td>...</td>\n",
       "      <td>...</td>\n",
       "      <td>...</td>\n",
       "    </tr>\n",
       "    <tr>\n",
       "      <td>213</td>\n",
       "      <td>201911</td>\n",
       "      <td>90.60</td>\n",
       "      <td>0.180</td>\n",
       "      <td>1.16</td>\n",
       "      <td>2.651545</td>\n",
       "    </tr>\n",
       "    <tr>\n",
       "      <td>214</td>\n",
       "      <td>201912</td>\n",
       "      <td>98.23</td>\n",
       "      <td>0.185</td>\n",
       "      <td>1.21</td>\n",
       "      <td>2.864889</td>\n",
       "    </tr>\n",
       "    <tr>\n",
       "      <td>215</td>\n",
       "      <td>202001</td>\n",
       "      <td>95.30</td>\n",
       "      <td>0.183</td>\n",
       "      <td>0.90</td>\n",
       "      <td>2.975722</td>\n",
       "    </tr>\n",
       "    <tr>\n",
       "      <td>216</td>\n",
       "      <td>202002</td>\n",
       "      <td>99.56</td>\n",
       "      <td>0.175</td>\n",
       "      <td>0.93</td>\n",
       "      <td>2.801782</td>\n",
       "    </tr>\n",
       "    <tr>\n",
       "      <td>217</td>\n",
       "      <td>202003</td>\n",
       "      <td>95.02</td>\n",
       "      <td>0.184</td>\n",
       "      <td>0.71</td>\n",
       "      <td>2.376562</td>\n",
       "    </tr>\n",
       "  </tbody>\n",
       "</table>\n",
       "<p>128 rows × 5 columns</p>\n",
       "</div>"
      ],
      "text/plain": [
       "     year_month  average_exhaustion  average_sA  \\\n",
       "90       200908               45.33       0.238   \n",
       "91       200909               46.52       0.234   \n",
       "92       200910               42.35       0.230   \n",
       "93       200911               37.27       0.226   \n",
       "94       200912               35.62       0.224   \n",
       "..          ...                 ...         ...   \n",
       "213      201911               90.60       0.180   \n",
       "214      201912               98.23       0.185   \n",
       "215      202001               95.30       0.183   \n",
       "216      202002               99.56       0.175   \n",
       "217      202003               95.02       0.184   \n",
       "\n",
       "     average_percent_extracted_per_point  average_pB  \n",
       "90                                  0.67    1.464125  \n",
       "91                                  0.75    1.472000  \n",
       "92                                  0.60    1.319250  \n",
       "93                                  0.47    1.285053  \n",
       "94                                  0.50    1.344667  \n",
       "..                                   ...         ...  \n",
       "213                                 1.16    2.651545  \n",
       "214                                 1.21    2.864889  \n",
       "215                                 0.90    2.975722  \n",
       "216                                 0.93    2.801782  \n",
       "217                                 0.71    2.376562  \n",
       "\n",
       "[128 rows x 5 columns]"
      ]
     },
     "execution_count": 113,
     "metadata": {},
     "output_type": "execute_result"
    }
   ],
   "source": [
    "monthly_pB = monthly_composite.copy()\n",
    "monthly_pB = monthly_pB[['year_month','average_exhaustion','average_sA','average_percent_extracted_per_point','average_pB']].dropna()\n",
    "monthly_pB"
   ]
  },
  {
   "cell_type": "code",
   "execution_count": 117,
   "metadata": {},
   "outputs": [],
   "source": [
    "variables_list = []\n",
    "num_vars_list = []\n",
    "score_list = []\n",
    "mse_list = []"
   ]
  },
  {
   "cell_type": "code",
   "execution_count": 118,
   "metadata": {},
   "outputs": [
    {
     "name": "stdout",
     "output_type": "stream",
     "text": [
      "(128, 3) (128, 1)\n",
      "Exhaustion, sA, Extracted per Point\n",
      "Training Score: 0.7413143734484511\n",
      "Testing Score: 0.6441075335709421\n",
      "R2 Value: [0.72295144]\n",
      "Adjusted R2 value: [0.71624865], note the difference is little due to the large number of data points vs variables\n",
      "MSE: 0.06973622559280206\n"
     ]
    }
   ],
   "source": [
    "variables_used = 'Exhaustion, sA, Extracted per Point'\n",
    "num_variables = 3\n",
    "X = monthly_pB[['average_exhaustion','average_sA','average_percent_extracted_per_point']]\n",
    "y = monthly_pB['average_pB'].values.reshape(-1,1)\n",
    "print(X.shape,y.shape)\n",
    "X_train, X_test, y_train, y_test = train_test_split(X,y,random_state = 42)\n",
    "model = LinearRegression()\n",
    "model.fit(X_train,y_train)\n",
    "training_score = model.score(X_train,y_train)\n",
    "testing_score = model.score(X_test,y_test)\n",
    "print(variables_used)\n",
    "print(f'Training Score: {training_score}')\n",
    "print(f'Testing Score: {testing_score}')\n",
    "predicted = model.predict(X)\n",
    "SS_Residual = sum((y-predicted)**2)       \n",
    "SS_Total = sum((y-np.mean(y))**2)     \n",
    "r_squared = 1 - (float(SS_Residual))/SS_Total\n",
    "adjusted_r_squared = 1 - (1-r_squared)*(len(y)-1)/(len(y)-X.shape[1]-1)\n",
    "print(f'R2 Value: {r_squared}')\n",
    "print(f'Adjusted R2 value: {adjusted_r_squared}, note the difference is little due to the large number of data points vs variables')\n",
    "from sklearn.metrics import mean_squared_error, r2_score\n",
    "print(f'MSE: {mean_squared_error(y,predicted)}')\n",
    "variables_list.append(variables_used)\n",
    "num_vars_list.append(num_variables)\n",
    "score_list.append(model.score(X,y))\n",
    "mse_list.append(mean_squared_error(y,predicted))"
   ]
  },
  {
   "cell_type": "code",
   "execution_count": 119,
   "metadata": {},
   "outputs": [
    {
     "name": "stdout",
     "output_type": "stream",
     "text": [
      "(128, 1) (128, 1)\n",
      "Exhaustion\n",
      "Training Score: 0.7248785185748112\n",
      "Testing Score: 0.6452904323093361\n"
     ]
    }
   ],
   "source": [
    "variables_used = 'Exhaustion'\n",
    "num_variables = 1\n",
    "X = monthly_pB[['average_exhaustion']]\n",
    "y = monthly_pB['average_pB'].values.reshape(-1,1)\n",
    "print(X.shape,y.shape)\n",
    "X_train, X_test, y_train, y_test = train_test_split(X,y,random_state = 42)\n",
    "model = LinearRegression()\n",
    "model.fit(X_train,y_train)\n",
    "training_score = model.score(X_train,y_train)\n",
    "testing_score = model.score(X_test,y_test)\n",
    "print(variables_used)\n",
    "print(f'Training Score: {training_score}')\n",
    "print(f'Testing Score: {testing_score}')\n",
    "variables_list.append(variables_used)\n",
    "num_vars_list.append(num_variables)\n",
    "score_list.append(model.score(X,y))\n",
    "mse_list.append(mean_squared_error(y,predicted))"
   ]
  },
  {
   "cell_type": "code",
   "execution_count": null,
   "metadata": {},
   "outputs": [],
   "source": []
  }
 ],
 "metadata": {
  "kernelspec": {
   "display_name": "Python 3.7.4 64-bit ('base': conda)",
   "language": "python",
   "name": "python37464bitbaseconda34f9e325a37b4408960ead74bb6a9fbb"
  },
  "language_info": {
   "codemirror_mode": {
    "name": "ipython",
    "version": 3
   },
   "file_extension": ".py",
   "mimetype": "text/x-python",
   "name": "python",
   "nbconvert_exporter": "python",
   "pygments_lexer": "ipython3",
   "version": "3.7.4"
  }
 },
 "nbformat": 4,
 "nbformat_minor": 2
}
