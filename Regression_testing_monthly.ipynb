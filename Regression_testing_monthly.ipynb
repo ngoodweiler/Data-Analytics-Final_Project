{
 "cells": [
  {
   "cell_type": "code",
   "execution_count": 1,
   "metadata": {},
   "outputs": [],
   "source": [
    "# Load dependencies\n",
    "import numpy as np\n",
    "import pandas as pd\n",
    "import matplotlib.pyplot as plt\n",
    "import scipy.stats as sts\n",
    "import numpy as np\n",
    "import statsmodels.formula.api as smf"
   ]
  },
  {
   "cell_type": "code",
   "execution_count": 2,
   "metadata": {},
   "outputs": [],
   "source": [
    "def forward_selected(data, response):\n",
    "    \"\"\"Linear model designed by forward selection.\n",
    "\n",
    "    Parameters:\n",
    "    -----------\n",
    "    data : pandas DataFrame with all possible predictors and response\n",
    "\n",
    "    response: string, name of response column in data\n",
    "\n",
    "    Returns:\n",
    "    --------\n",
    "    model: an \"optimal\" fitted statsmodels linear model\n",
    "           with an intercept\n",
    "           selected by forward selection\n",
    "           evaluated by adjusted R-squared\n",
    "    \"\"\"\n",
    "    remaining = set(data.columns)\n",
    "    remaining.remove(response)\n",
    "    selected = []\n",
    "    current_score, best_new_score = 0.0, 0.0\n",
    "    while remaining and current_score == best_new_score:\n",
    "        scores_with_candidates = []\n",
    "        for candidate in remaining:\n",
    "            formula = \"{} ~ {} + 1\".format(response,\n",
    "                                           ' + '.join(selected + [candidate]))\n",
    "            score = smf.ols(formula, data).fit().rsquared_adj\n",
    "            scores_with_candidates.append((score, candidate))\n",
    "        scores_with_candidates.sort()\n",
    "        best_new_score, best_candidate = scores_with_candidates.pop()\n",
    "        if current_score < best_new_score:\n",
    "            remaining.remove(best_candidate)\n",
    "            selected.append(best_candidate)\n",
    "            current_score = best_new_score\n",
    "    formula = \"{} ~ {} + 1\".format(response,\n",
    "                                   ' + '.join(selected))\n",
    "    model = smf.ols(formula, data).fit()\n",
    "    return model"
   ]
  },
  {
   "cell_type": "code",
   "execution_count": 3,
   "metadata": {},
   "outputs": [],
   "source": [
    "# Import csv files\n",
    "monthly_composite = pd.read_csv('../Data-Analytics-Final_Project/Resources/monthly_composite.csv',index_col=False)"
   ]
  },
  {
   "cell_type": "code",
   "execution_count": 4,
   "metadata": {},
   "outputs": [],
   "source": [
    "# Removing first 6 months of data due to unreliable exhaustion values\n",
    "monthly_composite = monthly_composite.iloc[7:].reset_index(drop=True)"
   ]
  },
  {
   "cell_type": "code",
   "execution_count": 6,
   "metadata": {},
   "outputs": [
    {
     "data": {
      "text/html": [
       "<div>\n",
       "<style scoped>\n",
       "    .dataframe tbody tr th:only-of-type {\n",
       "        vertical-align: middle;\n",
       "    }\n",
       "\n",
       "    .dataframe tbody tr th {\n",
       "        vertical-align: top;\n",
       "    }\n",
       "\n",
       "    .dataframe thead th {\n",
       "        text-align: right;\n",
       "    }\n",
       "</style>\n",
       "<table border=\"1\" class=\"dataframe\">\n",
       "  <thead>\n",
       "    <tr style=\"text-align: right;\">\n",
       "      <th></th>\n",
       "      <th>year_month</th>\n",
       "      <th>total_extracted</th>\n",
       "      <th>number_extract_points</th>\n",
       "      <th>average_exhaustion</th>\n",
       "      <th>average_sA</th>\n",
       "      <th>average_percent_extracted_per_point</th>\n",
       "      <th>run_days</th>\n",
       "      <th>average_extracted_per_day</th>\n",
       "      <th>average_pA</th>\n",
       "      <th>average_pB</th>\n",
       "      <th>average_pD</th>\n",
       "      <th>average_pC</th>\n",
       "    </tr>\n",
       "  </thead>\n",
       "  <tbody>\n",
       "    <tr>\n",
       "      <th>0</th>\n",
       "      <td>200201</td>\n",
       "      <td>19178.0</td>\n",
       "      <td>74.0</td>\n",
       "      <td>25.46</td>\n",
       "      <td>0.219</td>\n",
       "      <td>1.45</td>\n",
       "      <td>22</td>\n",
       "      <td>872.0</td>\n",
       "      <td>0.214</td>\n",
       "      <td>NaN</td>\n",
       "      <td>NaN</td>\n",
       "      <td>NaN</td>\n",
       "    </tr>\n",
       "    <tr>\n",
       "      <th>1</th>\n",
       "      <td>200202</td>\n",
       "      <td>18074.0</td>\n",
       "      <td>61.0</td>\n",
       "      <td>29.85</td>\n",
       "      <td>0.221</td>\n",
       "      <td>1.92</td>\n",
       "      <td>21</td>\n",
       "      <td>861.0</td>\n",
       "      <td>0.206</td>\n",
       "      <td>NaN</td>\n",
       "      <td>NaN</td>\n",
       "      <td>NaN</td>\n",
       "    </tr>\n",
       "    <tr>\n",
       "      <th>2</th>\n",
       "      <td>200203</td>\n",
       "      <td>17399.0</td>\n",
       "      <td>67.0</td>\n",
       "      <td>30.10</td>\n",
       "      <td>0.229</td>\n",
       "      <td>1.57</td>\n",
       "      <td>20</td>\n",
       "      <td>870.0</td>\n",
       "      <td>0.230</td>\n",
       "      <td>NaN</td>\n",
       "      <td>NaN</td>\n",
       "      <td>NaN</td>\n",
       "    </tr>\n",
       "    <tr>\n",
       "      <th>3</th>\n",
       "      <td>200204</td>\n",
       "      <td>23748.0</td>\n",
       "      <td>75.0</td>\n",
       "      <td>31.33</td>\n",
       "      <td>0.241</td>\n",
       "      <td>1.37</td>\n",
       "      <td>19</td>\n",
       "      <td>1250.0</td>\n",
       "      <td>0.215</td>\n",
       "      <td>NaN</td>\n",
       "      <td>NaN</td>\n",
       "      <td>NaN</td>\n",
       "    </tr>\n",
       "    <tr>\n",
       "      <th>4</th>\n",
       "      <td>200205</td>\n",
       "      <td>23976.0</td>\n",
       "      <td>79.0</td>\n",
       "      <td>37.39</td>\n",
       "      <td>0.235</td>\n",
       "      <td>1.32</td>\n",
       "      <td>21</td>\n",
       "      <td>1142.0</td>\n",
       "      <td>0.205</td>\n",
       "      <td>NaN</td>\n",
       "      <td>NaN</td>\n",
       "      <td>NaN</td>\n",
       "    </tr>\n",
       "  </tbody>\n",
       "</table>\n",
       "</div>"
      ],
      "text/plain": [
       "   year_month  total_extracted  number_extract_points  average_exhaustion  \\\n",
       "0      200201          19178.0                   74.0               25.46   \n",
       "1      200202          18074.0                   61.0               29.85   \n",
       "2      200203          17399.0                   67.0               30.10   \n",
       "3      200204          23748.0                   75.0               31.33   \n",
       "4      200205          23976.0                   79.0               37.39   \n",
       "\n",
       "   average_sA  average_percent_extracted_per_point  run_days  \\\n",
       "0       0.219                                 1.45        22   \n",
       "1       0.221                                 1.92        21   \n",
       "2       0.229                                 1.57        20   \n",
       "3       0.241                                 1.37        19   \n",
       "4       0.235                                 1.32        21   \n",
       "\n",
       "   average_extracted_per_day  average_pA  average_pB  average_pD  average_pC  \n",
       "0                      872.0       0.214         NaN         NaN         NaN  \n",
       "1                      861.0       0.206         NaN         NaN         NaN  \n",
       "2                      870.0       0.230         NaN         NaN         NaN  \n",
       "3                     1250.0       0.215         NaN         NaN         NaN  \n",
       "4                     1142.0       0.205         NaN         NaN         NaN  "
      ]
     },
     "execution_count": 6,
     "metadata": {},
     "output_type": "execute_result"
    }
   ],
   "source": [
    "monthly_composite.head()"
   ]
  },
  {
   "cell_type": "code",
   "execution_count": 11,
   "metadata": {},
   "outputs": [
    {
     "data": {
      "image/png": "[encoded data removed]",
      "text/plain": [
       "<Figure size 432x288 with 1 Axes>"
      ]
     },
     "metadata": {
      "needs_background": "light"
     },
     "output_type": "display_data"
    }
   ],
   "source": [
    "# Look at scatter plots of each independent variable to identify any trends right away\n",
    "fig, ax = plt.subplots()\n",
    "ax.scatter(monthly_composite['average_exhaustion'],monthly_composite['average_pA'])\n",
    "plt.title('Monthly Actual pA vs Average Exhaustion')\n",
    "ax.set_ylabel('Actual pA')\n",
    "ax.set_xlabel('Exhaustion')\n",
    "fig.set_size_inches(6, 4)\n",
    "fig.savefig('Images/month_pA_exhaustion.png', dpi=96)\n",
    "plt.show()"
   ]
  },
  {
   "cell_type": "code",
   "execution_count": 12,
   "metadata": {
    "scrolled": true
   },
   "outputs": [
    {
     "data": {
      "image/png": "[encoded data removed]",
      "text/plain": [
       "<Figure size 432x288 with 1 Axes>"
      ]
     },
     "metadata": {
      "needs_background": "light"
     },
     "output_type": "display_data"
    }
   ],
   "source": [
    "# Look at scatter plots of each independent variable to identify any trends right away\n",
    "fig, ax = plt.subplots()\n",
    "ax.scatter(monthly_composite['average_sA'],monthly_composite['average_pA'])\n",
    "plt.title('Monthly Actual pA vs Average sA')\n",
    "ax.set_ylabel('Actual pA')\n",
    "ax.set_xlabel('sA')\n",
    "fig.set_size_inches(6, 4)\n",
    "fig.savefig('Images/month_pA_sA.png', dpi=96)\n",
    "plt.show()"
   ]
  },
  {
   "cell_type": "code",
   "execution_count": 15,
   "metadata": {},
   "outputs": [
    {
     "data": {
      "image/png": "[encoded data removed]",
      "text/plain": [
       "<Figure size 432x288 with 1 Axes>"
      ]
     },
     "metadata": {
      "needs_background": "light"
     },
     "output_type": "display_data"
    }
   ],
   "source": [
    "# Look at scatter plots of each independent variable to identify any trends right away\n",
    "fig, ax = plt.subplots()\n",
    "ax.scatter(monthly_composite['number_extract_points'],monthly_composite['average_pA'])\n",
    "plt.title('Monthly Actual pA vs Average Number of Extract Points')\n",
    "ax.set_ylabel('Actual pA')\n",
    "ax.set_xlabel('Number of Extract Points')\n",
    "fig.set_size_inches(6, 4)\n",
    "fig.savefig('Images/month_pA_extract_pts.png', dpi=96)\n",
    "plt.show()"
   ]
  },
  {
   "cell_type": "code",
   "execution_count": 16,
   "metadata": {},
   "outputs": [],
   "source": [
    "monthly_sel = monthly_composite[['average_exhaustion','average_sA','number_extract_points','average_pA']]\n",
    "model = forward_selected(monthly_sel,'average_pA')"
   ]
  },
  {
   "cell_type": "code",
   "execution_count": 17,
   "metadata": {},
   "outputs": [
    {
     "name": "stdout",
     "output_type": "stream",
     "text": [
      "average_pA ~ average_sA + average_exhaustion + number_extract_points + 1\n"
     ]
    }
   ],
   "source": [
    "print (model.model.formula)"
   ]
  },
  {
   "cell_type": "code",
   "execution_count": 18,
   "metadata": {},
   "outputs": [
    {
     "name": "stdout",
     "output_type": "stream",
     "text": [
      "0.6516485146647062\n"
     ]
    }
   ],
   "source": [
    "print(model.rsquared_adj)"
   ]
  },
  {
   "cell_type": "code",
   "execution_count": 19,
   "metadata": {},
   "outputs": [
    {
     "name": "stdout",
     "output_type": "stream",
     "text": [
      "(218, 3) (218, 1)\n"
     ]
    }
   ],
   "source": [
    "X = monthly_composite[['average_exhaustion','average_sA','number_extract_points']]\n",
    "y = monthly_composite['average_pA'].values.reshape(-1,1)\n",
    "print(X.shape,y.shape)"
   ]
  },
  {
   "cell_type": "code",
   "execution_count": 20,
   "metadata": {},
   "outputs": [],
   "source": [
    "from sklearn.model_selection import train_test_split\n",
    "X_train, X_test, y_train, y_test = train_test_split(X,y,random_state = 3)"
   ]
  },
  {
   "cell_type": "code",
   "execution_count": 21,
   "metadata": {},
   "outputs": [],
   "source": [
    "from sklearn.linear_model import LinearRegression\n",
    "model = LinearRegression()"
   ]
  },
  {
   "cell_type": "code",
   "execution_count": 22,
   "metadata": {},
   "outputs": [
    {
     "name": "stdout",
     "output_type": "stream",
     "text": [
      "Training Score: 0.6708548003221289\n",
      "Testing Score: 0.6112673689534845\n"
     ]
    }
   ],
   "source": [
    "model.fit(X_train,y_train)\n",
    "training_score = model.score(X_train,y_train)\n",
    "testing_score = model.score(X_test,y_test)\n",
    "print(f'Training Score: {training_score}')\n",
    "print(f'Testing Score: {testing_score}')"
   ]
  },
  {
   "cell_type": "code",
   "execution_count": 23,
   "metadata": {
    "scrolled": true
   },
   "outputs": [
    {
     "data": {
      "image/png": "[encoded data removed]",
      "text/plain": [
       "<Figure size 432x288 with 1 Axes>"
      ]
     },
     "metadata": {
      "needs_background": "light"
     },
     "output_type": "display_data"
    }
   ],
   "source": [
    "fig, ax = plt.subplots()\n",
    "ax.scatter(model.predict(X_train),model.predict(X_train) - y_train, c='blue',label='Training Data')\n",
    "ax.scatter(model.predict(X_test),model.predict(X_test) - y_test, c='orange', label='Testing Data')\n",
    "plt.legend()\n",
    "plt.hlines(y=0,xmin=y.min(),xmax=y.max())\n",
    "plt.title('Residual Plot, Monthly Actual pA, 3-Variable Linear Model')\n",
    "fig.set_size_inches(6, 4)\n",
    "fig.savefig('Images/month_pA_linear_residual.png', dpi=96)\n",
    "plt.show()"
   ]
  },
  {
   "cell_type": "code",
   "execution_count": 25,
   "metadata": {},
   "outputs": [
    {
     "data": {
      "text/html": [
       "<div>\n",
       "<style scoped>\n",
       "    .dataframe tbody tr th:only-of-type {\n",
       "        vertical-align: middle;\n",
       "    }\n",
       "\n",
       "    .dataframe tbody tr th {\n",
       "        vertical-align: top;\n",
       "    }\n",
       "\n",
       "    .dataframe thead th {\n",
       "        text-align: right;\n",
       "    }\n",
       "</style>\n",
       "<table border=\"1\" class=\"dataframe\">\n",
       "  <thead>\n",
       "    <tr style=\"text-align: right;\">\n",
       "      <th></th>\n",
       "      <th>year_month</th>\n",
       "      <th>average_exhaustion</th>\n",
       "      <th>average_sA</th>\n",
       "      <th>number_extract_points</th>\n",
       "      <th>average_pA</th>\n",
       "    </tr>\n",
       "  </thead>\n",
       "  <tbody>\n",
       "    <tr>\n",
       "      <th>0</th>\n",
       "      <td>200201</td>\n",
       "      <td>25.46</td>\n",
       "      <td>0.219</td>\n",
       "      <td>74.0</td>\n",
       "      <td>0.214</td>\n",
       "    </tr>\n",
       "    <tr>\n",
       "      <th>1</th>\n",
       "      <td>200202</td>\n",
       "      <td>29.85</td>\n",
       "      <td>0.221</td>\n",
       "      <td>61.0</td>\n",
       "      <td>0.206</td>\n",
       "    </tr>\n",
       "    <tr>\n",
       "      <th>2</th>\n",
       "      <td>200203</td>\n",
       "      <td>30.10</td>\n",
       "      <td>0.229</td>\n",
       "      <td>67.0</td>\n",
       "      <td>0.230</td>\n",
       "    </tr>\n",
       "    <tr>\n",
       "      <th>3</th>\n",
       "      <td>200204</td>\n",
       "      <td>31.33</td>\n",
       "      <td>0.241</td>\n",
       "      <td>75.0</td>\n",
       "      <td>0.215</td>\n",
       "    </tr>\n",
       "    <tr>\n",
       "      <th>4</th>\n",
       "      <td>200205</td>\n",
       "      <td>37.39</td>\n",
       "      <td>0.235</td>\n",
       "      <td>79.0</td>\n",
       "      <td>0.205</td>\n",
       "    </tr>\n",
       "  </tbody>\n",
       "</table>\n",
       "</div>"
      ],
      "text/plain": [
       "   year_month  average_exhaustion  average_sA  number_extract_points  \\\n",
       "0      200201               25.46       0.219                   74.0   \n",
       "1      200202               29.85       0.221                   61.0   \n",
       "2      200203               30.10       0.229                   67.0   \n",
       "3      200204               31.33       0.241                   75.0   \n",
       "4      200205               37.39       0.235                   79.0   \n",
       "\n",
       "   average_pA  \n",
       "0       0.214  \n",
       "1       0.206  \n",
       "2       0.230  \n",
       "3       0.215  \n",
       "4       0.205  "
      ]
     },
     "execution_count": 25,
     "metadata": {},
     "output_type": "execute_result"
    }
   ],
   "source": [
    "monthly_pA = monthly_composite.copy()\n",
    "monthly_pA = monthly_pA[['year_month','average_exhaustion','average_sA','number_extract_points','average_pA']].dropna()\n",
    "monthly_pA.head()"
   ]
  },
  {
   "cell_type": "code",
   "execution_count": 26,
   "metadata": {},
   "outputs": [],
   "source": [
    "variables_list = []\n",
    "num_vars_list = []\n",
    "score_list = []\n",
    "mse_list = []"
   ]
  },
  {
   "cell_type": "code",
   "execution_count": 27,
   "metadata": {},
   "outputs": [
    {
     "name": "stdout",
     "output_type": "stream",
     "text": [
      "(218, 3) (218, 1)\n",
      "Exhaustion, sA, Number Extract Points\n",
      "Training Score: 0.6708548003221289\n",
      "Testing Score: 0.6112673689534845\n",
      "R2 Value: [0.65635044]\n",
      "Adjusted R2 value: [0.65153292]\n",
      "MSE: 0.00035745383465526014\n"
     ]
    }
   ],
   "source": [
    "variables_used = 'Exhaustion, sA, Number Extract Points'\n",
    "num_variables = 3\n",
    "X = monthly_pA[['average_exhaustion','average_sA','number_extract_points']]\n",
    "y = monthly_pA['average_pA'].values.reshape(-1,1)\n",
    "print(X.shape,y.shape)\n",
    "X_train, X_test, y_train, y_test = train_test_split(X,y,random_state = 3)\n",
    "model = LinearRegression()\n",
    "model.fit(X_train,y_train)\n",
    "training_score = model.score(X_train,y_train)\n",
    "testing_score = model.score(X_test,y_test)\n",
    "print(variables_used)\n",
    "print(f'Training Score: {training_score}')\n",
    "print(f'Testing Score: {testing_score}')\n",
    "predicted = model.predict(X)\n",
    "SS_Residual = sum((y-predicted)**2)       \n",
    "SS_Total = sum((y-np.mean(y))**2)     \n",
    "r_squared = 1 - (float(SS_Residual))/SS_Total\n",
    "adjusted_r_squared = 1 - (1-r_squared)*(len(y)-1)/(len(y)-X.shape[1]-1)\n",
    "print(f'R2 Value: {r_squared}')\n",
    "print(f'Adjusted R2 value: {adjusted_r_squared}')\n",
    "from sklearn.metrics import mean_squared_error, r2_score\n",
    "print(f'MSE: {mean_squared_error(y,predicted)}')\n",
    "variables_list.append(variables_used)\n",
    "num_vars_list.append(num_variables)\n",
    "score_list.append(model.score(X,y))\n",
    "mse_list.append(mean_squared_error(y,predicted))"
   ]
  },
  {
   "cell_type": "code",
   "execution_count": 28,
   "metadata": {},
   "outputs": [
    {
     "name": "stdout",
     "output_type": "stream",
     "text": [
      "(218, 1) (218, 1)\n",
      "Exhaustion\n",
      "Training Score: 0.3729098901842257\n",
      "Testing Score: 0.35086205759583133\n"
     ]
    }
   ],
   "source": [
    "variables_used = 'Exhaustion'\n",
    "num_variables = 1\n",
    "X = monthly_pA[['average_exhaustion']]\n",
    "y = monthly_pA['average_pA'].values.reshape(-1,1)\n",
    "print(X.shape,y.shape)\n",
    "X_train, X_test, y_train, y_test = train_test_split(X,y,random_state = 3)\n",
    "model = LinearRegression()\n",
    "model.fit(X_train,y_train)\n",
    "training_score = model.score(X_train,y_train)\n",
    "testing_score = model.score(X_test,y_test)\n",
    "print(variables_used)\n",
    "print(f'Training Score: {training_score}')\n",
    "print(f'Testing Score: {testing_score}')\n",
    "predicted = model.predict(X)\n",
    "variables_list.append(variables_used)\n",
    "num_vars_list.append(num_variables)\n",
    "score_list.append(model.score(X,y))\n",
    "mse_list.append(mean_squared_error(y,predicted))"
   ]
  },
  {
   "cell_type": "code",
   "execution_count": 29,
   "metadata": {},
   "outputs": [
    {
     "name": "stdout",
     "output_type": "stream",
     "text": [
      "(218, 1) (218, 1)\n",
      "sA\n",
      "Training Score: 0.5442251273011303\n",
      "Testing Score: 0.48995211606152084\n"
     ]
    }
   ],
   "source": [
    "variables_used = 'sA'\n",
    "num_variables = 1\n",
    "X = monthly_pA[['average_sA']]\n",
    "y = monthly_pA['average_pA'].values.reshape(-1,1)\n",
    "print(X.shape,y.shape)\n",
    "X_train, X_test, y_train, y_test = train_test_split(X,y,random_state = 3)\n",
    "model = LinearRegression()\n",
    "model.fit(X_train,y_train)\n",
    "training_score = model.score(X_train,y_train)\n",
    "testing_score = model.score(X_test,y_test)\n",
    "predicted = model.predict(X)\n",
    "print(variables_used)\n",
    "print(f'Training Score: {training_score}')\n",
    "print(f'Testing Score: {testing_score}')\n",
    "variables_list.append(variables_used)\n",
    "num_vars_list.append(num_variables)\n",
    "score_list.append(model.score(X,y))\n",
    "mse_list.append(mean_squared_error(y,predicted))"
   ]
  },
  {
   "cell_type": "code",
   "execution_count": 30,
   "metadata": {},
   "outputs": [
    {
     "name": "stdout",
     "output_type": "stream",
     "text": [
      "(218, 1) (218, 1)\n",
      "Number Extract Points\n",
      "Training Score: 0.0012662804106897685\n",
      "Testing Score: -0.03761436143189645\n"
     ]
    }
   ],
   "source": [
    "variables_used = 'Number Extract Points'\n",
    "num_variables = 1\n",
    "X = monthly_pA[['number_extract_points']]\n",
    "y = monthly_pA['average_pA'].values.reshape(-1,1)\n",
    "print(X.shape,y.shape)\n",
    "X_train, X_test, y_train, y_test = train_test_split(X,y,random_state = 3)\n",
    "model = LinearRegression()\n",
    "model.fit(X_train,y_train)\n",
    "training_score = model.score(X_train,y_train)\n",
    "testing_score = model.score(X_test,y_test)\n",
    "predicted = model.predict(X)\n",
    "print(variables_used)\n",
    "print(f'Training Score: {training_score}')\n",
    "print(f'Testing Score: {testing_score}')\n",
    "variables_list.append(variables_used)\n",
    "num_vars_list.append(num_variables)\n",
    "score_list.append(model.score(X,y))\n",
    "mse_list.append(mean_squared_error(y,predicted))"
   ]
  },
  {
   "cell_type": "code",
   "execution_count": 31,
   "metadata": {},
   "outputs": [
    {
     "name": "stdout",
     "output_type": "stream",
     "text": [
      "(218, 2) (218, 1)\n",
      "Exhaustion, sA\n",
      "Training Score: 0.6242606029881328\n",
      "Testing Score: 0.5611107674776958\n"
     ]
    }
   ],
   "source": [
    "variables_used = 'Exhaustion, sA'\n",
    "num_variables = 2\n",
    "X = monthly_pA[['average_exhaustion','average_sA']]\n",
    "y = monthly_pA['average_pA'].values.reshape(-1,1)\n",
    "print(X.shape,y.shape)\n",
    "X_train, X_test, y_train, y_test = train_test_split(X,y,random_state = 3)\n",
    "model = LinearRegression()\n",
    "model.fit(X_train,y_train)\n",
    "training_score = model.score(X_train,y_train)\n",
    "testing_score = model.score(X_test,y_test)\n",
    "predicted = model.predict(X)\n",
    "print(variables_used)\n",
    "print(f'Training Score: {training_score}')\n",
    "print(f'Testing Score: {testing_score}')\n",
    "variables_list.append(variables_used)\n",
    "num_vars_list.append(num_variables)\n",
    "score_list.append(model.score(X,y))\n",
    "mse_list.append(mean_squared_error(y,predicted))"
   ]
  },
  {
   "cell_type": "code",
   "execution_count": 32,
   "metadata": {},
   "outputs": [
    {
     "name": "stdout",
     "output_type": "stream",
     "text": [
      "(218, 2) (218, 1)\n",
      "Exhaustion, Number Extract Points\n",
      "Training Score: 0.3729404037806824\n",
      "Testing Score: 0.3515495250839451\n"
     ]
    }
   ],
   "source": [
    "variables_used = 'Exhaustion, Number Extract Points'\n",
    "num_variables = 2\n",
    "X = monthly_pA[['average_exhaustion','number_extract_points']]\n",
    "y = monthly_pA['average_pA'].values.reshape(-1,1)\n",
    "print(X.shape,y.shape)\n",
    "X_train, X_test, y_train, y_test = train_test_split(X,y,random_state = 3)\n",
    "model = LinearRegression()\n",
    "model.fit(X_train,y_train)\n",
    "training_score = model.score(X_train,y_train)\n",
    "testing_score = model.score(X_test,y_test)\n",
    "print(variables_used)\n",
    "print(f'Training Score: {training_score}')\n",
    "print(f'Testing Score: {testing_score}')\n",
    "predicted = model.predict(X)\n",
    "variables_list.append(variables_used)\n",
    "num_vars_list.append(num_variables)\n",
    "score_list.append(model.score(X,y))\n",
    "mse_list.append(mean_squared_error(y,predicted))"
   ]
  },
  {
   "cell_type": "code",
   "execution_count": 33,
   "metadata": {},
   "outputs": [
    {
     "name": "stdout",
     "output_type": "stream",
     "text": [
      "(218, 2) (218, 1)\n",
      "sA, Number Extract Points\n",
      "Training Score: 0.621922080337578\n",
      "Testing Score: 0.5597001609662715\n"
     ]
    }
   ],
   "source": [
    "variables_used = 'sA, Number Extract Points'\n",
    "num_variables = 2\n",
    "X = monthly_pA[['average_sA','number_extract_points']]\n",
    "y = monthly_pA['average_pA'].values.reshape(-1,1)\n",
    "print(X.shape,y.shape)\n",
    "X_train, X_test, y_train, y_test = train_test_split(X,y,random_state = 3)\n",
    "model = LinearRegression()\n",
    "model.fit(X_train,y_train)\n",
    "training_score = model.score(X_train,y_train)\n",
    "testing_score = model.score(X_test,y_test)\n",
    "print(variables_used)\n",
    "print(f'Training Score: {training_score}')\n",
    "print(f'Testing Score: {testing_score}')\n",
    "predicted = model.predict(X)\n",
    "variables_list.append(variables_used)\n",
    "num_vars_list.append(num_variables)\n",
    "score_list.append(model.score(X,y))\n",
    "mse_list.append(mean_squared_error(y,predicted))"
   ]
  },
  {
   "cell_type": "code",
   "execution_count": 34,
   "metadata": {
    "scrolled": true
   },
   "outputs": [
    {
     "data": {
      "text/html": [
       "<div>\n",
       "<style scoped>\n",
       "    .dataframe tbody tr th:only-of-type {\n",
       "        vertical-align: middle;\n",
       "    }\n",
       "\n",
       "    .dataframe tbody tr th {\n",
       "        vertical-align: top;\n",
       "    }\n",
       "\n",
       "    .dataframe thead th {\n",
       "        text-align: right;\n",
       "    }\n",
       "</style>\n",
       "<table border=\"1\" class=\"dataframe\">\n",
       "  <thead>\n",
       "    <tr style=\"text-align: right;\">\n",
       "      <th></th>\n",
       "      <th>Variables</th>\n",
       "      <th>Number of Variables</th>\n",
       "      <th>Score</th>\n",
       "      <th>MSE</th>\n",
       "    </tr>\n",
       "  </thead>\n",
       "  <tbody>\n",
       "    <tr>\n",
       "      <th>0</th>\n",
       "      <td>Exhaustion, sA, Number Extract Points</td>\n",
       "      <td>3</td>\n",
       "      <td>0.656350</td>\n",
       "      <td>0.000357</td>\n",
       "    </tr>\n",
       "    <tr>\n",
       "      <th>4</th>\n",
       "      <td>Exhaustion, sA</td>\n",
       "      <td>2</td>\n",
       "      <td>0.609123</td>\n",
       "      <td>0.000407</td>\n",
       "    </tr>\n",
       "    <tr>\n",
       "      <th>6</th>\n",
       "      <td>sA, Number Extract Points</td>\n",
       "      <td>2</td>\n",
       "      <td>0.607075</td>\n",
       "      <td>0.000409</td>\n",
       "    </tr>\n",
       "    <tr>\n",
       "      <th>2</th>\n",
       "      <td>sA</td>\n",
       "      <td>1</td>\n",
       "      <td>0.532370</td>\n",
       "      <td>0.000486</td>\n",
       "    </tr>\n",
       "    <tr>\n",
       "      <th>5</th>\n",
       "      <td>Exhaustion, Number Extract Points</td>\n",
       "      <td>2</td>\n",
       "      <td>0.372157</td>\n",
       "      <td>0.000653</td>\n",
       "    </tr>\n",
       "    <tr>\n",
       "      <th>1</th>\n",
       "      <td>Exhaustion</td>\n",
       "      <td>1</td>\n",
       "      <td>0.371935</td>\n",
       "      <td>0.000653</td>\n",
       "    </tr>\n",
       "    <tr>\n",
       "      <th>3</th>\n",
       "      <td>Number Extract Points</td>\n",
       "      <td>1</td>\n",
       "      <td>-0.001383</td>\n",
       "      <td>0.001042</td>\n",
       "    </tr>\n",
       "  </tbody>\n",
       "</table>\n",
       "</div>"
      ],
      "text/plain": [
       "                               Variables  Number of Variables     Score  \\\n",
       "0  Exhaustion, sA, Number Extract Points                    3  0.656350   \n",
       "4                         Exhaustion, sA                    2  0.609123   \n",
       "6              sA, Number Extract Points                    2  0.607075   \n",
       "2                                     sA                    1  0.532370   \n",
       "5      Exhaustion, Number Extract Points                    2  0.372157   \n",
       "1                             Exhaustion                    1  0.371935   \n",
       "3                  Number Extract Points                    1 -0.001383   \n",
       "\n",
       "        MSE  \n",
       "0  0.000357  \n",
       "4  0.000407  \n",
       "6  0.000409  \n",
       "2  0.000486  \n",
       "5  0.000653  \n",
       "1  0.000653  \n",
       "3  0.001042  "
      ]
     },
     "execution_count": 34,
     "metadata": {},
     "output_type": "execute_result"
    }
   ],
   "source": [
    "pA_reg_results = {'Variables':variables_list,\n",
    "              'Number of Variables':num_vars_list,\n",
    "              'Score':score_list,\n",
    "              'MSE':mse_list}\n",
    "pA_reg_results_df = pd.DataFrame(pA_reg_results).sort_values('Score',ascending=False)\n",
    "pA_reg_results_df"
   ]
  },
  {
   "cell_type": "code",
   "execution_count": 35,
   "metadata": {},
   "outputs": [],
   "source": [
    "monthly_pA.to_csv('Resources/monthly_pA.csv',index=False)"
   ]
  },
  {
   "cell_type": "markdown",
   "metadata": {},
   "source": [
    "Similar to the other results, all three variables yield the best score"
   ]
  },
  {
   "cell_type": "code",
   "execution_count": null,
   "metadata": {},
   "outputs": [],
   "source": [
    "# pB analysis starts here"
   ]
  },
  {
   "cell_type": "code",
   "execution_count": 36,
   "metadata": {
    "scrolled": false
   },
   "outputs": [
    {
     "data": {
      "image/png": "[encoded data removed]",
      "text/plain": [
       "<Figure size 432x288 with 1 Axes>"
      ]
     },
     "metadata": {
      "needs_background": "light"
     },
     "output_type": "display_data"
    }
   ],
   "source": [
    "# Look at scatter plots of each independent variable to identify any trends right away\n",
    "fig, ax = plt.subplots()\n",
    "ax.scatter(monthly_composite['average_exhaustion'],monthly_composite['average_pB'])\n",
    "plt.title('Monthly Actual pB vs Average Exhaustion')\n",
    "ax.set_ylabel('Average pB')\n",
    "ax.set_xlabel('Exhaustion')\n",
    "fig.set_size_inches(6, 4)\n",
    "fig.savefig('Images/month_pB_exhaustion.png', dpi=96)\n",
    "plt.show()"
   ]
  },
  {
   "cell_type": "code",
   "execution_count": 37,
   "metadata": {
    "scrolled": true
   },
   "outputs": [
    {
     "data": {
      "image/png": "[encoded data removed]",
      "text/plain": [
       "<Figure size 432x288 with 1 Axes>"
      ]
     },
     "metadata": {
      "needs_background": "light"
     },
     "output_type": "display_data"
    }
   ],
   "source": [
    "fig, ax = plt.subplots()\n",
    "ax.scatter(monthly_composite['average_sA'],monthly_composite['average_pB'])\n",
    "plt.title('Monthly Actual pB vs Average sA')\n",
    "ax.set_ylabel('Average pB')\n",
    "ax.set_xlabel('sA')\n",
    "fig.set_size_inches(6, 4)\n",
    "fig.savefig('Images/month_pB_sA.png', dpi=96)\n",
    "plt.show()"
   ]
  },
  {
   "cell_type": "code",
   "execution_count": 38,
   "metadata": {
    "scrolled": true
   },
   "outputs": [
    {
     "data": {
      "image/png": "[encoded data removed]",
      "text/plain": [
       "<Figure size 432x288 with 1 Axes>"
      ]
     },
     "metadata": {
      "needs_background": "light"
     },
     "output_type": "display_data"
    }
   ],
   "source": [
    "fig, ax = plt.subplots()\n",
    "ax.scatter(monthly_composite['number_extract_points'],monthly_composite['average_pB'])\n",
    "plt.title('Monthly Actual pB vs Average Number of Extract Points')\n",
    "ax.set_ylabel('Average pB')\n",
    "ax.set_xlabel('Number of Extract Points')\n",
    "fig.set_size_inches(6, 4)\n",
    "fig.savefig('Images/month_pB_extract_pts.png', dpi=96)\n",
    "plt.show()"
   ]
  },
  {
   "cell_type": "code",
   "execution_count": 62,
   "metadata": {},
   "outputs": [
    {
     "name": "stdout",
     "output_type": "stream",
     "text": [
      "average_pB ~ average_exhaustion + number_extract_points + average_sA + 1\n",
      "0.7268081605421159\n"
     ]
    }
   ],
   "source": [
    "monthly_pB = monthly_composite.copy()\n",
    "monthly_pB = monthly_pB[['average_exhaustion','average_sA','number_extract_points','average_pB']].dropna()\n",
    "monthly_sel = monthly_pB.copy()\n",
    "model = forward_selected(monthly_sel,'average_pB')\n",
    "print (model.model.formula)\n",
    "print(model.rsquared_adj)"
   ]
  },
  {
   "cell_type": "code",
   "execution_count": 63,
   "metadata": {},
   "outputs": [
    {
     "name": "stdout",
     "output_type": "stream",
     "text": [
      "(128, 3) (128, 1)\n"
     ]
    }
   ],
   "source": [
    "X = monthly_pB[['average_exhaustion','average_sA','number_extract_points']]\n",
    "y = monthly_pB['average_pB'].values.reshape(-1,1)\n",
    "print(X.shape,y.shape)"
   ]
  },
  {
   "cell_type": "code",
   "execution_count": 64,
   "metadata": {},
   "outputs": [],
   "source": [
    "X_train, X_test, y_train, y_test = train_test_split(X,y,random_state = 42,test_size=0.25)\n",
    "model = LinearRegression()"
   ]
  },
  {
   "cell_type": "code",
   "execution_count": 65,
   "metadata": {},
   "outputs": [
    {
     "name": "stdout",
     "output_type": "stream",
     "text": [
      "Training Score: 0.7504033932006411\n",
      "Testing Score: 0.6554841400098219\n"
     ]
    }
   ],
   "source": [
    "model.fit(X_train,y_train)\n",
    "training_score = model.score(X_train,y_train)\n",
    "testing_score = model.score(X_test,y_test)\n",
    "print(f'Training Score: {training_score}')\n",
    "print(f'Testing Score: {testing_score}')"
   ]
  },
  {
   "cell_type": "code",
   "execution_count": 66,
   "metadata": {},
   "outputs": [
    {
     "data": {
      "image/png": "[encoded data removed]",
      "text/plain": [
       "<Figure size 432x288 with 1 Axes>"
      ]
     },
     "metadata": {
      "needs_background": "light"
     },
     "output_type": "display_data"
    }
   ],
   "source": [
    "fig, ax = plt.subplots()\n",
    "ax.scatter(model.predict(X_train),model.predict(X_train) - y_train, c='blue',label='Training Data')\n",
    "ax.scatter(model.predict(X_test),model.predict(X_test) - y_test, c='orange', label='Testing Data')\n",
    "plt.legend()\n",
    "plt.hlines(y=0,xmin=y.min(),xmax=y.max())\n",
    "plt.title('Residual Plot, Monthly Average pB, 3-Variable Linear Model')\n",
    "fig.set_size_inches(6, 4)\n",
    "fig.savefig('Images/month_pB_linear_residual.png', dpi=96)\n",
    "plt.show()"
   ]
  },
  {
   "cell_type": "code",
   "execution_count": 86,
   "metadata": {},
   "outputs": [
    {
     "data": {
      "text/html": [
       "<div>\n",
       "<style scoped>\n",
       "    .dataframe tbody tr th:only-of-type {\n",
       "        vertical-align: middle;\n",
       "    }\n",
       "\n",
       "    .dataframe tbody tr th {\n",
       "        vertical-align: top;\n",
       "    }\n",
       "\n",
       "    .dataframe thead th {\n",
       "        text-align: right;\n",
       "    }\n",
       "</style>\n",
       "<table border=\"1\" class=\"dataframe\">\n",
       "  <thead>\n",
       "    <tr style=\"text-align: right;\">\n",
       "      <th></th>\n",
       "      <th>year_month</th>\n",
       "      <th>average_exhaustion</th>\n",
       "      <th>average_sA</th>\n",
       "      <th>number_extract_points</th>\n",
       "      <th>average_pB</th>\n",
       "    </tr>\n",
       "  </thead>\n",
       "  <tbody>\n",
       "    <tr>\n",
       "      <th>90</th>\n",
       "      <td>200908</td>\n",
       "      <td>45.33</td>\n",
       "      <td>0.238</td>\n",
       "      <td>152.0</td>\n",
       "      <td>1.464125</td>\n",
       "    </tr>\n",
       "    <tr>\n",
       "      <th>91</th>\n",
       "      <td>200909</td>\n",
       "      <td>46.52</td>\n",
       "      <td>0.234</td>\n",
       "      <td>141.0</td>\n",
       "      <td>1.472000</td>\n",
       "    </tr>\n",
       "    <tr>\n",
       "      <th>92</th>\n",
       "      <td>200910</td>\n",
       "      <td>42.35</td>\n",
       "      <td>0.230</td>\n",
       "      <td>174.0</td>\n",
       "      <td>1.319250</td>\n",
       "    </tr>\n",
       "    <tr>\n",
       "      <th>93</th>\n",
       "      <td>200911</td>\n",
       "      <td>37.27</td>\n",
       "      <td>0.226</td>\n",
       "      <td>215.0</td>\n",
       "      <td>1.285053</td>\n",
       "    </tr>\n",
       "    <tr>\n",
       "      <th>94</th>\n",
       "      <td>200912</td>\n",
       "      <td>35.62</td>\n",
       "      <td>0.224</td>\n",
       "      <td>201.0</td>\n",
       "      <td>1.344667</td>\n",
       "    </tr>\n",
       "  </tbody>\n",
       "</table>\n",
       "</div>"
      ],
      "text/plain": [
       "    year_month  average_exhaustion  average_sA  number_extract_points  \\\n",
       "90      200908               45.33       0.238                  152.0   \n",
       "91      200909               46.52       0.234                  141.0   \n",
       "92      200910               42.35       0.230                  174.0   \n",
       "93      200911               37.27       0.226                  215.0   \n",
       "94      200912               35.62       0.224                  201.0   \n",
       "\n",
       "    average_pB  \n",
       "90    1.464125  \n",
       "91    1.472000  \n",
       "92    1.319250  \n",
       "93    1.285053  \n",
       "94    1.344667  "
      ]
     },
     "execution_count": 86,
     "metadata": {},
     "output_type": "execute_result"
    }
   ],
   "source": [
    "monthly_pB = monthly_composite.copy()\n",
    "monthly_pB = monthly_pB[['year_month','average_exhaustion','average_sA','number_extract_points','average_pB']].dropna()\n",
    "monthly_pB.head()"
   ]
  },
  {
   "cell_type": "code",
   "execution_count": 48,
   "metadata": {},
   "outputs": [],
   "source": [
    "variables_list = []\n",
    "num_vars_list = []\n",
    "score_list = []\n",
    "mse_list = []"
   ]
  },
  {
   "cell_type": "code",
   "execution_count": 49,
   "metadata": {},
   "outputs": [
    {
     "name": "stdout",
     "output_type": "stream",
     "text": [
      "(128, 3) (128, 1)\n",
      "Exhaustion, sA, Number Extract Points\n",
      "Training Score: 0.7504033932006411\n",
      "Testing Score: 0.6554841400098219\n",
      "R2 Value: [0.73245076]\n",
      "Adjusted R2 value: [0.7259778]\n",
      "MSE: 0.06734513989875783\n"
     ]
    }
   ],
   "source": [
    "variables_used = 'Exhaustion, sA, Number Extract Points'\n",
    "num_variables = 3\n",
    "X = monthly_pB[['average_exhaustion','average_sA','number_extract_points']]\n",
    "y = monthly_pB['average_pB'].values.reshape(-1,1)\n",
    "print(X.shape,y.shape)\n",
    "X_train, X_test, y_train, y_test = train_test_split(X,y,random_state = 42)\n",
    "model = LinearRegression()\n",
    "model.fit(X_train,y_train)\n",
    "training_score = model.score(X_train,y_train)\n",
    "testing_score = model.score(X_test,y_test)\n",
    "print(variables_used)\n",
    "print(f'Training Score: {training_score}')\n",
    "print(f'Testing Score: {testing_score}')\n",
    "predicted = model.predict(X)\n",
    "SS_Residual = sum((y-predicted)**2)       \n",
    "SS_Total = sum((y-np.mean(y))**2)     \n",
    "r_squared = 1 - (float(SS_Residual))/SS_Total\n",
    "adjusted_r_squared = 1 - (1-r_squared)*(len(y)-1)/(len(y)-X.shape[1]-1)\n",
    "print(f'R2 Value: {r_squared}')\n",
    "print(f'Adjusted R2 value: {adjusted_r_squared}')\n",
    "from sklearn.metrics import mean_squared_error, r2_score\n",
    "print(f'MSE: {mean_squared_error(y,predicted)}')\n",
    "variables_list.append(variables_used)\n",
    "num_vars_list.append(num_variables)\n",
    "score_list.append(model.score(X,y))\n",
    "mse_list.append(mean_squared_error(y,predicted))"
   ]
  },
  {
   "cell_type": "code",
   "execution_count": 50,
   "metadata": {},
   "outputs": [
    {
     "name": "stdout",
     "output_type": "stream",
     "text": [
      "(128, 1) (128, 1)\n",
      "Exhaustion\n",
      "Training Score: 0.7248785185748112\n",
      "Testing Score: 0.6452904323093361\n"
     ]
    }
   ],
   "source": [
    "variables_used = 'Exhaustion'\n",
    "num_variables = 1\n",
    "X = monthly_pB[['average_exhaustion']]\n",
    "y = monthly_pB['average_pB'].values.reshape(-1,1)\n",
    "print(X.shape,y.shape)\n",
    "X_train, X_test, y_train, y_test = train_test_split(X,y,random_state = 42)\n",
    "model = LinearRegression()\n",
    "model.fit(X_train,y_train)\n",
    "training_score = model.score(X_train,y_train)\n",
    "testing_score = model.score(X_test,y_test)\n",
    "print(variables_used)\n",
    "print(f'Training Score: {training_score}')\n",
    "print(f'Testing Score: {testing_score}')\n",
    "predicted = model.predict(X)\n",
    "variables_list.append(variables_used)\n",
    "num_vars_list.append(num_variables)\n",
    "score_list.append(model.score(X,y))\n",
    "mse_list.append(mean_squared_error(y,predicted))"
   ]
  },
  {
   "cell_type": "code",
   "execution_count": 51,
   "metadata": {},
   "outputs": [
    {
     "name": "stdout",
     "output_type": "stream",
     "text": [
      "(128, 1) (128, 1)\n",
      "sA\n",
      "Training Score: 0.2646832294620409\n",
      "Testing Score: 0.21330278568291539\n"
     ]
    }
   ],
   "source": [
    "variables_used = 'sA'\n",
    "num_variables = 1\n",
    "X = monthly_pB[['average_sA']]\n",
    "y = monthly_pB['average_pB'].values.reshape(-1,1)\n",
    "print(X.shape,y.shape)\n",
    "X_train, X_test, y_train, y_test = train_test_split(X,y,random_state = 42)\n",
    "model = LinearRegression()\n",
    "model.fit(X_train,y_train)\n",
    "training_score = model.score(X_train,y_train)\n",
    "testing_score = model.score(X_test,y_test)\n",
    "print(variables_used)\n",
    "print(f'Training Score: {training_score}')\n",
    "print(f'Testing Score: {testing_score}')\n",
    "predicted = model.predict(X)\n",
    "variables_list.append(variables_used)\n",
    "num_vars_list.append(num_variables)\n",
    "score_list.append(model.score(X,y))\n",
    "mse_list.append(mean_squared_error(y,predicted))"
   ]
  },
  {
   "cell_type": "code",
   "execution_count": 52,
   "metadata": {},
   "outputs": [
    {
     "name": "stdout",
     "output_type": "stream",
     "text": [
      "(128, 1) (128, 1)\n",
      "Number Extract Points\n",
      "Training Score: 0.23183440050620763\n",
      "Testing Score: 0.06199883982266497\n"
     ]
    }
   ],
   "source": [
    "variables_used = 'Number Extract Points'\n",
    "num_variables = 1\n",
    "X = monthly_pB[['number_extract_points']]\n",
    "y = monthly_pB['average_pB'].values.reshape(-1,1)\n",
    "print(X.shape,y.shape)\n",
    "X_train, X_test, y_train, y_test = train_test_split(X,y,random_state = 42)\n",
    "model = LinearRegression()\n",
    "model.fit(X_train,y_train)\n",
    "training_score = model.score(X_train,y_train)\n",
    "testing_score = model.score(X_test,y_test)\n",
    "print(variables_used)\n",
    "print(f'Training Score: {training_score}')\n",
    "print(f'Testing Score: {testing_score}')\n",
    "predicted = model.predict(X)\n",
    "variables_list.append(variables_used)\n",
    "num_vars_list.append(num_variables)\n",
    "score_list.append(model.score(X,y))\n",
    "mse_list.append(mean_squared_error(y,predicted))"
   ]
  },
  {
   "cell_type": "code",
   "execution_count": 53,
   "metadata": {},
   "outputs": [
    {
     "name": "stdout",
     "output_type": "stream",
     "text": [
      "(128, 2) (128, 1)\n",
      "Exhaustion, sA\n",
      "Training Score: 0.7261689688576154\n",
      "Testing Score: 0.647908177995038\n"
     ]
    }
   ],
   "source": [
    "variables_used = 'Exhaustion, sA'\n",
    "num_variables = 2\n",
    "X = monthly_pB[['average_exhaustion','average_sA']]\n",
    "y = monthly_pB['average_pB'].values.reshape(-1,1)\n",
    "print(X.shape,y.shape)\n",
    "X_train, X_test, y_train, y_test = train_test_split(X,y,random_state = 42)\n",
    "model = LinearRegression()\n",
    "model.fit(X_train,y_train)\n",
    "training_score = model.score(X_train,y_train)\n",
    "testing_score = model.score(X_test,y_test)\n",
    "print(variables_used)\n",
    "print(f'Training Score: {training_score}')\n",
    "print(f'Testing Score: {testing_score}')\n",
    "predicted = model.predict(X)\n",
    "variables_list.append(variables_used)\n",
    "num_vars_list.append(num_variables)\n",
    "score_list.append(model.score(X,y))\n",
    "mse_list.append(mean_squared_error(y,predicted))"
   ]
  },
  {
   "cell_type": "code",
   "execution_count": 54,
   "metadata": {},
   "outputs": [
    {
     "name": "stdout",
     "output_type": "stream",
     "text": [
      "(128, 2) (128, 1)\n",
      "Exhaustion, Number Extract Points\n",
      "Training Score: 0.7454836040919096\n",
      "Testing Score: 0.6592143362727508\n"
     ]
    }
   ],
   "source": [
    "variables_used = 'Exhaustion, Number Extract Points'\n",
    "num_variables = 2\n",
    "X = monthly_pB[['average_exhaustion','number_extract_points']]\n",
    "y = monthly_pB['average_pB'].values.reshape(-1,1)\n",
    "print(X.shape,y.shape)\n",
    "X_train, X_test, y_train, y_test = train_test_split(X,y,random_state = 42)\n",
    "model = LinearRegression()\n",
    "model.fit(X_train,y_train)\n",
    "training_score = model.score(X_train,y_train)\n",
    "testing_score = model.score(X_test,y_test)\n",
    "print(variables_used)\n",
    "print(f'Training Score: {training_score}')\n",
    "print(f'Testing Score: {testing_score}')\n",
    "predicted = model.predict(X)\n",
    "variables_list.append(variables_used)\n",
    "num_vars_list.append(num_variables)\n",
    "score_list.append(model.score(X,y))\n",
    "mse_list.append(mean_squared_error(y,predicted))"
   ]
  },
  {
   "cell_type": "code",
   "execution_count": 55,
   "metadata": {},
   "outputs": [
    {
     "name": "stdout",
     "output_type": "stream",
     "text": [
      "(128, 2) (128, 1)\n",
      "sA, Number Extract Points\n",
      "Training Score: 0.2925213000373158\n",
      "Testing Score: 0.19835093330903175\n"
     ]
    }
   ],
   "source": [
    "variables_used = 'sA, Number Extract Points'\n",
    "num_variables = 2\n",
    "X = monthly_pB[['average_sA','number_extract_points']]\n",
    "y = monthly_pB['average_pB'].values.reshape(-1,1)\n",
    "print(X.shape,y.shape)\n",
    "X_train, X_test, y_train, y_test = train_test_split(X,y,random_state = 42)\n",
    "model = LinearRegression()\n",
    "model.fit(X_train,y_train)\n",
    "training_score = model.score(X_train,y_train)\n",
    "testing_score = model.score(X_test,y_test)\n",
    "print(variables_used)\n",
    "print(f'Training Score: {training_score}')\n",
    "print(f'Testing Score: {testing_score}')\n",
    "predicted = model.predict(X)\n",
    "variables_list.append(variables_used)\n",
    "num_vars_list.append(num_variables)\n",
    "score_list.append(model.score(X,y))\n",
    "mse_list.append(mean_squared_error(y,predicted))"
   ]
  },
  {
   "cell_type": "code",
   "execution_count": 56,
   "metadata": {
    "scrolled": true
   },
   "outputs": [
    {
     "data": {
      "text/html": [
       "<div>\n",
       "<style scoped>\n",
       "    .dataframe tbody tr th:only-of-type {\n",
       "        vertical-align: middle;\n",
       "    }\n",
       "\n",
       "    .dataframe tbody tr th {\n",
       "        vertical-align: top;\n",
       "    }\n",
       "\n",
       "    .dataframe thead th {\n",
       "        text-align: right;\n",
       "    }\n",
       "</style>\n",
       "<table border=\"1\" class=\"dataframe\">\n",
       "  <thead>\n",
       "    <tr style=\"text-align: right;\">\n",
       "      <th></th>\n",
       "      <th>Variables</th>\n",
       "      <th>Number of Variables</th>\n",
       "      <th>Score</th>\n",
       "      <th>MSE</th>\n",
       "    </tr>\n",
       "  </thead>\n",
       "  <tbody>\n",
       "    <tr>\n",
       "      <th>0</th>\n",
       "      <td>Exhaustion, sA, Number Extract Points</td>\n",
       "      <td>3</td>\n",
       "      <td>0.732451</td>\n",
       "      <td>0.067345</td>\n",
       "    </tr>\n",
       "    <tr>\n",
       "      <th>5</th>\n",
       "      <td>Exhaustion, Number Extract Points</td>\n",
       "      <td>2</td>\n",
       "      <td>0.729368</td>\n",
       "      <td>0.068121</td>\n",
       "    </tr>\n",
       "    <tr>\n",
       "      <th>4</th>\n",
       "      <td>Exhaustion, sA</td>\n",
       "      <td>2</td>\n",
       "      <td>0.711862</td>\n",
       "      <td>0.072528</td>\n",
       "    </tr>\n",
       "    <tr>\n",
       "      <th>1</th>\n",
       "      <td>Exhaustion</td>\n",
       "      <td>1</td>\n",
       "      <td>0.710305</td>\n",
       "      <td>0.072920</td>\n",
       "    </tr>\n",
       "    <tr>\n",
       "      <th>6</th>\n",
       "      <td>sA, Number Extract Points</td>\n",
       "      <td>2</td>\n",
       "      <td>0.278056</td>\n",
       "      <td>0.181721</td>\n",
       "    </tr>\n",
       "    <tr>\n",
       "      <th>2</th>\n",
       "      <td>sA</td>\n",
       "      <td>1</td>\n",
       "      <td>0.259332</td>\n",
       "      <td>0.186434</td>\n",
       "    </tr>\n",
       "    <tr>\n",
       "      <th>3</th>\n",
       "      <td>Number Extract Points</td>\n",
       "      <td>1</td>\n",
       "      <td>0.202052</td>\n",
       "      <td>0.200852</td>\n",
       "    </tr>\n",
       "  </tbody>\n",
       "</table>\n",
       "</div>"
      ],
      "text/plain": [
       "                               Variables  Number of Variables     Score  \\\n",
       "0  Exhaustion, sA, Number Extract Points                    3  0.732451   \n",
       "5      Exhaustion, Number Extract Points                    2  0.729368   \n",
       "4                         Exhaustion, sA                    2  0.711862   \n",
       "1                             Exhaustion                    1  0.710305   \n",
       "6              sA, Number Extract Points                    2  0.278056   \n",
       "2                                     sA                    1  0.259332   \n",
       "3                  Number Extract Points                    1  0.202052   \n",
       "\n",
       "        MSE  \n",
       "0  0.067345  \n",
       "5  0.068121  \n",
       "4  0.072528  \n",
       "1  0.072920  \n",
       "6  0.181721  \n",
       "2  0.186434  \n",
       "3  0.200852  "
      ]
     },
     "execution_count": 56,
     "metadata": {},
     "output_type": "execute_result"
    }
   ],
   "source": [
    "pB_reg_results = {'Variables':variables_list,\n",
    "              'Number of Variables':num_vars_list,\n",
    "              'Score':score_list,\n",
    "              'MSE':mse_list}\n",
    "pB_reg_results_df = pd.DataFrame(pB_reg_results).sort_values('Score',ascending=False)\n",
    "pB_reg_results_df"
   ]
  },
  {
   "cell_type": "code",
   "execution_count": 87,
   "metadata": {},
   "outputs": [],
   "source": [
    "monthly_pB.to_csv('Resources/monthly_pB.csv',index=False)"
   ]
  },
  {
   "cell_type": "code",
   "execution_count": null,
   "metadata": {},
   "outputs": [],
   "source": [
    "#pC only has 32 data points in this set, there is not enough for a valid regression, therefor monthly pC analysis will be skipped"
   ]
  },
  {
   "cell_type": "code",
   "execution_count": null,
   "metadata": {},
   "outputs": [],
   "source": [
    "# pD analysis begins here"
   ]
  },
  {
   "cell_type": "code",
   "execution_count": 58,
   "metadata": {},
   "outputs": [
    {
     "data": {
      "image/png": "[encoded data removed]",
      "text/plain": [
       "<Figure size 432x288 with 1 Axes>"
      ]
     },
     "metadata": {
      "needs_background": "light"
     },
     "output_type": "display_data"
    }
   ],
   "source": [
    "# Look at scatter plots of each independent variable to identify any trends right away\n",
    "fig, ax = plt.subplots()\n",
    "ax.scatter(monthly_composite['average_exhaustion'],monthly_composite['average_pD'])\n",
    "plt.title('Monthly Actual pD vs Average Exhaustion')\n",
    "ax.set_ylabel('Average pD')\n",
    "ax.set_xlabel('Exhaustion')\n",
    "fig.set_size_inches(6, 4)\n",
    "fig.savefig('Images/month_pD_exhaustion.png', dpi=96)\n",
    "plt.show()"
   ]
  },
  {
   "cell_type": "code",
   "execution_count": 59,
   "metadata": {
    "scrolled": true
   },
   "outputs": [
    {
     "data": {
      "image/png": "[encoded data removed]",
      "text/plain": [
       "<Figure size 432x288 with 1 Axes>"
      ]
     },
     "metadata": {
      "needs_background": "light"
     },
     "output_type": "display_data"
    }
   ],
   "source": [
    "fig, ax = plt.subplots()\n",
    "ax.scatter(monthly_composite['average_sA'],monthly_composite['average_pD'])\n",
    "plt.title('Monthly Actual pD vs Average sA')\n",
    "ax.set_ylabel('Average pD')\n",
    "ax.set_xlabel('sA')\n",
    "fig.set_size_inches(6, 4)\n",
    "fig.savefig('Images/month_pD_sA.png', dpi=96)\n",
    "plt.show()"
   ]
  },
  {
   "cell_type": "code",
   "execution_count": 60,
   "metadata": {
    "scrolled": true
   },
   "outputs": [
    {
     "data": {
      "image/png": "[encoded data removed]",
      "text/plain": [
       "<Figure size 432x288 with 1 Axes>"
      ]
     },
     "metadata": {
      "needs_background": "light"
     },
     "output_type": "display_data"
    }
   ],
   "source": [
    "fig, ax = plt.subplots()\n",
    "ax.scatter(monthly_composite['number_extract_points'],monthly_composite['average_pD'])\n",
    "plt.title('Monthly Actual pD vs Average Number of Extract Points')\n",
    "ax.set_ylabel('Average pD')\n",
    "ax.set_xlabel('Number of Extract Points')\n",
    "fig.set_size_inches(6, 4)\n",
    "fig.savefig('Images/month_pD_extract_pts.png', dpi=96)\n",
    "plt.show()"
   ]
  },
  {
   "cell_type": "code",
   "execution_count": 67,
   "metadata": {},
   "outputs": [
    {
     "name": "stdout",
     "output_type": "stream",
     "text": [
      "average_pD ~ average_sA + number_extract_points + average_exhaustion + 1\n",
      "0.1630526379891979\n"
     ]
    }
   ],
   "source": [
    "monthly_pD = monthly_composite.copy()\n",
    "monthly_pD = monthly_pD[['average_exhaustion','average_sA','number_extract_points','average_pD']].dropna()\n",
    "monthly_sel = monthly_pD.copy()\n",
    "model = forward_selected(monthly_sel,'average_pD')\n",
    "print (model.model.formula)\n",
    "print(model.rsquared_adj)"
   ]
  },
  {
   "cell_type": "code",
   "execution_count": 68,
   "metadata": {},
   "outputs": [
    {
     "name": "stdout",
     "output_type": "stream",
     "text": [
      "(128, 3) (128, 1)\n"
     ]
    }
   ],
   "source": [
    "X = monthly_pD[['average_exhaustion','average_sA','number_extract_points']]\n",
    "y = monthly_pD['average_pD'].values.reshape(-1,1)\n",
    "print(X.shape,y.shape)"
   ]
  },
  {
   "cell_type": "code",
   "execution_count": 73,
   "metadata": {},
   "outputs": [],
   "source": [
    "X_train, X_test, y_train, y_test = train_test_split(X,y,random_state = 33,test_size=0.25)\n",
    "model = LinearRegression()"
   ]
  },
  {
   "cell_type": "code",
   "execution_count": 74,
   "metadata": {},
   "outputs": [
    {
     "name": "stdout",
     "output_type": "stream",
     "text": [
      "Training Score: 0.17527100364912296\n",
      "Testing Score: 0.1455709569058129\n"
     ]
    }
   ],
   "source": [
    "model.fit(X_train,y_train)\n",
    "training_score = model.score(X_train,y_train)\n",
    "testing_score = model.score(X_test,y_test)\n",
    "print(f'Training Score: {training_score}')\n",
    "print(f'Testing Score: {testing_score}')"
   ]
  },
  {
   "cell_type": "code",
   "execution_count": 75,
   "metadata": {},
   "outputs": [
    {
     "data": {
      "image/png": "[encoded data removed]",
      "text/plain": [
       "<Figure size 432x288 with 1 Axes>"
      ]
     },
     "metadata": {
      "needs_background": "light"
     },
     "output_type": "display_data"
    }
   ],
   "source": [
    "fig, ax = plt.subplots()\n",
    "ax.scatter(model.predict(X_train),model.predict(X_train) - y_train, c='blue',label='Training Data')\n",
    "ax.scatter(model.predict(X_test),model.predict(X_test) - y_test, c='orange', label='Testing Data')\n",
    "plt.legend()\n",
    "plt.hlines(y=0,xmin=y.min(),xmax=y.max())\n",
    "plt.title('Residual Plot, Monthly Average pD, 3-Variable Linear Model')\n",
    "fig.set_size_inches(6, 4)\n",
    "fig.savefig('Images/month_pD_linear_residual.png', dpi=96)\n",
    "plt.show()"
   ]
  },
  {
   "cell_type": "code",
   "execution_count": 88,
   "metadata": {},
   "outputs": [
    {
     "data": {
      "text/html": [
       "<div>\n",
       "<style scoped>\n",
       "    .dataframe tbody tr th:only-of-type {\n",
       "        vertical-align: middle;\n",
       "    }\n",
       "\n",
       "    .dataframe tbody tr th {\n",
       "        vertical-align: top;\n",
       "    }\n",
       "\n",
       "    .dataframe thead th {\n",
       "        text-align: right;\n",
       "    }\n",
       "</style>\n",
       "<table border=\"1\" class=\"dataframe\">\n",
       "  <thead>\n",
       "    <tr style=\"text-align: right;\">\n",
       "      <th></th>\n",
       "      <th>year_month</th>\n",
       "      <th>average_exhaustion</th>\n",
       "      <th>average_sA</th>\n",
       "      <th>number_extract_points</th>\n",
       "      <th>average_pD</th>\n",
       "    </tr>\n",
       "  </thead>\n",
       "  <tbody>\n",
       "    <tr>\n",
       "      <th>90</th>\n",
       "      <td>200908</td>\n",
       "      <td>45.33</td>\n",
       "      <td>0.238</td>\n",
       "      <td>152.0</td>\n",
       "      <td>0.017667</td>\n",
       "    </tr>\n",
       "    <tr>\n",
       "      <th>91</th>\n",
       "      <td>200909</td>\n",
       "      <td>46.52</td>\n",
       "      <td>0.234</td>\n",
       "      <td>141.0</td>\n",
       "      <td>0.018667</td>\n",
       "    </tr>\n",
       "    <tr>\n",
       "      <th>92</th>\n",
       "      <td>200910</td>\n",
       "      <td>42.35</td>\n",
       "      <td>0.230</td>\n",
       "      <td>174.0</td>\n",
       "      <td>0.015900</td>\n",
       "    </tr>\n",
       "    <tr>\n",
       "      <th>93</th>\n",
       "      <td>200911</td>\n",
       "      <td>37.27</td>\n",
       "      <td>0.226</td>\n",
       "      <td>215.0</td>\n",
       "      <td>0.016556</td>\n",
       "    </tr>\n",
       "    <tr>\n",
       "      <th>94</th>\n",
       "      <td>200912</td>\n",
       "      <td>35.62</td>\n",
       "      <td>0.224</td>\n",
       "      <td>201.0</td>\n",
       "      <td>0.016238</td>\n",
       "    </tr>\n",
       "  </tbody>\n",
       "</table>\n",
       "</div>"
      ],
      "text/plain": [
       "    year_month  average_exhaustion  average_sA  number_extract_points  \\\n",
       "90      200908               45.33       0.238                  152.0   \n",
       "91      200909               46.52       0.234                  141.0   \n",
       "92      200910               42.35       0.230                  174.0   \n",
       "93      200911               37.27       0.226                  215.0   \n",
       "94      200912               35.62       0.224                  201.0   \n",
       "\n",
       "    average_pD  \n",
       "90    0.017667  \n",
       "91    0.018667  \n",
       "92    0.015900  \n",
       "93    0.016556  \n",
       "94    0.016238  "
      ]
     },
     "execution_count": 88,
     "metadata": {},
     "output_type": "execute_result"
    }
   ],
   "source": [
    "monthly_pD = monthly_composite.copy()\n",
    "monthly_pD = monthly_pD[['year_month','average_exhaustion','average_sA','number_extract_points','average_pD']].dropna()\n",
    "monthly_pD.head()"
   ]
  },
  {
   "cell_type": "code",
   "execution_count": 76,
   "metadata": {},
   "outputs": [],
   "source": [
    "variables_list = []\n",
    "num_vars_list = []\n",
    "score_list = []\n",
    "mse_list = []"
   ]
  },
  {
   "cell_type": "code",
   "execution_count": 77,
   "metadata": {},
   "outputs": [
    {
     "name": "stdout",
     "output_type": "stream",
     "text": [
      "(128, 3) (128, 1)\n",
      "Exhaustion, sA, Number Extract Points\n",
      "Training Score: 0.17805123428490555\n",
      "Testing Score: 0.19332973168297585\n",
      "R2 Value: [0.18207021]\n",
      "Adjusted R2 value: [0.16228159]\n",
      "MSE: 1.1614269828463315e-05\n"
     ]
    }
   ],
   "source": [
    "variables_used = 'Exhaustion, sA, Number Extract Points'\n",
    "num_variables = 3\n",
    "X = monthly_pD[['average_exhaustion','average_sA','number_extract_points']]\n",
    "y = monthly_pD['average_pD'].values.reshape(-1,1)\n",
    "print(X.shape,y.shape)\n",
    "X_train, X_test, y_train, y_test = train_test_split(X,y,random_state = 42)\n",
    "model = LinearRegression()\n",
    "model.fit(X_train,y_train)\n",
    "training_score = model.score(X_train,y_train)\n",
    "testing_score = model.score(X_test,y_test)\n",
    "print(variables_used)\n",
    "print(f'Training Score: {training_score}')\n",
    "print(f'Testing Score: {testing_score}')\n",
    "predicted = model.predict(X)\n",
    "SS_Residual = sum((y-predicted)**2)       \n",
    "SS_Total = sum((y-np.mean(y))**2)     \n",
    "r_squared = 1 - (float(SS_Residual))/SS_Total\n",
    "adjusted_r_squared = 1 - (1-r_squared)*(len(y)-1)/(len(y)-X.shape[1]-1)\n",
    "print(f'R2 Value: {r_squared}')\n",
    "print(f'Adjusted R2 value: {adjusted_r_squared}')\n",
    "from sklearn.metrics import mean_squared_error, r2_score\n",
    "print(f'MSE: {mean_squared_error(y,predicted)}')\n",
    "variables_list.append(variables_used)\n",
    "num_vars_list.append(num_variables)\n",
    "score_list.append(model.score(X,y))\n",
    "mse_list.append(mean_squared_error(y,predicted))"
   ]
  },
  {
   "cell_type": "code",
   "execution_count": 78,
   "metadata": {},
   "outputs": [
    {
     "name": "stdout",
     "output_type": "stream",
     "text": [
      "(128, 1) (128, 1)\n",
      "Exhaustion\n",
      "Training Score: 0.007221179155138647\n",
      "Testing Score: 0.019925127346603677\n"
     ]
    }
   ],
   "source": [
    "variables_used = 'Exhaustion'\n",
    "num_variables = 1\n",
    "X = monthly_pD[['average_exhaustion']]\n",
    "y = monthly_pD['average_pD'].values.reshape(-1,1)\n",
    "print(X.shape,y.shape)\n",
    "X_train, X_test, y_train, y_test = train_test_split(X,y,random_state = 42)\n",
    "model = LinearRegression()\n",
    "model.fit(X_train,y_train)\n",
    "training_score = model.score(X_train,y_train)\n",
    "testing_score = model.score(X_test,y_test)\n",
    "print(variables_used)\n",
    "print(f'Training Score: {training_score}')\n",
    "print(f'Testing Score: {testing_score}')\n",
    "predicted = model.predict(X)\n",
    "variables_list.append(variables_used)\n",
    "num_vars_list.append(num_variables)\n",
    "score_list.append(model.score(X,y))\n",
    "mse_list.append(mean_squared_error(y,predicted))"
   ]
  },
  {
   "cell_type": "code",
   "execution_count": 79,
   "metadata": {},
   "outputs": [
    {
     "name": "stdout",
     "output_type": "stream",
     "text": [
      "(128, 1) (128, 1)\n",
      "sA\n",
      "Training Score: 0.132308058607149\n",
      "Testing Score: 0.18023015684682608\n"
     ]
    }
   ],
   "source": [
    "variables_used = 'sA'\n",
    "num_variables = 1\n",
    "X = monthly_pD[['average_sA']]\n",
    "y = monthly_pD['average_pD'].values.reshape(-1,1)\n",
    "print(X.shape,y.shape)\n",
    "X_train, X_test, y_train, y_test = train_test_split(X,y,random_state = 42)\n",
    "model = LinearRegression()\n",
    "model.fit(X_train,y_train)\n",
    "training_score = model.score(X_train,y_train)\n",
    "testing_score = model.score(X_test,y_test)\n",
    "print(variables_used)\n",
    "print(f'Training Score: {training_score}')\n",
    "print(f'Testing Score: {testing_score}')\n",
    "predicted = model.predict(X)\n",
    "variables_list.append(variables_used)\n",
    "num_vars_list.append(num_variables)\n",
    "score_list.append(model.score(X,y))\n",
    "mse_list.append(mean_squared_error(y,predicted))"
   ]
  },
  {
   "cell_type": "code",
   "execution_count": 80,
   "metadata": {},
   "outputs": [
    {
     "name": "stdout",
     "output_type": "stream",
     "text": [
      "(128, 1) (128, 1)\n",
      "Number Extract Points\n",
      "Training Score: 0.02142216508492767\n",
      "Testing Score: 0.03400826163629911\n"
     ]
    }
   ],
   "source": [
    "variables_used = 'Number Extract Points'\n",
    "num_variables = 1\n",
    "X = monthly_pD[['number_extract_points']]\n",
    "y = monthly_pD['average_pD'].values.reshape(-1,1)\n",
    "print(X.shape,y.shape)\n",
    "X_train, X_test, y_train, y_test = train_test_split(X,y,random_state = 42)\n",
    "model = LinearRegression()\n",
    "model.fit(X_train,y_train)\n",
    "training_score = model.score(X_train,y_train)\n",
    "testing_score = model.score(X_test,y_test)\n",
    "print(variables_used)\n",
    "print(f'Training Score: {training_score}')\n",
    "print(f'Testing Score: {testing_score}')\n",
    "predicted = model.predict(X)\n",
    "variables_list.append(variables_used)\n",
    "num_vars_list.append(num_variables)\n",
    "score_list.append(model.score(X,y))\n",
    "mse_list.append(mean_squared_error(y,predicted))"
   ]
  },
  {
   "cell_type": "code",
   "execution_count": 81,
   "metadata": {},
   "outputs": [
    {
     "name": "stdout",
     "output_type": "stream",
     "text": [
      "(128, 2) (128, 1)\n",
      "Exhaustion, sA\n",
      "Training Score: 0.15441441949870682\n",
      "Testing Score: 0.18387508916178652\n"
     ]
    }
   ],
   "source": [
    "variables_used = 'Exhaustion, sA'\n",
    "num_variables = 2\n",
    "X = monthly_pD[['average_exhaustion','average_sA']]\n",
    "y = monthly_pD['average_pD'].values.reshape(-1,1)\n",
    "print(X.shape,y.shape)\n",
    "X_train, X_test, y_train, y_test = train_test_split(X,y,random_state = 42)\n",
    "model = LinearRegression()\n",
    "model.fit(X_train,y_train)\n",
    "training_score = model.score(X_train,y_train)\n",
    "testing_score = model.score(X_test,y_test)\n",
    "print(variables_used)\n",
    "print(f'Training Score: {training_score}')\n",
    "print(f'Testing Score: {testing_score}')\n",
    "predicted = model.predict(X)\n",
    "variables_list.append(variables_used)\n",
    "num_vars_list.append(num_variables)\n",
    "score_list.append(model.score(X,y))\n",
    "mse_list.append(mean_squared_error(y,predicted))"
   ]
  },
  {
   "cell_type": "code",
   "execution_count": 82,
   "metadata": {},
   "outputs": [
    {
     "name": "stdout",
     "output_type": "stream",
     "text": [
      "(128, 2) (128, 1)\n",
      "Exhaustion, Number Extract Points\n",
      "Training Score: 0.022156362669197738\n",
      "Testing Score: 0.03946435543097015\n"
     ]
    }
   ],
   "source": [
    "variables_used = 'Exhaustion, Number Extract Points'\n",
    "num_variables = 2\n",
    "X = monthly_pD[['average_exhaustion','number_extract_points']]\n",
    "y = monthly_pD['average_pD'].values.reshape(-1,1)\n",
    "print(X.shape,y.shape)\n",
    "X_train, X_test, y_train, y_test = train_test_split(X,y,random_state = 42)\n",
    "model = LinearRegression()\n",
    "model.fit(X_train,y_train)\n",
    "training_score = model.score(X_train,y_train)\n",
    "testing_score = model.score(X_test,y_test)\n",
    "print(variables_used)\n",
    "print(f'Training Score: {training_score}')\n",
    "print(f'Testing Score: {testing_score}')\n",
    "predicted = model.predict(X)\n",
    "variables_list.append(variables_used)\n",
    "num_vars_list.append(num_variables)\n",
    "score_list.append(model.score(X,y))\n",
    "mse_list.append(mean_squared_error(y,predicted))"
   ]
  },
  {
   "cell_type": "code",
   "execution_count": 83,
   "metadata": {},
   "outputs": [
    {
     "name": "stdout",
     "output_type": "stream",
     "text": [
      "(128, 2) (128, 1)\n",
      "sA, Number Extract Points\n",
      "Training Score: 0.1566977253138373\n",
      "Testing Score: 0.18577552551421483\n"
     ]
    }
   ],
   "source": [
    "variables_used = 'sA, Number Extract Points'\n",
    "num_variables = 2\n",
    "X = monthly_pD[['average_sA','number_extract_points']]\n",
    "y = monthly_pD['average_pD'].values.reshape(-1,1)\n",
    "print(X.shape,y.shape)\n",
    "X_train, X_test, y_train, y_test = train_test_split(X,y,random_state = 42)\n",
    "model = LinearRegression()\n",
    "model.fit(X_train,y_train)\n",
    "training_score = model.score(X_train,y_train)\n",
    "testing_score = model.score(X_test,y_test)\n",
    "print(variables_used)\n",
    "print(f'Training Score: {training_score}')\n",
    "print(f'Testing Score: {testing_score}')\n",
    "predicted = model.predict(X)\n",
    "variables_list.append(variables_used)\n",
    "num_vars_list.append(num_variables)\n",
    "score_list.append(model.score(X,y))\n",
    "mse_list.append(mean_squared_error(y,predicted))"
   ]
  },
  {
   "cell_type": "code",
   "execution_count": 84,
   "metadata": {
    "scrolled": true
   },
   "outputs": [
    {
     "data": {
      "text/html": [
       "<div>\n",
       "<style scoped>\n",
       "    .dataframe tbody tr th:only-of-type {\n",
       "        vertical-align: middle;\n",
       "    }\n",
       "\n",
       "    .dataframe tbody tr th {\n",
       "        vertical-align: top;\n",
       "    }\n",
       "\n",
       "    .dataframe thead th {\n",
       "        text-align: right;\n",
       "    }\n",
       "</style>\n",
       "<table border=\"1\" class=\"dataframe\">\n",
       "  <thead>\n",
       "    <tr style=\"text-align: right;\">\n",
       "      <th></th>\n",
       "      <th>Variables</th>\n",
       "      <th>Number of Variables</th>\n",
       "      <th>Score</th>\n",
       "      <th>MSE</th>\n",
       "    </tr>\n",
       "  </thead>\n",
       "  <tbody>\n",
       "    <tr>\n",
       "      <th>0</th>\n",
       "      <td>Exhaustion, sA, Number Extract Points</td>\n",
       "      <td>3</td>\n",
       "      <td>0.182070</td>\n",
       "      <td>0.000012</td>\n",
       "    </tr>\n",
       "    <tr>\n",
       "      <th>6</th>\n",
       "      <td>sA, Number Extract Points</td>\n",
       "      <td>2</td>\n",
       "      <td>0.164095</td>\n",
       "      <td>0.000012</td>\n",
       "    </tr>\n",
       "    <tr>\n",
       "      <th>4</th>\n",
       "      <td>Exhaustion, sA</td>\n",
       "      <td>2</td>\n",
       "      <td>0.161906</td>\n",
       "      <td>0.000012</td>\n",
       "    </tr>\n",
       "    <tr>\n",
       "      <th>2</th>\n",
       "      <td>sA</td>\n",
       "      <td>1</td>\n",
       "      <td>0.144317</td>\n",
       "      <td>0.000012</td>\n",
       "    </tr>\n",
       "    <tr>\n",
       "      <th>5</th>\n",
       "      <td>Exhaustion, Number Extract Points</td>\n",
       "      <td>2</td>\n",
       "      <td>0.026725</td>\n",
       "      <td>0.000014</td>\n",
       "    </tr>\n",
       "    <tr>\n",
       "      <th>3</th>\n",
       "      <td>Number Extract Points</td>\n",
       "      <td>1</td>\n",
       "      <td>0.024838</td>\n",
       "      <td>0.000014</td>\n",
       "    </tr>\n",
       "    <tr>\n",
       "      <th>1</th>\n",
       "      <td>Exhaustion</td>\n",
       "      <td>1</td>\n",
       "      <td>0.010671</td>\n",
       "      <td>0.000014</td>\n",
       "    </tr>\n",
       "  </tbody>\n",
       "</table>\n",
       "</div>"
      ],
      "text/plain": [
       "                               Variables  Number of Variables     Score  \\\n",
       "0  Exhaustion, sA, Number Extract Points                    3  0.182070   \n",
       "6              sA, Number Extract Points                    2  0.164095   \n",
       "4                         Exhaustion, sA                    2  0.161906   \n",
       "2                                     sA                    1  0.144317   \n",
       "5      Exhaustion, Number Extract Points                    2  0.026725   \n",
       "3                  Number Extract Points                    1  0.024838   \n",
       "1                             Exhaustion                    1  0.010671   \n",
       "\n",
       "        MSE  \n",
       "0  0.000012  \n",
       "6  0.000012  \n",
       "4  0.000012  \n",
       "2  0.000012  \n",
       "5  0.000014  \n",
       "3  0.000014  \n",
       "1  0.000014  "
      ]
     },
     "execution_count": 84,
     "metadata": {},
     "output_type": "execute_result"
    }
   ],
   "source": [
    "pD_reg_results = {'Variables':variables_list,\n",
    "              'Number of Variables':num_vars_list,\n",
    "              'Score':score_list,\n",
    "              'MSE':mse_list}\n",
    "pD_reg_results_df = pd.DataFrame(pD_reg_results).sort_values('Score',ascending=False)\n",
    "pD_reg_results_df"
   ]
  },
  {
   "cell_type": "code",
   "execution_count": 89,
   "metadata": {},
   "outputs": [],
   "source": [
    "monthly_pD.to_csv('Resources/monthly_pD.csv',index=False)"
   ]
  },
  {
   "cell_type": "code",
   "execution_count": null,
   "metadata": {},
   "outputs": [],
   "source": []
  }
 ],
 "metadata": {
  "kernelspec": {
   "display_name": "Python 3",
   "language": "python",
   "name": "python3"
  },
  "language_info": {
   "codemirror_mode": {
    "name": "ipython",
    "version": 3
   },
   "file_extension": ".py",
   "mimetype": "text/x-python",
   "name": "python",
   "nbconvert_exporter": "python",
   "pygments_lexer": "ipython3",
   "version": "3.7.4"
  }
 },
 "nbformat": 4,
 "nbformat_minor": 2
}
