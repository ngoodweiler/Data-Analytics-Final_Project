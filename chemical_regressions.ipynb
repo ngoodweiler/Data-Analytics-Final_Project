{
 "cells": [
  {
   "cell_type": "code",
   "execution_count": 10,
   "metadata": {},
   "outputs": [],
   "source": [
    "# Load dependencies\n",
    "import numpy as np\n",
    "import pandas as pd\n",
    "import matplotlib.pyplot as plt\n",
    "import numpy as np\n",
    "from sklearn.model_selection import train_test_split\n",
    "from sklearn.metrics import mean_squared_error, r2_score"
   ]
  },
  {
   "cell_type": "code",
   "execution_count": 11,
   "metadata": {},
   "outputs": [
    {
     "data": {
      "text/html": [
       "<div>\n",
       "<style scoped>\n",
       "    .dataframe tbody tr th:only-of-type {\n",
       "        vertical-align: middle;\n",
       "    }\n",
       "\n",
       "    .dataframe tbody tr th {\n",
       "        vertical-align: top;\n",
       "    }\n",
       "\n",
       "    .dataframe thead th {\n",
       "        text-align: right;\n",
       "    }\n",
       "</style>\n",
       "<table border=\"1\" class=\"dataframe\">\n",
       "  <thead>\n",
       "    <tr style=\"text-align: right;\">\n",
       "      <th></th>\n",
       "      <th>year_month</th>\n",
       "      <th>cA</th>\n",
       "      <th>cB</th>\n",
       "      <th>cCD</th>\n",
       "      <th>production</th>\n",
       "      <th>cA_per_prod</th>\n",
       "      <th>cB_per_prod</th>\n",
       "      <th>cCD_per_prod</th>\n",
       "    </tr>\n",
       "  </thead>\n",
       "  <tbody>\n",
       "    <tr>\n",
       "      <td>0</td>\n",
       "      <td>200901</td>\n",
       "      <td>50533.0</td>\n",
       "      <td>17100</td>\n",
       "      <td>22500.0</td>\n",
       "      <td>630494</td>\n",
       "      <td>0.080148</td>\n",
       "      <td>0.027122</td>\n",
       "      <td>0.035686</td>\n",
       "    </tr>\n",
       "    <tr>\n",
       "      <td>1</td>\n",
       "      <td>200902</td>\n",
       "      <td>37659.0</td>\n",
       "      <td>25650</td>\n",
       "      <td>22500.0</td>\n",
       "      <td>412244</td>\n",
       "      <td>0.091351</td>\n",
       "      <td>0.062220</td>\n",
       "      <td>0.054579</td>\n",
       "    </tr>\n",
       "    <tr>\n",
       "      <td>2</td>\n",
       "      <td>200903</td>\n",
       "      <td>47330.0</td>\n",
       "      <td>19950</td>\n",
       "      <td>15000.0</td>\n",
       "      <td>464256</td>\n",
       "      <td>0.101948</td>\n",
       "      <td>0.042972</td>\n",
       "      <td>0.032310</td>\n",
       "    </tr>\n",
       "    <tr>\n",
       "      <td>3</td>\n",
       "      <td>200904</td>\n",
       "      <td>45100.0</td>\n",
       "      <td>14250</td>\n",
       "      <td>22500.0</td>\n",
       "      <td>483255</td>\n",
       "      <td>0.093325</td>\n",
       "      <td>0.029488</td>\n",
       "      <td>0.046559</td>\n",
       "    </tr>\n",
       "    <tr>\n",
       "      <td>4</td>\n",
       "      <td>200905</td>\n",
       "      <td>31538.0</td>\n",
       "      <td>8550</td>\n",
       "      <td>15000.0</td>\n",
       "      <td>289430</td>\n",
       "      <td>0.108966</td>\n",
       "      <td>0.029541</td>\n",
       "      <td>0.051826</td>\n",
       "    </tr>\n",
       "  </tbody>\n",
       "</table>\n",
       "</div>"
      ],
      "text/plain": [
       "   year_month       cA     cB      cCD  production  cA_per_prod  cB_per_prod  \\\n",
       "0      200901  50533.0  17100  22500.0      630494     0.080148     0.027122   \n",
       "1      200902  37659.0  25650  22500.0      412244     0.091351     0.062220   \n",
       "2      200903  47330.0  19950  15000.0      464256     0.101948     0.042972   \n",
       "3      200904  45100.0  14250  22500.0      483255     0.093325     0.029488   \n",
       "4      200905  31538.0   8550  15000.0      289430     0.108966     0.029541   \n",
       "\n",
       "   cCD_per_prod  \n",
       "0      0.035686  \n",
       "1      0.054579  \n",
       "2      0.032310  \n",
       "3      0.046559  \n",
       "4      0.051826  "
      ]
     },
     "execution_count": 11,
     "metadata": {},
     "output_type": "execute_result"
    }
   ],
   "source": [
    "monthly_pA = pd.read_csv('Resources/monthly_pA.csv',index_col=False)\n",
    "monthly_pB = pd.read_csv('Resources/monthly_pB.csv',index_col=False)\n",
    "monthly_pD = pd.read_csv('Resources/monthly_pD.csv',index_col=False)\n",
    "chemicals = pd.read_csv('Resources/chemicals.csv',index_col=False)\n",
    "chemicals.head()"
   ]
  },
  {
   "cell_type": "code",
   "execution_count": 12,
   "metadata": {},
   "outputs": [],
   "source": [
    "# Merge respective chemical usage and production for each process output\n",
    "monthly_pA = monthly_pA.merge(chemicals,on='year_month').drop(columns=['cB','cCD','cB_per_prod','cCD_per_prod'])\n",
    "monthly_pB = monthly_pB.merge(chemicals,on='year_month').drop(columns=['cA','cCD','cA_per_prod','cCD_per_prod'])\n",
    "monthly_pD = monthly_pD.merge(chemicals,on='year_month').drop(columns=['cA','cB','cA_per_prod','cB_per_prod'])"
   ]
  },
  {
   "cell_type": "code",
   "execution_count": null,
   "metadata": {},
   "outputs": [],
   "source": [
    "# Plot chemical usage per production vs pA,pB,pD - if there is a good correlation, predicted values can\n",
    "# be used and the source features do not need to be used in two sets of models\n"
   ]
  }
 ],
 "metadata": {
  "kernelspec": {
   "display_name": "Python 3",
   "language": "python",
   "name": "python3"
  },
  "language_info": {
   "codemirror_mode": {
    "name": "ipython",
    "version": 3
   },
   "file_extension": ".py",
   "mimetype": "text/x-python",
   "name": "python",
   "nbconvert_exporter": "python",
   "pygments_lexer": "ipython3",
   "version": "3.7.4"
  }
 },
 "nbformat": 4,
 "nbformat_minor": 2
}
