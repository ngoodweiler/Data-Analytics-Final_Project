{
 "cells": [
  {
   "cell_type": "code",
   "execution_count": 1,
   "metadata": {},
   "outputs": [],
   "source": [
    "# Load dependencies\n",
    "import numpy as np\n",
    "import pandas as pd\n",
    "import matplotlib.pyplot as plt\n",
    "import scipy.stats as sts\n",
    "import numpy as np\n",
    "import statsmodels.formula.api as smf"
   ]
  },
  {
   "cell_type": "code",
   "execution_count": 2,
   "metadata": {},
   "outputs": [],
   "source": [
    "def forward_selected(data, response):\n",
    "    \"\"\"Linear model designed by forward selection.\n",
    "\n",
    "    Parameters:\n",
    "    -----------\n",
    "    data : pandas DataFrame with all possible predictors and response\n",
    "\n",
    "    response: string, name of response column in data\n",
    "\n",
    "    Returns:\n",
    "    --------\n",
    "    model: an \"optimal\" fitted statsmodels linear model\n",
    "           with an intercept\n",
    "           selected by forward selection\n",
    "           evaluated by adjusted R-squared\n",
    "    \"\"\"\n",
    "    remaining = set(data.columns)\n",
    "    remaining.remove(response)\n",
    "    selected = []\n",
    "    current_score, best_new_score = 0.0, 0.0\n",
    "    while remaining and current_score == best_new_score:\n",
    "        scores_with_candidates = []\n",
    "        for candidate in remaining:\n",
    "            formula = \"{} ~ {} + 1\".format(response,\n",
    "                                           ' + '.join(selected + [candidate]))\n",
    "            score = smf.ols(formula, data).fit().rsquared_adj\n",
    "            scores_with_candidates.append((score, candidate))\n",
    "        scores_with_candidates.sort()\n",
    "        best_new_score, best_candidate = scores_with_candidates.pop()\n",
    "        if current_score < best_new_score:\n",
    "            remaining.remove(best_candidate)\n",
    "            selected.append(best_candidate)\n",
    "            current_score = best_new_score\n",
    "    formula = \"{} ~ {} + 1\".format(response,\n",
    "                                   ' + '.join(selected))\n",
    "    model = smf.ols(formula, data).fit()\n",
    "    return model"
   ]
  },
  {
   "cell_type": "code",
   "execution_count": 3,
   "metadata": {},
   "outputs": [],
   "source": [
    "# Import csv files\n",
    "daily_composite_ra = pd.read_csv('../Data-Analytics-Final_Project/Resources/daily_composite_ra.csv',index_col=False)"
   ]
  },
  {
   "cell_type": "code",
   "execution_count": 4,
   "metadata": {},
   "outputs": [
    {
     "data": {
      "text/html": [
       "<div>\n",
       "<style scoped>\n",
       "    .dataframe tbody tr th:only-of-type {\n",
       "        vertical-align: middle;\n",
       "    }\n",
       "\n",
       "    .dataframe tbody tr th {\n",
       "        vertical-align: top;\n",
       "    }\n",
       "\n",
       "    .dataframe thead th {\n",
       "        text-align: right;\n",
       "    }\n",
       "</style>\n",
       "<table border=\"1\" class=\"dataframe\">\n",
       "  <thead>\n",
       "    <tr style=\"text-align: right;\">\n",
       "      <th></th>\n",
       "      <th>datestring</th>\n",
       "      <th>total_extracted</th>\n",
       "      <th>number_extract_points</th>\n",
       "      <th>average_exhaustion</th>\n",
       "      <th>average_sA</th>\n",
       "      <th>average_percent_extracted_per_point</th>\n",
       "      <th>date</th>\n",
       "      <th>pA</th>\n",
       "      <th>pB</th>\n",
       "      <th>pD</th>\n",
       "      <th>pC</th>\n",
       "    </tr>\n",
       "  </thead>\n",
       "  <tbody>\n",
       "    <tr>\n",
       "      <th>0</th>\n",
       "      <td>20010602</td>\n",
       "      <td>3050.0</td>\n",
       "      <td>4.0</td>\n",
       "      <td>0.763969</td>\n",
       "      <td>0.198464</td>\n",
       "      <td>25.000000</td>\n",
       "      <td>6/2/2001</td>\n",
       "      <td>0.1830</td>\n",
       "      <td>NaN</td>\n",
       "      <td>NaN</td>\n",
       "      <td>NaN</td>\n",
       "    </tr>\n",
       "    <tr>\n",
       "      <th>1</th>\n",
       "      <td>20010604</td>\n",
       "      <td>23217.0</td>\n",
       "      <td>41.0</td>\n",
       "      <td>0.810689</td>\n",
       "      <td>0.177191</td>\n",
       "      <td>2.439024</td>\n",
       "      <td>6/4/2001</td>\n",
       "      <td>0.1810</td>\n",
       "      <td>NaN</td>\n",
       "      <td>NaN</td>\n",
       "      <td>NaN</td>\n",
       "    </tr>\n",
       "    <tr>\n",
       "      <th>2</th>\n",
       "      <td>20010605</td>\n",
       "      <td>46802.0</td>\n",
       "      <td>58.0</td>\n",
       "      <td>1.398749</td>\n",
       "      <td>0.209976</td>\n",
       "      <td>1.724138</td>\n",
       "      <td>6/5/2001</td>\n",
       "      <td>0.1845</td>\n",
       "      <td>NaN</td>\n",
       "      <td>NaN</td>\n",
       "      <td>NaN</td>\n",
       "    </tr>\n",
       "    <tr>\n",
       "      <th>3</th>\n",
       "      <td>20010606</td>\n",
       "      <td>45967.0</td>\n",
       "      <td>54.0</td>\n",
       "      <td>1.185720</td>\n",
       "      <td>0.220088</td>\n",
       "      <td>1.851852</td>\n",
       "      <td>6/6/2001</td>\n",
       "      <td>0.1836</td>\n",
       "      <td>NaN</td>\n",
       "      <td>NaN</td>\n",
       "      <td>NaN</td>\n",
       "    </tr>\n",
       "    <tr>\n",
       "      <th>4</th>\n",
       "      <td>20010607</td>\n",
       "      <td>7310.0</td>\n",
       "      <td>20.0</td>\n",
       "      <td>0.554372</td>\n",
       "      <td>0.168266</td>\n",
       "      <td>5.000000</td>\n",
       "      <td>6/7/2001</td>\n",
       "      <td>0.1850</td>\n",
       "      <td>NaN</td>\n",
       "      <td>NaN</td>\n",
       "      <td>NaN</td>\n",
       "    </tr>\n",
       "  </tbody>\n",
       "</table>\n",
       "</div>"
      ],
      "text/plain": [
       "   datestring  total_extracted  number_extract_points  average_exhaustion  \\\n",
       "0    20010602           3050.0                    4.0            0.763969   \n",
       "1    20010604          23217.0                   41.0            0.810689   \n",
       "2    20010605          46802.0                   58.0            1.398749   \n",
       "3    20010606          45967.0                   54.0            1.185720   \n",
       "4    20010607           7310.0                   20.0            0.554372   \n",
       "\n",
       "   average_sA  average_percent_extracted_per_point      date      pA  pB  pD  \\\n",
       "0    0.198464                            25.000000  6/2/2001  0.1830 NaN NaN   \n",
       "1    0.177191                             2.439024  6/4/2001  0.1810 NaN NaN   \n",
       "2    0.209976                             1.724138  6/5/2001  0.1845 NaN NaN   \n",
       "3    0.220088                             1.851852  6/6/2001  0.1836 NaN NaN   \n",
       "4    0.168266                             5.000000  6/7/2001  0.1850 NaN NaN   \n",
       "\n",
       "   pC  \n",
       "0 NaN  \n",
       "1 NaN  \n",
       "2 NaN  \n",
       "3 NaN  \n",
       "4 NaN  "
      ]
     },
     "execution_count": 4,
     "metadata": {},
     "output_type": "execute_result"
    }
   ],
   "source": [
    "daily_composite_ra.head()"
   ]
  },
  {
   "cell_type": "code",
   "execution_count": 5,
   "metadata": {},
   "outputs": [],
   "source": [
    "# Get a datetime column\n",
    "from datetime import datetime\n",
    "daily_composite_ra['date'] = daily_composite_ra['date'].astype(str)\n",
    "datetime_list = []\n",
    "for i in range(len(daily_composite_ra)):\n",
    "    datetime_list.append(datetime.strptime(daily_composite_ra['date'][i],'%m/%d/%Y'))"
   ]
  },
  {
   "cell_type": "code",
   "execution_count": 6,
   "metadata": {},
   "outputs": [
    {
     "data": {
      "text/html": [
       "<div>\n",
       "<style scoped>\n",
       "    .dataframe tbody tr th:only-of-type {\n",
       "        vertical-align: middle;\n",
       "    }\n",
       "\n",
       "    .dataframe tbody tr th {\n",
       "        vertical-align: top;\n",
       "    }\n",
       "\n",
       "    .dataframe thead th {\n",
       "        text-align: right;\n",
       "    }\n",
       "</style>\n",
       "<table border=\"1\" class=\"dataframe\">\n",
       "  <thead>\n",
       "    <tr style=\"text-align: right;\">\n",
       "      <th></th>\n",
       "      <th>datestring</th>\n",
       "      <th>total_extracted</th>\n",
       "      <th>number_extract_points</th>\n",
       "      <th>average_exhaustion</th>\n",
       "      <th>average_sA</th>\n",
       "      <th>average_percent_extracted_per_point</th>\n",
       "      <th>date</th>\n",
       "      <th>pA</th>\n",
       "      <th>pB</th>\n",
       "      <th>pD</th>\n",
       "      <th>pC</th>\n",
       "      <th>datetime</th>\n",
       "    </tr>\n",
       "  </thead>\n",
       "  <tbody>\n",
       "    <tr>\n",
       "      <th>0</th>\n",
       "      <td>20010602</td>\n",
       "      <td>3050.0</td>\n",
       "      <td>4.0</td>\n",
       "      <td>0.763969</td>\n",
       "      <td>0.198464</td>\n",
       "      <td>25.000000</td>\n",
       "      <td>6/2/2001</td>\n",
       "      <td>0.1830</td>\n",
       "      <td>NaN</td>\n",
       "      <td>NaN</td>\n",
       "      <td>NaN</td>\n",
       "      <td>2001-06-02</td>\n",
       "    </tr>\n",
       "    <tr>\n",
       "      <th>1</th>\n",
       "      <td>20010604</td>\n",
       "      <td>23217.0</td>\n",
       "      <td>41.0</td>\n",
       "      <td>0.810689</td>\n",
       "      <td>0.177191</td>\n",
       "      <td>2.439024</td>\n",
       "      <td>6/4/2001</td>\n",
       "      <td>0.1810</td>\n",
       "      <td>NaN</td>\n",
       "      <td>NaN</td>\n",
       "      <td>NaN</td>\n",
       "      <td>2001-06-04</td>\n",
       "    </tr>\n",
       "    <tr>\n",
       "      <th>2</th>\n",
       "      <td>20010605</td>\n",
       "      <td>46802.0</td>\n",
       "      <td>58.0</td>\n",
       "      <td>1.398749</td>\n",
       "      <td>0.209976</td>\n",
       "      <td>1.724138</td>\n",
       "      <td>6/5/2001</td>\n",
       "      <td>0.1845</td>\n",
       "      <td>NaN</td>\n",
       "      <td>NaN</td>\n",
       "      <td>NaN</td>\n",
       "      <td>2001-06-05</td>\n",
       "    </tr>\n",
       "    <tr>\n",
       "      <th>3</th>\n",
       "      <td>20010606</td>\n",
       "      <td>45967.0</td>\n",
       "      <td>54.0</td>\n",
       "      <td>1.185720</td>\n",
       "      <td>0.220088</td>\n",
       "      <td>1.851852</td>\n",
       "      <td>6/6/2001</td>\n",
       "      <td>0.1836</td>\n",
       "      <td>NaN</td>\n",
       "      <td>NaN</td>\n",
       "      <td>NaN</td>\n",
       "      <td>2001-06-06</td>\n",
       "    </tr>\n",
       "    <tr>\n",
       "      <th>4</th>\n",
       "      <td>20010607</td>\n",
       "      <td>7310.0</td>\n",
       "      <td>20.0</td>\n",
       "      <td>0.554372</td>\n",
       "      <td>0.168266</td>\n",
       "      <td>5.000000</td>\n",
       "      <td>6/7/2001</td>\n",
       "      <td>0.1850</td>\n",
       "      <td>NaN</td>\n",
       "      <td>NaN</td>\n",
       "      <td>NaN</td>\n",
       "      <td>2001-06-07</td>\n",
       "    </tr>\n",
       "  </tbody>\n",
       "</table>\n",
       "</div>"
      ],
      "text/plain": [
       "   datestring  total_extracted  number_extract_points  average_exhaustion  \\\n",
       "0    20010602           3050.0                    4.0            0.763969   \n",
       "1    20010604          23217.0                   41.0            0.810689   \n",
       "2    20010605          46802.0                   58.0            1.398749   \n",
       "3    20010606          45967.0                   54.0            1.185720   \n",
       "4    20010607           7310.0                   20.0            0.554372   \n",
       "\n",
       "   average_sA  average_percent_extracted_per_point      date      pA  pB  pD  \\\n",
       "0    0.198464                            25.000000  6/2/2001  0.1830 NaN NaN   \n",
       "1    0.177191                             2.439024  6/4/2001  0.1810 NaN NaN   \n",
       "2    0.209976                             1.724138  6/5/2001  0.1845 NaN NaN   \n",
       "3    0.220088                             1.851852  6/6/2001  0.1836 NaN NaN   \n",
       "4    0.168266                             5.000000  6/7/2001  0.1850 NaN NaN   \n",
       "\n",
       "   pC   datetime  \n",
       "0 NaN 2001-06-02  \n",
       "1 NaN 2001-06-04  \n",
       "2 NaN 2001-06-05  \n",
       "3 NaN 2001-06-06  \n",
       "4 NaN 2001-06-07  "
      ]
     },
     "execution_count": 6,
     "metadata": {},
     "output_type": "execute_result"
    }
   ],
   "source": [
    "daily_composite_ra['datetime'] = datetime_list\n",
    "daily_composite_ra.head()"
   ]
  },
  {
   "cell_type": "code",
   "execution_count": 7,
   "metadata": {},
   "outputs": [
    {
     "name": "stderr",
     "output_type": "stream",
     "text": [
      "C:\\Users\\ngoodwei\\AppData\\Local\\Continuum\\anaconda3\\lib\\site-packages\\pandas\\plotting\\_converter.py:129: FutureWarning: Using an implicitly registered datetime converter for a matplotlib plotting method. The converter was registered by pandas on import. Future versions of pandas will require you to explicitly register matplotlib converters.\n",
      "\n",
      "To register the converters:\n",
      "\t>>> from pandas.plotting import register_matplotlib_converters\n",
      "\t>>> register_matplotlib_converters()\n",
      "  warnings.warn(msg, FutureWarning)\n"
     ]
    },
    {
     "data": {
      "image/png": "[encoded data removed]",
      "text/plain": [
       "<Figure size 792x612 with 1 Axes>"
      ]
     },
     "metadata": {
      "needs_background": "light"
     },
     "output_type": "display_data"
    }
   ],
   "source": [
    "import matplotlib.ticker as ticker\n",
    "import matplotlib.dates as mdates\n",
    "years_fmt = mdates.DateFormatter('%Y-%m')\n",
    "tick_spacing = 240\n",
    "tick_spacing_minor = 60\n",
    "fig, ax1 = plt.subplots()\n",
    "ax1.plot(daily_composite_ra['datetime'],daily_composite_ra['average_exhaustion'],c='blue',linewidth = 1)\n",
    "ax1.xaxis.set_major_locator(ticker.MultipleLocator(tick_spacing))\n",
    "ax1.xaxis.set_major_formatter(years_fmt)\n",
    "ax1.xaxis.set_minor_locator(ticker.MultipleLocator(tick_spacing_minor))\n",
    "ax1.set_ylabel('pB')\n",
    "\n",
    "\n",
    "fig.autofmt_xdate()\n",
    "plt.grid(True)\n",
    "plt.title('Actual vs Predicted pB')\n",
    "fig.set_size_inches(11, 8.5)\n",
    "plt.show()"
   ]
  },
  {
   "cell_type": "code",
   "execution_count": 8,
   "metadata": {},
   "outputs": [
    {
     "data": {
      "text/html": [
       "<div>\n",
       "<style scoped>\n",
       "    .dataframe tbody tr th:only-of-type {\n",
       "        vertical-align: middle;\n",
       "    }\n",
       "\n",
       "    .dataframe tbody tr th {\n",
       "        vertical-align: top;\n",
       "    }\n",
       "\n",
       "    .dataframe thead th {\n",
       "        text-align: right;\n",
       "    }\n",
       "</style>\n",
       "<table border=\"1\" class=\"dataframe\">\n",
       "  <thead>\n",
       "    <tr style=\"text-align: right;\">\n",
       "      <th></th>\n",
       "      <th>datestring</th>\n",
       "      <th>total_extracted</th>\n",
       "      <th>number_extract_points</th>\n",
       "      <th>average_exhaustion</th>\n",
       "      <th>average_sA</th>\n",
       "      <th>average_percent_extracted_per_point</th>\n",
       "      <th>date</th>\n",
       "      <th>pA</th>\n",
       "      <th>pB</th>\n",
       "      <th>pD</th>\n",
       "      <th>pC</th>\n",
       "      <th>datetime</th>\n",
       "    </tr>\n",
       "  </thead>\n",
       "  <tbody>\n",
       "    <tr>\n",
       "      <th>0</th>\n",
       "      <td>20020102</td>\n",
       "      <td>23057.0</td>\n",
       "      <td>86.0</td>\n",
       "      <td>23.489290</td>\n",
       "      <td>0.217506</td>\n",
       "      <td>1.162791</td>\n",
       "      <td>1/2/2002</td>\n",
       "      <td>0.2098</td>\n",
       "      <td>NaN</td>\n",
       "      <td>NaN</td>\n",
       "      <td>NaN</td>\n",
       "      <td>2002-01-02</td>\n",
       "    </tr>\n",
       "    <tr>\n",
       "      <th>1</th>\n",
       "      <td>20020103</td>\n",
       "      <td>19952.0</td>\n",
       "      <td>93.0</td>\n",
       "      <td>23.504239</td>\n",
       "      <td>0.219029</td>\n",
       "      <td>1.075269</td>\n",
       "      <td>1/3/2002</td>\n",
       "      <td>0.2130</td>\n",
       "      <td>NaN</td>\n",
       "      <td>NaN</td>\n",
       "      <td>NaN</td>\n",
       "      <td>2002-01-03</td>\n",
       "    </tr>\n",
       "    <tr>\n",
       "      <th>2</th>\n",
       "      <td>20020104</td>\n",
       "      <td>24246.0</td>\n",
       "      <td>89.0</td>\n",
       "      <td>24.692335</td>\n",
       "      <td>0.218939</td>\n",
       "      <td>1.123596</td>\n",
       "      <td>1/4/2002</td>\n",
       "      <td>0.2164</td>\n",
       "      <td>NaN</td>\n",
       "      <td>NaN</td>\n",
       "      <td>NaN</td>\n",
       "      <td>2002-01-04</td>\n",
       "    </tr>\n",
       "    <tr>\n",
       "      <th>3</th>\n",
       "      <td>20020107</td>\n",
       "      <td>10924.0</td>\n",
       "      <td>75.0</td>\n",
       "      <td>22.959558</td>\n",
       "      <td>0.217301</td>\n",
       "      <td>1.333333</td>\n",
       "      <td>1/7/2002</td>\n",
       "      <td>0.2162</td>\n",
       "      <td>NaN</td>\n",
       "      <td>NaN</td>\n",
       "      <td>NaN</td>\n",
       "      <td>2002-01-07</td>\n",
       "    </tr>\n",
       "    <tr>\n",
       "      <th>4</th>\n",
       "      <td>20020108</td>\n",
       "      <td>25361.0</td>\n",
       "      <td>85.0</td>\n",
       "      <td>24.757384</td>\n",
       "      <td>0.217990</td>\n",
       "      <td>1.176471</td>\n",
       "      <td>1/8/2002</td>\n",
       "      <td>0.2206</td>\n",
       "      <td>NaN</td>\n",
       "      <td>NaN</td>\n",
       "      <td>NaN</td>\n",
       "      <td>2002-01-08</td>\n",
       "    </tr>\n",
       "    <tr>\n",
       "      <th>5</th>\n",
       "      <td>20020109</td>\n",
       "      <td>24320.0</td>\n",
       "      <td>73.0</td>\n",
       "      <td>27.453357</td>\n",
       "      <td>0.219334</td>\n",
       "      <td>1.369863</td>\n",
       "      <td>1/9/2002</td>\n",
       "      <td>0.2170</td>\n",
       "      <td>NaN</td>\n",
       "      <td>NaN</td>\n",
       "      <td>NaN</td>\n",
       "      <td>2002-01-09</td>\n",
       "    </tr>\n",
       "    <tr>\n",
       "      <th>6</th>\n",
       "      <td>20020110</td>\n",
       "      <td>19740.0</td>\n",
       "      <td>89.0</td>\n",
       "      <td>22.568199</td>\n",
       "      <td>0.218457</td>\n",
       "      <td>1.123596</td>\n",
       "      <td>1/10/2002</td>\n",
       "      <td>0.2104</td>\n",
       "      <td>NaN</td>\n",
       "      <td>NaN</td>\n",
       "      <td>NaN</td>\n",
       "      <td>2002-01-10</td>\n",
       "    </tr>\n",
       "    <tr>\n",
       "      <th>7</th>\n",
       "      <td>20020111</td>\n",
       "      <td>14302.0</td>\n",
       "      <td>58.0</td>\n",
       "      <td>20.804870</td>\n",
       "      <td>0.216775</td>\n",
       "      <td>1.724138</td>\n",
       "      <td>1/11/2002</td>\n",
       "      <td>0.2144</td>\n",
       "      <td>NaN</td>\n",
       "      <td>NaN</td>\n",
       "      <td>NaN</td>\n",
       "      <td>2002-01-11</td>\n",
       "    </tr>\n",
       "    <tr>\n",
       "      <th>8</th>\n",
       "      <td>20020114</td>\n",
       "      <td>14457.0</td>\n",
       "      <td>44.0</td>\n",
       "      <td>18.877361</td>\n",
       "      <td>0.228759</td>\n",
       "      <td>2.272727</td>\n",
       "      <td>1/14/2002</td>\n",
       "      <td>0.2144</td>\n",
       "      <td>NaN</td>\n",
       "      <td>NaN</td>\n",
       "      <td>NaN</td>\n",
       "      <td>2002-01-14</td>\n",
       "    </tr>\n",
       "    <tr>\n",
       "      <th>9</th>\n",
       "      <td>20020115</td>\n",
       "      <td>22302.0</td>\n",
       "      <td>74.0</td>\n",
       "      <td>25.504162</td>\n",
       "      <td>0.218886</td>\n",
       "      <td>1.351351</td>\n",
       "      <td>1/15/2002</td>\n",
       "      <td>0.2114</td>\n",
       "      <td>NaN</td>\n",
       "      <td>NaN</td>\n",
       "      <td>NaN</td>\n",
       "      <td>2002-01-15</td>\n",
       "    </tr>\n",
       "    <tr>\n",
       "      <th>10</th>\n",
       "      <td>20020116</td>\n",
       "      <td>20562.0</td>\n",
       "      <td>78.0</td>\n",
       "      <td>25.453839</td>\n",
       "      <td>0.218696</td>\n",
       "      <td>1.282051</td>\n",
       "      <td>1/16/2002</td>\n",
       "      <td>0.2172</td>\n",
       "      <td>NaN</td>\n",
       "      <td>NaN</td>\n",
       "      <td>NaN</td>\n",
       "      <td>2002-01-16</td>\n",
       "    </tr>\n",
       "    <tr>\n",
       "      <th>11</th>\n",
       "      <td>20020117</td>\n",
       "      <td>16718.0</td>\n",
       "      <td>84.0</td>\n",
       "      <td>24.685645</td>\n",
       "      <td>0.216432</td>\n",
       "      <td>1.190476</td>\n",
       "      <td>1/17/2002</td>\n",
       "      <td>0.2160</td>\n",
       "      <td>NaN</td>\n",
       "      <td>NaN</td>\n",
       "      <td>NaN</td>\n",
       "      <td>2002-01-17</td>\n",
       "    </tr>\n",
       "    <tr>\n",
       "      <th>12</th>\n",
       "      <td>20020118</td>\n",
       "      <td>18868.0</td>\n",
       "      <td>46.0</td>\n",
       "      <td>30.918562</td>\n",
       "      <td>0.214608</td>\n",
       "      <td>2.173913</td>\n",
       "      <td>1/18/2002</td>\n",
       "      <td>0.2180</td>\n",
       "      <td>NaN</td>\n",
       "      <td>NaN</td>\n",
       "      <td>NaN</td>\n",
       "      <td>2002-01-18</td>\n",
       "    </tr>\n",
       "    <tr>\n",
       "      <th>13</th>\n",
       "      <td>20020121</td>\n",
       "      <td>8948.0</td>\n",
       "      <td>36.0</td>\n",
       "      <td>30.441083</td>\n",
       "      <td>0.207523</td>\n",
       "      <td>2.777778</td>\n",
       "      <td>1/21/2002</td>\n",
       "      <td>0.2176</td>\n",
       "      <td>NaN</td>\n",
       "      <td>NaN</td>\n",
       "      <td>NaN</td>\n",
       "      <td>2002-01-21</td>\n",
       "    </tr>\n",
       "    <tr>\n",
       "      <th>14</th>\n",
       "      <td>20020122</td>\n",
       "      <td>21340.0</td>\n",
       "      <td>75.0</td>\n",
       "      <td>28.538038</td>\n",
       "      <td>0.213727</td>\n",
       "      <td>1.333333</td>\n",
       "      <td>1/22/2002</td>\n",
       "      <td>0.2210</td>\n",
       "      <td>NaN</td>\n",
       "      <td>NaN</td>\n",
       "      <td>NaN</td>\n",
       "      <td>2002-01-22</td>\n",
       "    </tr>\n",
       "    <tr>\n",
       "      <th>15</th>\n",
       "      <td>20020123</td>\n",
       "      <td>17615.0</td>\n",
       "      <td>76.0</td>\n",
       "      <td>26.721500</td>\n",
       "      <td>0.218624</td>\n",
       "      <td>1.315789</td>\n",
       "      <td>1/23/2002</td>\n",
       "      <td>0.2232</td>\n",
       "      <td>NaN</td>\n",
       "      <td>NaN</td>\n",
       "      <td>NaN</td>\n",
       "      <td>2002-01-23</td>\n",
       "    </tr>\n",
       "    <tr>\n",
       "      <th>16</th>\n",
       "      <td>20020124</td>\n",
       "      <td>23447.0</td>\n",
       "      <td>87.0</td>\n",
       "      <td>24.344790</td>\n",
       "      <td>0.219927</td>\n",
       "      <td>1.149425</td>\n",
       "      <td>1/24/2002</td>\n",
       "      <td>0.2316</td>\n",
       "      <td>NaN</td>\n",
       "      <td>NaN</td>\n",
       "      <td>NaN</td>\n",
       "      <td>2002-01-24</td>\n",
       "    </tr>\n",
       "    <tr>\n",
       "      <th>17</th>\n",
       "      <td>20020125</td>\n",
       "      <td>22124.0</td>\n",
       "      <td>73.0</td>\n",
       "      <td>24.918559</td>\n",
       "      <td>0.219539</td>\n",
       "      <td>1.369863</td>\n",
       "      <td>1/25/2002</td>\n",
       "      <td>0.2268</td>\n",
       "      <td>NaN</td>\n",
       "      <td>NaN</td>\n",
       "      <td>NaN</td>\n",
       "      <td>2002-01-25</td>\n",
       "    </tr>\n",
       "    <tr>\n",
       "      <th>18</th>\n",
       "      <td>20020128</td>\n",
       "      <td>12237.0</td>\n",
       "      <td>54.0</td>\n",
       "      <td>29.186682</td>\n",
       "      <td>0.226207</td>\n",
       "      <td>1.851852</td>\n",
       "      <td>1/28/2002</td>\n",
       "      <td>0.2252</td>\n",
       "      <td>NaN</td>\n",
       "      <td>NaN</td>\n",
       "      <td>NaN</td>\n",
       "      <td>2002-01-28</td>\n",
       "    </tr>\n",
       "    <tr>\n",
       "      <th>19</th>\n",
       "      <td>20020129</td>\n",
       "      <td>23226.0</td>\n",
       "      <td>79.0</td>\n",
       "      <td>27.653150</td>\n",
       "      <td>0.222370</td>\n",
       "      <td>1.265823</td>\n",
       "      <td>1/29/2002</td>\n",
       "      <td>0.2242</td>\n",
       "      <td>NaN</td>\n",
       "      <td>NaN</td>\n",
       "      <td>NaN</td>\n",
       "      <td>2002-01-29</td>\n",
       "    </tr>\n",
       "    <tr>\n",
       "      <th>20</th>\n",
       "      <td>20020130</td>\n",
       "      <td>19963.0</td>\n",
       "      <td>86.0</td>\n",
       "      <td>25.846787</td>\n",
       "      <td>0.222532</td>\n",
       "      <td>1.162791</td>\n",
       "      <td>1/30/2002</td>\n",
       "      <td>0.2280</td>\n",
       "      <td>NaN</td>\n",
       "      <td>NaN</td>\n",
       "      <td>NaN</td>\n",
       "      <td>2002-01-30</td>\n",
       "    </tr>\n",
       "    <tr>\n",
       "      <th>21</th>\n",
       "      <td>20020131</td>\n",
       "      <td>18212.0</td>\n",
       "      <td>82.0</td>\n",
       "      <td>26.886577</td>\n",
       "      <td>0.224177</td>\n",
       "      <td>1.219512</td>\n",
       "      <td>1/31/2002</td>\n",
       "      <td>0.2248</td>\n",
       "      <td>NaN</td>\n",
       "      <td>NaN</td>\n",
       "      <td>NaN</td>\n",
       "      <td>2002-01-31</td>\n",
       "    </tr>\n",
       "    <tr>\n",
       "      <th>22</th>\n",
       "      <td>20020201</td>\n",
       "      <td>22579.0</td>\n",
       "      <td>80.0</td>\n",
       "      <td>26.791470</td>\n",
       "      <td>0.220659</td>\n",
       "      <td>1.250000</td>\n",
       "      <td>2/1/2002</td>\n",
       "      <td>0.2216</td>\n",
       "      <td>NaN</td>\n",
       "      <td>NaN</td>\n",
       "      <td>NaN</td>\n",
       "      <td>2002-02-01</td>\n",
       "    </tr>\n",
       "    <tr>\n",
       "      <th>23</th>\n",
       "      <td>20020204</td>\n",
       "      <td>10249.0</td>\n",
       "      <td>45.0</td>\n",
       "      <td>29.457632</td>\n",
       "      <td>0.228190</td>\n",
       "      <td>2.222222</td>\n",
       "      <td>2/4/2002</td>\n",
       "      <td>0.2200</td>\n",
       "      <td>NaN</td>\n",
       "      <td>NaN</td>\n",
       "      <td>NaN</td>\n",
       "      <td>2002-02-04</td>\n",
       "    </tr>\n",
       "    <tr>\n",
       "      <th>24</th>\n",
       "      <td>20020205</td>\n",
       "      <td>13451.0</td>\n",
       "      <td>31.0</td>\n",
       "      <td>32.803012</td>\n",
       "      <td>0.216529</td>\n",
       "      <td>3.225806</td>\n",
       "      <td>2/5/2002</td>\n",
       "      <td>0.2202</td>\n",
       "      <td>NaN</td>\n",
       "      <td>NaN</td>\n",
       "      <td>NaN</td>\n",
       "      <td>2002-02-05</td>\n",
       "    </tr>\n",
       "    <tr>\n",
       "      <th>25</th>\n",
       "      <td>20020206</td>\n",
       "      <td>17332.0</td>\n",
       "      <td>35.0</td>\n",
       "      <td>33.797743</td>\n",
       "      <td>0.211085</td>\n",
       "      <td>2.857143</td>\n",
       "      <td>2/6/2002</td>\n",
       "      <td>0.2076</td>\n",
       "      <td>NaN</td>\n",
       "      <td>NaN</td>\n",
       "      <td>NaN</td>\n",
       "      <td>2002-02-06</td>\n",
       "    </tr>\n",
       "    <tr>\n",
       "      <th>26</th>\n",
       "      <td>20020207</td>\n",
       "      <td>17423.0</td>\n",
       "      <td>37.0</td>\n",
       "      <td>35.320646</td>\n",
       "      <td>0.210772</td>\n",
       "      <td>2.702703</td>\n",
       "      <td>2/7/2002</td>\n",
       "      <td>0.2058</td>\n",
       "      <td>NaN</td>\n",
       "      <td>NaN</td>\n",
       "      <td>NaN</td>\n",
       "      <td>2002-02-07</td>\n",
       "    </tr>\n",
       "    <tr>\n",
       "      <th>27</th>\n",
       "      <td>20020208</td>\n",
       "      <td>13467.0</td>\n",
       "      <td>55.0</td>\n",
       "      <td>30.947219</td>\n",
       "      <td>0.217126</td>\n",
       "      <td>1.818182</td>\n",
       "      <td>2/8/2002</td>\n",
       "      <td>0.2042</td>\n",
       "      <td>NaN</td>\n",
       "      <td>NaN</td>\n",
       "      <td>NaN</td>\n",
       "      <td>2002-02-08</td>\n",
       "    </tr>\n",
       "    <tr>\n",
       "      <th>28</th>\n",
       "      <td>20020211</td>\n",
       "      <td>7158.0</td>\n",
       "      <td>23.0</td>\n",
       "      <td>34.818603</td>\n",
       "      <td>0.220967</td>\n",
       "      <td>4.347826</td>\n",
       "      <td>2/11/2002</td>\n",
       "      <td>0.2052</td>\n",
       "      <td>NaN</td>\n",
       "      <td>NaN</td>\n",
       "      <td>NaN</td>\n",
       "      <td>2002-02-11</td>\n",
       "    </tr>\n",
       "    <tr>\n",
       "      <th>29</th>\n",
       "      <td>20020212</td>\n",
       "      <td>10587.0</td>\n",
       "      <td>78.0</td>\n",
       "      <td>30.434339</td>\n",
       "      <td>0.220330</td>\n",
       "      <td>1.282051</td>\n",
       "      <td>2/12/2002</td>\n",
       "      <td>0.1992</td>\n",
       "      <td>NaN</td>\n",
       "      <td>NaN</td>\n",
       "      <td>NaN</td>\n",
       "      <td>2002-02-12</td>\n",
       "    </tr>\n",
       "    <tr>\n",
       "      <th>...</th>\n",
       "      <td>...</td>\n",
       "      <td>...</td>\n",
       "      <td>...</td>\n",
       "      <td>...</td>\n",
       "      <td>...</td>\n",
       "      <td>...</td>\n",
       "      <td>...</td>\n",
       "      <td>...</td>\n",
       "      <td>...</td>\n",
       "      <td>...</td>\n",
       "      <td>...</td>\n",
       "      <td>...</td>\n",
       "    </tr>\n",
       "    <tr>\n",
       "      <th>4479</th>\n",
       "      <td>20200129</td>\n",
       "      <td>21517.0</td>\n",
       "      <td>132.0</td>\n",
       "      <td>94.131488</td>\n",
       "      <td>0.184881</td>\n",
       "      <td>0.757576</td>\n",
       "      <td>1/29/2020</td>\n",
       "      <td>0.1808</td>\n",
       "      <td>2.896367</td>\n",
       "      <td>0.010733</td>\n",
       "      <td>0.002220</td>\n",
       "      <td>2020-01-29</td>\n",
       "    </tr>\n",
       "    <tr>\n",
       "      <th>4480</th>\n",
       "      <td>20200205</td>\n",
       "      <td>4134.0</td>\n",
       "      <td>43.0</td>\n",
       "      <td>81.212951</td>\n",
       "      <td>0.165983</td>\n",
       "      <td>2.325581</td>\n",
       "      <td>2/5/2020</td>\n",
       "      <td>0.1770</td>\n",
       "      <td>2.865300</td>\n",
       "      <td>0.010933</td>\n",
       "      <td>0.002147</td>\n",
       "      <td>2020-02-05</td>\n",
       "    </tr>\n",
       "    <tr>\n",
       "      <th>4481</th>\n",
       "      <td>20200206</td>\n",
       "      <td>19314.0</td>\n",
       "      <td>154.0</td>\n",
       "      <td>102.346886</td>\n",
       "      <td>0.178973</td>\n",
       "      <td>0.649351</td>\n",
       "      <td>2/6/2020</td>\n",
       "      <td>0.1714</td>\n",
       "      <td>2.835400</td>\n",
       "      <td>0.011067</td>\n",
       "      <td>0.002080</td>\n",
       "      <td>2020-02-06</td>\n",
       "    </tr>\n",
       "    <tr>\n",
       "      <th>4482</th>\n",
       "      <td>20200207</td>\n",
       "      <td>15865.0</td>\n",
       "      <td>106.0</td>\n",
       "      <td>73.545890</td>\n",
       "      <td>0.177364</td>\n",
       "      <td>0.943396</td>\n",
       "      <td>2/7/2020</td>\n",
       "      <td>0.1670</td>\n",
       "      <td>2.958533</td>\n",
       "      <td>0.011200</td>\n",
       "      <td>0.002053</td>\n",
       "      <td>2020-02-07</td>\n",
       "    </tr>\n",
       "    <tr>\n",
       "      <th>4483</th>\n",
       "      <td>20200210</td>\n",
       "      <td>19635.0</td>\n",
       "      <td>143.0</td>\n",
       "      <td>100.893899</td>\n",
       "      <td>0.176862</td>\n",
       "      <td>0.699301</td>\n",
       "      <td>2/10/2020</td>\n",
       "      <td>0.1546</td>\n",
       "      <td>3.041133</td>\n",
       "      <td>0.010333</td>\n",
       "      <td>0.001907</td>\n",
       "      <td>2020-02-10</td>\n",
       "    </tr>\n",
       "    <tr>\n",
       "      <th>4484</th>\n",
       "      <td>20200211</td>\n",
       "      <td>19721.0</td>\n",
       "      <td>134.0</td>\n",
       "      <td>106.030603</td>\n",
       "      <td>0.176149</td>\n",
       "      <td>0.746269</td>\n",
       "      <td>2/11/2020</td>\n",
       "      <td>0.1488</td>\n",
       "      <td>3.056000</td>\n",
       "      <td>0.010000</td>\n",
       "      <td>0.001793</td>\n",
       "      <td>2020-02-11</td>\n",
       "    </tr>\n",
       "    <tr>\n",
       "      <th>4485</th>\n",
       "      <td>20200212</td>\n",
       "      <td>8726.0</td>\n",
       "      <td>74.0</td>\n",
       "      <td>101.211989</td>\n",
       "      <td>0.179685</td>\n",
       "      <td>1.351351</td>\n",
       "      <td>2/12/2020</td>\n",
       "      <td>0.1438</td>\n",
       "      <td>3.148767</td>\n",
       "      <td>0.009867</td>\n",
       "      <td>0.001760</td>\n",
       "      <td>2020-02-12</td>\n",
       "    </tr>\n",
       "    <tr>\n",
       "      <th>4486</th>\n",
       "      <td>20200218</td>\n",
       "      <td>19419.0</td>\n",
       "      <td>96.0</td>\n",
       "      <td>99.560073</td>\n",
       "      <td>0.168465</td>\n",
       "      <td>1.041667</td>\n",
       "      <td>2/18/2020</td>\n",
       "      <td>0.1462</td>\n",
       "      <td>3.077900</td>\n",
       "      <td>0.009550</td>\n",
       "      <td>0.001748</td>\n",
       "      <td>2020-02-18</td>\n",
       "    </tr>\n",
       "    <tr>\n",
       "      <th>4487</th>\n",
       "      <td>20200219</td>\n",
       "      <td>17189.0</td>\n",
       "      <td>119.0</td>\n",
       "      <td>107.297208</td>\n",
       "      <td>0.189040</td>\n",
       "      <td>0.840336</td>\n",
       "      <td>2/19/2020</td>\n",
       "      <td>0.1492</td>\n",
       "      <td>2.886567</td>\n",
       "      <td>0.008850</td>\n",
       "      <td>0.001748</td>\n",
       "      <td>2020-02-19</td>\n",
       "    </tr>\n",
       "    <tr>\n",
       "      <th>4488</th>\n",
       "      <td>20200220</td>\n",
       "      <td>31549.0</td>\n",
       "      <td>159.0</td>\n",
       "      <td>101.559208</td>\n",
       "      <td>0.172779</td>\n",
       "      <td>0.628931</td>\n",
       "      <td>2/20/2020</td>\n",
       "      <td>0.1550</td>\n",
       "      <td>2.752300</td>\n",
       "      <td>0.008800</td>\n",
       "      <td>0.001770</td>\n",
       "      <td>2020-02-20</td>\n",
       "    </tr>\n",
       "    <tr>\n",
       "      <th>4489</th>\n",
       "      <td>20200221</td>\n",
       "      <td>22042.0</td>\n",
       "      <td>133.0</td>\n",
       "      <td>118.231463</td>\n",
       "      <td>0.168943</td>\n",
       "      <td>0.751880</td>\n",
       "      <td>2/21/2020</td>\n",
       "      <td>0.1680</td>\n",
       "      <td>2.778833</td>\n",
       "      <td>0.008867</td>\n",
       "      <td>0.001840</td>\n",
       "      <td>2020-02-21</td>\n",
       "    </tr>\n",
       "    <tr>\n",
       "      <th>4490</th>\n",
       "      <td>20200224</td>\n",
       "      <td>26457.0</td>\n",
       "      <td>168.0</td>\n",
       "      <td>99.102188</td>\n",
       "      <td>0.171932</td>\n",
       "      <td>0.595238</td>\n",
       "      <td>2/24/2020</td>\n",
       "      <td>0.1668</td>\n",
       "      <td>2.589800</td>\n",
       "      <td>0.009200</td>\n",
       "      <td>0.001953</td>\n",
       "      <td>2020-02-24</td>\n",
       "    </tr>\n",
       "    <tr>\n",
       "      <th>4491</th>\n",
       "      <td>20200225</td>\n",
       "      <td>24404.0</td>\n",
       "      <td>118.0</td>\n",
       "      <td>116.015855</td>\n",
       "      <td>0.166383</td>\n",
       "      <td>0.847458</td>\n",
       "      <td>2/25/2020</td>\n",
       "      <td>0.1700</td>\n",
       "      <td>2.564000</td>\n",
       "      <td>0.010050</td>\n",
       "      <td>0.002038</td>\n",
       "      <td>2020-02-25</td>\n",
       "    </tr>\n",
       "    <tr>\n",
       "      <th>4492</th>\n",
       "      <td>20200226</td>\n",
       "      <td>28266.0</td>\n",
       "      <td>148.0</td>\n",
       "      <td>100.491462</td>\n",
       "      <td>0.170991</td>\n",
       "      <td>0.675676</td>\n",
       "      <td>2/26/2020</td>\n",
       "      <td>0.1656</td>\n",
       "      <td>2.525200</td>\n",
       "      <td>0.011283</td>\n",
       "      <td>0.002125</td>\n",
       "      <td>2020-02-26</td>\n",
       "    </tr>\n",
       "    <tr>\n",
       "      <th>4493</th>\n",
       "      <td>20200303</td>\n",
       "      <td>27498.0</td>\n",
       "      <td>155.0</td>\n",
       "      <td>93.128343</td>\n",
       "      <td>0.182934</td>\n",
       "      <td>0.645161</td>\n",
       "      <td>3/3/2020</td>\n",
       "      <td>0.1586</td>\n",
       "      <td>2.445867</td>\n",
       "      <td>0.012000</td>\n",
       "      <td>0.002177</td>\n",
       "      <td>2020-03-03</td>\n",
       "    </tr>\n",
       "    <tr>\n",
       "      <th>4494</th>\n",
       "      <td>20200304</td>\n",
       "      <td>29617.0</td>\n",
       "      <td>143.0</td>\n",
       "      <td>95.780786</td>\n",
       "      <td>0.181728</td>\n",
       "      <td>0.699301</td>\n",
       "      <td>3/4/2020</td>\n",
       "      <td>0.1534</td>\n",
       "      <td>2.237200</td>\n",
       "      <td>0.012200</td>\n",
       "      <td>0.002147</td>\n",
       "      <td>2020-03-04</td>\n",
       "    </tr>\n",
       "    <tr>\n",
       "      <th>4495</th>\n",
       "      <td>20200305</td>\n",
       "      <td>28141.0</td>\n",
       "      <td>130.0</td>\n",
       "      <td>106.374247</td>\n",
       "      <td>0.173239</td>\n",
       "      <td>0.769231</td>\n",
       "      <td>3/5/2020</td>\n",
       "      <td>0.1582</td>\n",
       "      <td>2.214533</td>\n",
       "      <td>0.012200</td>\n",
       "      <td>0.002080</td>\n",
       "      <td>2020-03-05</td>\n",
       "    </tr>\n",
       "    <tr>\n",
       "      <th>4496</th>\n",
       "      <td>20200306</td>\n",
       "      <td>26717.0</td>\n",
       "      <td>123.0</td>\n",
       "      <td>100.668025</td>\n",
       "      <td>0.182315</td>\n",
       "      <td>0.813008</td>\n",
       "      <td>3/6/2020</td>\n",
       "      <td>0.1542</td>\n",
       "      <td>2.181133</td>\n",
       "      <td>0.014000</td>\n",
       "      <td>0.002073</td>\n",
       "      <td>2020-03-06</td>\n",
       "    </tr>\n",
       "    <tr>\n",
       "      <th>4497</th>\n",
       "      <td>20200309</td>\n",
       "      <td>27141.0</td>\n",
       "      <td>133.0</td>\n",
       "      <td>101.555059</td>\n",
       "      <td>0.176367</td>\n",
       "      <td>0.751880</td>\n",
       "      <td>3/9/2020</td>\n",
       "      <td>0.1556</td>\n",
       "      <td>2.144533</td>\n",
       "      <td>0.016000</td>\n",
       "      <td>0.002013</td>\n",
       "      <td>2020-03-09</td>\n",
       "    </tr>\n",
       "    <tr>\n",
       "      <th>4498</th>\n",
       "      <td>20200310</td>\n",
       "      <td>25107.0</td>\n",
       "      <td>107.0</td>\n",
       "      <td>91.042320</td>\n",
       "      <td>0.180324</td>\n",
       "      <td>0.934579</td>\n",
       "      <td>3/10/2020</td>\n",
       "      <td>0.1604</td>\n",
       "      <td>2.293600</td>\n",
       "      <td>0.017800</td>\n",
       "      <td>0.001967</td>\n",
       "      <td>2020-03-10</td>\n",
       "    </tr>\n",
       "    <tr>\n",
       "      <th>4499</th>\n",
       "      <td>20200311</td>\n",
       "      <td>26261.0</td>\n",
       "      <td>107.0</td>\n",
       "      <td>104.462877</td>\n",
       "      <td>0.181244</td>\n",
       "      <td>0.934579</td>\n",
       "      <td>3/11/2020</td>\n",
       "      <td>0.1642</td>\n",
       "      <td>2.444000</td>\n",
       "      <td>0.020400</td>\n",
       "      <td>0.001993</td>\n",
       "      <td>2020-03-11</td>\n",
       "    </tr>\n",
       "    <tr>\n",
       "      <th>4500</th>\n",
       "      <td>20200312</td>\n",
       "      <td>21872.0</td>\n",
       "      <td>116.0</td>\n",
       "      <td>125.648341</td>\n",
       "      <td>0.176743</td>\n",
       "      <td>0.862069</td>\n",
       "      <td>3/12/2020</td>\n",
       "      <td>0.1656</td>\n",
       "      <td>2.465733</td>\n",
       "      <td>0.021800</td>\n",
       "      <td>0.001993</td>\n",
       "      <td>2020-03-12</td>\n",
       "    </tr>\n",
       "    <tr>\n",
       "      <th>4501</th>\n",
       "      <td>20200317</td>\n",
       "      <td>20147.0</td>\n",
       "      <td>171.0</td>\n",
       "      <td>91.241191</td>\n",
       "      <td>0.184389</td>\n",
       "      <td>0.584795</td>\n",
       "      <td>3/17/2020</td>\n",
       "      <td>0.1668</td>\n",
       "      <td>2.430667</td>\n",
       "      <td>0.019250</td>\n",
       "      <td>0.001855</td>\n",
       "      <td>2020-03-17</td>\n",
       "    </tr>\n",
       "    <tr>\n",
       "      <th>4502</th>\n",
       "      <td>20200318</td>\n",
       "      <td>21552.0</td>\n",
       "      <td>161.0</td>\n",
       "      <td>77.141210</td>\n",
       "      <td>0.191816</td>\n",
       "      <td>0.621118</td>\n",
       "      <td>3/18/2020</td>\n",
       "      <td>0.1734</td>\n",
       "      <td>2.451800</td>\n",
       "      <td>0.016467</td>\n",
       "      <td>0.001813</td>\n",
       "      <td>2020-03-18</td>\n",
       "    </tr>\n",
       "    <tr>\n",
       "      <th>4503</th>\n",
       "      <td>20200319</td>\n",
       "      <td>15379.0</td>\n",
       "      <td>133.0</td>\n",
       "      <td>89.258618</td>\n",
       "      <td>0.185170</td>\n",
       "      <td>0.751880</td>\n",
       "      <td>3/19/2020</td>\n",
       "      <td>0.1738</td>\n",
       "      <td>2.333067</td>\n",
       "      <td>0.014050</td>\n",
       "      <td>0.001823</td>\n",
       "      <td>2020-03-19</td>\n",
       "    </tr>\n",
       "    <tr>\n",
       "      <th>4504</th>\n",
       "      <td>20200320</td>\n",
       "      <td>18527.0</td>\n",
       "      <td>150.0</td>\n",
       "      <td>91.697606</td>\n",
       "      <td>0.189014</td>\n",
       "      <td>0.666667</td>\n",
       "      <td>3/20/2020</td>\n",
       "      <td>0.1616</td>\n",
       "      <td>2.305133</td>\n",
       "      <td>0.011200</td>\n",
       "      <td>0.001802</td>\n",
       "      <td>2020-03-20</td>\n",
       "    </tr>\n",
       "    <tr>\n",
       "      <th>4505</th>\n",
       "      <td>20200323</td>\n",
       "      <td>22050.0</td>\n",
       "      <td>163.0</td>\n",
       "      <td>92.262835</td>\n",
       "      <td>0.183232</td>\n",
       "      <td>0.613497</td>\n",
       "      <td>3/23/2020</td>\n",
       "      <td>0.1556</td>\n",
       "      <td>2.360400</td>\n",
       "      <td>0.009800</td>\n",
       "      <td>0.001775</td>\n",
       "      <td>2020-03-23</td>\n",
       "    </tr>\n",
       "    <tr>\n",
       "      <th>4506</th>\n",
       "      <td>20200324</td>\n",
       "      <td>24221.0</td>\n",
       "      <td>177.0</td>\n",
       "      <td>91.541995</td>\n",
       "      <td>0.187317</td>\n",
       "      <td>0.564972</td>\n",
       "      <td>3/24/2020</td>\n",
       "      <td>0.1516</td>\n",
       "      <td>2.466833</td>\n",
       "      <td>0.010283</td>\n",
       "      <td>0.001867</td>\n",
       "      <td>2020-03-24</td>\n",
       "    </tr>\n",
       "    <tr>\n",
       "      <th>4507</th>\n",
       "      <td>20200325</td>\n",
       "      <td>22649.0</td>\n",
       "      <td>174.0</td>\n",
       "      <td>80.328178</td>\n",
       "      <td>0.193251</td>\n",
       "      <td>0.574713</td>\n",
       "      <td>3/25/2020</td>\n",
       "      <td>0.1442</td>\n",
       "      <td>2.523800</td>\n",
       "      <td>0.010800</td>\n",
       "      <td>0.001862</td>\n",
       "      <td>2020-03-25</td>\n",
       "    </tr>\n",
       "    <tr>\n",
       "      <th>4508</th>\n",
       "      <td>20200331</td>\n",
       "      <td>23953.0</td>\n",
       "      <td>189.0</td>\n",
       "      <td>88.180151</td>\n",
       "      <td>0.189842</td>\n",
       "      <td>0.529101</td>\n",
       "      <td>3/31/2020</td>\n",
       "      <td>0.1420</td>\n",
       "      <td>2.560333</td>\n",
       "      <td>0.011300</td>\n",
       "      <td>0.001817</td>\n",
       "      <td>2020-03-31</td>\n",
       "    </tr>\n",
       "  </tbody>\n",
       "</table>\n",
       "<p>4509 rows × 12 columns</p>\n",
       "</div>"
      ],
      "text/plain": [
       "      datestring  total_extracted  number_extract_points  average_exhaustion  \\\n",
       "0       20020102          23057.0                   86.0           23.489290   \n",
       "1       20020103          19952.0                   93.0           23.504239   \n",
       "2       20020104          24246.0                   89.0           24.692335   \n",
       "3       20020107          10924.0                   75.0           22.959558   \n",
       "4       20020108          25361.0                   85.0           24.757384   \n",
       "5       20020109          24320.0                   73.0           27.453357   \n",
       "6       20020110          19740.0                   89.0           22.568199   \n",
       "7       20020111          14302.0                   58.0           20.804870   \n",
       "8       20020114          14457.0                   44.0           18.877361   \n",
       "9       20020115          22302.0                   74.0           25.504162   \n",
       "10      20020116          20562.0                   78.0           25.453839   \n",
       "11      20020117          16718.0                   84.0           24.685645   \n",
       "12      20020118          18868.0                   46.0           30.918562   \n",
       "13      20020121           8948.0                   36.0           30.441083   \n",
       "14      20020122          21340.0                   75.0           28.538038   \n",
       "15      20020123          17615.0                   76.0           26.721500   \n",
       "16      20020124          23447.0                   87.0           24.344790   \n",
       "17      20020125          22124.0                   73.0           24.918559   \n",
       "18      20020128          12237.0                   54.0           29.186682   \n",
       "19      20020129          23226.0                   79.0           27.653150   \n",
       "20      20020130          19963.0                   86.0           25.846787   \n",
       "21      20020131          18212.0                   82.0           26.886577   \n",
       "22      20020201          22579.0                   80.0           26.791470   \n",
       "23      20020204          10249.0                   45.0           29.457632   \n",
       "24      20020205          13451.0                   31.0           32.803012   \n",
       "25      20020206          17332.0                   35.0           33.797743   \n",
       "26      20020207          17423.0                   37.0           35.320646   \n",
       "27      20020208          13467.0                   55.0           30.947219   \n",
       "28      20020211           7158.0                   23.0           34.818603   \n",
       "29      20020212          10587.0                   78.0           30.434339   \n",
       "...          ...              ...                    ...                 ...   \n",
       "4479    20200129          21517.0                  132.0           94.131488   \n",
       "4480    20200205           4134.0                   43.0           81.212951   \n",
       "4481    20200206          19314.0                  154.0          102.346886   \n",
       "4482    20200207          15865.0                  106.0           73.545890   \n",
       "4483    20200210          19635.0                  143.0          100.893899   \n",
       "4484    20200211          19721.0                  134.0          106.030603   \n",
       "4485    20200212           8726.0                   74.0          101.211989   \n",
       "4486    20200218          19419.0                   96.0           99.560073   \n",
       "4487    20200219          17189.0                  119.0          107.297208   \n",
       "4488    20200220          31549.0                  159.0          101.559208   \n",
       "4489    20200221          22042.0                  133.0          118.231463   \n",
       "4490    20200224          26457.0                  168.0           99.102188   \n",
       "4491    20200225          24404.0                  118.0          116.015855   \n",
       "4492    20200226          28266.0                  148.0          100.491462   \n",
       "4493    20200303          27498.0                  155.0           93.128343   \n",
       "4494    20200304          29617.0                  143.0           95.780786   \n",
       "4495    20200305          28141.0                  130.0          106.374247   \n",
       "4496    20200306          26717.0                  123.0          100.668025   \n",
       "4497    20200309          27141.0                  133.0          101.555059   \n",
       "4498    20200310          25107.0                  107.0           91.042320   \n",
       "4499    20200311          26261.0                  107.0          104.462877   \n",
       "4500    20200312          21872.0                  116.0          125.648341   \n",
       "4501    20200317          20147.0                  171.0           91.241191   \n",
       "4502    20200318          21552.0                  161.0           77.141210   \n",
       "4503    20200319          15379.0                  133.0           89.258618   \n",
       "4504    20200320          18527.0                  150.0           91.697606   \n",
       "4505    20200323          22050.0                  163.0           92.262835   \n",
       "4506    20200324          24221.0                  177.0           91.541995   \n",
       "4507    20200325          22649.0                  174.0           80.328178   \n",
       "4508    20200331          23953.0                  189.0           88.180151   \n",
       "\n",
       "      average_sA  average_percent_extracted_per_point       date      pA  \\\n",
       "0       0.217506                             1.162791   1/2/2002  0.2098   \n",
       "1       0.219029                             1.075269   1/3/2002  0.2130   \n",
       "2       0.218939                             1.123596   1/4/2002  0.2164   \n",
       "3       0.217301                             1.333333   1/7/2002  0.2162   \n",
       "4       0.217990                             1.176471   1/8/2002  0.2206   \n",
       "5       0.219334                             1.369863   1/9/2002  0.2170   \n",
       "6       0.218457                             1.123596  1/10/2002  0.2104   \n",
       "7       0.216775                             1.724138  1/11/2002  0.2144   \n",
       "8       0.228759                             2.272727  1/14/2002  0.2144   \n",
       "9       0.218886                             1.351351  1/15/2002  0.2114   \n",
       "10      0.218696                             1.282051  1/16/2002  0.2172   \n",
       "11      0.216432                             1.190476  1/17/2002  0.2160   \n",
       "12      0.214608                             2.173913  1/18/2002  0.2180   \n",
       "13      0.207523                             2.777778  1/21/2002  0.2176   \n",
       "14      0.213727                             1.333333  1/22/2002  0.2210   \n",
       "15      0.218624                             1.315789  1/23/2002  0.2232   \n",
       "16      0.219927                             1.149425  1/24/2002  0.2316   \n",
       "17      0.219539                             1.369863  1/25/2002  0.2268   \n",
       "18      0.226207                             1.851852  1/28/2002  0.2252   \n",
       "19      0.222370                             1.265823  1/29/2002  0.2242   \n",
       "20      0.222532                             1.162791  1/30/2002  0.2280   \n",
       "21      0.224177                             1.219512  1/31/2002  0.2248   \n",
       "22      0.220659                             1.250000   2/1/2002  0.2216   \n",
       "23      0.228190                             2.222222   2/4/2002  0.2200   \n",
       "24      0.216529                             3.225806   2/5/2002  0.2202   \n",
       "25      0.211085                             2.857143   2/6/2002  0.2076   \n",
       "26      0.210772                             2.702703   2/7/2002  0.2058   \n",
       "27      0.217126                             1.818182   2/8/2002  0.2042   \n",
       "28      0.220967                             4.347826  2/11/2002  0.2052   \n",
       "29      0.220330                             1.282051  2/12/2002  0.1992   \n",
       "...          ...                                  ...        ...     ...   \n",
       "4479    0.184881                             0.757576  1/29/2020  0.1808   \n",
       "4480    0.165983                             2.325581   2/5/2020  0.1770   \n",
       "4481    0.178973                             0.649351   2/6/2020  0.1714   \n",
       "4482    0.177364                             0.943396   2/7/2020  0.1670   \n",
       "4483    0.176862                             0.699301  2/10/2020  0.1546   \n",
       "4484    0.176149                             0.746269  2/11/2020  0.1488   \n",
       "4485    0.179685                             1.351351  2/12/2020  0.1438   \n",
       "4486    0.168465                             1.041667  2/18/2020  0.1462   \n",
       "4487    0.189040                             0.840336  2/19/2020  0.1492   \n",
       "4488    0.172779                             0.628931  2/20/2020  0.1550   \n",
       "4489    0.168943                             0.751880  2/21/2020  0.1680   \n",
       "4490    0.171932                             0.595238  2/24/2020  0.1668   \n",
       "4491    0.166383                             0.847458  2/25/2020  0.1700   \n",
       "4492    0.170991                             0.675676  2/26/2020  0.1656   \n",
       "4493    0.182934                             0.645161   3/3/2020  0.1586   \n",
       "4494    0.181728                             0.699301   3/4/2020  0.1534   \n",
       "4495    0.173239                             0.769231   3/5/2020  0.1582   \n",
       "4496    0.182315                             0.813008   3/6/2020  0.1542   \n",
       "4497    0.176367                             0.751880   3/9/2020  0.1556   \n",
       "4498    0.180324                             0.934579  3/10/2020  0.1604   \n",
       "4499    0.181244                             0.934579  3/11/2020  0.1642   \n",
       "4500    0.176743                             0.862069  3/12/2020  0.1656   \n",
       "4501    0.184389                             0.584795  3/17/2020  0.1668   \n",
       "4502    0.191816                             0.621118  3/18/2020  0.1734   \n",
       "4503    0.185170                             0.751880  3/19/2020  0.1738   \n",
       "4504    0.189014                             0.666667  3/20/2020  0.1616   \n",
       "4505    0.183232                             0.613497  3/23/2020  0.1556   \n",
       "4506    0.187317                             0.564972  3/24/2020  0.1516   \n",
       "4507    0.193251                             0.574713  3/25/2020  0.1442   \n",
       "4508    0.189842                             0.529101  3/31/2020  0.1420   \n",
       "\n",
       "            pB        pD        pC   datetime  \n",
       "0          NaN       NaN       NaN 2002-01-02  \n",
       "1          NaN       NaN       NaN 2002-01-03  \n",
       "2          NaN       NaN       NaN 2002-01-04  \n",
       "3          NaN       NaN       NaN 2002-01-07  \n",
       "4          NaN       NaN       NaN 2002-01-08  \n",
       "5          NaN       NaN       NaN 2002-01-09  \n",
       "6          NaN       NaN       NaN 2002-01-10  \n",
       "7          NaN       NaN       NaN 2002-01-11  \n",
       "8          NaN       NaN       NaN 2002-01-14  \n",
       "9          NaN       NaN       NaN 2002-01-15  \n",
       "10         NaN       NaN       NaN 2002-01-16  \n",
       "11         NaN       NaN       NaN 2002-01-17  \n",
       "12         NaN       NaN       NaN 2002-01-18  \n",
       "13         NaN       NaN       NaN 2002-01-21  \n",
       "14         NaN       NaN       NaN 2002-01-22  \n",
       "15         NaN       NaN       NaN 2002-01-23  \n",
       "16         NaN       NaN       NaN 2002-01-24  \n",
       "17         NaN       NaN       NaN 2002-01-25  \n",
       "18         NaN       NaN       NaN 2002-01-28  \n",
       "19         NaN       NaN       NaN 2002-01-29  \n",
       "20         NaN       NaN       NaN 2002-01-30  \n",
       "21         NaN       NaN       NaN 2002-01-31  \n",
       "22         NaN       NaN       NaN 2002-02-01  \n",
       "23         NaN       NaN       NaN 2002-02-04  \n",
       "24         NaN       NaN       NaN 2002-02-05  \n",
       "25         NaN       NaN       NaN 2002-02-06  \n",
       "26         NaN       NaN       NaN 2002-02-07  \n",
       "27         NaN       NaN       NaN 2002-02-08  \n",
       "28         NaN       NaN       NaN 2002-02-11  \n",
       "29         NaN       NaN       NaN 2002-02-12  \n",
       "...        ...       ...       ...        ...  \n",
       "4479  2.896367  0.010733  0.002220 2020-01-29  \n",
       "4480  2.865300  0.010933  0.002147 2020-02-05  \n",
       "4481  2.835400  0.011067  0.002080 2020-02-06  \n",
       "4482  2.958533  0.011200  0.002053 2020-02-07  \n",
       "4483  3.041133  0.010333  0.001907 2020-02-10  \n",
       "4484  3.056000  0.010000  0.001793 2020-02-11  \n",
       "4485  3.148767  0.009867  0.001760 2020-02-12  \n",
       "4486  3.077900  0.009550  0.001748 2020-02-18  \n",
       "4487  2.886567  0.008850  0.001748 2020-02-19  \n",
       "4488  2.752300  0.008800  0.001770 2020-02-20  \n",
       "4489  2.778833  0.008867  0.001840 2020-02-21  \n",
       "4490  2.589800  0.009200  0.001953 2020-02-24  \n",
       "4491  2.564000  0.010050  0.002038 2020-02-25  \n",
       "4492  2.525200  0.011283  0.002125 2020-02-26  \n",
       "4493  2.445867  0.012000  0.002177 2020-03-03  \n",
       "4494  2.237200  0.012200  0.002147 2020-03-04  \n",
       "4495  2.214533  0.012200  0.002080 2020-03-05  \n",
       "4496  2.181133  0.014000  0.002073 2020-03-06  \n",
       "4497  2.144533  0.016000  0.002013 2020-03-09  \n",
       "4498  2.293600  0.017800  0.001967 2020-03-10  \n",
       "4499  2.444000  0.020400  0.001993 2020-03-11  \n",
       "4500  2.465733  0.021800  0.001993 2020-03-12  \n",
       "4501  2.430667  0.019250  0.001855 2020-03-17  \n",
       "4502  2.451800  0.016467  0.001813 2020-03-18  \n",
       "4503  2.333067  0.014050  0.001823 2020-03-19  \n",
       "4504  2.305133  0.011200  0.001802 2020-03-20  \n",
       "4505  2.360400  0.009800  0.001775 2020-03-23  \n",
       "4506  2.466833  0.010283  0.001867 2020-03-24  \n",
       "4507  2.523800  0.010800  0.001862 2020-03-25  \n",
       "4508  2.560333  0.011300  0.001817 2020-03-31  \n",
       "\n",
       "[4509 rows x 12 columns]"
      ]
     },
     "execution_count": 8,
     "metadata": {},
     "output_type": "execute_result"
    }
   ],
   "source": [
    "# Removing first 6 months of data due to unreliable exhaustion values\n",
    "daily_composite_ra = daily_composite_ra.loc[daily_composite_ra['datestring'] > 20011231].reset_index(drop=True)\n",
    "daily_composite_ra"
   ]
  },
  {
   "cell_type": "code",
   "execution_count": 9,
   "metadata": {},
   "outputs": [],
   "source": [
    "##########################\n",
    "# pA Testing Starts Here #\n",
    "##########################"
   ]
  },
  {
   "cell_type": "code",
   "execution_count": 10,
   "metadata": {
    "scrolled": false
   },
   "outputs": [
    {
     "data": {
      "image/png": "[encoded data removed]",
      "text/plain": [
       "<Figure size 432x288 with 1 Axes>"
      ]
     },
     "metadata": {
      "needs_background": "light"
     },
     "output_type": "display_data"
    }
   ],
   "source": [
    "# Look at scatter plots of each independent variable to identify any trends right away\n",
    "fig, ax = plt.subplots()\n",
    "ax.scatter(daily_composite_ra['average_exhaustion'],daily_composite_ra['pA'])\n",
    "plt.title('Daily pA vs Exhaustion')\n",
    "ax.set_ylabel('Daily pA')\n",
    "ax.set_xlabel('Exhaustion')\n",
    "fig.set_size_inches(6, 4)\n",
    "fig.savefig('Images/day_pA_exhaustion_ra.png', dpi=96)\n",
    "plt.show()"
   ]
  },
  {
   "cell_type": "code",
   "execution_count": 11,
   "metadata": {
    "scrolled": true
   },
   "outputs": [
    {
     "data": {
      "image/png": "[encoded data removed]",
      "text/plain": [
       "<Figure size 432x288 with 1 Axes>"
      ]
     },
     "metadata": {
      "needs_background": "light"
     },
     "output_type": "display_data"
    }
   ],
   "source": [
    "fig, ax = plt.subplots()\n",
    "ax.scatter(daily_composite_ra['average_sA'],daily_composite_ra['pA'])\n",
    "plt.title('Daily pA vs sA')\n",
    "ax.set_ylabel('Daily pA')\n",
    "ax.set_xlabel('sA')\n",
    "fig.set_size_inches(6, 4)\n",
    "fig.savefig('Images/day_pA_sA_ra.png', dpi=96)\n",
    "plt.show()"
   ]
  },
  {
   "cell_type": "code",
   "execution_count": 12,
   "metadata": {},
   "outputs": [
    {
     "data": {
      "image/png": "[encoded data removed]",
      "text/plain": [
       "<Figure size 432x288 with 1 Axes>"
      ]
     },
     "metadata": {
      "needs_background": "light"
     },
     "output_type": "display_data"
    }
   ],
   "source": [
    "fig, ax = plt.subplots()\n",
    "ax.scatter(daily_composite_ra['number_extract_points'],daily_composite_ra['pA'])\n",
    "plt.title('Daily pA vs Number of Extract Points')\n",
    "ax.set_ylabel('Daily pA')\n",
    "ax.set_xlabel('Number of Extract Points')\n",
    "fig.set_size_inches(6, 4)\n",
    "fig.savefig('Images/day_pA_extract_pts_ra.png', dpi=96)\n",
    "plt.show()"
   ]
  },
  {
   "cell_type": "code",
   "execution_count": 13,
   "metadata": {},
   "outputs": [],
   "source": [
    "daily_sel = daily_composite_ra[['average_exhaustion','average_sA','number_extract_points','pA']]\n",
    "model = forward_selected(daily_sel,'pA')"
   ]
  },
  {
   "cell_type": "code",
   "execution_count": 14,
   "metadata": {},
   "outputs": [
    {
     "name": "stdout",
     "output_type": "stream",
     "text": [
      "pA ~ average_sA + average_exhaustion + number_extract_points + 1\n"
     ]
    }
   ],
   "source": [
    "print (model.model.formula)"
   ]
  },
  {
   "cell_type": "code",
   "execution_count": 15,
   "metadata": {},
   "outputs": [
    {
     "name": "stdout",
     "output_type": "stream",
     "text": [
      "0.21502096988086794\n"
     ]
    }
   ],
   "source": [
    "print(model.rsquared_adj)"
   ]
  },
  {
   "cell_type": "code",
   "execution_count": 16,
   "metadata": {},
   "outputs": [
    {
     "name": "stdout",
     "output_type": "stream",
     "text": [
      "(4509, 3) (4509, 1)\n"
     ]
    }
   ],
   "source": [
    "X = daily_composite_ra[['average_exhaustion','average_sA','number_extract_points']]\n",
    "y = daily_composite_ra['pA'].values.reshape(-1,1)\n",
    "print(X.shape,y.shape)"
   ]
  },
  {
   "cell_type": "code",
   "execution_count": 17,
   "metadata": {},
   "outputs": [],
   "source": [
    "from sklearn.model_selection import train_test_split\n",
    "X_train, X_test, y_train, y_test = train_test_split(X,y,random_state = 3)"
   ]
  },
  {
   "cell_type": "code",
   "execution_count": 18,
   "metadata": {},
   "outputs": [],
   "source": [
    "from sklearn.linear_model import LinearRegression\n",
    "model = LinearRegression()"
   ]
  },
  {
   "cell_type": "code",
   "execution_count": 19,
   "metadata": {},
   "outputs": [
    {
     "name": "stdout",
     "output_type": "stream",
     "text": [
      "Training Score: 0.21859738717492416\n",
      "Testing Score: 0.20437208848403396\n"
     ]
    }
   ],
   "source": [
    "model.fit(X_train,y_train)\n",
    "training_score = model.score(X_train,y_train)\n",
    "testing_score = model.score(X_test,y_test)\n",
    "print(f'Training Score: {training_score}')\n",
    "print(f'Testing Score: {testing_score}')"
   ]
  },
  {
   "cell_type": "code",
   "execution_count": 20,
   "metadata": {
    "scrolled": false
   },
   "outputs": [
    {
     "data": {
      "image/png": "[encoded data removed]",
      "text/plain": [
       "<Figure size 432x288 with 1 Axes>"
      ]
     },
     "metadata": {
      "needs_background": "light"
     },
     "output_type": "display_data"
    }
   ],
   "source": [
    "fig, ax = plt.subplots()\n",
    "ax.scatter(model.predict(X_train),model.predict(X_train) - y_train, c='blue',label='Training Data')\n",
    "ax.scatter(model.predict(X_test),model.predict(X_test) - y_test, c='orange', label='Testing Data')\n",
    "plt.legend()\n",
    "plt.hlines(y=0,xmin=y.min(),xmax=y.max())\n",
    "plt.title('Residual Plot, Daily pA, 3-Variable Linear Model')\n",
    "fig.set_size_inches(6, 4)\n",
    "fig.savefig('Images/day_pA_linear_residual_ra.png', dpi=96)\n",
    "plt.show()"
   ]
  },
  {
   "cell_type": "code",
   "execution_count": 21,
   "metadata": {},
   "outputs": [
    {
     "data": {
      "text/html": [
       "<div>\n",
       "<style scoped>\n",
       "    .dataframe tbody tr th:only-of-type {\n",
       "        vertical-align: middle;\n",
       "    }\n",
       "\n",
       "    .dataframe tbody tr th {\n",
       "        vertical-align: top;\n",
       "    }\n",
       "\n",
       "    .dataframe thead th {\n",
       "        text-align: right;\n",
       "    }\n",
       "</style>\n",
       "<table border=\"1\" class=\"dataframe\">\n",
       "  <thead>\n",
       "    <tr style=\"text-align: right;\">\n",
       "      <th></th>\n",
       "      <th>datetime</th>\n",
       "      <th>average_exhaustion</th>\n",
       "      <th>average_sA</th>\n",
       "      <th>number_extract_points</th>\n",
       "      <th>pA</th>\n",
       "    </tr>\n",
       "  </thead>\n",
       "  <tbody>\n",
       "    <tr>\n",
       "      <th>0</th>\n",
       "      <td>2002-01-02</td>\n",
       "      <td>23.489290</td>\n",
       "      <td>0.217506</td>\n",
       "      <td>86.0</td>\n",
       "      <td>0.2098</td>\n",
       "    </tr>\n",
       "    <tr>\n",
       "      <th>1</th>\n",
       "      <td>2002-01-03</td>\n",
       "      <td>23.504239</td>\n",
       "      <td>0.219029</td>\n",
       "      <td>93.0</td>\n",
       "      <td>0.2130</td>\n",
       "    </tr>\n",
       "    <tr>\n",
       "      <th>2</th>\n",
       "      <td>2002-01-04</td>\n",
       "      <td>24.692335</td>\n",
       "      <td>0.218939</td>\n",
       "      <td>89.0</td>\n",
       "      <td>0.2164</td>\n",
       "    </tr>\n",
       "    <tr>\n",
       "      <th>3</th>\n",
       "      <td>2002-01-07</td>\n",
       "      <td>22.959558</td>\n",
       "      <td>0.217301</td>\n",
       "      <td>75.0</td>\n",
       "      <td>0.2162</td>\n",
       "    </tr>\n",
       "    <tr>\n",
       "      <th>4</th>\n",
       "      <td>2002-01-08</td>\n",
       "      <td>24.757384</td>\n",
       "      <td>0.217990</td>\n",
       "      <td>85.0</td>\n",
       "      <td>0.2206</td>\n",
       "    </tr>\n",
       "  </tbody>\n",
       "</table>\n",
       "</div>"
      ],
      "text/plain": [
       "    datetime  average_exhaustion  average_sA  number_extract_points      pA\n",
       "0 2002-01-02           23.489290    0.217506                   86.0  0.2098\n",
       "1 2002-01-03           23.504239    0.219029                   93.0  0.2130\n",
       "2 2002-01-04           24.692335    0.218939                   89.0  0.2164\n",
       "3 2002-01-07           22.959558    0.217301                   75.0  0.2162\n",
       "4 2002-01-08           24.757384    0.217990                   85.0  0.2206"
      ]
     },
     "execution_count": 21,
     "metadata": {},
     "output_type": "execute_result"
    }
   ],
   "source": [
    "daily_pA = daily_composite_ra.copy()\n",
    "daily_pA = daily_pA[['datetime','average_exhaustion','average_sA','number_extract_points','pA']].dropna()\n",
    "daily_pA.head()"
   ]
  },
  {
   "cell_type": "code",
   "execution_count": 22,
   "metadata": {},
   "outputs": [],
   "source": [
    "variables_list = []\n",
    "num_vars_list = []\n",
    "score_list = []\n",
    "mse_list = []"
   ]
  },
  {
   "cell_type": "code",
   "execution_count": 23,
   "metadata": {},
   "outputs": [
    {
     "name": "stdout",
     "output_type": "stream",
     "text": [
      "(4509, 3) (4509, 1)\n",
      "Exhaustion, sA, Number Extract Points\n",
      "Training Score: 0.21859738717492416\n",
      "Testing Score: 0.20437208848403396\n",
      "R2 Value: [0.21502709]\n",
      "Adjusted R2 value: [0.21450435]\n",
      "MSE: 0.00045534163129126265\n"
     ]
    }
   ],
   "source": [
    "variables_used = 'Exhaustion, sA, Number Extract Points'\n",
    "num_variables = 3\n",
    "X = daily_pA[['average_exhaustion','average_sA','number_extract_points']]\n",
    "y = daily_pA['pA'].values.reshape(-1,1)\n",
    "print(X.shape,y.shape)\n",
    "X_train, X_test, y_train, y_test = train_test_split(X,y,random_state = 3)\n",
    "model = LinearRegression()\n",
    "model.fit(X_train,y_train)\n",
    "training_score = model.score(X_train,y_train)\n",
    "testing_score = model.score(X_test,y_test)\n",
    "print(variables_used)\n",
    "print(f'Training Score: {training_score}')\n",
    "print(f'Testing Score: {testing_score}')\n",
    "predicted = model.predict(X)\n",
    "SS_Residual = sum((y-predicted)**2)       \n",
    "SS_Total = sum((y-np.mean(y))**2)     \n",
    "r_squared = 1 - (float(SS_Residual))/SS_Total\n",
    "adjusted_r_squared = 1 - (1-r_squared)*(len(y)-1)/(len(y)-X.shape[1]-1)\n",
    "print(f'R2 Value: {r_squared}')\n",
    "print(f'Adjusted R2 value: {adjusted_r_squared}')\n",
    "from sklearn.metrics import mean_squared_error, r2_score\n",
    "print(f'MSE: {mean_squared_error(y,predicted)}')\n",
    "variables_list.append(variables_used)\n",
    "num_vars_list.append(num_variables)\n",
    "score_list.append(model.score(X,y))\n",
    "mse_list.append(mean_squared_error(y,predicted))"
   ]
  },
  {
   "cell_type": "code",
   "execution_count": 24,
   "metadata": {},
   "outputs": [
    {
     "name": "stdout",
     "output_type": "stream",
     "text": [
      "(4509, 1) (4509, 1)\n",
      "Exhaustion\n",
      "Training Score: 0.14903462023894254\n",
      "Testing Score: 0.1159461055559926\n"
     ]
    }
   ],
   "source": [
    "variables_used = 'Exhaustion'\n",
    "num_variables = 1\n",
    "X = daily_pA[['average_exhaustion']]\n",
    "y = daily_pA['pA'].values.reshape(-1,1)\n",
    "print(X.shape,y.shape)\n",
    "X_train, X_test, y_train, y_test = train_test_split(X,y,random_state = 3)\n",
    "model = LinearRegression()\n",
    "model.fit(X_train,y_train)\n",
    "training_score = model.score(X_train,y_train)\n",
    "testing_score = model.score(X_test,y_test)\n",
    "print(variables_used)\n",
    "print(f'Training Score: {training_score}')\n",
    "print(f'Testing Score: {testing_score}')\n",
    "predicted = model.predict(X)\n",
    "variables_list.append(variables_used)\n",
    "num_vars_list.append(num_variables)\n",
    "score_list.append(model.score(X,y))\n",
    "mse_list.append(mean_squared_error(y,predicted))"
   ]
  },
  {
   "cell_type": "code",
   "execution_count": 25,
   "metadata": {},
   "outputs": [
    {
     "name": "stdout",
     "output_type": "stream",
     "text": [
      "(4509, 1) (4509, 1)\n",
      "sA\n",
      "Training Score: 0.1698668707890586\n",
      "Testing Score: 0.1858410576047168\n"
     ]
    }
   ],
   "source": [
    "variables_used = 'sA'\n",
    "num_variables = 1\n",
    "X = daily_pA[['average_sA']]\n",
    "y = daily_pA['pA'].values.reshape(-1,1)\n",
    "print(X.shape,y.shape)\n",
    "X_train, X_test, y_train, y_test = train_test_split(X,y,random_state = 3)\n",
    "model = LinearRegression()\n",
    "model.fit(X_train,y_train)\n",
    "training_score = model.score(X_train,y_train)\n",
    "testing_score = model.score(X_test,y_test)\n",
    "predicted = model.predict(X)\n",
    "print(variables_used)\n",
    "print(f'Training Score: {training_score}')\n",
    "print(f'Testing Score: {testing_score}')\n",
    "variables_list.append(variables_used)\n",
    "num_vars_list.append(num_variables)\n",
    "score_list.append(model.score(X,y))\n",
    "mse_list.append(mean_squared_error(y,predicted))"
   ]
  },
  {
   "cell_type": "code",
   "execution_count": 26,
   "metadata": {},
   "outputs": [
    {
     "name": "stdout",
     "output_type": "stream",
     "text": [
      "(4509, 1) (4509, 1)\n",
      "Number Extract Points\n",
      "Training Score: 0.023496188554848585\n",
      "Testing Score: 0.013824202250565465\n"
     ]
    }
   ],
   "source": [
    "variables_used = 'Number Extract Points'\n",
    "num_variables = 1\n",
    "X = daily_pA[['number_extract_points']]\n",
    "y = daily_pA['pA'].values.reshape(-1,1)\n",
    "print(X.shape,y.shape)\n",
    "X_train, X_test, y_train, y_test = train_test_split(X,y,random_state = 3)\n",
    "model = LinearRegression()\n",
    "model.fit(X_train,y_train)\n",
    "training_score = model.score(X_train,y_train)\n",
    "testing_score = model.score(X_test,y_test)\n",
    "predicted = model.predict(X)\n",
    "print(variables_used)\n",
    "print(f'Training Score: {training_score}')\n",
    "print(f'Testing Score: {testing_score}')\n",
    "variables_list.append(variables_used)\n",
    "num_vars_list.append(num_variables)\n",
    "score_list.append(model.score(X,y))\n",
    "mse_list.append(mean_squared_error(y,predicted))"
   ]
  },
  {
   "cell_type": "code",
   "execution_count": 27,
   "metadata": {},
   "outputs": [
    {
     "name": "stdout",
     "output_type": "stream",
     "text": [
      "(4509, 2) (4509, 1)\n",
      "Exhaustion, sA\n",
      "Training Score: 0.21490394775361144\n",
      "Testing Score: 0.2058653268376589\n"
     ]
    }
   ],
   "source": [
    "variables_used = 'Exhaustion, sA'\n",
    "num_variables = 2\n",
    "X = daily_pA[['average_exhaustion','average_sA']]\n",
    "y = daily_pA['pA'].values.reshape(-1,1)\n",
    "print(X.shape,y.shape)\n",
    "X_train, X_test, y_train, y_test = train_test_split(X,y,random_state = 3)\n",
    "model = LinearRegression()\n",
    "model.fit(X_train,y_train)\n",
    "training_score = model.score(X_train,y_train)\n",
    "testing_score = model.score(X_test,y_test)\n",
    "predicted = model.predict(X)\n",
    "print(variables_used)\n",
    "print(f'Training Score: {training_score}')\n",
    "print(f'Testing Score: {testing_score}')\n",
    "variables_list.append(variables_used)\n",
    "num_vars_list.append(num_variables)\n",
    "score_list.append(model.score(X,y))\n",
    "mse_list.append(mean_squared_error(y,predicted))"
   ]
  },
  {
   "cell_type": "code",
   "execution_count": 28,
   "metadata": {},
   "outputs": [
    {
     "name": "stdout",
     "output_type": "stream",
     "text": [
      "(4509, 2) (4509, 1)\n",
      "Exhaustion, Number Extract Points\n",
      "Training Score: 0.17258978677784587\n",
      "Testing Score: 0.13250607881710164\n"
     ]
    }
   ],
   "source": [
    "variables_used = 'Exhaustion, Number Extract Points'\n",
    "num_variables = 2\n",
    "X = daily_pA[['average_exhaustion','number_extract_points']]\n",
    "y = daily_pA['pA'].values.reshape(-1,1)\n",
    "print(X.shape,y.shape)\n",
    "X_train, X_test, y_train, y_test = train_test_split(X,y,random_state = 3)\n",
    "model = LinearRegression()\n",
    "model.fit(X_train,y_train)\n",
    "training_score = model.score(X_train,y_train)\n",
    "testing_score = model.score(X_test,y_test)\n",
    "print(variables_used)\n",
    "print(f'Training Score: {training_score}')\n",
    "print(f'Testing Score: {testing_score}')\n",
    "predicted = model.predict(X)\n",
    "variables_list.append(variables_used)\n",
    "num_vars_list.append(num_variables)\n",
    "score_list.append(model.score(X,y))\n",
    "mse_list.append(mean_squared_error(y,predicted))"
   ]
  },
  {
   "cell_type": "code",
   "execution_count": 29,
   "metadata": {},
   "outputs": [
    {
     "name": "stdout",
     "output_type": "stream",
     "text": [
      "(4509, 2) (4509, 1)\n",
      "sA, Number Extract Points\n",
      "Training Score: 0.1701913947673378\n",
      "Testing Score: 0.1849532546568835\n"
     ]
    }
   ],
   "source": [
    "variables_used = 'sA, Number Extract Points'\n",
    "num_variables = 2\n",
    "X = daily_pA[['average_sA','number_extract_points']]\n",
    "y = daily_pA['pA'].values.reshape(-1,1)\n",
    "print(X.shape,y.shape)\n",
    "X_train, X_test, y_train, y_test = train_test_split(X,y,random_state = 3)\n",
    "model = LinearRegression()\n",
    "model.fit(X_train,y_train)\n",
    "training_score = model.score(X_train,y_train)\n",
    "testing_score = model.score(X_test,y_test)\n",
    "print(variables_used)\n",
    "print(f'Training Score: {training_score}')\n",
    "print(f'Testing Score: {testing_score}')\n",
    "predicted = model.predict(X)\n",
    "variables_list.append(variables_used)\n",
    "num_vars_list.append(num_variables)\n",
    "score_list.append(model.score(X,y))\n",
    "mse_list.append(mean_squared_error(y,predicted))"
   ]
  },
  {
   "cell_type": "code",
   "execution_count": 30,
   "metadata": {
    "scrolled": true
   },
   "outputs": [
    {
     "data": {
      "text/html": [
       "<div>\n",
       "<style scoped>\n",
       "    .dataframe tbody tr th:only-of-type {\n",
       "        vertical-align: middle;\n",
       "    }\n",
       "\n",
       "    .dataframe tbody tr th {\n",
       "        vertical-align: top;\n",
       "    }\n",
       "\n",
       "    .dataframe thead th {\n",
       "        text-align: right;\n",
       "    }\n",
       "</style>\n",
       "<table border=\"1\" class=\"dataframe\">\n",
       "  <thead>\n",
       "    <tr style=\"text-align: right;\">\n",
       "      <th></th>\n",
       "      <th>Variables</th>\n",
       "      <th>Number of Variables</th>\n",
       "      <th>Score</th>\n",
       "      <th>MSE</th>\n",
       "    </tr>\n",
       "  </thead>\n",
       "  <tbody>\n",
       "    <tr>\n",
       "      <th>0</th>\n",
       "      <td>Exhaustion, sA, Number Extract Points</td>\n",
       "      <td>3</td>\n",
       "      <td>0.215027</td>\n",
       "      <td>0.000455</td>\n",
       "    </tr>\n",
       "    <tr>\n",
       "      <th>4</th>\n",
       "      <td>Exhaustion, sA</td>\n",
       "      <td>2</td>\n",
       "      <td>0.212649</td>\n",
       "      <td>0.000457</td>\n",
       "    </tr>\n",
       "    <tr>\n",
       "      <th>6</th>\n",
       "      <td>sA, Number Extract Points</td>\n",
       "      <td>2</td>\n",
       "      <td>0.173973</td>\n",
       "      <td>0.000479</td>\n",
       "    </tr>\n",
       "    <tr>\n",
       "      <th>2</th>\n",
       "      <td>sA</td>\n",
       "      <td>1</td>\n",
       "      <td>0.173955</td>\n",
       "      <td>0.000479</td>\n",
       "    </tr>\n",
       "    <tr>\n",
       "      <th>5</th>\n",
       "      <td>Exhaustion, Number Extract Points</td>\n",
       "      <td>2</td>\n",
       "      <td>0.162466</td>\n",
       "      <td>0.000486</td>\n",
       "    </tr>\n",
       "    <tr>\n",
       "      <th>1</th>\n",
       "      <td>Exhaustion</td>\n",
       "      <td>1</td>\n",
       "      <td>0.140685</td>\n",
       "      <td>0.000498</td>\n",
       "    </tr>\n",
       "    <tr>\n",
       "      <th>3</th>\n",
       "      <td>Number Extract Points</td>\n",
       "      <td>1</td>\n",
       "      <td>0.021089</td>\n",
       "      <td>0.000568</td>\n",
       "    </tr>\n",
       "  </tbody>\n",
       "</table>\n",
       "</div>"
      ],
      "text/plain": [
       "                               Variables  Number of Variables     Score  \\\n",
       "0  Exhaustion, sA, Number Extract Points                    3  0.215027   \n",
       "4                         Exhaustion, sA                    2  0.212649   \n",
       "6              sA, Number Extract Points                    2  0.173973   \n",
       "2                                     sA                    1  0.173955   \n",
       "5      Exhaustion, Number Extract Points                    2  0.162466   \n",
       "1                             Exhaustion                    1  0.140685   \n",
       "3                  Number Extract Points                    1  0.021089   \n",
       "\n",
       "        MSE  \n",
       "0  0.000455  \n",
       "4  0.000457  \n",
       "6  0.000479  \n",
       "2  0.000479  \n",
       "5  0.000486  \n",
       "1  0.000498  \n",
       "3  0.000568  "
      ]
     },
     "execution_count": 30,
     "metadata": {},
     "output_type": "execute_result"
    }
   ],
   "source": [
    "pA_reg_results = {'Variables':variables_list,\n",
    "              'Number of Variables':num_vars_list,\n",
    "              'Score':score_list,\n",
    "              'MSE':mse_list}\n",
    "pA_reg_results_df = pd.DataFrame(pA_reg_results).sort_values('Score',ascending=False)\n",
    "pA_reg_results_df"
   ]
  },
  {
   "cell_type": "code",
   "execution_count": 31,
   "metadata": {},
   "outputs": [],
   "source": [
    "daily_pA.to_csv('Resources/daily_pA_ra.csv',index=False)"
   ]
  },
  {
   "cell_type": "code",
   "execution_count": 32,
   "metadata": {},
   "outputs": [],
   "source": [
    "##########################\n",
    "# pB Testing Starts Here #\n",
    "##########################"
   ]
  },
  {
   "cell_type": "code",
   "execution_count": 33,
   "metadata": {
    "scrolled": false
   },
   "outputs": [
    {
     "data": {
      "image/png": "[encoded data removed]",
      "text/plain": [
       "<Figure size 432x288 with 1 Axes>"
      ]
     },
     "metadata": {
      "needs_background": "light"
     },
     "output_type": "display_data"
    }
   ],
   "source": [
    "# Look at scatter plots of each independent variable to identify any trends right away\n",
    "fig, ax = plt.subplots()\n",
    "ax.scatter(daily_composite_ra['average_exhaustion'],daily_composite_ra['pB'])\n",
    "plt.title('Daily pB vs Exhaustion')\n",
    "ax.set_ylabel('Daily pB')\n",
    "ax.set_xlabel('Exhaustion')\n",
    "fig.set_size_inches(6, 4)\n",
    "fig.savefig('Images/day_pB_exhaustion_ra.png', dpi=96)\n",
    "plt.show()"
   ]
  },
  {
   "cell_type": "code",
   "execution_count": 34,
   "metadata": {
    "scrolled": true
   },
   "outputs": [
    {
     "data": {
      "image/png": "[encoded data removed]",
      "text/plain": [
       "<Figure size 432x288 with 1 Axes>"
      ]
     },
     "metadata": {
      "needs_background": "light"
     },
     "output_type": "display_data"
    }
   ],
   "source": [
    "fig, ax = plt.subplots()\n",
    "ax.scatter(daily_composite_ra['average_sA'],daily_composite_ra['pB'])\n",
    "plt.title('Daily pB vs sA')\n",
    "ax.set_ylabel('Daily pB')\n",
    "ax.set_xlabel('sA')\n",
    "fig.set_size_inches(6, 4)\n",
    "fig.savefig('Images/day_pB_sA_ra.png', dpi=96)\n",
    "plt.show()"
   ]
  },
  {
   "cell_type": "code",
   "execution_count": 35,
   "metadata": {},
   "outputs": [
    {
     "data": {
      "image/png": "[encoded data removed]",
      "text/plain": [
       "<Figure size 432x288 with 1 Axes>"
      ]
     },
     "metadata": {
      "needs_background": "light"
     },
     "output_type": "display_data"
    }
   ],
   "source": [
    "fig, ax = plt.subplots()\n",
    "ax.scatter(daily_composite_ra['number_extract_points'],daily_composite_ra['pB'])\n",
    "plt.title('Daily pB vs Number of Extract Points')\n",
    "ax.set_ylabel('Daily pB')\n",
    "ax.set_xlabel('Number of Extract Points')\n",
    "fig.set_size_inches(6, 4)\n",
    "fig.savefig('Images/day_pB_extract_pts_ra.png', dpi=96)\n",
    "plt.show()"
   ]
  },
  {
   "cell_type": "code",
   "execution_count": 36,
   "metadata": {},
   "outputs": [],
   "source": [
    "daily_pB = daily_composite_ra.copy()\n",
    "daily_pB = daily_pB[['datetime','average_exhaustion','average_sA','number_extract_points','pB']].dropna()\n",
    "daily_sel = daily_composite_ra[['average_exhaustion','average_sA','number_extract_points','pB']].dropna()\n",
    "model = forward_selected(daily_sel,'pB')"
   ]
  },
  {
   "cell_type": "code",
   "execution_count": 37,
   "metadata": {},
   "outputs": [
    {
     "name": "stdout",
     "output_type": "stream",
     "text": [
      "pB ~ average_exhaustion + number_extract_points + average_sA + 1\n"
     ]
    }
   ],
   "source": [
    "print (model.model.formula)"
   ]
  },
  {
   "cell_type": "code",
   "execution_count": 38,
   "metadata": {},
   "outputs": [
    {
     "name": "stdout",
     "output_type": "stream",
     "text": [
      "0.6441035908514534\n"
     ]
    }
   ],
   "source": [
    "print(model.rsquared_adj)"
   ]
  },
  {
   "cell_type": "code",
   "execution_count": 39,
   "metadata": {},
   "outputs": [
    {
     "name": "stdout",
     "output_type": "stream",
     "text": [
      "(2368, 3) (2368, 1)\n"
     ]
    }
   ],
   "source": [
    "X = daily_pB[['average_exhaustion','average_sA','number_extract_points']]\n",
    "y = daily_pB['pB'].values.reshape(-1,1)\n",
    "print(X.shape,y.shape)"
   ]
  },
  {
   "cell_type": "code",
   "execution_count": 40,
   "metadata": {},
   "outputs": [],
   "source": [
    "from sklearn.model_selection import train_test_split\n",
    "X_train, X_test, y_train, y_test = train_test_split(X,y,random_state = 15)"
   ]
  },
  {
   "cell_type": "code",
   "execution_count": 41,
   "metadata": {},
   "outputs": [],
   "source": [
    "from sklearn.linear_model import LinearRegression\n",
    "model = LinearRegression()"
   ]
  },
  {
   "cell_type": "code",
   "execution_count": 42,
   "metadata": {},
   "outputs": [
    {
     "name": "stdout",
     "output_type": "stream",
     "text": [
      "Training Score: 0.6490430340702401\n",
      "Testing Score: 0.6312467657864103\n"
     ]
    }
   ],
   "source": [
    "model.fit(X_train,y_train)\n",
    "training_score = model.score(X_train,y_train)\n",
    "testing_score = model.score(X_test,y_test)\n",
    "print(f'Training Score: {training_score}')\n",
    "print(f'Testing Score: {testing_score}')"
   ]
  },
  {
   "cell_type": "code",
   "execution_count": 43,
   "metadata": {
    "scrolled": false
   },
   "outputs": [
    {
     "data": {
      "image/png": "[encoded data removed]",
      "text/plain": [
       "<Figure size 432x288 with 1 Axes>"
      ]
     },
     "metadata": {
      "needs_background": "light"
     },
     "output_type": "display_data"
    }
   ],
   "source": [
    "fig, ax = plt.subplots()\n",
    "ax.scatter(model.predict(X_train),model.predict(X_train) - y_train, c='blue',label='Training Data')\n",
    "ax.scatter(model.predict(X_test),model.predict(X_test) - y_test, c='orange', label='Testing Data')\n",
    "plt.legend()\n",
    "plt.hlines(y=0,xmin=y.min(),xmax=y.max())\n",
    "plt.title('Residual Plot, Daily pB, 3-Variable Linear Model')\n",
    "fig.set_size_inches(6, 4)\n",
    "fig.savefig('Images/day_pB_linear_residual_ra.png', dpi=96)\n",
    "plt.show()"
   ]
  },
  {
   "cell_type": "code",
   "execution_count": 44,
   "metadata": {},
   "outputs": [
    {
     "data": {
      "text/html": [
       "<div>\n",
       "<style scoped>\n",
       "    .dataframe tbody tr th:only-of-type {\n",
       "        vertical-align: middle;\n",
       "    }\n",
       "\n",
       "    .dataframe tbody tr th {\n",
       "        vertical-align: top;\n",
       "    }\n",
       "\n",
       "    .dataframe thead th {\n",
       "        text-align: right;\n",
       "    }\n",
       "</style>\n",
       "<table border=\"1\" class=\"dataframe\">\n",
       "  <thead>\n",
       "    <tr style=\"text-align: right;\">\n",
       "      <th></th>\n",
       "      <th>datetime</th>\n",
       "      <th>average_exhaustion</th>\n",
       "      <th>average_sA</th>\n",
       "      <th>number_extract_points</th>\n",
       "      <th>pB</th>\n",
       "    </tr>\n",
       "  </thead>\n",
       "  <tbody>\n",
       "    <tr>\n",
       "      <th>2141</th>\n",
       "      <td>2009-08-12</td>\n",
       "      <td>47.836660</td>\n",
       "      <td>0.236600</td>\n",
       "      <td>148.0</td>\n",
       "      <td>1.55600</td>\n",
       "    </tr>\n",
       "    <tr>\n",
       "      <th>2142</th>\n",
       "      <td>2009-08-13</td>\n",
       "      <td>45.127344</td>\n",
       "      <td>0.239869</td>\n",
       "      <td>141.0</td>\n",
       "      <td>1.44000</td>\n",
       "    </tr>\n",
       "    <tr>\n",
       "      <th>2143</th>\n",
       "      <td>2009-08-14</td>\n",
       "      <td>46.250910</td>\n",
       "      <td>0.237382</td>\n",
       "      <td>154.0</td>\n",
       "      <td>1.47500</td>\n",
       "    </tr>\n",
       "    <tr>\n",
       "      <th>2144</th>\n",
       "      <td>2009-08-15</td>\n",
       "      <td>47.276493</td>\n",
       "      <td>0.238790</td>\n",
       "      <td>152.0</td>\n",
       "      <td>1.48425</td>\n",
       "    </tr>\n",
       "    <tr>\n",
       "      <th>2145</th>\n",
       "      <td>2009-08-16</td>\n",
       "      <td>45.022368</td>\n",
       "      <td>0.240766</td>\n",
       "      <td>162.0</td>\n",
       "      <td>1.40280</td>\n",
       "    </tr>\n",
       "  </tbody>\n",
       "</table>\n",
       "</div>"
      ],
      "text/plain": [
       "       datetime  average_exhaustion  average_sA  number_extract_points  \\\n",
       "2141 2009-08-12           47.836660    0.236600                  148.0   \n",
       "2142 2009-08-13           45.127344    0.239869                  141.0   \n",
       "2143 2009-08-14           46.250910    0.237382                  154.0   \n",
       "2144 2009-08-15           47.276493    0.238790                  152.0   \n",
       "2145 2009-08-16           45.022368    0.240766                  162.0   \n",
       "\n",
       "           pB  \n",
       "2141  1.55600  \n",
       "2142  1.44000  \n",
       "2143  1.47500  \n",
       "2144  1.48425  \n",
       "2145  1.40280  "
      ]
     },
     "execution_count": 44,
     "metadata": {},
     "output_type": "execute_result"
    }
   ],
   "source": [
    "daily_pB = daily_composite_ra.copy()\n",
    "daily_pB = daily_pB[['datetime','average_exhaustion','average_sA','number_extract_points','pB']].dropna()\n",
    "daily_pB.head()"
   ]
  },
  {
   "cell_type": "code",
   "execution_count": 45,
   "metadata": {},
   "outputs": [],
   "source": [
    "variables_list = []\n",
    "num_vars_list = []\n",
    "score_list = []\n",
    "mse_list = []"
   ]
  },
  {
   "cell_type": "code",
   "execution_count": 46,
   "metadata": {},
   "outputs": [
    {
     "name": "stdout",
     "output_type": "stream",
     "text": [
      "(2368, 3) (2368, 1)\n",
      "Exhaustion, sA, Number Extract Points\n",
      "Training Score: 0.6490430340702401\n",
      "Testing Score: 0.6312467657864103\n",
      "R2 Value: [0.64446006]\n",
      "Adjusted R2 value: [0.64400886]\n",
      "MSE: 0.08542503936279808\n"
     ]
    }
   ],
   "source": [
    "variables_used = 'Exhaustion, sA, Number Extract Points'\n",
    "num_variables = 3\n",
    "X = daily_pB[['average_exhaustion','average_sA','number_extract_points']]\n",
    "y = daily_pB['pB'].values.reshape(-1,1)\n",
    "print(X.shape,y.shape)\n",
    "X_train, X_test, y_train, y_test = train_test_split(X,y,random_state = 15)\n",
    "model = LinearRegression()\n",
    "model.fit(X_train,y_train)\n",
    "training_score = model.score(X_train,y_train)\n",
    "testing_score = model.score(X_test,y_test)\n",
    "print(variables_used)\n",
    "print(f'Training Score: {training_score}')\n",
    "print(f'Testing Score: {testing_score}')\n",
    "predicted = model.predict(X)\n",
    "SS_Residual = sum((y-predicted)**2)       \n",
    "SS_Total = sum((y-np.mean(y))**2)     \n",
    "r_squared = 1 - (float(SS_Residual))/SS_Total\n",
    "adjusted_r_squared = 1 - (1-r_squared)*(len(y)-1)/(len(y)-X.shape[1]-1)\n",
    "print(f'R2 Value: {r_squared}')\n",
    "print(f'Adjusted R2 value: {adjusted_r_squared}')\n",
    "from sklearn.metrics import mean_squared_error, r2_score\n",
    "print(f'MSE: {mean_squared_error(y,predicted)}')\n",
    "variables_list.append(variables_used)\n",
    "num_vars_list.append(num_variables)\n",
    "score_list.append(model.score(X,y))\n",
    "mse_list.append(mean_squared_error(y,predicted))"
   ]
  },
  {
   "cell_type": "code",
   "execution_count": 47,
   "metadata": {},
   "outputs": [
    {
     "name": "stdout",
     "output_type": "stream",
     "text": [
      "(2368, 1) (2368, 1)\n",
      "Exhaustion\n",
      "Training Score: 0.6309527215298789\n",
      "Testing Score: 0.6177611928913209\n"
     ]
    }
   ],
   "source": [
    "variables_used = 'Exhaustion'\n",
    "num_variables = 1\n",
    "X = daily_pB[['average_exhaustion']]\n",
    "y = daily_pB['pB'].values.reshape(-1,1)\n",
    "print(X.shape,y.shape)\n",
    "X_train, X_test, y_train, y_test = train_test_split(X,y,random_state = 15)\n",
    "model = LinearRegression()\n",
    "model.fit(X_train,y_train)\n",
    "training_score = model.score(X_train,y_train)\n",
    "testing_score = model.score(X_test,y_test)\n",
    "print(variables_used)\n",
    "print(f'Training Score: {training_score}')\n",
    "print(f'Testing Score: {testing_score}')\n",
    "predicted = model.predict(X)\n",
    "variables_list.append(variables_used)\n",
    "num_vars_list.append(num_variables)\n",
    "score_list.append(model.score(X,y))\n",
    "mse_list.append(mean_squared_error(y,predicted))"
   ]
  },
  {
   "cell_type": "code",
   "execution_count": 48,
   "metadata": {},
   "outputs": [
    {
     "name": "stdout",
     "output_type": "stream",
     "text": [
      "(2368, 1) (2368, 1)\n",
      "sA\n",
      "Training Score: 0.30485731673202254\n",
      "Testing Score: 0.25436677381342876\n"
     ]
    }
   ],
   "source": [
    "variables_used = 'sA'\n",
    "num_variables = 1\n",
    "X = daily_pB[['average_sA']]\n",
    "y = daily_pB['pB'].values.reshape(-1,1)\n",
    "print(X.shape,y.shape)\n",
    "X_train, X_test, y_train, y_test = train_test_split(X,y,random_state = 15)\n",
    "model = LinearRegression()\n",
    "model.fit(X_train,y_train)\n",
    "training_score = model.score(X_train,y_train)\n",
    "testing_score = model.score(X_test,y_test)\n",
    "predicted = model.predict(X)\n",
    "print(variables_used)\n",
    "print(f'Training Score: {training_score}')\n",
    "print(f'Testing Score: {testing_score}')\n",
    "variables_list.append(variables_used)\n",
    "num_vars_list.append(num_variables)\n",
    "score_list.append(model.score(X,y))\n",
    "mse_list.append(mean_squared_error(y,predicted))"
   ]
  },
  {
   "cell_type": "code",
   "execution_count": 49,
   "metadata": {},
   "outputs": [
    {
     "name": "stdout",
     "output_type": "stream",
     "text": [
      "(2368, 1) (2368, 1)\n",
      "Number Extract Points\n",
      "Training Score: 0.14237968231918618\n",
      "Testing Score: 0.126764087473068\n"
     ]
    }
   ],
   "source": [
    "variables_used = 'Number Extract Points'\n",
    "num_variables = 1\n",
    "X = daily_pB[['number_extract_points']]\n",
    "y = daily_pB['pB'].values.reshape(-1,1)\n",
    "print(X.shape,y.shape)\n",
    "X_train, X_test, y_train, y_test = train_test_split(X,y,random_state = 15)\n",
    "model = LinearRegression()\n",
    "model.fit(X_train,y_train)\n",
    "training_score = model.score(X_train,y_train)\n",
    "testing_score = model.score(X_test,y_test)\n",
    "predicted = model.predict(X)\n",
    "print(variables_used)\n",
    "print(f'Training Score: {training_score}')\n",
    "print(f'Testing Score: {testing_score}')\n",
    "variables_list.append(variables_used)\n",
    "num_vars_list.append(num_variables)\n",
    "score_list.append(model.score(X,y))\n",
    "mse_list.append(mean_squared_error(y,predicted))"
   ]
  },
  {
   "cell_type": "code",
   "execution_count": 50,
   "metadata": {},
   "outputs": [
    {
     "name": "stdout",
     "output_type": "stream",
     "text": [
      "(2368, 2) (2368, 1)\n",
      "Exhaustion, sA\n",
      "Training Score: 0.6405929716000123\n",
      "Testing Score: 0.6198255366427575\n"
     ]
    }
   ],
   "source": [
    "variables_used = 'Exhaustion, sA'\n",
    "num_variables = 2\n",
    "X = daily_pB[['average_exhaustion','average_sA']]\n",
    "y = daily_pB['pB'].values.reshape(-1,1)\n",
    "print(X.shape,y.shape)\n",
    "X_train, X_test, y_train, y_test = train_test_split(X,y,random_state = 15)\n",
    "model = LinearRegression()\n",
    "model.fit(X_train,y_train)\n",
    "training_score = model.score(X_train,y_train)\n",
    "testing_score = model.score(X_test,y_test)\n",
    "predicted = model.predict(X)\n",
    "print(variables_used)\n",
    "print(f'Training Score: {training_score}')\n",
    "print(f'Testing Score: {testing_score}')\n",
    "variables_list.append(variables_used)\n",
    "num_vars_list.append(num_variables)\n",
    "score_list.append(model.score(X,y))\n",
    "mse_list.append(mean_squared_error(y,predicted))"
   ]
  },
  {
   "cell_type": "code",
   "execution_count": 51,
   "metadata": {},
   "outputs": [
    {
     "name": "stdout",
     "output_type": "stream",
     "text": [
      "(2368, 2) (2368, 1)\n",
      "Exhaustion, Number Extract Points\n",
      "Training Score: 0.6477555493261913\n",
      "Testing Score: 0.6324349023396829\n"
     ]
    }
   ],
   "source": [
    "variables_used = 'Exhaustion, Number Extract Points'\n",
    "num_variables = 2\n",
    "X = daily_pB[['average_exhaustion','number_extract_points']]\n",
    "y = daily_pB['pB'].values.reshape(-1,1)\n",
    "print(X.shape,y.shape)\n",
    "X_train, X_test, y_train, y_test = train_test_split(X,y,random_state = 15)\n",
    "model = LinearRegression()\n",
    "model.fit(X_train,y_train)\n",
    "training_score = model.score(X_train,y_train)\n",
    "testing_score = model.score(X_test,y_test)\n",
    "print(variables_used)\n",
    "print(f'Training Score: {training_score}')\n",
    "print(f'Testing Score: {testing_score}')\n",
    "predicted = model.predict(X)\n",
    "variables_list.append(variables_used)\n",
    "num_vars_list.append(num_variables)\n",
    "score_list.append(model.score(X,y))\n",
    "mse_list.append(mean_squared_error(y,predicted))"
   ]
  },
  {
   "cell_type": "code",
   "execution_count": 52,
   "metadata": {},
   "outputs": [
    {
     "name": "stdout",
     "output_type": "stream",
     "text": [
      "(2368, 2) (2368, 1)\n",
      "sA, Number Extract Points\n",
      "Training Score: 0.309142937679743\n",
      "Testing Score: 0.26303618581897914\n"
     ]
    }
   ],
   "source": [
    "variables_used = 'sA, Number Extract Points'\n",
    "num_variables = 2\n",
    "X = daily_pB[['average_sA','number_extract_points']]\n",
    "y = daily_pB['pB'].values.reshape(-1,1)\n",
    "print(X.shape,y.shape)\n",
    "X_train, X_test, y_train, y_test = train_test_split(X,y,random_state = 15)\n",
    "model = LinearRegression()\n",
    "model.fit(X_train,y_train)\n",
    "training_score = model.score(X_train,y_train)\n",
    "testing_score = model.score(X_test,y_test)\n",
    "print(variables_used)\n",
    "print(f'Training Score: {training_score}')\n",
    "print(f'Testing Score: {testing_score}')\n",
    "predicted = model.predict(X)\n",
    "variables_list.append(variables_used)\n",
    "num_vars_list.append(num_variables)\n",
    "score_list.append(model.score(X,y))\n",
    "mse_list.append(mean_squared_error(y,predicted))"
   ]
  },
  {
   "cell_type": "code",
   "execution_count": 53,
   "metadata": {
    "scrolled": true
   },
   "outputs": [
    {
     "data": {
      "text/html": [
       "<div>\n",
       "<style scoped>\n",
       "    .dataframe tbody tr th:only-of-type {\n",
       "        vertical-align: middle;\n",
       "    }\n",
       "\n",
       "    .dataframe tbody tr th {\n",
       "        vertical-align: top;\n",
       "    }\n",
       "\n",
       "    .dataframe thead th {\n",
       "        text-align: right;\n",
       "    }\n",
       "</style>\n",
       "<table border=\"1\" class=\"dataframe\">\n",
       "  <thead>\n",
       "    <tr style=\"text-align: right;\">\n",
       "      <th></th>\n",
       "      <th>Variables</th>\n",
       "      <th>Number of Variables</th>\n",
       "      <th>Score</th>\n",
       "      <th>MSE</th>\n",
       "    </tr>\n",
       "  </thead>\n",
       "  <tbody>\n",
       "    <tr>\n",
       "      <th>0</th>\n",
       "      <td>Exhaustion, sA, Number Extract Points</td>\n",
       "      <td>3</td>\n",
       "      <td>0.644460</td>\n",
       "      <td>0.085425</td>\n",
       "    </tr>\n",
       "    <tr>\n",
       "      <th>5</th>\n",
       "      <td>Exhaustion, Number Extract Points</td>\n",
       "      <td>2</td>\n",
       "      <td>0.643827</td>\n",
       "      <td>0.085577</td>\n",
       "    </tr>\n",
       "    <tr>\n",
       "      <th>4</th>\n",
       "      <td>Exhaustion, sA</td>\n",
       "      <td>2</td>\n",
       "      <td>0.635228</td>\n",
       "      <td>0.087643</td>\n",
       "    </tr>\n",
       "    <tr>\n",
       "      <th>1</th>\n",
       "      <td>Exhaustion</td>\n",
       "      <td>1</td>\n",
       "      <td>0.627592</td>\n",
       "      <td>0.089478</td>\n",
       "    </tr>\n",
       "    <tr>\n",
       "      <th>6</th>\n",
       "      <td>sA, Number Extract Points</td>\n",
       "      <td>2</td>\n",
       "      <td>0.297196</td>\n",
       "      <td>0.168862</td>\n",
       "    </tr>\n",
       "    <tr>\n",
       "      <th>2</th>\n",
       "      <td>sA</td>\n",
       "      <td>1</td>\n",
       "      <td>0.291753</td>\n",
       "      <td>0.170169</td>\n",
       "    </tr>\n",
       "    <tr>\n",
       "      <th>3</th>\n",
       "      <td>Number Extract Points</td>\n",
       "      <td>1</td>\n",
       "      <td>0.138544</td>\n",
       "      <td>0.206981</td>\n",
       "    </tr>\n",
       "  </tbody>\n",
       "</table>\n",
       "</div>"
      ],
      "text/plain": [
       "                               Variables  Number of Variables     Score  \\\n",
       "0  Exhaustion, sA, Number Extract Points                    3  0.644460   \n",
       "5      Exhaustion, Number Extract Points                    2  0.643827   \n",
       "4                         Exhaustion, sA                    2  0.635228   \n",
       "1                             Exhaustion                    1  0.627592   \n",
       "6              sA, Number Extract Points                    2  0.297196   \n",
       "2                                     sA                    1  0.291753   \n",
       "3                  Number Extract Points                    1  0.138544   \n",
       "\n",
       "        MSE  \n",
       "0  0.085425  \n",
       "5  0.085577  \n",
       "4  0.087643  \n",
       "1  0.089478  \n",
       "6  0.168862  \n",
       "2  0.170169  \n",
       "3  0.206981  "
      ]
     },
     "execution_count": 53,
     "metadata": {},
     "output_type": "execute_result"
    }
   ],
   "source": [
    "pB_reg_results = {'Variables':variables_list,\n",
    "              'Number of Variables':num_vars_list,\n",
    "              'Score':score_list,\n",
    "              'MSE':mse_list}\n",
    "pB_reg_results_df = pd.DataFrame(pB_reg_results).sort_values('Score',ascending=False)\n",
    "pB_reg_results_df"
   ]
  },
  {
   "cell_type": "code",
   "execution_count": 54,
   "metadata": {},
   "outputs": [],
   "source": [
    "daily_pB.to_csv('Resources/daily_pB_ra.csv',index=False)"
   ]
  },
  {
   "cell_type": "code",
   "execution_count": 55,
   "metadata": {},
   "outputs": [],
   "source": [
    "##########################\n",
    "# pC Testing Starts Here #\n",
    "##########################"
   ]
  },
  {
   "cell_type": "code",
   "execution_count": 56,
   "metadata": {
    "scrolled": false
   },
   "outputs": [
    {
     "data": {
      "image/png": "[encoded data removed]",
      "text/plain": [
       "<Figure size 432x288 with 1 Axes>"
      ]
     },
     "metadata": {
      "needs_background": "light"
     },
     "output_type": "display_data"
    }
   ],
   "source": [
    "# Look at scatter plots of each independent variable to identify any trends right away\n",
    "fig, ax = plt.subplots()\n",
    "ax.scatter(daily_composite_ra['average_exhaustion'],daily_composite_ra['pC'])\n",
    "plt.title('Daily pC vs Exhaustion')\n",
    "ax.set_ylabel('Daily pC')\n",
    "ax.set_xlabel('Exhaustion')\n",
    "fig.set_size_inches(6, 4)\n",
    "fig.savefig('Images/day_pC_exhaustion_ra.png', dpi=96)\n",
    "plt.show()"
   ]
  },
  {
   "cell_type": "code",
   "execution_count": 57,
   "metadata": {
    "scrolled": true
   },
   "outputs": [
    {
     "data": {
      "image/png": "[encoded data removed]",
      "text/plain": [
       "<Figure size 432x288 with 1 Axes>"
      ]
     },
     "metadata": {
      "needs_background": "light"
     },
     "output_type": "display_data"
    }
   ],
   "source": [
    "fig, ax = plt.subplots()\n",
    "ax.scatter(daily_composite_ra['average_sA'],daily_composite_ra['pC'])\n",
    "plt.title('Daily pC vs sA')\n",
    "ax.set_ylabel('Daily pC')\n",
    "ax.set_xlabel('sA')\n",
    "fig.set_size_inches(6, 4)\n",
    "fig.savefig('Images/day_pC_sA_ra.png', dpi=96)\n",
    "plt.show()"
   ]
  },
  {
   "cell_type": "code",
   "execution_count": 58,
   "metadata": {},
   "outputs": [
    {
     "data": {
      "image/png": "[encoded data removed]",
      "text/plain": [
       "<Figure size 432x288 with 1 Axes>"
      ]
     },
     "metadata": {
      "needs_background": "light"
     },
     "output_type": "display_data"
    }
   ],
   "source": [
    "fig, ax = plt.subplots()\n",
    "ax.scatter(daily_composite_ra['number_extract_points'],daily_composite_ra['pC'])\n",
    "plt.title('Daily pC vs Number of Extract Points')\n",
    "ax.set_ylabel('Daily pC')\n",
    "ax.set_xlabel('Number of Extract Points')\n",
    "fig.set_size_inches(6, 4)\n",
    "fig.savefig('Images/day_pC_extract_pts_ra.png', dpi=96)\n",
    "plt.show()"
   ]
  },
  {
   "cell_type": "code",
   "execution_count": 59,
   "metadata": {},
   "outputs": [],
   "source": [
    "daily_pC = daily_composite_ra.copy()\n",
    "daily_pC = daily_pC[['average_exhaustion','average_sA','number_extract_points','pC']].dropna().reset_index(drop=True)\n",
    "daily_sel = daily_pC.copy()\n",
    "model = forward_selected(daily_sel,'pC')"
   ]
  },
  {
   "cell_type": "code",
   "execution_count": 60,
   "metadata": {},
   "outputs": [
    {
     "name": "stdout",
     "output_type": "stream",
     "text": [
      "pC ~ average_exhaustion + number_extract_points + 1\n"
     ]
    }
   ],
   "source": [
    "print (model.model.formula)"
   ]
  },
  {
   "cell_type": "code",
   "execution_count": 61,
   "metadata": {},
   "outputs": [
    {
     "name": "stdout",
     "output_type": "stream",
     "text": [
      "0.18452590441751182\n"
     ]
    }
   ],
   "source": [
    "print(model.rsquared_adj)"
   ]
  },
  {
   "cell_type": "code",
   "execution_count": 62,
   "metadata": {},
   "outputs": [
    {
     "name": "stdout",
     "output_type": "stream",
     "text": [
      "(470, 3) (470, 1)\n"
     ]
    }
   ],
   "source": [
    "X = daily_pC[['average_exhaustion','average_sA','number_extract_points']]\n",
    "y = daily_pC['pC'].values.reshape(-1,1)\n",
    "print(X.shape,y.shape)"
   ]
  },
  {
   "cell_type": "code",
   "execution_count": 63,
   "metadata": {},
   "outputs": [],
   "source": [
    "from sklearn.model_selection import train_test_split\n",
    "X_train, X_test, y_train, y_test = train_test_split(X,y,random_state = 42)"
   ]
  },
  {
   "cell_type": "code",
   "execution_count": 64,
   "metadata": {},
   "outputs": [],
   "source": [
    "from sklearn.linear_model import LinearRegression\n",
    "model = LinearRegression()"
   ]
  },
  {
   "cell_type": "code",
   "execution_count": 65,
   "metadata": {},
   "outputs": [
    {
     "name": "stdout",
     "output_type": "stream",
     "text": [
      "Training Score: 0.18555608712748328\n",
      "Testing Score: 0.14989546380317043\n"
     ]
    }
   ],
   "source": [
    "model.fit(X_train,y_train)\n",
    "training_score = model.score(X_train,y_train)\n",
    "testing_score = model.score(X_test,y_test)\n",
    "print(f'Training Score: {training_score}')\n",
    "print(f'Testing Score: {testing_score}')"
   ]
  },
  {
   "cell_type": "code",
   "execution_count": 66,
   "metadata": {
    "scrolled": false
   },
   "outputs": [
    {
     "data": {
      "image/png": "[encoded data removed]",
      "text/plain": [
       "<Figure size 432x288 with 1 Axes>"
      ]
     },
     "metadata": {
      "needs_background": "light"
     },
     "output_type": "display_data"
    }
   ],
   "source": [
    "fig, ax = plt.subplots()\n",
    "ax.scatter(model.predict(X_train),model.predict(X_train) - y_train, c='blue',label='Training Data')\n",
    "ax.scatter(model.predict(X_test),model.predict(X_test) - y_test, c='orange', label='Testing Data')\n",
    "plt.legend()\n",
    "plt.hlines(y=0,xmin=y.min(),xmax=y.max())\n",
    "plt.title('Residual Plot, Daily pC, 3-Variable Linear Model')\n",
    "ax.set_xlim(0.0018,0.0024)\n",
    "fig.set_size_inches(6, 4)\n",
    "fig.savefig('Images/day_pC_linear_residual_ra.png', dpi=96)\n",
    "plt.show()"
   ]
  },
  {
   "cell_type": "code",
   "execution_count": 67,
   "metadata": {},
   "outputs": [
    {
     "data": {
      "text/html": [
       "<div>\n",
       "<style scoped>\n",
       "    .dataframe tbody tr th:only-of-type {\n",
       "        vertical-align: middle;\n",
       "    }\n",
       "\n",
       "    .dataframe tbody tr th {\n",
       "        vertical-align: top;\n",
       "    }\n",
       "\n",
       "    .dataframe thead th {\n",
       "        text-align: right;\n",
       "    }\n",
       "</style>\n",
       "<table border=\"1\" class=\"dataframe\">\n",
       "  <thead>\n",
       "    <tr style=\"text-align: right;\">\n",
       "      <th></th>\n",
       "      <th>datetime</th>\n",
       "      <th>average_exhaustion</th>\n",
       "      <th>average_sA</th>\n",
       "      <th>number_extract_points</th>\n",
       "      <th>pC</th>\n",
       "    </tr>\n",
       "  </thead>\n",
       "  <tbody>\n",
       "    <tr>\n",
       "      <th>4039</th>\n",
       "      <td>2017-08-23</td>\n",
       "      <td>43.194169</td>\n",
       "      <td>0.185240</td>\n",
       "      <td>111.0</td>\n",
       "      <td>0.001333</td>\n",
       "    </tr>\n",
       "    <tr>\n",
       "      <th>4040</th>\n",
       "      <td>2017-08-24</td>\n",
       "      <td>43.655595</td>\n",
       "      <td>0.188209</td>\n",
       "      <td>145.0</td>\n",
       "      <td>0.001667</td>\n",
       "    </tr>\n",
       "    <tr>\n",
       "      <th>4041</th>\n",
       "      <td>2017-08-25</td>\n",
       "      <td>43.776295</td>\n",
       "      <td>0.189317</td>\n",
       "      <td>157.0</td>\n",
       "      <td>0.001667</td>\n",
       "    </tr>\n",
       "    <tr>\n",
       "      <th>4042</th>\n",
       "      <td>2017-08-28</td>\n",
       "      <td>42.783531</td>\n",
       "      <td>0.189823</td>\n",
       "      <td>150.0</td>\n",
       "      <td>0.001556</td>\n",
       "    </tr>\n",
       "    <tr>\n",
       "      <th>4043</th>\n",
       "      <td>2017-08-29</td>\n",
       "      <td>43.937784</td>\n",
       "      <td>0.189681</td>\n",
       "      <td>136.0</td>\n",
       "      <td>0.001417</td>\n",
       "    </tr>\n",
       "  </tbody>\n",
       "</table>\n",
       "</div>"
      ],
      "text/plain": [
       "       datetime  average_exhaustion  average_sA  number_extract_points  \\\n",
       "4039 2017-08-23           43.194169    0.185240                  111.0   \n",
       "4040 2017-08-24           43.655595    0.188209                  145.0   \n",
       "4041 2017-08-25           43.776295    0.189317                  157.0   \n",
       "4042 2017-08-28           42.783531    0.189823                  150.0   \n",
       "4043 2017-08-29           43.937784    0.189681                  136.0   \n",
       "\n",
       "            pC  \n",
       "4039  0.001333  \n",
       "4040  0.001667  \n",
       "4041  0.001667  \n",
       "4042  0.001556  \n",
       "4043  0.001417  "
      ]
     },
     "execution_count": 67,
     "metadata": {},
     "output_type": "execute_result"
    }
   ],
   "source": [
    "daily_pC = daily_composite_ra.copy()\n",
    "daily_pC = daily_pC[['datetime','average_exhaustion','average_sA','number_extract_points','pC']].dropna()\n",
    "daily_pC.head()"
   ]
  },
  {
   "cell_type": "code",
   "execution_count": 68,
   "metadata": {},
   "outputs": [],
   "source": [
    "variables_list = []\n",
    "num_vars_list = []\n",
    "score_list = []\n",
    "mse_list = []"
   ]
  },
  {
   "cell_type": "code",
   "execution_count": 69,
   "metadata": {},
   "outputs": [
    {
     "name": "stdout",
     "output_type": "stream",
     "text": [
      "(470, 3) (470, 1)\n",
      "Exhaustion, sA, Number Extract Points\n",
      "Training Score: 0.18555608712748328\n",
      "Testing Score: 0.14989546380317043\n",
      "R2 Value: [0.18137985]\n",
      "Adjusted R2 value: [0.17610977]\n",
      "MSE: 9.825013589676799e-08\n"
     ]
    }
   ],
   "source": [
    "variables_used = 'Exhaustion, sA, Number Extract Points'\n",
    "num_variables = 3\n",
    "X = daily_pC[['average_exhaustion','average_sA','number_extract_points']]\n",
    "y = daily_pC['pC'].values.reshape(-1,1)\n",
    "print(X.shape,y.shape)\n",
    "X_train, X_test, y_train, y_test = train_test_split(X,y,random_state = 42)\n",
    "model = LinearRegression()\n",
    "model.fit(X_train,y_train)\n",
    "training_score = model.score(X_train,y_train)\n",
    "testing_score = model.score(X_test,y_test)\n",
    "print(variables_used)\n",
    "print(f'Training Score: {training_score}')\n",
    "print(f'Testing Score: {testing_score}')\n",
    "predicted = model.predict(X)\n",
    "SS_Residual = sum((y-predicted)**2)       \n",
    "SS_Total = sum((y-np.mean(y))**2)     \n",
    "r_squared = 1 - (float(SS_Residual))/SS_Total\n",
    "adjusted_r_squared = 1 - (1-r_squared)*(len(y)-1)/(len(y)-X.shape[1]-1)\n",
    "print(f'R2 Value: {r_squared}')\n",
    "print(f'Adjusted R2 value: {adjusted_r_squared}')\n",
    "from sklearn.metrics import mean_squared_error, r2_score\n",
    "print(f'MSE: {mean_squared_error(y,predicted)}')\n",
    "variables_list.append(variables_used)\n",
    "num_vars_list.append(num_variables)\n",
    "score_list.append(model.score(X,y))\n",
    "mse_list.append(mean_squared_error(y,predicted))"
   ]
  },
  {
   "cell_type": "code",
   "execution_count": 70,
   "metadata": {},
   "outputs": [
    {
     "name": "stdout",
     "output_type": "stream",
     "text": [
      "(470, 1) (470, 1)\n",
      "Exhaustion\n",
      "Training Score: 0.16613806286060262\n",
      "Testing Score: 0.07540012524989936\n"
     ]
    }
   ],
   "source": [
    "variables_used = 'Exhaustion'\n",
    "num_variables = 1\n",
    "X = daily_pC[['average_exhaustion']]\n",
    "y = daily_pC['pC'].values.reshape(-1,1)\n",
    "print(X.shape,y.shape)\n",
    "X_train, X_test, y_train, y_test = train_test_split(X,y,random_state = 42)\n",
    "model = LinearRegression()\n",
    "model.fit(X_train,y_train)\n",
    "training_score = model.score(X_train,y_train)\n",
    "testing_score = model.score(X_test,y_test)\n",
    "print(variables_used)\n",
    "print(f'Training Score: {training_score}')\n",
    "print(f'Testing Score: {testing_score}')\n",
    "predicted = model.predict(X)\n",
    "variables_list.append(variables_used)\n",
    "num_vars_list.append(num_variables)\n",
    "score_list.append(model.score(X,y))\n",
    "mse_list.append(mean_squared_error(y,predicted))"
   ]
  },
  {
   "cell_type": "code",
   "execution_count": 71,
   "metadata": {},
   "outputs": [
    {
     "name": "stdout",
     "output_type": "stream",
     "text": [
      "(470, 1) (470, 1)\n",
      "sA\n",
      "Training Score: 0.01920143626263937\n",
      "Testing Score: -0.02493801821503072\n"
     ]
    }
   ],
   "source": [
    "variables_used = 'sA'\n",
    "num_variables = 1\n",
    "X = daily_pC[['average_sA']]\n",
    "y = daily_pC['pC'].values.reshape(-1,1)\n",
    "print(X.shape,y.shape)\n",
    "X_train, X_test, y_train, y_test = train_test_split(X,y,random_state = 42)\n",
    "model = LinearRegression()\n",
    "model.fit(X_train,y_train)\n",
    "training_score = model.score(X_train,y_train)\n",
    "testing_score = model.score(X_test,y_test)\n",
    "predicted = model.predict(X)\n",
    "print(variables_used)\n",
    "print(f'Training Score: {training_score}')\n",
    "print(f'Testing Score: {testing_score}')\n",
    "variables_list.append(variables_used)\n",
    "num_vars_list.append(num_variables)\n",
    "score_list.append(model.score(X,y))\n",
    "mse_list.append(mean_squared_error(y,predicted))"
   ]
  },
  {
   "cell_type": "code",
   "execution_count": 72,
   "metadata": {},
   "outputs": [
    {
     "name": "stdout",
     "output_type": "stream",
     "text": [
      "(470, 1) (470, 1)\n",
      "Number Extract Points\n",
      "Training Score: 0.00528405568163437\n",
      "Testing Score: 0.0034169662067600193\n"
     ]
    }
   ],
   "source": [
    "variables_used = 'Number Extract Points'\n",
    "num_variables = 1\n",
    "X = daily_pC[['number_extract_points']]\n",
    "y = daily_pC['pC'].values.reshape(-1,1)\n",
    "print(X.shape,y.shape)\n",
    "X_train, X_test, y_train, y_test = train_test_split(X,y,random_state = 42)\n",
    "model = LinearRegression()\n",
    "model.fit(X_train,y_train)\n",
    "training_score = model.score(X_train,y_train)\n",
    "testing_score = model.score(X_test,y_test)\n",
    "predicted = model.predict(X)\n",
    "print(variables_used)\n",
    "print(f'Training Score: {training_score}')\n",
    "print(f'Testing Score: {testing_score}')\n",
    "variables_list.append(variables_used)\n",
    "num_vars_list.append(num_variables)\n",
    "score_list.append(model.score(X,y))\n",
    "mse_list.append(mean_squared_error(y,predicted))"
   ]
  },
  {
   "cell_type": "code",
   "execution_count": 73,
   "metadata": {},
   "outputs": [
    {
     "name": "stdout",
     "output_type": "stream",
     "text": [
      "(470, 2) (470, 1)\n",
      "Exhaustion, sA\n",
      "Training Score: 0.16613992582283676\n",
      "Testing Score: 0.0752219910472064\n"
     ]
    }
   ],
   "source": [
    "variables_used = 'Exhaustion, sA'\n",
    "num_variables = 2\n",
    "X = daily_pC[['average_exhaustion','average_sA']]\n",
    "y = daily_pC['pC'].values.reshape(-1,1)\n",
    "print(X.shape,y.shape)\n",
    "X_train, X_test, y_train, y_test = train_test_split(X,y,random_state = 42)\n",
    "model = LinearRegression()\n",
    "model.fit(X_train,y_train)\n",
    "training_score = model.score(X_train,y_train)\n",
    "testing_score = model.score(X_test,y_test)\n",
    "predicted = model.predict(X)\n",
    "print(variables_used)\n",
    "print(f'Training Score: {training_score}')\n",
    "print(f'Testing Score: {testing_score}')\n",
    "variables_list.append(variables_used)\n",
    "num_vars_list.append(num_variables)\n",
    "score_list.append(model.score(X,y))\n",
    "mse_list.append(mean_squared_error(y,predicted))"
   ]
  },
  {
   "cell_type": "code",
   "execution_count": 74,
   "metadata": {},
   "outputs": [
    {
     "name": "stdout",
     "output_type": "stream",
     "text": [
      "(470, 2) (470, 1)\n",
      "Exhaustion, Number Extract Points\n",
      "Training Score: 0.1852873341881538\n",
      "Testing Score: 0.15076098968895635\n"
     ]
    }
   ],
   "source": [
    "variables_used = 'Exhaustion, Number Extract Points'\n",
    "num_variables = 2\n",
    "X = daily_pC[['average_exhaustion','number_extract_points']]\n",
    "y = daily_pC['pC'].values.reshape(-1,1)\n",
    "print(X.shape,y.shape)\n",
    "X_train, X_test, y_train, y_test = train_test_split(X,y,random_state = 42)\n",
    "model = LinearRegression()\n",
    "model.fit(X_train,y_train)\n",
    "training_score = model.score(X_train,y_train)\n",
    "testing_score = model.score(X_test,y_test)\n",
    "print(variables_used)\n",
    "print(f'Training Score: {training_score}')\n",
    "print(f'Testing Score: {testing_score}')\n",
    "predicted = model.predict(X)\n",
    "variables_list.append(variables_used)\n",
    "num_vars_list.append(num_variables)\n",
    "score_list.append(model.score(X,y))\n",
    "mse_list.append(mean_squared_error(y,predicted))"
   ]
  },
  {
   "cell_type": "code",
   "execution_count": 75,
   "metadata": {
    "scrolled": true
   },
   "outputs": [
    {
     "name": "stdout",
     "output_type": "stream",
     "text": [
      "(470, 2) (470, 1)\n",
      "sA, Number Extract Points\n",
      "Training Score: 0.02823481902274583\n",
      "Testing Score: 0.027358132199027607\n"
     ]
    }
   ],
   "source": [
    "variables_used = 'sA, Number Extract Points'\n",
    "num_variables = 2\n",
    "X = daily_pC[['average_sA','number_extract_points']]\n",
    "y = daily_pC['pC'].values.reshape(-1,1)\n",
    "print(X.shape,y.shape)\n",
    "X_train, X_test, y_train, y_test = train_test_split(X,y,random_state = 42)\n",
    "model = LinearRegression()\n",
    "model.fit(X_train,y_train)\n",
    "training_score = model.score(X_train,y_train)\n",
    "testing_score = model.score(X_test,y_test)\n",
    "print(variables_used)\n",
    "print(f'Training Score: {training_score}')\n",
    "print(f'Testing Score: {testing_score}')\n",
    "predicted = model.predict(X)\n",
    "variables_list.append(variables_used)\n",
    "num_vars_list.append(num_variables)\n",
    "score_list.append(model.score(X,y))\n",
    "mse_list.append(mean_squared_error(y,predicted))"
   ]
  },
  {
   "cell_type": "code",
   "execution_count": 76,
   "metadata": {
    "scrolled": true
   },
   "outputs": [
    {
     "data": {
      "text/html": [
       "<div>\n",
       "<style scoped>\n",
       "    .dataframe tbody tr th:only-of-type {\n",
       "        vertical-align: middle;\n",
       "    }\n",
       "\n",
       "    .dataframe tbody tr th {\n",
       "        vertical-align: top;\n",
       "    }\n",
       "\n",
       "    .dataframe thead th {\n",
       "        text-align: right;\n",
       "    }\n",
       "</style>\n",
       "<table border=\"1\" class=\"dataframe\">\n",
       "  <thead>\n",
       "    <tr style=\"text-align: right;\">\n",
       "      <th></th>\n",
       "      <th>Variables</th>\n",
       "      <th>Number of Variables</th>\n",
       "      <th>Score</th>\n",
       "      <th>MSE</th>\n",
       "    </tr>\n",
       "  </thead>\n",
       "  <tbody>\n",
       "    <tr>\n",
       "      <th>5</th>\n",
       "      <td>Exhaustion, Number Extract Points</td>\n",
       "      <td>2</td>\n",
       "      <td>0.181428</td>\n",
       "      <td>9.824438e-08</td>\n",
       "    </tr>\n",
       "    <tr>\n",
       "      <th>0</th>\n",
       "      <td>Exhaustion, sA, Number Extract Points</td>\n",
       "      <td>3</td>\n",
       "      <td>0.181380</td>\n",
       "      <td>9.825014e-08</td>\n",
       "    </tr>\n",
       "    <tr>\n",
       "      <th>1</th>\n",
       "      <td>Exhaustion</td>\n",
       "      <td>1</td>\n",
       "      <td>0.146813</td>\n",
       "      <td>1.023988e-07</td>\n",
       "    </tr>\n",
       "    <tr>\n",
       "      <th>4</th>\n",
       "      <td>Exhaustion, sA</td>\n",
       "      <td>2</td>\n",
       "      <td>0.146765</td>\n",
       "      <td>1.024046e-07</td>\n",
       "    </tr>\n",
       "    <tr>\n",
       "      <th>6</th>\n",
       "      <td>sA, Number Extract Points</td>\n",
       "      <td>2</td>\n",
       "      <td>0.034817</td>\n",
       "      <td>1.158405e-07</td>\n",
       "    </tr>\n",
       "    <tr>\n",
       "      <th>2</th>\n",
       "      <td>sA</td>\n",
       "      <td>1</td>\n",
       "      <td>0.013841</td>\n",
       "      <td>1.183581e-07</td>\n",
       "    </tr>\n",
       "    <tr>\n",
       "      <th>3</th>\n",
       "      <td>Number Extract Points</td>\n",
       "      <td>1</td>\n",
       "      <td>0.011752</td>\n",
       "      <td>1.186087e-07</td>\n",
       "    </tr>\n",
       "  </tbody>\n",
       "</table>\n",
       "</div>"
      ],
      "text/plain": [
       "                               Variables  Number of Variables     Score  \\\n",
       "5      Exhaustion, Number Extract Points                    2  0.181428   \n",
       "0  Exhaustion, sA, Number Extract Points                    3  0.181380   \n",
       "1                             Exhaustion                    1  0.146813   \n",
       "4                         Exhaustion, sA                    2  0.146765   \n",
       "6              sA, Number Extract Points                    2  0.034817   \n",
       "2                                     sA                    1  0.013841   \n",
       "3                  Number Extract Points                    1  0.011752   \n",
       "\n",
       "            MSE  \n",
       "5  9.824438e-08  \n",
       "0  9.825014e-08  \n",
       "1  1.023988e-07  \n",
       "4  1.024046e-07  \n",
       "6  1.158405e-07  \n",
       "2  1.183581e-07  \n",
       "3  1.186087e-07  "
      ]
     },
     "execution_count": 76,
     "metadata": {},
     "output_type": "execute_result"
    }
   ],
   "source": [
    "pC_reg_results = {'Variables':variables_list,\n",
    "              'Number of Variables':num_vars_list,\n",
    "              'Score':score_list,\n",
    "              'MSE':mse_list}\n",
    "pC_reg_results_df = pd.DataFrame(pC_reg_results).sort_values('Score',ascending=False)\n",
    "pC_reg_results_df"
   ]
  },
  {
   "cell_type": "code",
   "execution_count": 77,
   "metadata": {},
   "outputs": [],
   "source": [
    "daily_pC.to_csv('Resources/daily_pC_ra.csv',index=False)"
   ]
  },
  {
   "cell_type": "code",
   "execution_count": 78,
   "metadata": {},
   "outputs": [],
   "source": [
    "##########################\n",
    "# pD Testing Starts Here #\n",
    "##########################"
   ]
  },
  {
   "cell_type": "code",
   "execution_count": 79,
   "metadata": {
    "scrolled": false
   },
   "outputs": [
    {
     "data": {
      "image/png": "[encoded data removed]",
      "text/plain": [
       "<Figure size 432x288 with 1 Axes>"
      ]
     },
     "metadata": {
      "needs_background": "light"
     },
     "output_type": "display_data"
    }
   ],
   "source": [
    "# Look at scatter plots of each independent variable to identify any trends right away\n",
    "fig, ax = plt.subplots()\n",
    "ax.scatter(daily_composite_ra['average_exhaustion'],daily_composite_ra['pD'])\n",
    "plt.title('Daily pD vs Exhaustion')\n",
    "ax.set_ylabel('Daily pD')\n",
    "ax.set_xlabel('Exhaustion')\n",
    "fig.set_size_inches(6, 4)\n",
    "fig.savefig('Images/day_pD_exhaustion_ra.png', dpi=96)\n",
    "plt.show()"
   ]
  },
  {
   "cell_type": "code",
   "execution_count": 80,
   "metadata": {
    "scrolled": true
   },
   "outputs": [
    {
     "data": {
      "image/png": "[encoded data removed]",
      "text/plain": [
       "<Figure size 432x288 with 1 Axes>"
      ]
     },
     "metadata": {
      "needs_background": "light"
     },
     "output_type": "display_data"
    }
   ],
   "source": [
    "fig, ax = plt.subplots()\n",
    "ax.scatter(daily_composite_ra['average_sA'],daily_composite_ra['pD'])\n",
    "plt.title('Daily pD vs sA')\n",
    "ax.set_ylabel('Daily pD')\n",
    "ax.set_xlabel('sA')\n",
    "fig.set_size_inches(6, 4)\n",
    "fig.savefig('Images/day_pD_sA_ra.png', dpi=96)\n",
    "plt.show()"
   ]
  },
  {
   "cell_type": "code",
   "execution_count": 81,
   "metadata": {},
   "outputs": [
    {
     "data": {
      "image/png": "[encoded data removed]",
      "text/plain": [
       "<Figure size 432x288 with 1 Axes>"
      ]
     },
     "metadata": {
      "needs_background": "light"
     },
     "output_type": "display_data"
    }
   ],
   "source": [
    "fig, ax = plt.subplots()\n",
    "ax.scatter(daily_composite_ra['number_extract_points'],daily_composite_ra['pD'])\n",
    "plt.title('Daily pD vs Number of Extract Points')\n",
    "ax.set_ylabel('Daily pD')\n",
    "ax.set_xlabel('Number of Extract Points')\n",
    "fig.set_size_inches(6, 4)\n",
    "fig.savefig('Images/day_pD_extract_pts_ra.png', dpi=96)\n",
    "plt.show()"
   ]
  },
  {
   "cell_type": "code",
   "execution_count": 82,
   "metadata": {},
   "outputs": [],
   "source": [
    "daily_pD = daily_composite_ra.copy()\n",
    "daily_pD = daily_pD[['average_exhaustion','average_sA','number_extract_points','pD']].dropna().reset_index(drop=True)\n",
    "daily_sel = daily_pD.copy()\n",
    "model = forward_selected(daily_sel,'pD')"
   ]
  },
  {
   "cell_type": "code",
   "execution_count": 83,
   "metadata": {},
   "outputs": [
    {
     "name": "stdout",
     "output_type": "stream",
     "text": [
      "pD ~ average_sA + average_exhaustion + number_extract_points + 1\n"
     ]
    }
   ],
   "source": [
    "print (model.model.formula)"
   ]
  },
  {
   "cell_type": "code",
   "execution_count": 84,
   "metadata": {},
   "outputs": [
    {
     "name": "stdout",
     "output_type": "stream",
     "text": [
      "0.15774279784679213\n"
     ]
    }
   ],
   "source": [
    "print(model.rsquared_adj)"
   ]
  },
  {
   "cell_type": "code",
   "execution_count": 85,
   "metadata": {},
   "outputs": [
    {
     "name": "stdout",
     "output_type": "stream",
     "text": [
      "(2368, 3) (2368, 1)\n"
     ]
    }
   ],
   "source": [
    "X = daily_pD[['average_exhaustion','average_sA','number_extract_points']]\n",
    "y = daily_pD['pD'].values.reshape(-1,1)\n",
    "print(X.shape,y.shape)"
   ]
  },
  {
   "cell_type": "code",
   "execution_count": 86,
   "metadata": {},
   "outputs": [],
   "source": [
    "from sklearn.model_selection import train_test_split\n",
    "X_train, X_test, y_train, y_test = train_test_split(X,y,random_state = 3)"
   ]
  },
  {
   "cell_type": "code",
   "execution_count": 87,
   "metadata": {},
   "outputs": [],
   "source": [
    "from sklearn.linear_model import LinearRegression\n",
    "model = LinearRegression()"
   ]
  },
  {
   "cell_type": "code",
   "execution_count": 88,
   "metadata": {},
   "outputs": [
    {
     "name": "stdout",
     "output_type": "stream",
     "text": [
      "Training Score: 0.15921308820400593\n",
      "Testing Score: 0.14913713936045447\n"
     ]
    }
   ],
   "source": [
    "model.fit(X_train,y_train)\n",
    "training_score = model.score(X_train,y_train)\n",
    "testing_score = model.score(X_test,y_test)\n",
    "print(f'Training Score: {training_score}')\n",
    "print(f'Testing Score: {testing_score}')"
   ]
  },
  {
   "cell_type": "code",
   "execution_count": 89,
   "metadata": {
    "scrolled": false
   },
   "outputs": [
    {
     "data": {
      "image/png": "[encoded data removed]",
      "text/plain": [
       "<Figure size 432x288 with 1 Axes>"
      ]
     },
     "metadata": {
      "needs_background": "light"
     },
     "output_type": "display_data"
    }
   ],
   "source": [
    "fig, ax = plt.subplots()\n",
    "ax.scatter(model.predict(X_train),model.predict(X_train) - y_train, c='blue',label='Training Data')\n",
    "ax.scatter(model.predict(X_test),model.predict(X_test) - y_test, c='orange', label='Testing Data')\n",
    "plt.legend()\n",
    "plt.hlines(y=0,xmin=y.min(),xmax=y.max())\n",
    "plt.title('Residual Plot, Daily pD, 3-Variable Linear Model')\n",
    "fig.set_size_inches(6, 4)\n",
    "fig.savefig('Images/day_pD_linear_residual_ra.png', dpi=96)\n",
    "plt.show()"
   ]
  },
  {
   "cell_type": "code",
   "execution_count": 90,
   "metadata": {},
   "outputs": [
    {
     "data": {
      "text/html": [
       "<div>\n",
       "<style scoped>\n",
       "    .dataframe tbody tr th:only-of-type {\n",
       "        vertical-align: middle;\n",
       "    }\n",
       "\n",
       "    .dataframe tbody tr th {\n",
       "        vertical-align: top;\n",
       "    }\n",
       "\n",
       "    .dataframe thead th {\n",
       "        text-align: right;\n",
       "    }\n",
       "</style>\n",
       "<table border=\"1\" class=\"dataframe\">\n",
       "  <thead>\n",
       "    <tr style=\"text-align: right;\">\n",
       "      <th></th>\n",
       "      <th>datetime</th>\n",
       "      <th>average_exhaustion</th>\n",
       "      <th>average_sA</th>\n",
       "      <th>number_extract_points</th>\n",
       "      <th>pD</th>\n",
       "    </tr>\n",
       "  </thead>\n",
       "  <tbody>\n",
       "    <tr>\n",
       "      <th>2141</th>\n",
       "      <td>2009-08-12</td>\n",
       "      <td>47.836660</td>\n",
       "      <td>0.236600</td>\n",
       "      <td>148.0</td>\n",
       "      <td>0.01700</td>\n",
       "    </tr>\n",
       "    <tr>\n",
       "      <th>2142</th>\n",
       "      <td>2009-08-13</td>\n",
       "      <td>45.127344</td>\n",
       "      <td>0.239869</td>\n",
       "      <td>141.0</td>\n",
       "      <td>0.01900</td>\n",
       "    </tr>\n",
       "    <tr>\n",
       "      <th>2143</th>\n",
       "      <td>2009-08-14</td>\n",
       "      <td>46.250910</td>\n",
       "      <td>0.237382</td>\n",
       "      <td>154.0</td>\n",
       "      <td>0.01800</td>\n",
       "    </tr>\n",
       "    <tr>\n",
       "      <th>2144</th>\n",
       "      <td>2009-08-15</td>\n",
       "      <td>47.276493</td>\n",
       "      <td>0.238790</td>\n",
       "      <td>152.0</td>\n",
       "      <td>0.01825</td>\n",
       "    </tr>\n",
       "    <tr>\n",
       "      <th>2145</th>\n",
       "      <td>2009-08-16</td>\n",
       "      <td>45.022368</td>\n",
       "      <td>0.240766</td>\n",
       "      <td>162.0</td>\n",
       "      <td>0.01825</td>\n",
       "    </tr>\n",
       "  </tbody>\n",
       "</table>\n",
       "</div>"
      ],
      "text/plain": [
       "       datetime  average_exhaustion  average_sA  number_extract_points  \\\n",
       "2141 2009-08-12           47.836660    0.236600                  148.0   \n",
       "2142 2009-08-13           45.127344    0.239869                  141.0   \n",
       "2143 2009-08-14           46.250910    0.237382                  154.0   \n",
       "2144 2009-08-15           47.276493    0.238790                  152.0   \n",
       "2145 2009-08-16           45.022368    0.240766                  162.0   \n",
       "\n",
       "           pD  \n",
       "2141  0.01700  \n",
       "2142  0.01900  \n",
       "2143  0.01800  \n",
       "2144  0.01825  \n",
       "2145  0.01825  "
      ]
     },
     "execution_count": 90,
     "metadata": {},
     "output_type": "execute_result"
    }
   ],
   "source": [
    "daily_pD = daily_composite_ra.copy()\n",
    "daily_pD = daily_pD[['datetime','average_exhaustion','average_sA','number_extract_points','pD']].dropna()\n",
    "daily_pD.head()"
   ]
  },
  {
   "cell_type": "code",
   "execution_count": 91,
   "metadata": {},
   "outputs": [],
   "source": [
    "variables_list = []\n",
    "num_vars_list = []\n",
    "score_list = []\n",
    "mse_list = []"
   ]
  },
  {
   "cell_type": "code",
   "execution_count": 92,
   "metadata": {},
   "outputs": [
    {
     "name": "stdout",
     "output_type": "stream",
     "text": [
      "(2368, 3) (2368, 1)\n",
      "Exhaustion, sA, Number Extract Points\n",
      "Training Score: 0.15921308820400593\n",
      "Testing Score: 0.14913713936045447\n",
      "R2 Value: [0.15768868]\n",
      "Adjusted R2 value: [0.15661976]\n",
      "MSE: 1.3428893909538805e-05\n"
     ]
    }
   ],
   "source": [
    "variables_used = 'Exhaustion, sA, Number Extract Points'\n",
    "num_variables = 3\n",
    "X = daily_pD[['average_exhaustion','average_sA','number_extract_points']]\n",
    "y = daily_pD['pD'].values.reshape(-1,1)\n",
    "print(X.shape,y.shape)\n",
    "X_train, X_test, y_train, y_test = train_test_split(X,y,random_state = 3)\n",
    "model = LinearRegression()\n",
    "model.fit(X_train,y_train)\n",
    "training_score = model.score(X_train,y_train)\n",
    "testing_score = model.score(X_test,y_test)\n",
    "print(variables_used)\n",
    "print(f'Training Score: {training_score}')\n",
    "print(f'Testing Score: {testing_score}')\n",
    "predicted = model.predict(X)\n",
    "SS_Residual = sum((y-predicted)**2)       \n",
    "SS_Total = sum((y-np.mean(y))**2)     \n",
    "r_squared = 1 - (float(SS_Residual))/SS_Total\n",
    "adjusted_r_squared = 1 - (1-r_squared)*(len(y)-1)/(len(y)-X.shape[1]-1)\n",
    "print(f'R2 Value: {r_squared}')\n",
    "print(f'Adjusted R2 value: {adjusted_r_squared}')\n",
    "from sklearn.metrics import mean_squared_error, r2_score\n",
    "print(f'MSE: {mean_squared_error(y,predicted)}')\n",
    "variables_list.append(variables_used)\n",
    "num_vars_list.append(num_variables)\n",
    "score_list.append(model.score(X,y))\n",
    "mse_list.append(mean_squared_error(y,predicted))"
   ]
  },
  {
   "cell_type": "code",
   "execution_count": 93,
   "metadata": {},
   "outputs": [
    {
     "name": "stdout",
     "output_type": "stream",
     "text": [
      "(2368, 1) (2368, 1)\n",
      "Exhaustion\n",
      "Training Score: 0.034708994408612415\n",
      "Testing Score: 0.060044907264356844\n"
     ]
    }
   ],
   "source": [
    "variables_used = 'Exhaustion'\n",
    "num_variables = 1\n",
    "X = daily_pD[['average_exhaustion']]\n",
    "y = daily_pD['pD'].values.reshape(-1,1)\n",
    "print(X.shape,y.shape)\n",
    "X_train, X_test, y_train, y_test = train_test_split(X,y,random_state = 3)\n",
    "model = LinearRegression()\n",
    "model.fit(X_train,y_train)\n",
    "training_score = model.score(X_train,y_train)\n",
    "testing_score = model.score(X_test,y_test)\n",
    "print(variables_used)\n",
    "print(f'Training Score: {training_score}')\n",
    "print(f'Testing Score: {testing_score}')\n",
    "predicted = model.predict(X)\n",
    "variables_list.append(variables_used)\n",
    "num_vars_list.append(num_variables)\n",
    "score_list.append(model.score(X,y))\n",
    "mse_list.append(mean_squared_error(y,predicted))"
   ]
  },
  {
   "cell_type": "code",
   "execution_count": 94,
   "metadata": {},
   "outputs": [
    {
     "name": "stdout",
     "output_type": "stream",
     "text": [
      "(2368, 1) (2368, 1)\n",
      "sA\n",
      "Training Score: 0.1543857757689875\n",
      "Testing Score: 0.15889213726717055\n"
     ]
    }
   ],
   "source": [
    "variables_used = 'sA'\n",
    "num_variables = 1\n",
    "X = daily_pD[['average_sA']]\n",
    "y = daily_pD['pD'].values.reshape(-1,1)\n",
    "print(X.shape,y.shape)\n",
    "X_train, X_test, y_train, y_test = train_test_split(X,y,random_state = 3)\n",
    "model = LinearRegression()\n",
    "model.fit(X_train,y_train)\n",
    "training_score = model.score(X_train,y_train)\n",
    "testing_score = model.score(X_test,y_test)\n",
    "predicted = model.predict(X)\n",
    "print(variables_used)\n",
    "print(f'Training Score: {training_score}')\n",
    "print(f'Testing Score: {testing_score}')\n",
    "variables_list.append(variables_used)\n",
    "num_vars_list.append(num_variables)\n",
    "score_list.append(model.score(X,y))\n",
    "mse_list.append(mean_squared_error(y,predicted))"
   ]
  },
  {
   "cell_type": "code",
   "execution_count": 95,
   "metadata": {},
   "outputs": [
    {
     "name": "stdout",
     "output_type": "stream",
     "text": [
      "(2368, 1) (2368, 1)\n",
      "Number Extract Points\n",
      "Training Score: 0.04315367411593285\n",
      "Testing Score: 0.035869880639958884\n"
     ]
    }
   ],
   "source": [
    "variables_used = 'Number Extract Points'\n",
    "num_variables = 1\n",
    "X = daily_pD[['number_extract_points']]\n",
    "y = daily_pD['pD'].values.reshape(-1,1)\n",
    "print(X.shape,y.shape)\n",
    "X_train, X_test, y_train, y_test = train_test_split(X,y,random_state = 3)\n",
    "model = LinearRegression()\n",
    "model.fit(X_train,y_train)\n",
    "training_score = model.score(X_train,y_train)\n",
    "testing_score = model.score(X_test,y_test)\n",
    "predicted = model.predict(X)\n",
    "print(variables_used)\n",
    "print(f'Training Score: {training_score}')\n",
    "print(f'Testing Score: {testing_score}')\n",
    "variables_list.append(variables_used)\n",
    "num_vars_list.append(num_variables)\n",
    "score_list.append(model.score(X,y))\n",
    "mse_list.append(mean_squared_error(y,predicted))"
   ]
  },
  {
   "cell_type": "code",
   "execution_count": 96,
   "metadata": {},
   "outputs": [
    {
     "name": "stdout",
     "output_type": "stream",
     "text": [
      "(2368, 2) (2368, 1)\n",
      "Exhaustion, sA\n",
      "Training Score: 0.15802066237095547\n",
      "Testing Score: 0.14971344424031585\n"
     ]
    }
   ],
   "source": [
    "variables_used = 'Exhaustion, sA'\n",
    "num_variables = 2\n",
    "X = daily_pD[['average_exhaustion','average_sA']]\n",
    "y = daily_pD['pD'].values.reshape(-1,1)\n",
    "print(X.shape,y.shape)\n",
    "X_train, X_test, y_train, y_test = train_test_split(X,y,random_state = 3)\n",
    "model = LinearRegression()\n",
    "model.fit(X_train,y_train)\n",
    "training_score = model.score(X_train,y_train)\n",
    "testing_score = model.score(X_test,y_test)\n",
    "predicted = model.predict(X)\n",
    "print(variables_used)\n",
    "print(f'Training Score: {training_score}')\n",
    "print(f'Testing Score: {testing_score}')\n",
    "variables_list.append(variables_used)\n",
    "num_vars_list.append(num_variables)\n",
    "score_list.append(model.score(X,y))\n",
    "mse_list.append(mean_squared_error(y,predicted))"
   ]
  },
  {
   "cell_type": "code",
   "execution_count": 97,
   "metadata": {},
   "outputs": [
    {
     "name": "stdout",
     "output_type": "stream",
     "text": [
      "(2368, 2) (2368, 1)\n",
      "Exhaustion, Number Extract Points\n",
      "Training Score: 0.058479812743954196\n",
      "Testing Score: 0.07681389311627151\n"
     ]
    }
   ],
   "source": [
    "variables_used = 'Exhaustion, Number Extract Points'\n",
    "num_variables = 2\n",
    "X = daily_pD[['average_exhaustion','number_extract_points']]\n",
    "y = daily_pD['pD'].values.reshape(-1,1)\n",
    "print(X.shape,y.shape)\n",
    "X_train, X_test, y_train, y_test = train_test_split(X,y,random_state = 3)\n",
    "model = LinearRegression()\n",
    "model.fit(X_train,y_train)\n",
    "training_score = model.score(X_train,y_train)\n",
    "testing_score = model.score(X_test,y_test)\n",
    "print(variables_used)\n",
    "print(f'Training Score: {training_score}')\n",
    "print(f'Testing Score: {testing_score}')\n",
    "predicted = model.predict(X)\n",
    "variables_list.append(variables_used)\n",
    "num_vars_list.append(num_variables)\n",
    "score_list.append(model.score(X,y))\n",
    "mse_list.append(mean_squared_error(y,predicted))"
   ]
  },
  {
   "cell_type": "code",
   "execution_count": 98,
   "metadata": {
    "scrolled": true
   },
   "outputs": [
    {
     "name": "stdout",
     "output_type": "stream",
     "text": [
      "(2368, 2) (2368, 1)\n",
      "sA, Number Extract Points\n",
      "Training Score: 0.15545025368259904\n",
      "Testing Score: 0.15841654114798076\n"
     ]
    }
   ],
   "source": [
    "variables_used = 'sA, Number Extract Points'\n",
    "num_variables = 2\n",
    "X = daily_pD[['average_sA','number_extract_points']]\n",
    "y = daily_pD['pD'].values.reshape(-1,1)\n",
    "print(X.shape,y.shape)\n",
    "X_train, X_test, y_train, y_test = train_test_split(X,y,random_state = 3)\n",
    "model = LinearRegression()\n",
    "model.fit(X_train,y_train)\n",
    "training_score = model.score(X_train,y_train)\n",
    "testing_score = model.score(X_test,y_test)\n",
    "print(variables_used)\n",
    "print(f'Training Score: {training_score}')\n",
    "print(f'Testing Score: {testing_score}')\n",
    "predicted = model.predict(X)\n",
    "variables_list.append(variables_used)\n",
    "num_vars_list.append(num_variables)\n",
    "score_list.append(model.score(X,y))\n",
    "mse_list.append(mean_squared_error(y,predicted))"
   ]
  },
  {
   "cell_type": "code",
   "execution_count": 99,
   "metadata": {
    "scrolled": true
   },
   "outputs": [
    {
     "data": {
      "text/html": [
       "<div>\n",
       "<style scoped>\n",
       "    .dataframe tbody tr th:only-of-type {\n",
       "        vertical-align: middle;\n",
       "    }\n",
       "\n",
       "    .dataframe tbody tr th {\n",
       "        vertical-align: top;\n",
       "    }\n",
       "\n",
       "    .dataframe thead th {\n",
       "        text-align: right;\n",
       "    }\n",
       "</style>\n",
       "<table border=\"1\" class=\"dataframe\">\n",
       "  <thead>\n",
       "    <tr style=\"text-align: right;\">\n",
       "      <th></th>\n",
       "      <th>Variables</th>\n",
       "      <th>Number of Variables</th>\n",
       "      <th>Score</th>\n",
       "      <th>MSE</th>\n",
       "    </tr>\n",
       "  </thead>\n",
       "  <tbody>\n",
       "    <tr>\n",
       "      <th>0</th>\n",
       "      <td>Exhaustion, sA, Number Extract Points</td>\n",
       "      <td>3</td>\n",
       "      <td>0.157689</td>\n",
       "      <td>0.000013</td>\n",
       "    </tr>\n",
       "    <tr>\n",
       "      <th>6</th>\n",
       "      <td>sA, Number Extract Points</td>\n",
       "      <td>2</td>\n",
       "      <td>0.157321</td>\n",
       "      <td>0.000013</td>\n",
       "    </tr>\n",
       "    <tr>\n",
       "      <th>4</th>\n",
       "      <td>Exhaustion, sA</td>\n",
       "      <td>2</td>\n",
       "      <td>0.156958</td>\n",
       "      <td>0.000013</td>\n",
       "    </tr>\n",
       "    <tr>\n",
       "      <th>2</th>\n",
       "      <td>sA</td>\n",
       "      <td>1</td>\n",
       "      <td>0.156658</td>\n",
       "      <td>0.000013</td>\n",
       "    </tr>\n",
       "    <tr>\n",
       "      <th>5</th>\n",
       "      <td>Exhaustion, Number Extract Points</td>\n",
       "      <td>2</td>\n",
       "      <td>0.064470</td>\n",
       "      <td>0.000015</td>\n",
       "    </tr>\n",
       "    <tr>\n",
       "      <th>1</th>\n",
       "      <td>Exhaustion</td>\n",
       "      <td>1</td>\n",
       "      <td>0.042550</td>\n",
       "      <td>0.000015</td>\n",
       "    </tr>\n",
       "    <tr>\n",
       "      <th>3</th>\n",
       "      <td>Number Extract Points</td>\n",
       "      <td>1</td>\n",
       "      <td>0.042506</td>\n",
       "      <td>0.000015</td>\n",
       "    </tr>\n",
       "  </tbody>\n",
       "</table>\n",
       "</div>"
      ],
      "text/plain": [
       "                               Variables  Number of Variables     Score  \\\n",
       "0  Exhaustion, sA, Number Extract Points                    3  0.157689   \n",
       "6              sA, Number Extract Points                    2  0.157321   \n",
       "4                         Exhaustion, sA                    2  0.156958   \n",
       "2                                     sA                    1  0.156658   \n",
       "5      Exhaustion, Number Extract Points                    2  0.064470   \n",
       "1                             Exhaustion                    1  0.042550   \n",
       "3                  Number Extract Points                    1  0.042506   \n",
       "\n",
       "        MSE  \n",
       "0  0.000013  \n",
       "6  0.000013  \n",
       "4  0.000013  \n",
       "2  0.000013  \n",
       "5  0.000015  \n",
       "1  0.000015  \n",
       "3  0.000015  "
      ]
     },
     "execution_count": 99,
     "metadata": {},
     "output_type": "execute_result"
    }
   ],
   "source": [
    "pD_reg_results = {'Variables':variables_list,\n",
    "              'Number of Variables':num_vars_list,\n",
    "              'Score':score_list,\n",
    "              'MSE':mse_list}\n",
    "pD_reg_results_df = pd.DataFrame(pD_reg_results).sort_values('Score',ascending=False)\n",
    "pD_reg_results_df"
   ]
  },
  {
   "cell_type": "code",
   "execution_count": 100,
   "metadata": {},
   "outputs": [],
   "source": [
    "daily_pD.to_csv('Resources/daily_pD_ra.csv',index=False)"
   ]
  },
  {
   "cell_type": "code",
   "execution_count": null,
   "metadata": {},
   "outputs": [],
   "source": []
  }
 ],
 "metadata": {
  "kernelspec": {
   "display_name": "Python 3",
   "language": "python",
   "name": "python3"
  },
  "language_info": {
   "codemirror_mode": {
    "name": "ipython",
    "version": 3
   },
   "file_extension": ".py",
   "mimetype": "text/x-python",
   "name": "python",
   "nbconvert_exporter": "python",
   "pygments_lexer": "ipython3",
   "version": "3.7.4"
  }
 },
 "nbformat": 4,
 "nbformat_minor": 2
}
