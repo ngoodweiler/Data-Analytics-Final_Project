{
 "cells": [
  {
   "cell_type": "code",
   "execution_count": 2,
   "metadata": {},
   "outputs": [],
   "source": [
    "# Load dependencies\n",
    "import numpy as np\n",
    "import pandas as pd\n",
    "import matplotlib.pyplot as plt\n",
    "import scipy.stats as sts\n",
    "import numpy as np\n",
    "import statsmodels.formula.api as smf"
   ]
  },
  {
   "cell_type": "code",
   "execution_count": 57,
   "metadata": {},
   "outputs": [],
   "source": [
    "def forward_selected(data, response):\n",
    "    \"\"\"Linear model designed by forward selection.\n",
    "\n",
    "    Parameters:\n",
    "    -----------\n",
    "    data : pandas DataFrame with all possible predictors and response\n",
    "\n",
    "    response: string, name of response column in data\n",
    "\n",
    "    Returns:\n",
    "    --------\n",
    "    model: an \"optimal\" fitted statsmodels linear model\n",
    "           with an intercept\n",
    "           selected by forward selection\n",
    "           evaluated by adjusted R-squared\n",
    "    \"\"\"\n",
    "    remaining = set(data.columns)\n",
    "    remaining.remove(response)\n",
    "    selected = []\n",
    "    current_score, best_new_score = 0.0, 0.0\n",
    "    while remaining and current_score == best_new_score:\n",
    "        scores_with_candidates = []\n",
    "        for candidate in remaining:\n",
    "            formula = \"{} ~ {} + 1\".format(response,\n",
    "                                           ' + '.join(selected + [candidate]))\n",
    "            score = smf.ols(formula, data).fit().rsquared_adj\n",
    "            scores_with_candidates.append((score, candidate))\n",
    "        scores_with_candidates.sort()\n",
    "        best_new_score, best_candidate = scores_with_candidates.pop()\n",
    "        if current_score < best_new_score:\n",
    "            remaining.remove(best_candidate)\n",
    "            selected.append(best_candidate)\n",
    "            current_score = best_new_score\n",
    "    formula = \"{} ~ {} + 1\".format(response,\n",
    "                                   ' + '.join(selected))\n",
    "    model = smf.ols(formula, data).fit()\n",
    "    return model"
   ]
  },
  {
   "cell_type": "code",
   "execution_count": 12,
   "metadata": {},
   "outputs": [],
   "source": [
    "# Import csv files\n",
    "daily_composite = pd.read_csv('../Data-Analytics-Final_Project/Resources/daily_composite.csv',index_col=False)\n",
    "monthly_composite = pd.read_csv('../Data-Analytics-Final_Project/Resources/monthly_composite.csv',index_col=False)"
   ]
  },
  {
   "cell_type": "code",
   "execution_count": 13,
   "metadata": {},
   "outputs": [
    {
     "data": {
      "text/html": [
       "<div>\n",
       "<style scoped>\n",
       "    .dataframe tbody tr th:only-of-type {\n",
       "        vertical-align: middle;\n",
       "    }\n",
       "\n",
       "    .dataframe tbody tr th {\n",
       "        vertical-align: top;\n",
       "    }\n",
       "\n",
       "    .dataframe thead th {\n",
       "        text-align: right;\n",
       "    }\n",
       "</style>\n",
       "<table border=\"1\" class=\"dataframe\">\n",
       "  <thead>\n",
       "    <tr style=\"text-align: right;\">\n",
       "      <th></th>\n",
       "      <th>datestring</th>\n",
       "      <th>total_extracted</th>\n",
       "      <th>number_extract_points</th>\n",
       "      <th>average_exhaustion</th>\n",
       "      <th>average_sA</th>\n",
       "      <th>average_percent_extracted_per_point</th>\n",
       "      <th>pA</th>\n",
       "      <th>pB</th>\n",
       "      <th>pD</th>\n",
       "      <th>pC</th>\n",
       "    </tr>\n",
       "  </thead>\n",
       "  <tbody>\n",
       "    <tr>\n",
       "      <td>0</td>\n",
       "      <td>20010602</td>\n",
       "      <td>3050.0</td>\n",
       "      <td>4.0</td>\n",
       "      <td>0.763969</td>\n",
       "      <td>0.198464</td>\n",
       "      <td>25.000000</td>\n",
       "      <td>0.182</td>\n",
       "      <td>NaN</td>\n",
       "      <td>NaN</td>\n",
       "      <td>NaN</td>\n",
       "    </tr>\n",
       "    <tr>\n",
       "      <td>1</td>\n",
       "      <td>20010604</td>\n",
       "      <td>23217.0</td>\n",
       "      <td>41.0</td>\n",
       "      <td>0.810689</td>\n",
       "      <td>0.177191</td>\n",
       "      <td>2.439024</td>\n",
       "      <td>0.177</td>\n",
       "      <td>NaN</td>\n",
       "      <td>NaN</td>\n",
       "      <td>NaN</td>\n",
       "    </tr>\n",
       "    <tr>\n",
       "      <td>2</td>\n",
       "      <td>20010605</td>\n",
       "      <td>46802.0</td>\n",
       "      <td>58.0</td>\n",
       "      <td>1.398749</td>\n",
       "      <td>0.209976</td>\n",
       "      <td>1.724138</td>\n",
       "      <td>0.195</td>\n",
       "      <td>NaN</td>\n",
       "      <td>NaN</td>\n",
       "      <td>NaN</td>\n",
       "    </tr>\n",
       "    <tr>\n",
       "      <td>3</td>\n",
       "      <td>20010606</td>\n",
       "      <td>45967.0</td>\n",
       "      <td>54.0</td>\n",
       "      <td>1.185720</td>\n",
       "      <td>0.220088</td>\n",
       "      <td>1.851852</td>\n",
       "      <td>0.180</td>\n",
       "      <td>NaN</td>\n",
       "      <td>NaN</td>\n",
       "      <td>NaN</td>\n",
       "    </tr>\n",
       "    <tr>\n",
       "      <td>4</td>\n",
       "      <td>20010607</td>\n",
       "      <td>7310.0</td>\n",
       "      <td>20.0</td>\n",
       "      <td>0.554372</td>\n",
       "      <td>0.168266</td>\n",
       "      <td>5.000000</td>\n",
       "      <td>0.191</td>\n",
       "      <td>NaN</td>\n",
       "      <td>NaN</td>\n",
       "      <td>NaN</td>\n",
       "    </tr>\n",
       "  </tbody>\n",
       "</table>\n",
       "</div>"
      ],
      "text/plain": [
       "   datestring  total_extracted  number_extract_points  average_exhaustion  \\\n",
       "0    20010602           3050.0                    4.0            0.763969   \n",
       "1    20010604          23217.0                   41.0            0.810689   \n",
       "2    20010605          46802.0                   58.0            1.398749   \n",
       "3    20010606          45967.0                   54.0            1.185720   \n",
       "4    20010607           7310.0                   20.0            0.554372   \n",
       "\n",
       "   average_sA  average_percent_extracted_per_point     pA  pB  pD  pC  \n",
       "0    0.198464                            25.000000  0.182 NaN NaN NaN  \n",
       "1    0.177191                             2.439024  0.177 NaN NaN NaN  \n",
       "2    0.209976                             1.724138  0.195 NaN NaN NaN  \n",
       "3    0.220088                             1.851852  0.180 NaN NaN NaN  \n",
       "4    0.168266                             5.000000  0.191 NaN NaN NaN  "
      ]
     },
     "execution_count": 13,
     "metadata": {},
     "output_type": "execute_result"
    }
   ],
   "source": [
    "daily_composite.head()"
   ]
  },
  {
   "cell_type": "code",
   "execution_count": 58,
   "metadata": {},
   "outputs": [],
   "source": [
    "daily_sel = daily_composite[['average_exhaustion','average_sA','average_percent_extracted_per_point','pA']]\n",
    "monthly_sel = monthly_composite[['average_exhaustion','average_sA','average_percent_extracted_per_point','average_pA']]\n",
    "model = forward_selected(daily_sel,'pA')\n",
    "#model = forward_selected(monthly_model,'average_pA')"
   ]
  },
  {
   "cell_type": "code",
   "execution_count": 53,
   "metadata": {},
   "outputs": [
    {
     "name": "stdout",
     "output_type": "stream",
     "text": [
      "pA ~ average_sA + average_exhaustion + average_percent_extracted_per_point + 1\n"
     ]
    }
   ],
   "source": [
    "print (model.model.formula)"
   ]
  },
  {
   "cell_type": "code",
   "execution_count": 54,
   "metadata": {},
   "outputs": [
    {
     "name": "stdout",
     "output_type": "stream",
     "text": [
      "0.1619445213627334\n"
     ]
    }
   ],
   "source": [
    "print(model.rsquared_adj)"
   ]
  },
  {
   "cell_type": "code",
   "execution_count": 19,
   "metadata": {},
   "outputs": [
    {
     "name": "stdout",
     "output_type": "stream",
     "text": [
      "(4633, 3) (4633, 1)\n"
     ]
    }
   ],
   "source": [
    "X = daily_composite[['average_exhaustion','average_sA','average_percent_extracted_per_point']]\n",
    "y = daily_composite['pA'].values.reshape(-1,1)\n",
    "print(X.shape,y.shape)"
   ]
  },
  {
   "cell_type": "code",
   "execution_count": 20,
   "metadata": {},
   "outputs": [],
   "source": [
    "from sklearn.model_selection import train_test_split\n",
    "X_train, X_test, y_train, y_test = train_test_split(X,y,random_state = 42)"
   ]
  },
  {
   "cell_type": "code",
   "execution_count": 21,
   "metadata": {},
   "outputs": [],
   "source": [
    "from sklearn.linear_model import LinearRegression\n",
    "model = LinearRegression()"
   ]
  },
  {
   "cell_type": "code",
   "execution_count": 23,
   "metadata": {},
   "outputs": [
    {
     "name": "stdout",
     "output_type": "stream",
     "text": [
      "Training Score: 0.16346031265921768\n",
      "Testing Score: 0.15772920491080214\n"
     ]
    }
   ],
   "source": [
    "model.fit(X_train,y_train)\n",
    "training_score = model.score(X_train,y_train)\n",
    "testing_score = model.score(X_test,y_test)\n",
    "print(f'Training Score: {training_score}')\n",
    "print(f'Testing Score: {testing_score}')"
   ]
  },
  {
   "cell_type": "code",
   "execution_count": 24,
   "metadata": {},
   "outputs": [
    {
     "data": {
      "text/plain": [
       "Text(0.5, 1.0, 'Residual Plot')"
      ]
     },
     "execution_count": 24,
     "metadata": {},
     "output_type": "execute_result"
    },
    {
     "data": {
      "image/png": "[encoded data removed]",
      "text/plain": [
       "<Figure size 432x288 with 1 Axes>"
      ]
     },
     "metadata": {
      "needs_background": "light"
     },
     "output_type": "display_data"
    }
   ],
   "source": [
    "plt.scatter(model.predict(X_train),model.predict(X_train) - y_train, c='blue',label='Training Data')\n",
    "plt.scatter(model.predict(X_test),model.predict(X_test) - y_test, c='orange', label='Testing Data')\n",
    "plt.legend()\n",
    "plt.hlines(y=0,xmin=y.min(),xmax=y.max())\n",
    "plt.title('Residual Plot')"
   ]
  },
  {
   "cell_type": "code",
   "execution_count": 28,
   "metadata": {},
   "outputs": [
    {
     "data": {
      "image/png": "[encoded data removed]",
      "text/plain": [
       "<Figure size 432x288 with 1 Axes>"
      ]
     },
     "metadata": {
      "needs_background": "light"
     },
     "output_type": "display_data"
    }
   ],
   "source": [
    "# Look at scatter plots of each independent variable to identify any trends right away\n",
    "#daily_composite.head()\n",
    "#monthly_composite.head()\n",
    "plt.scatter(daily_composite['average_exhaustion'],daily_composite['pA'])\n",
    "plt.title('Daily pA vs Average Exhaustion')\n",
    "plt.show()"
   ]
  },
  {
   "cell_type": "code",
   "execution_count": 30,
   "metadata": {},
   "outputs": [
    {
     "data": {
      "image/png": "[encoded data removed]",
      "text/plain": [
       "<Figure size 432x288 with 1 Axes>"
      ]
     },
     "metadata": {
      "needs_background": "light"
     },
     "output_type": "display_data"
    }
   ],
   "source": [
    "plt.scatter(daily_composite['average_sA'],daily_composite['pA'])\n",
    "plt.title('Daily pA vs Average sA')\n",
    "plt.show()"
   ]
  },
  {
   "cell_type": "code",
   "execution_count": 37,
   "metadata": {},
   "outputs": [
    {
     "data": {
      "image/png": "[encoded data removed]",
      "text/plain": [
       "<Figure size 432x288 with 1 Axes>"
      ]
     },
     "metadata": {
      "needs_background": "light"
     },
     "output_type": "display_data"
    }
   ],
   "source": [
    "plt.scatter(daily_composite['average_percent_extracted_per_point'],daily_composite['pA'])\n",
    "plt.title('Daily pA vs Average Percent Extracted per Extract Point')\n",
    "plt.xlim([0,5])\n",
    "plt.show()"
   ]
  },
  {
   "cell_type": "code",
   "execution_count": 64,
   "metadata": {},
   "outputs": [
    {
     "data": {
      "text/html": [
       "<div>\n",
       "<style scoped>\n",
       "    .dataframe tbody tr th:only-of-type {\n",
       "        vertical-align: middle;\n",
       "    }\n",
       "\n",
       "    .dataframe tbody tr th {\n",
       "        vertical-align: top;\n",
       "    }\n",
       "\n",
       "    .dataframe thead th {\n",
       "        text-align: right;\n",
       "    }\n",
       "</style>\n",
       "<table border=\"1\" class=\"dataframe\">\n",
       "  <thead>\n",
       "    <tr style=\"text-align: right;\">\n",
       "      <th></th>\n",
       "      <th>datestring</th>\n",
       "      <th>average_exhaustion</th>\n",
       "      <th>average_sA</th>\n",
       "      <th>average_percent_extracted_per_point</th>\n",
       "      <th>pB</th>\n",
       "    </tr>\n",
       "  </thead>\n",
       "  <tbody>\n",
       "    <tr>\n",
       "      <td>2265</td>\n",
       "      <td>20090812</td>\n",
       "      <td>47.836660</td>\n",
       "      <td>0.236600</td>\n",
       "      <td>0.675676</td>\n",
       "      <td>1.556000</td>\n",
       "    </tr>\n",
       "    <tr>\n",
       "      <td>2266</td>\n",
       "      <td>20090813</td>\n",
       "      <td>45.127344</td>\n",
       "      <td>0.239869</td>\n",
       "      <td>0.709220</td>\n",
       "      <td>1.324000</td>\n",
       "    </tr>\n",
       "    <tr>\n",
       "      <td>2267</td>\n",
       "      <td>20090814</td>\n",
       "      <td>46.250910</td>\n",
       "      <td>0.237382</td>\n",
       "      <td>0.649351</td>\n",
       "      <td>1.545000</td>\n",
       "    </tr>\n",
       "    <tr>\n",
       "      <td>2268</td>\n",
       "      <td>20090815</td>\n",
       "      <td>47.276493</td>\n",
       "      <td>0.238790</td>\n",
       "      <td>0.657895</td>\n",
       "      <td>1.512000</td>\n",
       "    </tr>\n",
       "    <tr>\n",
       "      <td>2269</td>\n",
       "      <td>20090816</td>\n",
       "      <td>45.022368</td>\n",
       "      <td>0.240766</td>\n",
       "      <td>0.617284</td>\n",
       "      <td>1.077000</td>\n",
       "    </tr>\n",
       "    <tr>\n",
       "      <td>...</td>\n",
       "      <td>...</td>\n",
       "      <td>...</td>\n",
       "      <td>...</td>\n",
       "      <td>...</td>\n",
       "      <td>...</td>\n",
       "    </tr>\n",
       "    <tr>\n",
       "      <td>4628</td>\n",
       "      <td>20200320</td>\n",
       "      <td>91.697606</td>\n",
       "      <td>0.189014</td>\n",
       "      <td>0.666667</td>\n",
       "      <td>2.503250</td>\n",
       "    </tr>\n",
       "    <tr>\n",
       "      <td>4629</td>\n",
       "      <td>20200323</td>\n",
       "      <td>92.262835</td>\n",
       "      <td>0.183232</td>\n",
       "      <td>0.613497</td>\n",
       "      <td>2.612667</td>\n",
       "    </tr>\n",
       "    <tr>\n",
       "      <td>4630</td>\n",
       "      <td>20200324</td>\n",
       "      <td>91.541995</td>\n",
       "      <td>0.187317</td>\n",
       "      <td>0.564972</td>\n",
       "      <td>2.659333</td>\n",
       "    </tr>\n",
       "    <tr>\n",
       "      <td>4631</td>\n",
       "      <td>20200325</td>\n",
       "      <td>80.328178</td>\n",
       "      <td>0.193251</td>\n",
       "      <td>0.574713</td>\n",
       "      <td>2.685667</td>\n",
       "    </tr>\n",
       "    <tr>\n",
       "      <td>4632</td>\n",
       "      <td>20200331</td>\n",
       "      <td>88.180151</td>\n",
       "      <td>0.189842</td>\n",
       "      <td>0.529101</td>\n",
       "      <td>2.386750</td>\n",
       "    </tr>\n",
       "  </tbody>\n",
       "</table>\n",
       "<p>2336 rows × 5 columns</p>\n",
       "</div>"
      ],
      "text/plain": [
       "      datestring  average_exhaustion  average_sA  \\\n",
       "2265    20090812           47.836660    0.236600   \n",
       "2266    20090813           45.127344    0.239869   \n",
       "2267    20090814           46.250910    0.237382   \n",
       "2268    20090815           47.276493    0.238790   \n",
       "2269    20090816           45.022368    0.240766   \n",
       "...          ...                 ...         ...   \n",
       "4628    20200320           91.697606    0.189014   \n",
       "4629    20200323           92.262835    0.183232   \n",
       "4630    20200324           91.541995    0.187317   \n",
       "4631    20200325           80.328178    0.193251   \n",
       "4632    20200331           88.180151    0.189842   \n",
       "\n",
       "      average_percent_extracted_per_point        pB  \n",
       "2265                             0.675676  1.556000  \n",
       "2266                             0.709220  1.324000  \n",
       "2267                             0.649351  1.545000  \n",
       "2268                             0.657895  1.512000  \n",
       "2269                             0.617284  1.077000  \n",
       "...                                   ...       ...  \n",
       "4628                             0.666667  2.503250  \n",
       "4629                             0.613497  2.612667  \n",
       "4630                             0.564972  2.659333  \n",
       "4631                             0.574713  2.685667  \n",
       "4632                             0.529101  2.386750  \n",
       "\n",
       "[2336 rows x 5 columns]"
      ]
     },
     "execution_count": 64,
     "metadata": {},
     "output_type": "execute_result"
    }
   ],
   "source": [
    "daily_pB = daily_composite.copy()\n",
    "daily_pB = daily_pB[['datestring','average_exhaustion','average_sA','average_percent_extracted_per_point','pB']].dropna()\n",
    "daily_pB"
   ]
  },
  {
   "cell_type": "code",
   "execution_count": 101,
   "metadata": {},
   "outputs": [],
   "source": [
    "variables_list = []\n",
    "num_vars_list = []\n",
    "score_list = []\n",
    "mse_list = []"
   ]
  },
  {
   "cell_type": "code",
   "execution_count": 116,
   "metadata": {},
   "outputs": [
    {
     "name": "stdout",
     "output_type": "stream",
     "text": [
      "(2336, 3) (2336, 1)\n",
      "Exhaustion, sA, Extracted per Point\n",
      "Training Score: 0.6135656626566904\n",
      "Testing Score: 0.5873007511853628\n",
      "R2 Value: [0.6078495]\n",
      "Adjusted R2 value: [0.60734501], note the difference is negligible due to the large number of data points vs variables\n",
      "MSE: 0.11785531859565188\n",
      "[[ 0.02200699 -2.6425863   0.05403649]]\n",
      "[0.88765147]\n"
     ]
    }
   ],
   "source": [
    "variables_used = 'Exhaustion, sA, Extracted per Point'\n",
    "num_variables = 3\n",
    "XB = daily_pB[['average_exhaustion','average_sA','average_percent_extracted_per_point']]\n",
    "yB = daily_pB['pB'].values.reshape(-1,1)\n",
    "print(XB.shape,yB.shape)\n",
    "from sklearn.model_selection import train_test_split\n",
    "XB_train, XB_test, yB_train, yB_test = train_test_split(XB,yB,random_state = 42)\n",
    "from sklearn.linear_model import LinearRegression\n",
    "modelB = LinearRegression()\n",
    "modelB.fit(XB_train,yB_train)\n",
    "training_scoreB = modelB.score(XB_train,yB_train)\n",
    "testing_scoreB = modelB.score(XB_test,yB_test)\n",
    "print(variables_used)\n",
    "print(f'Training Score: {training_scoreB}')\n",
    "print(f'Testing Score: {testing_scoreB}')\n",
    "predictedB = modelB.predict(XB)\n",
    "SS_ResidualB = sum((yB-predictedB)**2)       \n",
    "SS_TotalB = sum((yB-np.mean(yB))**2)     \n",
    "r_squaredB = 1 - (float(SS_ResidualB))/SS_TotalB\n",
    "adjusted_r_squaredB = 1 - (1-r_squaredB)*(len(yB)-1)/(len(yB)-XB.shape[1]-1)\n",
    "print(f'R2 Value: {r_squaredB}')\n",
    "print(f'Adjusted R2 value: {adjusted_r_squaredB}, note the difference is negligible due to the large number of data points vs variables')\n",
    "from sklearn.metrics import mean_squared_error, r2_score\n",
    "print(f'MSE: {mean_squared_error(yB,predictedB)}')\n",
    "coeffsB = modelB.fit(XB,yB).coef_\n",
    "interceptB = modelB.fit(XB,yB).intercept_\n",
    "print(coeffsB)\n",
    "print(interceptB)\n",
    "variables_list.append(variables_used)\n",
    "num_vars_list.append(num_variables)\n",
    "score_list.append(modelB.score(XB,yB))\n",
    "mse_list.append(mean_squared_error(yB,predictedB))"
   ]
  },
  {
   "cell_type": "code",
   "execution_count": 103,
   "metadata": {},
   "outputs": [
    {
     "name": "stdout",
     "output_type": "stream",
     "text": [
      "(2336, 1) (2336, 1)\n",
      "Exhaustion\n",
      "Training Score: 0.6061314113184602\n",
      "Testing Score: 0.5862928472878897\n",
      "MSE: 0.11963626919803629\n"
     ]
    }
   ],
   "source": [
    "variables_used = 'Exhaustion'\n",
    "num_variables = 1\n",
    "X = daily_pB[['average_exhaustion']]\n",
    "y = daily_pB['pB'].values.reshape(-1,1)\n",
    "print(X.shape,y.shape)\n",
    "from sklearn.model_selection import train_test_split\n",
    "X_train, X_test, y_train, y_test = train_test_split(X,y,random_state = 42)\n",
    "from sklearn.linear_model import LinearRegression\n",
    "model = LinearRegression()\n",
    "model.fit(X_train,y_train)\n",
    "training_score = model.score(X_train,y_train)\n",
    "testing_score = model.score(X_test,y_test)\n",
    "print(variables_used)\n",
    "print(f'Training Score: {training_score}')\n",
    "print(f'Testing Score: {testing_score}')\n",
    "predicted = model.predict(X)\n",
    "print(f'MSE: {mean_squared_error(y,predicted)}')\n",
    "variables_list.append(variables_used)\n",
    "num_vars_list.append(num_variables)\n",
    "score_list.append(model.score(X,y))\n",
    "mse_list.append(mean_squared_error(y,predicted))"
   ]
  },
  {
   "cell_type": "code",
   "execution_count": 104,
   "metadata": {},
   "outputs": [
    {
     "name": "stdout",
     "output_type": "stream",
     "text": [
      "(2336, 1) (2336, 1)\n",
      "sA\n",
      "Training Score: 0.27696141661533435\n",
      "MSE: 0.21846128665609893\n"
     ]
    }
   ],
   "source": [
    "variables_used = 'sA'\n",
    "num_variables = 1\n",
    "X = daily_pB[['average_sA']]\n",
    "y = daily_pB['pB'].values.reshape(-1,1)\n",
    "print(X.shape,y.shape)\n",
    "from sklearn.model_selection import train_test_split\n",
    "X_train, X_test, y_train, y_test = train_test_split(X,y,random_state = 42)\n",
    "from sklearn.linear_model import LinearRegression\n",
    "model = LinearRegression()\n",
    "model.fit(X_train,y_train)\n",
    "training_score = model.score(X_train,y_train)\n",
    "testing_score = model.score(X_test,y_test)\n",
    "print(variables_used)\n",
    "print(f'Training Score: {training_score}')\n",
    "predicted = model.predict(X)\n",
    "print(f'MSE: {mean_squared_error(y,predicted)}')\n",
    "variables_list.append(variables_used)\n",
    "num_vars_list.append(num_variables)\n",
    "score_list.append(model.score(X,y))\n",
    "mse_list.append(mean_squared_error(y,predicted))"
   ]
  },
  {
   "cell_type": "code",
   "execution_count": 105,
   "metadata": {},
   "outputs": [
    {
     "name": "stdout",
     "output_type": "stream",
     "text": [
      "(2336, 1) (2336, 1)\n",
      "Extracted per Point\n",
      "Training Score: 0.08817682553274464\n",
      "MSE: 0.27838893369350515\n"
     ]
    }
   ],
   "source": [
    "variables_used = 'Extracted per Point'\n",
    "num_variables = 1\n",
    "X = daily_pB[['average_percent_extracted_per_point']]\n",
    "y = daily_pB['pB'].values.reshape(-1,1)\n",
    "print(X.shape,y.shape)\n",
    "from sklearn.model_selection import train_test_split\n",
    "X_train, X_test, y_train, y_test = train_test_split(X,y,random_state = 42)\n",
    "from sklearn.linear_model import LinearRegression\n",
    "model = LinearRegression()\n",
    "model.fit(X_train,y_train)\n",
    "training_score = model.score(X_train,y_train)\n",
    "testing_score = model.score(X_test,y_test)\n",
    "print(variables_used)\n",
    "print(f'Training Score: {training_score}')\n",
    "predicted = model.predict(X)\n",
    "print(f'MSE: {mean_squared_error(y,predicted)}')\n",
    "variables_list.append(variables_used)\n",
    "num_vars_list.append(num_variables)\n",
    "score_list.append(model.score(X,y))\n",
    "mse_list.append(mean_squared_error(y,predicted))"
   ]
  },
  {
   "cell_type": "code",
   "execution_count": 106,
   "metadata": {},
   "outputs": [
    {
     "name": "stdout",
     "output_type": "stream",
     "text": [
      "(2336, 2) (2336, 1)\n",
      "Exhaustion, sA\n",
      "Training Score: 0.6123023143860546\n",
      "Testing Score: 0.5916420890661923\n"
     ]
    }
   ],
   "source": [
    "variables_used = 'Exhaustion, sA'\n",
    "num_variables = 2\n",
    "X = daily_pB[['average_exhaustion','average_sA']]\n",
    "y = daily_pB['pB'].values.reshape(-1,1)\n",
    "print(X.shape,y.shape)\n",
    "from sklearn.model_selection import train_test_split\n",
    "X_train, X_test, y_train, y_test = train_test_split(X,y,random_state = 42)\n",
    "from sklearn.linear_model import LinearRegression\n",
    "model = LinearRegression()\n",
    "model.fit(X_train,y_train)\n",
    "training_score = model.score(X_train,y_train)\n",
    "testing_score = model.score(X_test,y_test)\n",
    "print(variables_used)\n",
    "print(f'Training Score: {training_score}')\n",
    "print(f'Testing Score: {testing_score}')\n",
    "variables_list.append(variables_used)\n",
    "num_vars_list.append(num_variables)\n",
    "score_list.append(model.score(X,y))\n",
    "mse_list.append(mean_squared_error(y,predicted))"
   ]
  },
  {
   "cell_type": "code",
   "execution_count": 107,
   "metadata": {},
   "outputs": [
    {
     "name": "stdout",
     "output_type": "stream",
     "text": [
      "(2336, 2) (2336, 1)\n",
      "Exhaustion, Extracted per Point\n",
      "Training Score: 0.610504403488175\n",
      "Testing Score: 0.5804513657905173\n"
     ]
    }
   ],
   "source": [
    "variables_used = 'Exhaustion, Extracted per Point'\n",
    "num_variables = 2\n",
    "X = daily_pB[['average_exhaustion','average_percent_extracted_per_point']]\n",
    "y = daily_pB['pB'].values.reshape(-1,1)\n",
    "print(X.shape,y.shape)\n",
    "from sklearn.model_selection import train_test_split\n",
    "X_train, X_test, y_train, y_test = train_test_split(X,y,random_state = 42)\n",
    "from sklearn.linear_model import LinearRegression\n",
    "model = LinearRegression()\n",
    "model.fit(X_train,y_train)\n",
    "training_score = model.score(X_train,y_train)\n",
    "testing_score = model.score(X_test,y_test)\n",
    "print(variables_used)\n",
    "print(f'Training Score: {training_score}')\n",
    "print(f'Testing Score: {testing_score}')\n",
    "variables_list.append(variables_used)\n",
    "num_vars_list.append(num_variables)\n",
    "score_list.append(model.score(X,y))\n",
    "mse_list.append(mean_squared_error(y,predicted))"
   ]
  },
  {
   "cell_type": "code",
   "execution_count": 108,
   "metadata": {},
   "outputs": [
    {
     "name": "stdout",
     "output_type": "stream",
     "text": [
      "(2336, 2) (2336, 1)\n",
      "sA, Extracted per Point\n",
      "Training Score: 0.27800046838544845\n",
      "Testing Score: 0.2534884368519441\n"
     ]
    }
   ],
   "source": [
    "variables_used = 'sA, Extracted per Point'\n",
    "num_variables = 2\n",
    "X = daily_pB[['average_sA','average_percent_extracted_per_point']]\n",
    "y = daily_pB['pB'].values.reshape(-1,1)\n",
    "print(X.shape,y.shape)\n",
    "from sklearn.model_selection import train_test_split\n",
    "X_train, X_test, y_train, y_test = train_test_split(X,y,random_state = 42)\n",
    "from sklearn.linear_model import LinearRegression\n",
    "model = LinearRegression()\n",
    "model.fit(X_train,y_train)\n",
    "training_score = model.score(X_train,y_train)\n",
    "testing_score = model.score(X_test,y_test)\n",
    "print(variables_used)\n",
    "print(f'Training Score: {training_score}')\n",
    "print(f'Testing Score: {testing_score}')\n",
    "variables_list.append(variables_used)\n",
    "num_vars_list.append(num_variables)\n",
    "score_list.append(model.score(X,y))\n",
    "mse_list.append(mean_squared_error(y,predicted))"
   ]
  },
  {
   "cell_type": "code",
   "execution_count": 112,
   "metadata": {},
   "outputs": [
    {
     "data": {
      "text/html": [
       "<div>\n",
       "<style scoped>\n",
       "    .dataframe tbody tr th:only-of-type {\n",
       "        vertical-align: middle;\n",
       "    }\n",
       "\n",
       "    .dataframe tbody tr th {\n",
       "        vertical-align: top;\n",
       "    }\n",
       "\n",
       "    .dataframe thead th {\n",
       "        text-align: right;\n",
       "    }\n",
       "</style>\n",
       "<table border=\"1\" class=\"dataframe\">\n",
       "  <thead>\n",
       "    <tr style=\"text-align: right;\">\n",
       "      <th></th>\n",
       "      <th>Variables</th>\n",
       "      <th>Number of Variables</th>\n",
       "      <th>Score</th>\n",
       "      <th>MSE</th>\n",
       "    </tr>\n",
       "  </thead>\n",
       "  <tbody>\n",
       "    <tr>\n",
       "      <td>0</td>\n",
       "      <td>Exhaustion, sA, Extracted per Point</td>\n",
       "      <td>3</td>\n",
       "      <td>0.608461</td>\n",
       "      <td>0.117855</td>\n",
       "    </tr>\n",
       "    <tr>\n",
       "      <td>4</td>\n",
       "      <td>Exhaustion, sA</td>\n",
       "      <td>2</td>\n",
       "      <td>0.607896</td>\n",
       "      <td>0.278389</td>\n",
       "    </tr>\n",
       "    <tr>\n",
       "      <td>5</td>\n",
       "      <td>Exhaustion, Extracted per Point</td>\n",
       "      <td>2</td>\n",
       "      <td>0.603907</td>\n",
       "      <td>0.278389</td>\n",
       "    </tr>\n",
       "    <tr>\n",
       "      <td>1</td>\n",
       "      <td>Exhaustion</td>\n",
       "      <td>1</td>\n",
       "      <td>0.601924</td>\n",
       "      <td>0.119636</td>\n",
       "    </tr>\n",
       "    <tr>\n",
       "      <td>2</td>\n",
       "      <td>sA</td>\n",
       "      <td>1</td>\n",
       "      <td>0.273094</td>\n",
       "      <td>0.218461</td>\n",
       "    </tr>\n",
       "    <tr>\n",
       "      <td>6</td>\n",
       "      <td>sA, Extracted per Point</td>\n",
       "      <td>2</td>\n",
       "      <td>0.273055</td>\n",
       "      <td>0.278389</td>\n",
       "    </tr>\n",
       "    <tr>\n",
       "      <td>3</td>\n",
       "      <td>Extracted per Point</td>\n",
       "      <td>1</td>\n",
       "      <td>0.073692</td>\n",
       "      <td>0.278389</td>\n",
       "    </tr>\n",
       "  </tbody>\n",
       "</table>\n",
       "</div>"
      ],
      "text/plain": [
       "                             Variables  Number of Variables     Score  \\\n",
       "0  Exhaustion, sA, Extracted per Point                    3  0.608461   \n",
       "4                       Exhaustion, sA                    2  0.607896   \n",
       "5      Exhaustion, Extracted per Point                    2  0.603907   \n",
       "1                           Exhaustion                    1  0.601924   \n",
       "2                                   sA                    1  0.273094   \n",
       "6              sA, Extracted per Point                    2  0.273055   \n",
       "3                  Extracted per Point                    1  0.073692   \n",
       "\n",
       "        MSE  \n",
       "0  0.117855  \n",
       "4  0.278389  \n",
       "5  0.278389  \n",
       "1  0.119636  \n",
       "2  0.218461  \n",
       "6  0.278389  \n",
       "3  0.278389  "
      ]
     },
     "execution_count": 112,
     "metadata": {},
     "output_type": "execute_result"
    }
   ],
   "source": [
    "pB_reg_results = {'Variables':variables_list,\n",
    "              'Number of Variables':num_vars_list,\n",
    "              'Score':score_list,\n",
    "              'MSE':mse_list}\n",
    "pB_reg_results_df = pd.DataFrame(reg_results).sort_values('Score',ascending=False)\n",
    "pB_reg_results_df"
   ]
  },
  {
   "cell_type": "code",
   "execution_count": 151,
   "metadata": {},
   "outputs": [],
   "source": [
    "daily_pB.to_csv('Resources/daily_pB.csv')"
   ]
  },
  {
   "cell_type": "code",
   "execution_count": 147,
   "metadata": {},
   "outputs": [
    {
     "ename": "ValueError",
     "evalue": "Unknown label type: 'continuous'",
     "output_type": "error",
     "traceback": [
      "\u001b[1;31m---------------------------------------------------------------------------\u001b[0m",
      "\u001b[1;31mValueError\u001b[0m                                Traceback (most recent call last)",
      "\u001b[1;32m<ipython-input-147-85d89091146b>\u001b[0m in \u001b[0;36m<module>\u001b[1;34m\u001b[0m\n\u001b[0;32m      9\u001b[0m \u001b[1;32mfor\u001b[0m \u001b[0mk\u001b[0m \u001b[1;32min\u001b[0m \u001b[0mrange\u001b[0m\u001b[1;33m(\u001b[0m\u001b[1;36m1\u001b[0m\u001b[1;33m,\u001b[0m \u001b[1;36m20\u001b[0m\u001b[1;33m,\u001b[0m \u001b[1;36m2\u001b[0m\u001b[1;33m)\u001b[0m\u001b[1;33m:\u001b[0m\u001b[1;33m\u001b[0m\u001b[1;33m\u001b[0m\u001b[0m\n\u001b[0;32m     10\u001b[0m     \u001b[0mknn\u001b[0m \u001b[1;33m=\u001b[0m \u001b[0mKNeighborsClassifier\u001b[0m\u001b[1;33m(\u001b[0m\u001b[0mn_neighbors\u001b[0m\u001b[1;33m=\u001b[0m\u001b[0mk\u001b[0m\u001b[1;33m)\u001b[0m\u001b[1;33m\u001b[0m\u001b[1;33m\u001b[0m\u001b[0m\n\u001b[1;32m---> 11\u001b[1;33m     \u001b[0mknn\u001b[0m\u001b[1;33m.\u001b[0m\u001b[0mfit\u001b[0m\u001b[1;33m(\u001b[0m\u001b[0mX_train\u001b[0m\u001b[1;33m,\u001b[0m \u001b[0my_train\u001b[0m\u001b[1;33m)\u001b[0m\u001b[1;33m\u001b[0m\u001b[1;33m\u001b[0m\u001b[0m\n\u001b[0m\u001b[0;32m     12\u001b[0m     \u001b[0mtrain_score\u001b[0m \u001b[1;33m=\u001b[0m \u001b[0mknn\u001b[0m\u001b[1;33m.\u001b[0m\u001b[0mscore\u001b[0m\u001b[1;33m(\u001b[0m\u001b[0mX_train\u001b[0m\u001b[1;33m,\u001b[0m \u001b[0my_train\u001b[0m\u001b[1;33m)\u001b[0m\u001b[1;33m\u001b[0m\u001b[1;33m\u001b[0m\u001b[0m\n\u001b[0;32m     13\u001b[0m     \u001b[0mtest_score\u001b[0m \u001b[1;33m=\u001b[0m \u001b[0mknn\u001b[0m\u001b[1;33m.\u001b[0m\u001b[0mscore\u001b[0m\u001b[1;33m(\u001b[0m\u001b[0mX_test\u001b[0m\u001b[1;33m,\u001b[0m \u001b[0my_test\u001b[0m\u001b[1;33m)\u001b[0m\u001b[1;33m\u001b[0m\u001b[1;33m\u001b[0m\u001b[0m\n",
      "\u001b[1;32m~\\Anaconda3\\lib\\site-packages\\sklearn\\neighbors\\base.py\u001b[0m in \u001b[0;36mfit\u001b[1;34m(self, X, y)\u001b[0m\n\u001b[0;32m    904\u001b[0m             \u001b[0mself\u001b[0m\u001b[1;33m.\u001b[0m\u001b[0moutputs_2d_\u001b[0m \u001b[1;33m=\u001b[0m \u001b[1;32mTrue\u001b[0m\u001b[1;33m\u001b[0m\u001b[1;33m\u001b[0m\u001b[0m\n\u001b[0;32m    905\u001b[0m \u001b[1;33m\u001b[0m\u001b[0m\n\u001b[1;32m--> 906\u001b[1;33m         \u001b[0mcheck_classification_targets\u001b[0m\u001b[1;33m(\u001b[0m\u001b[0my\u001b[0m\u001b[1;33m)\u001b[0m\u001b[1;33m\u001b[0m\u001b[1;33m\u001b[0m\u001b[0m\n\u001b[0m\u001b[0;32m    907\u001b[0m         \u001b[0mself\u001b[0m\u001b[1;33m.\u001b[0m\u001b[0mclasses_\u001b[0m \u001b[1;33m=\u001b[0m \u001b[1;33m[\u001b[0m\u001b[1;33m]\u001b[0m\u001b[1;33m\u001b[0m\u001b[1;33m\u001b[0m\u001b[0m\n\u001b[0;32m    908\u001b[0m         \u001b[0mself\u001b[0m\u001b[1;33m.\u001b[0m\u001b[0m_y\u001b[0m \u001b[1;33m=\u001b[0m \u001b[0mnp\u001b[0m\u001b[1;33m.\u001b[0m\u001b[0mempty\u001b[0m\u001b[1;33m(\u001b[0m\u001b[0my\u001b[0m\u001b[1;33m.\u001b[0m\u001b[0mshape\u001b[0m\u001b[1;33m,\u001b[0m \u001b[0mdtype\u001b[0m\u001b[1;33m=\u001b[0m\u001b[0mnp\u001b[0m\u001b[1;33m.\u001b[0m\u001b[0mint\u001b[0m\u001b[1;33m)\u001b[0m\u001b[1;33m\u001b[0m\u001b[1;33m\u001b[0m\u001b[0m\n",
      "\u001b[1;32m~\\Anaconda3\\lib\\site-packages\\sklearn\\utils\\multiclass.py\u001b[0m in \u001b[0;36mcheck_classification_targets\u001b[1;34m(y)\u001b[0m\n\u001b[0;32m    167\u001b[0m     if y_type not in ['binary', 'multiclass', 'multiclass-multioutput',\n\u001b[0;32m    168\u001b[0m                       'multilabel-indicator', 'multilabel-sequences']:\n\u001b[1;32m--> 169\u001b[1;33m         \u001b[1;32mraise\u001b[0m \u001b[0mValueError\u001b[0m\u001b[1;33m(\u001b[0m\u001b[1;34m\"Unknown label type: %r\"\u001b[0m \u001b[1;33m%\u001b[0m \u001b[0my_type\u001b[0m\u001b[1;33m)\u001b[0m\u001b[1;33m\u001b[0m\u001b[1;33m\u001b[0m\u001b[0m\n\u001b[0m\u001b[0;32m    170\u001b[0m \u001b[1;33m\u001b[0m\u001b[0m\n\u001b[0;32m    171\u001b[0m \u001b[1;33m\u001b[0m\u001b[0m\n",
      "\u001b[1;31mValueError\u001b[0m: Unknown label type: 'continuous'"
     ]
    }
   ],
   "source": [
    "# Loop through different k values to see which has the highest accuracy\n",
    "# Note: We only use odd numbers because we don't want any ties\n",
    "X = daily_pB[['average_exhaustion','average_sA','average_percent_extracted_per_point']]\n",
    "y = daily_pB['pB']\n",
    "X_train, X_test, y_train, y_test = train_test_split(X, y, random_state=42)\n",
    "from sklearn.neighbors import KNeighborsClassifier\n",
    "train_scores = []\n",
    "test_scores = []\n",
    "for k in range(1, 20, 2):\n",
    "    knn = KNeighborsClassifier(n_neighbors=k)\n",
    "    knn.fit(X_train, y_train)\n",
    "    train_score = knn.score(X_train, y_train)\n",
    "    test_score = knn.score(X_test, y_test)\n",
    "    train_scores.append(train_score)\n",
    "    test_scores.append(test_score)\n",
    "    print(f\"k: {k}, Train/Test Score: {train_score:.3f}/{test_score:.3f}\")\n",
    "    \n",
    "    \n",
    "plt.plot(range(1, 20, 2), train_scores, marker='o')\n",
    "plt.plot(range(1, 20, 2), test_scores, marker=\"x\")\n",
    "plt.xlabel(\"k neighbors\")\n",
    "plt.ylabel(\"Testing accuracy Score\")\n",
    "plt.show()"
   ]
  },
  {
   "cell_type": "code",
   "execution_count": 141,
   "metadata": {},
   "outputs": [
    {
     "name": "stdout",
     "output_type": "stream",
     "text": [
      "MSE: 0.11785531859565188\n",
      "Normal model Score: 0.6078494966477026\n",
      "Normal model coefficients: [[ 0.02200699 -2.6425863   0.05403649]]\n",
      "Normal model intercept: [0.88765147]\n"
     ]
    }
   ],
   "source": [
    "# Testing KNN\n",
    "XB = daily_pB[['average_exhaustion','average_sA','average_percent_extracted_per_point']]\n",
    "yB = daily_pB['pB'].values.reshape(-1,1)\n",
    "XB_train, XB_test, yB_train, yB_test = train_test_split(XB,yB,random_state = 42)\n",
    "modelB = LinearRegression()\n",
    "modelB.fit(XB_train,yB_train)\n",
    "training_scoreB = modelB.score(XB_train,yB_train)\n",
    "testing_scoreB = modelB.score(XB_test,yB_test)\n",
    "predictedB = modelB.predict(XB)\n",
    "print(f'MSE: {mean_squared_error(yB,predictedB)}')\n",
    "print('Normal model Score: '+str(modelB.score(XB,yB)))\n",
    "coeffsB = modelB.fit(XB,yB).coef_\n",
    "interceptB = modelB.fit(XB,yB).intercept_\n",
    "print(f'Normal model coefficients: {coeffsB}')\n",
    "print(f'Normal model intercept: {interceptB}')\n",
    "\n"
   ]
  },
  {
   "cell_type": "markdown",
   "metadata": {},
   "source": [
    "From all of the regressions ran above, using the pB as the dependent variable, it proves that using all 3 independent variables will yield the best regression. As the number of variables increases, the Regression Score will inevitably increase as well.\n",
    "\n",
    "It can also be seen from the table that the increase in Regression Score by adding Extracted per Point to the 2-variable (Exhaustion and sA) is nomimal. Extracted per Point also has the weakest correlation to pB\n",
    "\n",
    "##### In order to simplify the rest of the regressions, all three independent variables will be used for the remainder of the tests"
   ]
  },
  {
   "cell_type": "code",
   "execution_count": 121,
   "metadata": {},
   "outputs": [
    {
     "data": {
      "text/plain": [
       "Text(0.5, 1.0, 'Residual Plot, pB, 3-Variable Regression')"
      ]
     },
     "execution_count": 121,
     "metadata": {},
     "output_type": "execute_result"
    },
    {
     "data": {
      "image/png": "[encoded data removed]",
      "text/plain": [
       "<Figure size 432x288 with 1 Axes>"
      ]
     },
     "metadata": {
      "needs_background": "light"
     },
     "output_type": "display_data"
    }
   ],
   "source": [
    "# Plot pB residuals based on 3-variable model\n",
    "plt.scatter(modelB.predict(XB_train),modelB.predict(XB_train) - yB_train, c='blue',label='Training Data')\n",
    "plt.scatter(modelB.predict(XB_test),modelB.predict(XB_test) - yB_test, c='orange', label='Testing Data')\n",
    "plt.legend()\n",
    "plt.hlines(y=0,xmin=yB.min(),xmax=yB.max())\n",
    "plt.title('Residual Plot, pB, 3-Variable Regression')"
   ]
  },
  {
   "cell_type": "markdown",
   "metadata": {},
   "source": [
    "No apparent trends, centered over 0 for residuals"
   ]
  },
  {
   "cell_type": "code",
   "execution_count": 113,
   "metadata": {},
   "outputs": [
    {
     "data": {
      "text/html": [
       "<div>\n",
       "<style scoped>\n",
       "    .dataframe tbody tr th:only-of-type {\n",
       "        vertical-align: middle;\n",
       "    }\n",
       "\n",
       "    .dataframe tbody tr th {\n",
       "        vertical-align: top;\n",
       "    }\n",
       "\n",
       "    .dataframe thead th {\n",
       "        text-align: right;\n",
       "    }\n",
       "</style>\n",
       "<table border=\"1\" class=\"dataframe\">\n",
       "  <thead>\n",
       "    <tr style=\"text-align: right;\">\n",
       "      <th></th>\n",
       "      <th>datestring</th>\n",
       "      <th>average_exhaustion</th>\n",
       "      <th>average_sA</th>\n",
       "      <th>average_percent_extracted_per_point</th>\n",
       "      <th>pC</th>\n",
       "    </tr>\n",
       "  </thead>\n",
       "  <tbody>\n",
       "    <tr>\n",
       "      <td>4163</td>\n",
       "      <td>20170823</td>\n",
       "      <td>43.194169</td>\n",
       "      <td>0.185240</td>\n",
       "      <td>0.900901</td>\n",
       "      <td>0.001333</td>\n",
       "    </tr>\n",
       "    <tr>\n",
       "      <td>4164</td>\n",
       "      <td>20170824</td>\n",
       "      <td>43.655595</td>\n",
       "      <td>0.188209</td>\n",
       "      <td>0.689655</td>\n",
       "      <td>0.002000</td>\n",
       "    </tr>\n",
       "    <tr>\n",
       "      <td>4166</td>\n",
       "      <td>20170828</td>\n",
       "      <td>42.783531</td>\n",
       "      <td>0.189823</td>\n",
       "      <td>0.666667</td>\n",
       "      <td>0.001333</td>\n",
       "    </tr>\n",
       "    <tr>\n",
       "      <td>4167</td>\n",
       "      <td>20170829</td>\n",
       "      <td>43.937784</td>\n",
       "      <td>0.189681</td>\n",
       "      <td>0.735294</td>\n",
       "      <td>0.001000</td>\n",
       "    </tr>\n",
       "    <tr>\n",
       "      <td>4169</td>\n",
       "      <td>20170905</td>\n",
       "      <td>44.898303</td>\n",
       "      <td>0.193390</td>\n",
       "      <td>0.671141</td>\n",
       "      <td>0.001000</td>\n",
       "    </tr>\n",
       "    <tr>\n",
       "      <td>...</td>\n",
       "      <td>...</td>\n",
       "      <td>...</td>\n",
       "      <td>...</td>\n",
       "      <td>...</td>\n",
       "      <td>...</td>\n",
       "    </tr>\n",
       "    <tr>\n",
       "      <td>4628</td>\n",
       "      <td>20200320</td>\n",
       "      <td>91.697606</td>\n",
       "      <td>0.189014</td>\n",
       "      <td>0.666667</td>\n",
       "      <td>0.001925</td>\n",
       "    </tr>\n",
       "    <tr>\n",
       "      <td>4629</td>\n",
       "      <td>20200323</td>\n",
       "      <td>92.262835</td>\n",
       "      <td>0.183232</td>\n",
       "      <td>0.613497</td>\n",
       "      <td>0.001800</td>\n",
       "    </tr>\n",
       "    <tr>\n",
       "      <td>4630</td>\n",
       "      <td>20200324</td>\n",
       "      <td>91.541995</td>\n",
       "      <td>0.187317</td>\n",
       "      <td>0.564972</td>\n",
       "      <td>0.001933</td>\n",
       "    </tr>\n",
       "    <tr>\n",
       "      <td>4631</td>\n",
       "      <td>20200325</td>\n",
       "      <td>80.328178</td>\n",
       "      <td>0.193251</td>\n",
       "      <td>0.574713</td>\n",
       "      <td>0.001800</td>\n",
       "    </tr>\n",
       "    <tr>\n",
       "      <td>4632</td>\n",
       "      <td>20200331</td>\n",
       "      <td>88.180151</td>\n",
       "      <td>0.189842</td>\n",
       "      <td>0.529101</td>\n",
       "      <td>0.001625</td>\n",
       "    </tr>\n",
       "  </tbody>\n",
       "</table>\n",
       "<p>455 rows × 5 columns</p>\n",
       "</div>"
      ],
      "text/plain": [
       "      datestring  average_exhaustion  average_sA  \\\n",
       "4163    20170823           43.194169    0.185240   \n",
       "4164    20170824           43.655595    0.188209   \n",
       "4166    20170828           42.783531    0.189823   \n",
       "4167    20170829           43.937784    0.189681   \n",
       "4169    20170905           44.898303    0.193390   \n",
       "...          ...                 ...         ...   \n",
       "4628    20200320           91.697606    0.189014   \n",
       "4629    20200323           92.262835    0.183232   \n",
       "4630    20200324           91.541995    0.187317   \n",
       "4631    20200325           80.328178    0.193251   \n",
       "4632    20200331           88.180151    0.189842   \n",
       "\n",
       "      average_percent_extracted_per_point        pC  \n",
       "4163                             0.900901  0.001333  \n",
       "4164                             0.689655  0.002000  \n",
       "4166                             0.666667  0.001333  \n",
       "4167                             0.735294  0.001000  \n",
       "4169                             0.671141  0.001000  \n",
       "...                                   ...       ...  \n",
       "4628                             0.666667  0.001925  \n",
       "4629                             0.613497  0.001800  \n",
       "4630                             0.564972  0.001933  \n",
       "4631                             0.574713  0.001800  \n",
       "4632                             0.529101  0.001625  \n",
       "\n",
       "[455 rows x 5 columns]"
      ]
     },
     "execution_count": 113,
     "metadata": {},
     "output_type": "execute_result"
    }
   ],
   "source": [
    "# Regression analysis on pC\n",
    "daily_pC = daily_composite.copy()\n",
    "daily_pC = daily_pC[['datestring','average_exhaustion','average_sA','average_percent_extracted_per_point','pC']].dropna()\n",
    "daily_pC"
   ]
  },
  {
   "cell_type": "code",
   "execution_count": 119,
   "metadata": {},
   "outputs": [
    {
     "name": "stdout",
     "output_type": "stream",
     "text": [
      "(455, 3) (455, 1)\n",
      "Training Score: 0.11212959301752434\n",
      "Testing Score: 0.10514695414230102\n",
      "R2 Value: [0.11947862]\n",
      "Adjusted R2 value: [0.11362149]\n",
      "MSE: 1.634186189653929e-07\n",
      "[[ 8.58849146e-06 -2.14016236e-03 -4.43009127e-04]]\n",
      "[0.00220359]\n"
     ]
    }
   ],
   "source": [
    "XC = daily_pC[['average_exhaustion','average_sA','average_percent_extracted_per_point']]\n",
    "yC = daily_pC['pC'].values.reshape(-1,1)\n",
    "print(XC.shape,yC.shape)\n",
    "XC_train, XC_test, yC_train, yC_test = train_test_split(XC,yC,random_state = 42)\n",
    "modelC = LinearRegression()\n",
    "modelC.fit(XC_train,yC_train)\n",
    "training_scoreC = modelC.score(XC_train,yC_train)\n",
    "testing_scoreC = modelC.score(XC_test,yC_test)\n",
    "print(f'Training Score: {training_scoreC}')\n",
    "print(f'Testing Score: {testing_scoreC}')\n",
    "predictedC = modelC.predict(XC)\n",
    "SS_ResidualC = sum((yC-predictedC)**2)       \n",
    "SS_TotalC = sum((yC-np.mean(yC))**2)     \n",
    "r_squaredC = 1 - (float(SS_ResidualC))/SS_TotalC\n",
    "adjusted_r_squaredC = 1 - (1-r_squaredC)*(len(yC)-1)/(len(yC)-XC.shape[1]-1)\n",
    "print(f'R2 Value: {r_squaredC}')\n",
    "print(f'Adjusted R2 value: {adjusted_r_squaredC}')\n",
    "print(f'MSE: {mean_squared_error(yC,predictedC)}')\n",
    "coeffsC = modelC.fit(XC,yC).coef_\n",
    "interceptC = modelC.fit(XC,yC).intercept_\n",
    "print(coeffsC)\n",
    "print(interceptC)"
   ]
  },
  {
   "cell_type": "code",
   "execution_count": 137,
   "metadata": {},
   "outputs": [
    {
     "data": {
      "text/plain": [
       "Text(0.5, 1.0, 'Residual Plot, pC, 3-Variable Regression')"
      ]
     },
     "execution_count": 137,
     "metadata": {},
     "output_type": "execute_result"
    },
    {
     "data": {
      "image/png": "[encoded data removed]",
      "text/plain": [
       "<Figure size 432x288 with 1 Axes>"
      ]
     },
     "metadata": {
      "needs_background": "light"
     },
     "output_type": "display_data"
    }
   ],
   "source": [
    "# Plot pC residuals based on 3-variable model\n",
    "plt.scatter(modelC.predict(XC_train),modelC.predict(XC_train) - yC_train, c='blue',label='Training Data')\n",
    "plt.scatter(modelC.predict(XC_test),modelC.predict(XC_test) - yC_test, c='orange', label='Testing Data')\n",
    "plt.legend()\n",
    "plt.hlines(y=0,xmin=yC.min(),xmax=yC.max())\n",
    "plt.xlim([0.0015,0.0030])\n",
    "plt.ylim([-0.0015,0.0015])\n",
    "plt.title('Residual Plot, pC, 3-Variable Regression')"
   ]
  },
  {
   "cell_type": "markdown",
   "metadata": {},
   "source": [
    "Not a great residual plot, however the Score was only ~ 0.11"
   ]
  },
  {
   "cell_type": "code",
   "execution_count": 138,
   "metadata": {},
   "outputs": [
    {
     "data": {
      "text/html": [
       "<div>\n",
       "<style scoped>\n",
       "    .dataframe tbody tr th:only-of-type {\n",
       "        vertical-align: middle;\n",
       "    }\n",
       "\n",
       "    .dataframe tbody tr th {\n",
       "        vertical-align: top;\n",
       "    }\n",
       "\n",
       "    .dataframe thead th {\n",
       "        text-align: right;\n",
       "    }\n",
       "</style>\n",
       "<table border=\"1\" class=\"dataframe\">\n",
       "  <thead>\n",
       "    <tr style=\"text-align: right;\">\n",
       "      <th></th>\n",
       "      <th>datestring</th>\n",
       "      <th>average_exhaustion</th>\n",
       "      <th>average_sA</th>\n",
       "      <th>average_percent_extracted_per_point</th>\n",
       "      <th>pD</th>\n",
       "    </tr>\n",
       "  </thead>\n",
       "  <tbody>\n",
       "    <tr>\n",
       "      <td>2265</td>\n",
       "      <td>20090812</td>\n",
       "      <td>47.836660</td>\n",
       "      <td>0.236600</td>\n",
       "      <td>0.675676</td>\n",
       "      <td>0.017000</td>\n",
       "    </tr>\n",
       "    <tr>\n",
       "      <td>2266</td>\n",
       "      <td>20090813</td>\n",
       "      <td>45.127344</td>\n",
       "      <td>0.239869</td>\n",
       "      <td>0.709220</td>\n",
       "      <td>0.021000</td>\n",
       "    </tr>\n",
       "    <tr>\n",
       "      <td>2267</td>\n",
       "      <td>20090814</td>\n",
       "      <td>46.250910</td>\n",
       "      <td>0.237382</td>\n",
       "      <td>0.649351</td>\n",
       "      <td>0.016000</td>\n",
       "    </tr>\n",
       "    <tr>\n",
       "      <td>2268</td>\n",
       "      <td>20090815</td>\n",
       "      <td>47.276493</td>\n",
       "      <td>0.238790</td>\n",
       "      <td>0.657895</td>\n",
       "      <td>0.019000</td>\n",
       "    </tr>\n",
       "    <tr>\n",
       "      <td>2270</td>\n",
       "      <td>20090817</td>\n",
       "      <td>44.291179</td>\n",
       "      <td>0.236525</td>\n",
       "      <td>0.657895</td>\n",
       "      <td>0.025000</td>\n",
       "    </tr>\n",
       "    <tr>\n",
       "      <td>...</td>\n",
       "      <td>...</td>\n",
       "      <td>...</td>\n",
       "      <td>...</td>\n",
       "      <td>...</td>\n",
       "      <td>...</td>\n",
       "    </tr>\n",
       "    <tr>\n",
       "      <td>4628</td>\n",
       "      <td>20200320</td>\n",
       "      <td>91.697606</td>\n",
       "      <td>0.189014</td>\n",
       "      <td>0.666667</td>\n",
       "      <td>0.009750</td>\n",
       "    </tr>\n",
       "    <tr>\n",
       "      <td>4629</td>\n",
       "      <td>20200323</td>\n",
       "      <td>92.262835</td>\n",
       "      <td>0.183232</td>\n",
       "      <td>0.613497</td>\n",
       "      <td>0.012000</td>\n",
       "    </tr>\n",
       "    <tr>\n",
       "      <td>4630</td>\n",
       "      <td>20200324</td>\n",
       "      <td>91.541995</td>\n",
       "      <td>0.187317</td>\n",
       "      <td>0.564972</td>\n",
       "      <td>0.011667</td>\n",
       "    </tr>\n",
       "    <tr>\n",
       "      <td>4631</td>\n",
       "      <td>20200325</td>\n",
       "      <td>80.328178</td>\n",
       "      <td>0.193251</td>\n",
       "      <td>0.574713</td>\n",
       "      <td>0.012333</td>\n",
       "    </tr>\n",
       "    <tr>\n",
       "      <td>4632</td>\n",
       "      <td>20200331</td>\n",
       "      <td>88.180151</td>\n",
       "      <td>0.189842</td>\n",
       "      <td>0.529101</td>\n",
       "      <td>0.010750</td>\n",
       "    </tr>\n",
       "  </tbody>\n",
       "</table>\n",
       "<p>2335 rows × 5 columns</p>\n",
       "</div>"
      ],
      "text/plain": [
       "      datestring  average_exhaustion  average_sA  \\\n",
       "2265    20090812           47.836660    0.236600   \n",
       "2266    20090813           45.127344    0.239869   \n",
       "2267    20090814           46.250910    0.237382   \n",
       "2268    20090815           47.276493    0.238790   \n",
       "2270    20090817           44.291179    0.236525   \n",
       "...          ...                 ...         ...   \n",
       "4628    20200320           91.697606    0.189014   \n",
       "4629    20200323           92.262835    0.183232   \n",
       "4630    20200324           91.541995    0.187317   \n",
       "4631    20200325           80.328178    0.193251   \n",
       "4632    20200331           88.180151    0.189842   \n",
       "\n",
       "      average_percent_extracted_per_point        pD  \n",
       "2265                             0.675676  0.017000  \n",
       "2266                             0.709220  0.021000  \n",
       "2267                             0.649351  0.016000  \n",
       "2268                             0.657895  0.019000  \n",
       "2270                             0.657895  0.025000  \n",
       "...                                   ...       ...  \n",
       "4628                             0.666667  0.009750  \n",
       "4629                             0.613497  0.012000  \n",
       "4630                             0.564972  0.011667  \n",
       "4631                             0.574713  0.012333  \n",
       "4632                             0.529101  0.010750  \n",
       "\n",
       "[2335 rows x 5 columns]"
      ]
     },
     "execution_count": 138,
     "metadata": {},
     "output_type": "execute_result"
    }
   ],
   "source": [
    "# Regression analysis on pD\n",
    "daily_pD = daily_composite.copy()\n",
    "daily_pD = daily_pD[['datestring','average_exhaustion','average_sA','average_percent_extracted_per_point','pD']].dropna()\n",
    "daily_pD"
   ]
  },
  {
   "cell_type": "code",
   "execution_count": null,
   "metadata": {},
   "outputs": [],
   "source": []
  }
 ],
 "metadata": {
  "kernelspec": {
   "display_name": "Python 3.7.4 64-bit ('base': conda)",
   "language": "python",
   "name": "python37464bitbaseconda34f9e325a37b4408960ead74bb6a9fbb"
  },
  "language_info": {
   "codemirror_mode": {
    "name": "ipython",
    "version": 3
   },
   "file_extension": ".py",
   "mimetype": "text/x-python",
   "name": "python",
   "nbconvert_exporter": "python",
   "pygments_lexer": "ipython3",
   "version": "3.7.4"
  }
 },
 "nbformat": 4,
 "nbformat_minor": 2
}
